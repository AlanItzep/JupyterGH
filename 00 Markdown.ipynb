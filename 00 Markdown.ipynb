{
 "cells": [
  {
   "cell_type": "markdown",
   "metadata": {},
   "source": [
    "3+6"
   ]
  },
  {
   "cell_type": "markdown",
   "metadata": {},
   "source": [
    "*Esto es cursiva*"
   ]
  },
  {
   "cell_type": "markdown",
   "metadata": {},
   "source": [
    "Hola mundo \n",
    "\n",
    "hola mundo"
   ]
  },
  {
   "cell_type": "markdown",
   "metadata": {},
   "source": [
    "* esto es un lista\n",
    "* esto es una lista\n",
    "* Esto es una lista"
   ]
  },
  {
   "cell_type": "markdown",
   "metadata": {},
   "source": [
    "1. sdfsdfa"
   ]
  },
  {
   "cell_type": "markdown",
   "metadata": {},
   "source": [
    "\\*\\[\\]\\(\\)"
   ]
  },
  {
   "cell_type": "markdown",
   "metadata": {},
   "source": [
    "# Esto es cabecera H1\n",
    "## esto es una cabecera H2\n",
    "### esto es una cabecera H3"
   ]
  },
  {
   "cell_type": "markdown",
   "metadata": {},
   "source": [
    "# Historia\n",
    "### Marckdown \n",
    "John Gruber en **2004**, con una ayuda importante de ***Aron Swartz*** en la sitaxis. \n",
    "\n",
    "Gruber tenía la meta de hacer que la gente pudiera escribir usando un formato de texto plano:\n",
    "\n",
    "   1. Fácil de leer\n",
    "   2. Fácil de escribir\n",
    "   3. Con la posibilidad de poder convertir su cdocumento en XHTML (o HTML) válido\n",
    "    \n",
    "- - - \n",
    "**Referencia:**\n",
    "\n",
    "[Link Wikipedia](https://www.wikipedia.org)"
   ]
  }
 ],
 "metadata": {
  "kernelspec": {
   "display_name": "Python 3",
   "language": "python",
   "name": "python3"
  },
  "language_info": {
   "codemirror_mode": {
    "name": "ipython",
    "version": 3
   },
   "file_extension": ".py",
   "mimetype": "text/x-python",
   "name": "python",
   "nbconvert_exporter": "python",
   "pygments_lexer": "ipython3",
   "version": "3.7.0"
  }
 },
 "nbformat": 4,
 "nbformat_minor": 2
}
