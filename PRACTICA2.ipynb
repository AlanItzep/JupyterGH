{
 "cells": [
  {
   "cell_type": "markdown",
   "metadata": {},
   "source": [
    "# Data Mining Exercise:"
   ]
  },
  {
   "cell_type": "code",
   "execution_count": 1,
   "metadata": {},
   "outputs": [
    {
     "name": "stderr",
     "output_type": "stream",
     "text": [
      "C:\\Users\\alter\\Anaconda3\\lib\\site-packages\\sklearn\\ensemble\\weight_boosting.py:29: DeprecationWarning: numpy.core.umath_tests is an internal NumPy module and should not be imported. It will be removed in a future NumPy release.\n",
      "  from numpy.core.umath_tests import inner1d\n"
     ]
    }
   ],
   "source": [
    "import pandas as pd\n",
    "from sklearn.model_selection import train_test_split\n",
    "from sklearn.tree import DecisionTreeClassifier\n",
    "from sklearn.ensemble import RandomForestClassifier,AdaBoostClassifier\n",
    "from sklearn.neighbors import KNeighborsClassifier\n",
    "from sklearn.svm import SVC\n",
    "from sklearn.linear_model import LogisticRegression\n",
    "from sklearn.metrics import accuracy_score\n",
    "from sklearn.metrics import roc_auc_score\n",
    "from sklearn.metrics import recall_score\n",
    "from sklearn.feature_selection import SelectFromModel\n",
    "import matplotlib.pyplot as plt\n",
    "from sklearn.utils import resample\n",
    "import numpy as np\n",
    "from sklearn import metrics\n",
    "import seaborn as sns\n",
    "from IPython.display import set_matplotlib_formats\n",
    "from sklearn.preprocessing import MinMaxScaler \n",
    "from sklearn.model_selection import cross_val_score\n",
    "from sklearn.preprocessing import binarize"
   ]
  },
  {
   "cell_type": "code",
   "execution_count": 2,
   "metadata": {},
   "outputs": [],
   "source": [
    "%matplotlib inline\n",
    "df = pd.read_csv('dataset.csv')"
   ]
  },
  {
   "cell_type": "code",
   "execution_count": 3,
   "metadata": {},
   "outputs": [
    {
     "data": {
      "text/plain": [
       "<matplotlib.axes._subplots.AxesSubplot at 0x2b1ab67eba8>"
      ]
     },
     "execution_count": 3,
     "metadata": {},
     "output_type": "execute_result"
    },
    {
     "data": {
      "image/png": "[encoded data removed]",
      "text/plain": [
       "<Figure size 432x288 with 1 Axes>"
      ]
     },
     "metadata": {
      "image/png": {
       "height": 263,
       "width": 410
      },
      "needs_background": "light"
     },
     "output_type": "display_data"
    }
   ],
   "source": [
    "set_matplotlib_formats('retina')\n",
    "sns.countplot(x=\"Shift\", data=df, hue='Accident')"
   ]
  },
  {
   "cell_type": "code",
   "execution_count": 4,
   "metadata": {},
   "outputs": [],
   "source": [
    "df = df.sort_values(by = 'date')"
   ]
  },
  {
   "cell_type": "code",
   "execution_count": 5,
   "metadata": {},
   "outputs": [],
   "source": [
    "df.reset_index(drop = True, inplace = True)"
   ]
  },
  {
   "cell_type": "code",
   "execution_count": 6,
   "metadata": {},
   "outputs": [],
   "source": [
    "df['Weekday'] = df['date']\n",
    "df['Month'] = df['date']\n",
    "df['Year'] = df['date']"
   ]
  },
  {
   "cell_type": "code",
   "execution_count": 7,
   "metadata": {},
   "outputs": [
    {
     "data": {
      "text/html": [
       "<div>\n",
       "<style scoped>\n",
       "    .dataframe tbody tr th:only-of-type {\n",
       "        vertical-align: middle;\n",
       "    }\n",
       "\n",
       "    .dataframe tbody tr th {\n",
       "        vertical-align: top;\n",
       "    }\n",
       "\n",
       "    .dataframe thead th {\n",
       "        text-align: right;\n",
       "    }\n",
       "</style>\n",
       "<table border=\"1\" class=\"dataframe\">\n",
       "  <thead>\n",
       "    <tr style=\"text-align: right;\">\n",
       "      <th></th>\n",
       "      <th>GridID</th>\n",
       "      <th>Shift</th>\n",
       "      <th>Accident</th>\n",
       "      <th>Longitude.grid</th>\n",
       "      <th>Latitude.grid</th>\n",
       "      <th>Weekday</th>\n",
       "      <th>Month</th>\n",
       "      <th>Year</th>\n",
       "    </tr>\n",
       "  </thead>\n",
       "  <tbody>\n",
       "    <tr>\n",
       "      <th>0</th>\n",
       "      <td>1078</td>\n",
       "      <td>Afternoon</td>\n",
       "      <td>0</td>\n",
       "      <td>2.1800</td>\n",
       "      <td>41.4575</td>\n",
       "      <td>4</td>\n",
       "      <td>1</td>\n",
       "      <td>2010</td>\n",
       "    </tr>\n",
       "    <tr>\n",
       "      <th>1</th>\n",
       "      <td>406</td>\n",
       "      <td>Morning</td>\n",
       "      <td>0</td>\n",
       "      <td>2.1375</td>\n",
       "      <td>41.3475</td>\n",
       "      <td>4</td>\n",
       "      <td>1</td>\n",
       "      <td>2010</td>\n",
       "    </tr>\n",
       "    <tr>\n",
       "      <th>2</th>\n",
       "      <td>932</td>\n",
       "      <td>Morning</td>\n",
       "      <td>0</td>\n",
       "      <td>2.1700</td>\n",
       "      <td>41.4575</td>\n",
       "      <td>4</td>\n",
       "      <td>1</td>\n",
       "      <td>2010</td>\n",
       "    </tr>\n",
       "    <tr>\n",
       "      <th>3</th>\n",
       "      <td>454</td>\n",
       "      <td>Morning</td>\n",
       "      <td>0</td>\n",
       "      <td>2.1400</td>\n",
       "      <td>41.3675</td>\n",
       "      <td>4</td>\n",
       "      <td>1</td>\n",
       "      <td>2010</td>\n",
       "    </tr>\n",
       "    <tr>\n",
       "      <th>4</th>\n",
       "      <td>1007</td>\n",
       "      <td>Afternoon</td>\n",
       "      <td>0</td>\n",
       "      <td>2.1750</td>\n",
       "      <td>41.4625</td>\n",
       "      <td>4</td>\n",
       "      <td>1</td>\n",
       "      <td>2010</td>\n",
       "    </tr>\n",
       "  </tbody>\n",
       "</table>\n",
       "</div>"
      ],
      "text/plain": [
       "   GridID      Shift  Accident  Longitude.grid  Latitude.grid  Weekday  Month  \\\n",
       "0    1078  Afternoon         0          2.1800        41.4575        4      1   \n",
       "1     406    Morning         0          2.1375        41.3475        4      1   \n",
       "2     932    Morning         0          2.1700        41.4575        4      1   \n",
       "3     454    Morning         0          2.1400        41.3675        4      1   \n",
       "4    1007  Afternoon         0          2.1750        41.4625        4      1   \n",
       "\n",
       "   Year  \n",
       "0  2010  \n",
       "1  2010  \n",
       "2  2010  \n",
       "3  2010  \n",
       "4  2010  "
      ]
     },
     "execution_count": 7,
     "metadata": {},
     "output_type": "execute_result"
    }
   ],
   "source": [
    "df['Weekday'] = pd.to_datetime(df.Weekday)\n",
    "df['Weekday'] = df['Weekday'].dt.weekday_name\n",
    "df['Weekday'] = df['Weekday'].replace({\"Monday\":0,\"Tuesday\":1,\"Wednesday\":2,\"Thursday\":3,\"Friday\":4,\"Saturday\":5,\"Sunday\":6})\n",
    "df['Month'] = pd.to_datetime(df.Month)\n",
    "df['Month'] = df['Month'].dt.month\n",
    "df['Year'] = pd.to_datetime(df.Year)\n",
    "df['Year'] = df['Year'].dt.year\n",
    "#3 Drop de variable original\n",
    "df = df.drop(\"date\",1)\n",
    "df.head()"
   ]
  },
  {
   "cell_type": "code",
   "execution_count": 8,
   "metadata": {},
   "outputs": [
    {
     "data": {
      "text/plain": [
       "(824587, 8)"
      ]
     },
     "execution_count": 8,
     "metadata": {},
     "output_type": "execute_result"
    }
   ],
   "source": [
    "df.shape"
   ]
  },
  {
   "cell_type": "code",
   "execution_count": 9,
   "metadata": {},
   "outputs": [
    {
     "data": {
      "text/html": [
       "<div>\n",
       "<style scoped>\n",
       "    .dataframe tbody tr th:only-of-type {\n",
       "        vertical-align: middle;\n",
       "    }\n",
       "\n",
       "    .dataframe tbody tr th {\n",
       "        vertical-align: top;\n",
       "    }\n",
       "\n",
       "    .dataframe thead th {\n",
       "        text-align: right;\n",
       "    }\n",
       "</style>\n",
       "<table border=\"1\" class=\"dataframe\">\n",
       "  <thead>\n",
       "    <tr style=\"text-align: right;\">\n",
       "      <th></th>\n",
       "      <th>GridID</th>\n",
       "      <th>Shift</th>\n",
       "      <th>Accident</th>\n",
       "      <th>Longitude.grid</th>\n",
       "      <th>Latitude.grid</th>\n",
       "      <th>Weekday</th>\n",
       "      <th>Month</th>\n",
       "      <th>Year</th>\n",
       "    </tr>\n",
       "  </thead>\n",
       "  <tbody>\n",
       "    <tr>\n",
       "      <th>0</th>\n",
       "      <td>1078</td>\n",
       "      <td>Afternoon</td>\n",
       "      <td>0</td>\n",
       "      <td>2.1800</td>\n",
       "      <td>41.4575</td>\n",
       "      <td>Friday</td>\n",
       "      <td>January</td>\n",
       "      <td>2010</td>\n",
       "    </tr>\n",
       "    <tr>\n",
       "      <th>1</th>\n",
       "      <td>406</td>\n",
       "      <td>Morning</td>\n",
       "      <td>0</td>\n",
       "      <td>2.1375</td>\n",
       "      <td>41.3475</td>\n",
       "      <td>Friday</td>\n",
       "      <td>January</td>\n",
       "      <td>2010</td>\n",
       "    </tr>\n",
       "    <tr>\n",
       "      <th>2</th>\n",
       "      <td>932</td>\n",
       "      <td>Morning</td>\n",
       "      <td>0</td>\n",
       "      <td>2.1700</td>\n",
       "      <td>41.4575</td>\n",
       "      <td>Friday</td>\n",
       "      <td>January</td>\n",
       "      <td>2010</td>\n",
       "    </tr>\n",
       "    <tr>\n",
       "      <th>3</th>\n",
       "      <td>454</td>\n",
       "      <td>Morning</td>\n",
       "      <td>0</td>\n",
       "      <td>2.1400</td>\n",
       "      <td>41.3675</td>\n",
       "      <td>Friday</td>\n",
       "      <td>January</td>\n",
       "      <td>2010</td>\n",
       "    </tr>\n",
       "    <tr>\n",
       "      <th>4</th>\n",
       "      <td>1007</td>\n",
       "      <td>Afternoon</td>\n",
       "      <td>0</td>\n",
       "      <td>2.1750</td>\n",
       "      <td>41.4625</td>\n",
       "      <td>Friday</td>\n",
       "      <td>January</td>\n",
       "      <td>2010</td>\n",
       "    </tr>\n",
       "  </tbody>\n",
       "</table>\n",
       "</div>"
      ],
      "text/plain": [
       "   GridID      Shift  Accident  Longitude.grid  Latitude.grid Weekday  \\\n",
       "0    1078  Afternoon         0          2.1800        41.4575  Friday   \n",
       "1     406    Morning         0          2.1375        41.3475  Friday   \n",
       "2     932    Morning         0          2.1700        41.4575  Friday   \n",
       "3     454    Morning         0          2.1400        41.3675  Friday   \n",
       "4    1007  Afternoon         0          2.1750        41.4625  Friday   \n",
       "\n",
       "     Month  Year  \n",
       "0  January  2010  \n",
       "1  January  2010  \n",
       "2  January  2010  \n",
       "3  January  2010  \n",
       "4  January  2010  "
      ]
     },
     "execution_count": 9,
     "metadata": {},
     "output_type": "execute_result"
    }
   ],
   "source": [
    "df['Weekday'] = df['Weekday'].replace({0:\"Monday\",1:\"Tuesday\",2:\"Wednesday\",3:\"Thursday\",4:\"Friday\",5:\"Saturday\",6:\"Sunday\"})\n",
    "df['Month'] = df['Month'].replace({1:\"January\",2:\"February\",3:\"March\",4:\"April\",5:\"May\",6:\"June\",7:\"July\",8:\"August\",9:\"September\",10:\"October\",11:\"November\",12:\"December\"})\n",
    "df.head()"
   ]
  },
  {
   "cell_type": "code",
   "execution_count": 10,
   "metadata": {},
   "outputs": [
    {
     "data": {
      "text/plain": [
       "False"
      ]
     },
     "execution_count": 10,
     "metadata": {},
     "output_type": "execute_result"
    }
   ],
   "source": [
    "df.isnull().values.any()  # NaN"
   ]
  },
  {
   "cell_type": "code",
   "execution_count": 11,
   "metadata": {},
   "outputs": [
    {
     "data": {
      "text/plain": [
       "124036"
      ]
     },
     "execution_count": 11,
     "metadata": {},
     "output_type": "execute_result"
    }
   ],
   "source": [
    "df.duplicated().sum()"
   ]
  },
  {
   "cell_type": "code",
   "execution_count": 12,
   "metadata": {
    "scrolled": true
   },
   "outputs": [
    {
     "data": {
      "text/plain": [
       "GridID              int64\n",
       "Shift              object\n",
       "Accident            int64\n",
       "Longitude.grid    float64\n",
       "Latitude.grid     float64\n",
       "Weekday            object\n",
       "Month              object\n",
       "Year                int64\n",
       "dtype: object"
      ]
     },
     "execution_count": 12,
     "metadata": {},
     "output_type": "execute_result"
    }
   ],
   "source": [
    "df.dtypes"
   ]
  },
  {
   "cell_type": "code",
   "execution_count": 13,
   "metadata": {
    "scrolled": true
   },
   "outputs": [
    {
     "data": {
      "text/plain": [
       "0    788070\n",
       "1     36517\n",
       "Name: Accident, dtype: int64"
      ]
     },
     "execution_count": 13,
     "metadata": {},
     "output_type": "execute_result"
    }
   ],
   "source": [
    "df['Accident'].value_counts() "
   ]
  },
  {
   "cell_type": "code",
   "execution_count": 14,
   "metadata": {},
   "outputs": [
    {
     "data": {
      "text/html": [
       "<div>\n",
       "<style scoped>\n",
       "    .dataframe tbody tr th:only-of-type {\n",
       "        vertical-align: middle;\n",
       "    }\n",
       "\n",
       "    .dataframe tbody tr th {\n",
       "        vertical-align: top;\n",
       "    }\n",
       "\n",
       "    .dataframe thead th {\n",
       "        text-align: right;\n",
       "    }\n",
       "</style>\n",
       "<table border=\"1\" class=\"dataframe\">\n",
       "  <thead>\n",
       "    <tr style=\"text-align: right;\">\n",
       "      <th></th>\n",
       "      <th>GridID</th>\n",
       "      <th>Accident</th>\n",
       "      <th>Longitude.grid</th>\n",
       "      <th>Latitude.grid</th>\n",
       "      <th>Friday</th>\n",
       "      <th>Monday</th>\n",
       "      <th>Saturday</th>\n",
       "      <th>Sunday</th>\n",
       "      <th>Thursday</th>\n",
       "      <th>Tuesday</th>\n",
       "      <th>...</th>\n",
       "      <th>October</th>\n",
       "      <th>September</th>\n",
       "      <th>2010</th>\n",
       "      <th>2011</th>\n",
       "      <th>2012</th>\n",
       "      <th>2013</th>\n",
       "      <th>2014</th>\n",
       "      <th>Afternoon</th>\n",
       "      <th>Morning</th>\n",
       "      <th>Night</th>\n",
       "    </tr>\n",
       "  </thead>\n",
       "  <tbody>\n",
       "    <tr>\n",
       "      <th>0</th>\n",
       "      <td>1078</td>\n",
       "      <td>0</td>\n",
       "      <td>2.1800</td>\n",
       "      <td>41.4575</td>\n",
       "      <td>1</td>\n",
       "      <td>0</td>\n",
       "      <td>0</td>\n",
       "      <td>0</td>\n",
       "      <td>0</td>\n",
       "      <td>0</td>\n",
       "      <td>...</td>\n",
       "      <td>0</td>\n",
       "      <td>0</td>\n",
       "      <td>1</td>\n",
       "      <td>0</td>\n",
       "      <td>0</td>\n",
       "      <td>0</td>\n",
       "      <td>0</td>\n",
       "      <td>1</td>\n",
       "      <td>0</td>\n",
       "      <td>0</td>\n",
       "    </tr>\n",
       "    <tr>\n",
       "      <th>1</th>\n",
       "      <td>406</td>\n",
       "      <td>0</td>\n",
       "      <td>2.1375</td>\n",
       "      <td>41.3475</td>\n",
       "      <td>1</td>\n",
       "      <td>0</td>\n",
       "      <td>0</td>\n",
       "      <td>0</td>\n",
       "      <td>0</td>\n",
       "      <td>0</td>\n",
       "      <td>...</td>\n",
       "      <td>0</td>\n",
       "      <td>0</td>\n",
       "      <td>1</td>\n",
       "      <td>0</td>\n",
       "      <td>0</td>\n",
       "      <td>0</td>\n",
       "      <td>0</td>\n",
       "      <td>0</td>\n",
       "      <td>1</td>\n",
       "      <td>0</td>\n",
       "    </tr>\n",
       "    <tr>\n",
       "      <th>2</th>\n",
       "      <td>932</td>\n",
       "      <td>0</td>\n",
       "      <td>2.1700</td>\n",
       "      <td>41.4575</td>\n",
       "      <td>1</td>\n",
       "      <td>0</td>\n",
       "      <td>0</td>\n",
       "      <td>0</td>\n",
       "      <td>0</td>\n",
       "      <td>0</td>\n",
       "      <td>...</td>\n",
       "      <td>0</td>\n",
       "      <td>0</td>\n",
       "      <td>1</td>\n",
       "      <td>0</td>\n",
       "      <td>0</td>\n",
       "      <td>0</td>\n",
       "      <td>0</td>\n",
       "      <td>0</td>\n",
       "      <td>1</td>\n",
       "      <td>0</td>\n",
       "    </tr>\n",
       "    <tr>\n",
       "      <th>3</th>\n",
       "      <td>454</td>\n",
       "      <td>0</td>\n",
       "      <td>2.1400</td>\n",
       "      <td>41.3675</td>\n",
       "      <td>1</td>\n",
       "      <td>0</td>\n",
       "      <td>0</td>\n",
       "      <td>0</td>\n",
       "      <td>0</td>\n",
       "      <td>0</td>\n",
       "      <td>...</td>\n",
       "      <td>0</td>\n",
       "      <td>0</td>\n",
       "      <td>1</td>\n",
       "      <td>0</td>\n",
       "      <td>0</td>\n",
       "      <td>0</td>\n",
       "      <td>0</td>\n",
       "      <td>0</td>\n",
       "      <td>1</td>\n",
       "      <td>0</td>\n",
       "    </tr>\n",
       "    <tr>\n",
       "      <th>4</th>\n",
       "      <td>1007</td>\n",
       "      <td>0</td>\n",
       "      <td>2.1750</td>\n",
       "      <td>41.4625</td>\n",
       "      <td>1</td>\n",
       "      <td>0</td>\n",
       "      <td>0</td>\n",
       "      <td>0</td>\n",
       "      <td>0</td>\n",
       "      <td>0</td>\n",
       "      <td>...</td>\n",
       "      <td>0</td>\n",
       "      <td>0</td>\n",
       "      <td>1</td>\n",
       "      <td>0</td>\n",
       "      <td>0</td>\n",
       "      <td>0</td>\n",
       "      <td>0</td>\n",
       "      <td>1</td>\n",
       "      <td>0</td>\n",
       "      <td>0</td>\n",
       "    </tr>\n",
       "  </tbody>\n",
       "</table>\n",
       "<p>5 rows × 31 columns</p>\n",
       "</div>"
      ],
      "text/plain": [
       "   GridID  Accident  Longitude.grid  Latitude.grid  Friday  Monday  Saturday  \\\n",
       "0    1078         0          2.1800        41.4575       1       0         0   \n",
       "1     406         0          2.1375        41.3475       1       0         0   \n",
       "2     932         0          2.1700        41.4575       1       0         0   \n",
       "3     454         0          2.1400        41.3675       1       0         0   \n",
       "4    1007         0          2.1750        41.4625       1       0         0   \n",
       "\n",
       "   Sunday  Thursday  Tuesday  ...    October  September  2010  2011  2012  \\\n",
       "0       0         0        0  ...          0          0     1     0     0   \n",
       "1       0         0        0  ...          0          0     1     0     0   \n",
       "2       0         0        0  ...          0          0     1     0     0   \n",
       "3       0         0        0  ...          0          0     1     0     0   \n",
       "4       0         0        0  ...          0          0     1     0     0   \n",
       "\n",
       "   2013  2014  Afternoon  Morning  Night  \n",
       "0     0     0          1        0      0  \n",
       "1     0     0          0        1      0  \n",
       "2     0     0          0        1      0  \n",
       "3     0     0          0        1      0  \n",
       "4     0     0          1        0      0  \n",
       "\n",
       "[5 rows x 31 columns]"
      ]
     },
     "execution_count": 14,
     "metadata": {},
     "output_type": "execute_result"
    }
   ],
   "source": [
    "#1 Dummies\n",
    "dWeekday = pd.get_dummies(df[\"Weekday\"])\n",
    "dWeekday.shape\n",
    "#1 Dummies\n",
    "dMonth = pd.get_dummies(df[\"Month\"])\n",
    "dMonth.shape\n",
    "#1 Dummies\n",
    "dYear = pd.get_dummies(df[\"Year\"])\n",
    "dYear.shape\n",
    "#1 Dummies\n",
    "dShift = pd.get_dummies(df[\"Shift\"])\n",
    "dShift.shape\n",
    "\n",
    "#2 Concat\n",
    "df = pd.concat([df, dWeekday], axis = 1)\n",
    "#2 Concat\n",
    "df = pd.concat([df, dMonth], axis = 1)\n",
    "#2 Concat\n",
    "df = pd.concat([df, dYear], axis = 1)\n",
    "#2 Concat\n",
    "df = pd.concat([df,dShift], axis = 1)\n",
    "\n",
    "#3 Drop de variable original\n",
    "df = df.drop(\"Weekday\", 1)\n",
    "#3 Drop de variable original\n",
    "df = df.drop(\"Month\", 1)\n",
    "#3 Drop de variable original\n",
    "df = df.drop(\"Year\", 1)\n",
    "#3 Drop de variable original\n",
    "df = df.drop(\"Shift\",1)\n",
    "df.head()"
   ]
  },
  {
   "cell_type": "code",
   "execution_count": 15,
   "metadata": {},
   "outputs": [],
   "source": [
    "Sample = resample(df, n_samples=10000, random_state=1)"
   ]
  },
  {
   "cell_type": "code",
   "execution_count": 16,
   "metadata": {},
   "outputs": [],
   "source": [
    "X = Sample.drop('Accident',1)"
   ]
  },
  {
   "cell_type": "code",
   "execution_count": 17,
   "metadata": {},
   "outputs": [],
   "source": [
    "y = Sample['Accident']"
   ]
  },
  {
   "cell_type": "code",
   "execution_count": 18,
   "metadata": {},
   "outputs": [
    {
     "name": "stderr",
     "output_type": "stream",
     "text": [
      "C:\\Users\\alter\\Anaconda3\\lib\\site-packages\\sklearn\\model_selection\\_split.py:2026: FutureWarning: From version 0.21, test_size will always complement train_size unless both are specified.\n",
      "  FutureWarning)\n"
     ]
    }
   ],
   "source": [
    "from sklearn.model_selection import train_test_split\n",
    "X_train,X_test,y_train,y_test = train_test_split(X,y,train_size=0.70,random_state=15)"
   ]
  },
  {
   "cell_type": "markdown",
   "metadata": {},
   "source": [
    "### Logistic Regression:"
   ]
  },
  {
   "cell_type": "code",
   "execution_count": 19,
   "metadata": {},
   "outputs": [],
   "source": [
    "LR = LogisticRegression()\n",
    "LR.fit(X_train,y_train)\n",
    "y_train_pred = LR.predict(X_train)\n",
    "y_test_pred = LR.predict(X_test)"
   ]
  },
  {
   "cell_type": "code",
   "execution_count": 20,
   "metadata": {},
   "outputs": [
    {
     "name": "stdout",
     "output_type": "stream",
     "text": [
      "Accuracy - Datos de entrenamiento: 0.9572857142857143\n",
      " Accuracy - Datos de test: 0.9566666666666667\n"
     ]
    }
   ],
   "source": [
    "print(\"Accuracy - Datos de entrenamiento: {}\\n Accuracy - Datos de test: {}\"\n",
    "      .format(accuracy_score(y_train, y_train_pred),accuracy_score(y_test, y_test_pred)))"
   ]
  },
  {
   "cell_type": "code",
   "execution_count": 21,
   "metadata": {},
   "outputs": [
    {
     "name": "stdout",
     "output_type": "stream",
     "text": [
      "[0]\n"
     ]
    }
   ],
   "source": [
    "print(np.unique(y_train_pred)) "
   ]
  },
  {
   "cell_type": "code",
   "execution_count": 22,
   "metadata": {},
   "outputs": [],
   "source": [
    "y_train_pred = LR.predict_proba(X_train)\n",
    "y_test_pred = LR.predict_proba(X_test)"
   ]
  },
  {
   "cell_type": "code",
   "execution_count": 23,
   "metadata": {},
   "outputs": [
    {
     "name": "stdout",
     "output_type": "stream",
     "text": [
      "Árbol de decisión - Datos de entrenamiento: 0.6698288929072135\n",
      " Árbol de decisión - Datos de test: 0.6543044760117932\n"
     ]
    }
   ],
   "source": [
    "print(\"Árbol de decisión - Datos de entrenamiento: {}\\n Árbol de decisión - Datos de test: {}\"\n",
    "      .format(roc_auc_score(y_train,y_train_pred[:,1]),roc_auc_score(y_test,y_test_pred[:,1])))"
   ]
  },
  {
   "cell_type": "markdown",
   "metadata": {},
   "source": [
    "### K-Nearest-Neighbors (KNN):"
   ]
  },
  {
   "cell_type": "code",
   "execution_count": 24,
   "metadata": {},
   "outputs": [],
   "source": [
    "knn = KNeighborsClassifier(n_neighbors=4)\n",
    "knn.fit(X_train,y_train)\n",
    "y_train_pred = knn.predict(X_train)\n",
    "y_test_pred = knn.predict(X_test)"
   ]
  },
  {
   "cell_type": "code",
   "execution_count": 25,
   "metadata": {},
   "outputs": [
    {
     "name": "stdout",
     "output_type": "stream",
     "text": [
      "Accuracy - Datos de entrenamiento: 0.9587142857142857\n",
      " Accuracy - Datos de test: 0.9546666666666667\n"
     ]
    }
   ],
   "source": [
    "print(\"Accuracy - Datos de entrenamiento: {}\\n Accuracy - Datos de test: {}\"\n",
    "      .format(accuracy_score(y_train, y_train_pred),accuracy_score(y_test, y_test_pred)))"
   ]
  },
  {
   "cell_type": "code",
   "execution_count": 26,
   "metadata": {},
   "outputs": [
    {
     "name": "stdout",
     "output_type": "stream",
     "text": [
      "[0 1]\n"
     ]
    }
   ],
   "source": [
    "print(np.unique(y_train_pred)) "
   ]
  },
  {
   "cell_type": "code",
   "execution_count": 27,
   "metadata": {},
   "outputs": [],
   "source": [
    "y_train_pred =knn.predict_proba(X_train)\n",
    "y_test_pred = knn.predict_proba(X_test)"
   ]
  },
  {
   "cell_type": "code",
   "execution_count": 28,
   "metadata": {},
   "outputs": [
    {
     "name": "stdout",
     "output_type": "stream",
     "text": [
      "Árbol de decisión - Datos de entrenamiento: 0.951026128481797\n",
      " Árbol de decisión - Datos de test: 0.5858348968105066\n"
     ]
    }
   ],
   "source": [
    "print(\"Árbol de decisión - Datos de entrenamiento: {}\\n Árbol de decisión - Datos de test: {}\"\n",
    "      .format(roc_auc_score(y_train,y_train_pred[:,1]),roc_auc_score(y_test,y_test_pred[:,1])))"
   ]
  },
  {
   "cell_type": "markdown",
   "metadata": {},
   "source": [
    "### Decision Tree Classifier:"
   ]
  },
  {
   "cell_type": "code",
   "execution_count": 29,
   "metadata": {},
   "outputs": [],
   "source": [
    "DTC = DecisionTreeClassifier(criterion=\"entropy\",random_state=1, max_depth = 5)\n",
    "DTC.fit(X_train,y_train)\n",
    "y_train_pred = DTC.predict(X_train)\n",
    "y_test_pred = DTC.predict(X_test)"
   ]
  },
  {
   "cell_type": "code",
   "execution_count": 30,
   "metadata": {},
   "outputs": [
    {
     "name": "stdout",
     "output_type": "stream",
     "text": [
      "Accuracy - Datos de entrenamiento: 0.9572857142857143\n",
      " Accuracy - Datos de test: 0.9566666666666667\n"
     ]
    }
   ],
   "source": [
    "print(\"Accuracy - Datos de entrenamiento: {}\\n Accuracy - Datos de test: {}\"\n",
    "      .format(accuracy_score(y_train, y_train_pred),accuracy_score(y_test, y_test_pred)))"
   ]
  },
  {
   "cell_type": "code",
   "execution_count": 31,
   "metadata": {},
   "outputs": [
    {
     "name": "stdout",
     "output_type": "stream",
     "text": [
      "[0]\n"
     ]
    }
   ],
   "source": [
    "print(np.unique(y_train_pred))"
   ]
  },
  {
   "cell_type": "code",
   "execution_count": 32,
   "metadata": {},
   "outputs": [],
   "source": [
    "y_train_pred = DTC.predict_proba(X_train)\n",
    "y_test_pred = DTC.predict_proba(X_test)"
   ]
  },
  {
   "cell_type": "code",
   "execution_count": 33,
   "metadata": {},
   "outputs": [
    {
     "name": "stdout",
     "output_type": "stream",
     "text": [
      "Árbol de decisión - Datos de entrenamiento: 0.7704750301831853\n",
      " Árbol de decisión - Datos de test: 0.7154904851246313\n"
     ]
    }
   ],
   "source": [
    "print(\"Árbol de decisión - Datos de entrenamiento: {}\\n Árbol de decisión - Datos de test: {}\"\n",
    "      .format(roc_auc_score(y_train,y_train_pred[:,1]),roc_auc_score(y_test,y_test_pred[:,1])))"
   ]
  },
  {
   "cell_type": "markdown",
   "metadata": {},
   "source": [
    "### Random Forest:"
   ]
  },
  {
   "cell_type": "code",
   "execution_count": 34,
   "metadata": {},
   "outputs": [],
   "source": [
    "rf = RandomForestClassifier()\n",
    "rf.fit(X_train, y_train)\n",
    "y_train_pred = rf.predict(X_train)\n",
    "y_test_pred = rf.predict(X_test)"
   ]
  },
  {
   "cell_type": "code",
   "execution_count": 35,
   "metadata": {},
   "outputs": [
    {
     "name": "stdout",
     "output_type": "stream",
     "text": [
      "Accuracy - Datos de entrenamiento: 0.9908571428571429\n",
      " Accuracy - Datos de test: 0.9556666666666667\n"
     ]
    }
   ],
   "source": [
    "print(\"Accuracy - Datos de entrenamiento: {}\\n Accuracy - Datos de test: {}\"\n",
    "      .format(accuracy_score(y_train, y_train_pred),accuracy_score(y_test, y_test_pred)))"
   ]
  },
  {
   "cell_type": "code",
   "execution_count": 36,
   "metadata": {},
   "outputs": [
    {
     "name": "stdout",
     "output_type": "stream",
     "text": [
      "[0 1]\n"
     ]
    }
   ],
   "source": [
    "print(np.unique(y_train_pred)) "
   ]
  },
  {
   "cell_type": "code",
   "execution_count": 37,
   "metadata": {},
   "outputs": [],
   "source": [
    "y_train_pred = rf.predict_proba(X_train)\n",
    "y_test_pred = rf.predict_proba(X_test)"
   ]
  },
  {
   "cell_type": "code",
   "execution_count": 38,
   "metadata": {},
   "outputs": [
    {
     "name": "stdout",
     "output_type": "stream",
     "text": [
      "Árbol de decisión - Datos de entrenamiento: 0.9999742962538912\n",
      " Árbol de decisión - Datos de test: 0.6007518091664434\n"
     ]
    }
   ],
   "source": [
    "print(\"Árbol de decisión - Datos de entrenamiento: {}\\n Árbol de decisión - Datos de test: {}\"\n",
    "      .format(roc_auc_score(y_train,y_train_pred[:,1]),roc_auc_score(y_test,y_test_pred[:,1])))"
   ]
  },
  {
   "cell_type": "markdown",
   "metadata": {},
   "source": [
    "### Support Vector Machine (SVM):"
   ]
  },
  {
   "cell_type": "code",
   "execution_count": 39,
   "metadata": {},
   "outputs": [],
   "source": [
    "SVM = SVC(probability=True,random_state=1)\n",
    "SVM.fit(X_train,y_train)\n",
    "y_train_pred = SVM.predict(X_train)\n",
    "y_test_pred = SVM.predict(X_test)"
   ]
  },
  {
   "cell_type": "code",
   "execution_count": 40,
   "metadata": {},
   "outputs": [
    {
     "name": "stdout",
     "output_type": "stream",
     "text": [
      "Accuracy - Datos de entrenamiento: 0.9572857142857143\n",
      " Accuracy - Datos de test: 0.9566666666666667\n"
     ]
    }
   ],
   "source": [
    "print(\"Accuracy - Datos de entrenamiento: {}\\n Accuracy - Datos de test: {}\"\n",
    "      .format(accuracy_score(y_train, y_train_pred),accuracy_score(y_test, y_test_pred)))"
   ]
  },
  {
   "cell_type": "code",
   "execution_count": 41,
   "metadata": {},
   "outputs": [
    {
     "name": "stdout",
     "output_type": "stream",
     "text": [
      "[0]\n"
     ]
    }
   ],
   "source": [
    "print(np.unique(y_train_pred)) "
   ]
  },
  {
   "cell_type": "code",
   "execution_count": 42,
   "metadata": {},
   "outputs": [],
   "source": [
    "y_train_pred = SVM.predict_proba(X_train)\n",
    "y_test_pred = SVM.predict_proba(X_test)"
   ]
  },
  {
   "cell_type": "code",
   "execution_count": 43,
   "metadata": {},
   "outputs": [
    {
     "name": "stdout",
     "output_type": "stream",
     "text": [
      "Árbol de decisión - Datos de entrenamiento: 0.9997761528130129\n",
      " Árbol de decisión - Datos de test: 0.6613588850174216\n"
     ]
    }
   ],
   "source": [
    "print(\"Árbol de decisión - Datos de entrenamiento: {}\\n Árbol de decisión - Datos de test: {}\"\n",
    "      .format(roc_auc_score(y_train,y_train_pred[:,1]),roc_auc_score(y_test,y_test_pred[:,1])))"
   ]
  },
  {
   "cell_type": "code",
   "execution_count": 44,
   "metadata": {},
   "outputs": [
    {
     "data": {
      "image/png": "[encoded data removed]",
      "text/plain": [
       "<Figure size 432x288 with 1 Axes>"
      ]
     },
     "metadata": {
      "image/png": {
       "height": 286,
       "width": 393
      },
      "needs_background": "light"
     },
     "output_type": "display_data"
    }
   ],
   "source": [
    "from IPython.display import set_matplotlib_formats\n",
    "set_matplotlib_formats('retina')\n",
    "%matplotlib inline\n",
    "rfp, rvp, umbrales = metrics.roc_curve(y_test, y_test_pred[:,1])\n",
    "plt.plot(rfp, rvp)\n",
    "plt.plot([0, 1], [0, 1], color='black', lw=1, linestyle='--')\n",
    "plt.xlim([0.0, 1.0])\n",
    "plt.ylim([0.0, 1.0])\n",
    "plt.title('Espesificidad\\n1.0                 0.8               0.6               0.4               0.2              0.0', \n",
    "          fontsize=10)\n",
    "plt.xlabel('1 - Espesificidad = Ratio de falsos positivos')\n",
    "plt.ylabel('Sensibilidad = Ratio verdaderos positivos')\n",
    "plt.grid(True)"
   ]
  },
  {
   "cell_type": "markdown",
   "metadata": {},
   "source": [
    "## 1. Procesado de los datos:"
   ]
  },
  {
   "cell_type": "markdown",
   "metadata": {},
   "source": [
    "### Visualizacion:"
   ]
  },
  {
   "cell_type": "markdown",
   "metadata": {},
   "source": [
    "## 1.1 Balanceado de datos:"
   ]
  },
  {
   "cell_type": "code",
   "execution_count": 45,
   "metadata": {},
   "outputs": [
    {
     "data": {
      "text/plain": [
       "(824587, 31)"
      ]
     },
     "execution_count": 45,
     "metadata": {},
     "output_type": "execute_result"
    }
   ],
   "source": [
    "X2 = df\n",
    "X2.shape"
   ]
  },
  {
   "cell_type": "code",
   "execution_count": 46,
   "metadata": {},
   "outputs": [
    {
     "data": {
      "text/plain": [
       "124036"
      ]
     },
     "execution_count": 46,
     "metadata": {},
     "output_type": "execute_result"
    }
   ],
   "source": [
    "X2.duplicated().sum()"
   ]
  },
  {
   "cell_type": "raw",
   "metadata": {},
   "source": [
    "X2 = X2.drop_duplicates(keep='first')    # Eliminamos los duplicados, nos quedamos con el primero\n",
    "X2.duplicated().sum()"
   ]
  },
  {
   "cell_type": "code",
   "execution_count": 47,
   "metadata": {},
   "outputs": [],
   "source": [
    "clase_mayoritaria = X2[X2.Accident == 0]\n",
    "clase_minoritaria = X2[X2.Accident == 1]"
   ]
  },
  {
   "cell_type": "code",
   "execution_count": 48,
   "metadata": {},
   "outputs": [],
   "source": [
    "clase_mayoritaria_downsampled = resample(clase_mayoritaria, n_samples=clase_minoritaria.shape[0],\n",
    "                                         replace = False, random_state=1)"
   ]
  },
  {
   "cell_type": "code",
   "execution_count": 49,
   "metadata": {},
   "outputs": [],
   "source": [
    "nuevo_dataset = pd.concat([clase_mayoritaria_downsampled, clase_minoritaria])"
   ]
  },
  {
   "cell_type": "code",
   "execution_count": 50,
   "metadata": {},
   "outputs": [
    {
     "data": {
      "text/plain": [
       "1    36517\n",
       "0    36517\n",
       "Name: Accident, dtype: int64"
      ]
     },
     "execution_count": 50,
     "metadata": {},
     "output_type": "execute_result"
    }
   ],
   "source": [
    "nuevo_dataset[\"Accident\"].value_counts()"
   ]
  },
  {
   "cell_type": "code",
   "execution_count": 51,
   "metadata": {},
   "outputs": [],
   "source": [
    "X2 = nuevo_dataset.drop('Accident',1)\n",
    "y2 = nuevo_dataset['Accident']"
   ]
  },
  {
   "cell_type": "code",
   "execution_count": 52,
   "metadata": {},
   "outputs": [],
   "source": [
    "X2 = MinMaxScaler().fit_transform(X2)  "
   ]
  },
  {
   "cell_type": "code",
   "execution_count": 53,
   "metadata": {},
   "outputs": [
    {
     "name": "stderr",
     "output_type": "stream",
     "text": [
      "C:\\Users\\alter\\Anaconda3\\lib\\site-packages\\sklearn\\model_selection\\_split.py:2026: FutureWarning: From version 0.21, test_size will always complement train_size unless both are specified.\n",
      "  FutureWarning)\n"
     ]
    }
   ],
   "source": [
    "X1_train,X1_test,y1_train,y1_test = train_test_split(X2,y2,train_size=0.70,stratify = y2,random_state=10)"
   ]
  },
  {
   "cell_type": "code",
   "execution_count": 54,
   "metadata": {},
   "outputs": [
    {
     "data": {
      "image/png": "[encoded data removed]",
      "text/plain": [
       "<Figure size 432x288 with 1 Axes>"
      ]
     },
     "metadata": {
      "image/png": {
       "height": 277,
       "width": 393
      },
      "needs_background": "light"
     },
     "output_type": "display_data"
    }
   ],
   "source": [
    "train_scores = []\n",
    "val_scores = []\n",
    "max_depth_tree = list(range(1,16,1))\n",
    "\n",
    "for c in max_depth_tree:\n",
    "    DTC = DecisionTreeClassifier(max_depth=c,criterion=\"entropy\",random_state=1)\n",
    "    DTC.fit(X1_train,y1_train)\n",
    "    y_train_pred = DTC.predict_proba(X1_train)\n",
    "    train_scores.append(roc_auc_score(y1_train,y_train_pred[:,1]))\n",
    "    val_scores.append(cross_val_score(DTC,X1_train,y1_train,cv=5,scoring=\"roc_auc\").mean())\n",
    "\n",
    "plt.plot(max_depth_tree,train_scores,color='r',label='Datos de entrenamiento')\n",
    "plt.plot(max_depth_tree,val_scores,color='b',label='Datos de validación')\n",
    "plt.title('Decision tree classifier')\n",
    "plt.legend()\n",
    "plt.xlabel('Profundidad del Árbol')\n",
    "plt.ylabel('AUC')  \n",
    "plt.grid(True)"
   ]
  },
  {
   "cell_type": "code",
   "execution_count": 55,
   "metadata": {},
   "outputs": [
    {
     "name": "stdout",
     "output_type": "stream",
     "text": [
      "Train scores: [0.6096527029460779, 0.6408502407141708, 0.6953713676445528, 0.7166436690284291, 0.732309613689663, 0.7429191110926257, 0.7556920597114114, 0.7696088820923113, 0.7781246951573118, 0.7892093075237994, 0.8011873330861691, 0.8135575071194584, 0.8277541836779262, 0.8436588287059954, 0.8606909017358173, 0.8776998354560774, 0.8945685490008559, 0.9117515203570168, 0.9275954482285979, 0.9425381314440794, 0.9551486916666447, 0.9662729939408556, 0.9751747669855917, 0.9820266587619678, 0.9874651426174715]\n",
      "\n",
      "Validación scores: [0.6096526253157514, 0.6408525567061089, 0.6944706783026705, 0.7150512307530797, 0.7294631222536976, 0.739020196752957, 0.747516010333897, 0.7567652753593357, 0.7602996280161157, 0.7627440684727903, 0.7605314570306646, 0.7557092061014503, 0.7488561005973972, 0.7399098721496233, 0.7318967352314285, 0.7202741056496871, 0.7105707805283805, 0.7006657605187486, 0.691720080771068, 0.682307587370613, 0.6746657968913767, 0.6678792428136072, 0.6639918979976442, 0.6588781873017593, 0.6548690574518903]\n",
      "\n",
      "Profundidad del árbol: [1, 2, 3, 4, 5, 6, 7, 8, 9, 10, 11, 12, 13, 14, 15, 16, 17, 18, 19, 20, 21, 22, 23, 24, 25]\n"
     ]
    }
   ],
   "source": [
    "print('Train scores: {}\\n\\nValidación scores: {}\\n\\nProfundidad del árbol: {}'\n",
    "      .format(train_scores,val_scores,max_depth_tree))"
   ]
  },
  {
   "cell_type": "code",
   "execution_count": 56,
   "metadata": {},
   "outputs": [
    {
     "name": "stdout",
     "output_type": "stream",
     "text": [
      "Max. Train score: 0.7892093075237994\n",
      "Max. Validación score: 0.7627440684727903\n",
      "Profundidad del árbol: 10\n"
     ]
    }
   ],
   "source": [
    "print('Max. Train score: {}\\nMax. Validación score: {}\\nProfundidad del árbol: {}'\n",
    "      .format(0.7892093075237994,0.7627440684727903,10))"
   ]
  },
  {
   "cell_type": "code",
   "execution_count": 57,
   "metadata": {},
   "outputs": [],
   "source": [
    "DTC = DecisionTreeClassifier(criterion=\"entropy\",random_state=7, max_depth = 13)\n",
    "DTC.fit(X1_train,y1_train)\n",
    "y_train_pred = DTC.predict(X1_train)\n",
    "y_test_pred = DTC.predict(X1_test)"
   ]
  },
  {
   "cell_type": "code",
   "execution_count": 58,
   "metadata": {},
   "outputs": [
    {
     "name": "stdout",
     "output_type": "stream",
     "text": [
      "Accuracy - Datos de entrenamiento: 0.7441464702775659\n",
      "Accuracy - Datos de test: 0.704029939299895\n"
     ]
    }
   ],
   "source": [
    "print(\"Accuracy - Datos de entrenamiento: {}\\nAccuracy - Datos de test: {}\"\n",
    "      .format(accuracy_score(y1_train, y_train_pred),accuracy_score(y1_test, y_test_pred)))"
   ]
  },
  {
   "cell_type": "code",
   "execution_count": 59,
   "metadata": {},
   "outputs": [
    {
     "name": "stdout",
     "output_type": "stream",
     "text": [
      "[0 1]\n"
     ]
    }
   ],
   "source": [
    "print(np.unique(y_train_pred)) "
   ]
  },
  {
   "cell_type": "code",
   "execution_count": 60,
   "metadata": {},
   "outputs": [],
   "source": [
    "y_train_pred = DTC.predict_proba(X1_train)\n",
    "y_test_pred = DTC.predict_proba(X1_test)"
   ]
  },
  {
   "cell_type": "code",
   "execution_count": 61,
   "metadata": {},
   "outputs": [
    {
     "name": "stdout",
     "output_type": "stream",
     "text": [
      "Árbol de decisión - Datos de entrenamiento: 0.8279614036255286\n",
      "Árbol de decisión - Datos de test: 0.7596146754563169\n"
     ]
    }
   ],
   "source": [
    "print(\"Árbol de decisión - Datos de entrenamiento: {}\\nÁrbol de decisión - Datos de test: {}\"\n",
    "      .format(roc_auc_score(y1_train,y_train_pred[:,1]),roc_auc_score(y1_test,y_test_pred[:,1])))"
   ]
  },
  {
   "cell_type": "markdown",
   "metadata": {},
   "source": [
    "## 1.3 Feature Importance:"
   ]
  },
  {
   "cell_type": "code",
   "execution_count": 62,
   "metadata": {},
   "outputs": [
    {
     "data": {
      "text/plain": [
       "DecisionTreeClassifier(class_weight=None, criterion='entropy', max_depth=13,\n",
       "            max_features=None, max_leaf_nodes=None,\n",
       "            min_impurity_decrease=0.0, min_impurity_split=None,\n",
       "            min_samples_leaf=1, min_samples_split=2,\n",
       "            min_weight_fraction_leaf=0.0, presort=False, random_state=3,\n",
       "            splitter='best')"
      ]
     },
     "execution_count": 62,
     "metadata": {},
     "output_type": "execute_result"
    }
   ],
   "source": [
    "DTC = DecisionTreeClassifier(criterion=\"entropy\",random_state=3, max_depth = 13)\n",
    "DTC.fit(X1_train,y1_train)"
   ]
  },
  {
   "cell_type": "code",
   "execution_count": 63,
   "metadata": {},
   "outputs": [
    {
     "data": {
      "text/plain": [
       "array([0.23995719, 0.04854322, 0.31174471, 0.00856066, 0.00505851,\n",
       "       0.02247045, 0.0300125 , 0.00632785, 0.00593788, 0.00733586,\n",
       "       0.00598985, 0.01195305, 0.00613519, 0.00755662, 0.00757189,\n",
       "       0.00674996, 0.00788593, 0.00771296, 0.00543663, 0.00657299,\n",
       "       0.0051644 , 0.00400092, 0.00877792, 0.00889926, 0.00736564,\n",
       "       0.01050651, 0.01080322, 0.0031403 , 0.00692549, 0.17490245])"
      ]
     },
     "execution_count": 63,
     "metadata": {},
     "output_type": "execute_result"
    }
   ],
   "source": [
    "DTC.feature_importances_ "
   ]
  },
  {
   "cell_type": "code",
   "execution_count": 64,
   "metadata": {},
   "outputs": [],
   "source": [
    "model = SelectFromModel(DTC, prefit=True)"
   ]
  },
  {
   "cell_type": "code",
   "execution_count": 65,
   "metadata": {},
   "outputs": [
    {
     "name": "stdout",
     "output_type": "stream",
     "text": [
      "(51123, 4) (21911, 4)\n"
     ]
    }
   ],
   "source": [
    "X_new_train = model.transform(X1_train)\n",
    "X_new_test = model.transform(X1_test)\n",
    "print(X_new_train.shape,X_new_test.shape)"
   ]
  },
  {
   "cell_type": "code",
   "execution_count": 66,
   "metadata": {},
   "outputs": [],
   "source": [
    "DTC.fit(X_new_train,y1_train)\n",
    "y_train_pred = DTC.predict(X_new_train)\n",
    "y_test_pred = DTC.predict(X_new_test)"
   ]
  },
  {
   "cell_type": "code",
   "execution_count": 67,
   "metadata": {},
   "outputs": [
    {
     "name": "stdout",
     "output_type": "stream",
     "text": [
      "Accuracy - Datos de entrenamiento: 0.7231187528118459\n",
      "Accuracy - Datos test: 0.7057185888366574\n"
     ]
    }
   ],
   "source": [
    "print(\"Accuracy - Datos de entrenamiento: {}\\nAccuracy - Datos test: {}\"\n",
    "      .format(accuracy_score(y1_train, y_train_pred),accuracy_score(y1_test, y_test_pred)))"
   ]
  },
  {
   "cell_type": "code",
   "execution_count": 68,
   "metadata": {},
   "outputs": [],
   "source": [
    "y_train_pred_proba = DTC.predict_proba(X_new_train)\n",
    "y_test_pred_proba = DTC.predict_proba(X_new_test)"
   ]
  },
  {
   "cell_type": "code",
   "execution_count": 69,
   "metadata": {},
   "outputs": [
    {
     "name": "stdout",
     "output_type": "stream",
     "text": [
      "Datos de entrenamiento - roc_auc: 0.8026157236296331\n",
      "Datos test - roc_auc: 0.7810222883984383\n"
     ]
    }
   ],
   "source": [
    "print(\"Datos de entrenamiento - roc_auc: {}\\nDatos test - roc_auc: {}\"\n",
    "      .format(roc_auc_score(y1_train,y_train_pred_proba[:,1]),roc_auc_score(y1_test,y_test_pred_proba[:,1])))"
   ]
  },
  {
   "cell_type": "markdown",
   "metadata": {},
   "source": [
    "### 1.4. AdaBoosClassifier para mejorar el porcentaje de acierto de los errores:"
   ]
  },
  {
   "cell_type": "code",
   "execution_count": 70,
   "metadata": {},
   "outputs": [],
   "source": [
    "BOOS = AdaBoostClassifier(random_state=1)\n",
    "BOOS.fit(X1_train,y1_train)\n",
    "y_train_pred = BOOS.predict(X1_train)\n",
    "y_test_pred = BOOS.predict(X1_test)"
   ]
  },
  {
   "cell_type": "code",
   "execution_count": 71,
   "metadata": {},
   "outputs": [
    {
     "name": "stdout",
     "output_type": "stream",
     "text": [
      "Estimación del set de Validacion usando BOOS\n",
      "0.7558509562004934\n"
     ]
    }
   ],
   "source": [
    "print(\"Estimación del set de Validacion usando BOOS\")\n",
    "print(cross_val_score(BOOS, X1_train, y1_train, cv=5, scoring='roc_auc').mean())"
   ]
  },
  {
   "cell_type": "code",
   "execution_count": 72,
   "metadata": {},
   "outputs": [],
   "source": [
    "y_train_pred = BOOS.predict_proba(X1_train)\n",
    "y_test_pred = BOOS.predict_proba(X1_test)"
   ]
  },
  {
   "cell_type": "code",
   "execution_count": 73,
   "metadata": {},
   "outputs": [
    {
     "name": "stdout",
     "output_type": "stream",
     "text": [
      "Árbol de decisión - Datos de entrenamiento: 0.7573989537848682\n",
      " Árbol de decisión - Datos de test: 0.7598408238155726\n"
     ]
    }
   ],
   "source": [
    "print(\"Árbol de decisión - Datos de entrenamiento: {}\\n Árbol de decisión - Datos de test: {}\"\n",
    "      .format(roc_auc_score(y1_train,y_train_pred[:,1]),roc_auc_score(y1_test,y_test_pred[:,1])))"
   ]
  },
  {
   "cell_type": "markdown",
   "metadata": {},
   "source": [
    "### 1.5. Haremos que todos los datos del algoritmo balanceado sean el train:"
   ]
  },
  {
   "cell_type": "code",
   "execution_count": 104,
   "metadata": {},
   "outputs": [],
   "source": [
    "train_scores = []\n",
    "val_scores = []\n",
    "max_depth_tree = list(range(1,61,1))\n",
    "for c in max_depth_tree:\n",
    "    DTC = DecisionTreeClassifier(max_depth = c,criterion=\"entropy\",random_state=9)\n",
    "    DTC.fit(X2,y2)\n",
    "    y_train_pred = DTC.predict_proba(X2)\n",
    "    train_scores.append(roc_auc_score(y2,y_train_pred[:,1]))\n",
    "    val_scores.append(cross_val_score(DTC,X2,y2,cv=5,scoring=\"roc_auc\").mean())"
   ]
  },
  {
   "cell_type": "code",
   "execution_count": 105,
   "metadata": {},
   "outputs": [
    {
     "data": {
      "image/png": "[encoded data removed]",
      "text/plain": [
       "<Figure size 432x288 with 1 Axes>"
      ]
     },
     "metadata": {
      "image/png": {
       "height": 277,
       "width": 387
      },
      "needs_background": "light"
     },
     "output_type": "display_data"
    }
   ],
   "source": [
    "plt.plot(max_depth_tree,train_scores,color='r',label='Datos de entrenamiento')\n",
    "plt.plot(max_depth_tree,val_scores,color='b',label='Datos de validación')\n",
    "plt.title('Decision tree classifier')\n",
    "plt.legend()\n",
    "plt.xlabel('Profundidad del Árbol')\n",
    "plt.ylabel('AUC')  \n",
    "plt.grid(True)"
   ]
  },
  {
   "cell_type": "code",
   "execution_count": 76,
   "metadata": {},
   "outputs": [],
   "source": [
    "DTC = DecisionTreeClassifier(criterion=\"entropy\",random_state=23, max_depth = 70)\n",
    "DTC.fit(X2,y2)\n",
    "y_train_pred = DTC.predict(X2)"
   ]
  },
  {
   "cell_type": "code",
   "execution_count": 77,
   "metadata": {},
   "outputs": [
    {
     "name": "stdout",
     "output_type": "stream",
     "text": [
      "Accuracy - Datos de entrenamiento: 0.9920721855574116\n"
     ]
    }
   ],
   "source": [
    "print(\"Accuracy - Datos de entrenamiento:\",accuracy_score(y2, y_train_pred))"
   ]
  },
  {
   "cell_type": "code",
   "execution_count": 78,
   "metadata": {},
   "outputs": [
    {
     "name": "stdout",
     "output_type": "stream",
     "text": [
      "[0 1]\n"
     ]
    }
   ],
   "source": [
    "print(np.unique(y_train_pred)) "
   ]
  },
  {
   "cell_type": "code",
   "execution_count": 79,
   "metadata": {},
   "outputs": [],
   "source": [
    "y_train_pred_proba = DTC.predict_proba(X2)"
   ]
  },
  {
   "cell_type": "code",
   "execution_count": 80,
   "metadata": {},
   "outputs": [
    {
     "name": "stdout",
     "output_type": "stream",
     "text": [
      "Árbol de decisión - Datos de entrenamiento: 0.999874132286139\n"
     ]
    }
   ],
   "source": [
    "print(\"Árbol de decisión - Datos de entrenamiento:\",roc_auc_score(y2,y_train_pred_proba[:,1]))"
   ]
  },
  {
   "cell_type": "markdown",
   "metadata": {},
   "source": [
    "### 1.6. Probamos mejorar el algoritmo Random Forest una vez balanceados los datos:  \n",
    "### 1.6.1 Validación de los errores:"
   ]
  },
  {
   "cell_type": "code",
   "execution_count": 81,
   "metadata": {
    "scrolled": true
   },
   "outputs": [
    {
     "name": "stderr",
     "output_type": "stream",
     "text": [
      "C:\\Users\\alter\\Anaconda3\\lib\\site-packages\\sklearn\\ensemble\\forest.py:453: UserWarning: Some inputs do not have OOB scores. This probably means too few trees were used to compute any reliable oob estimates.\n",
      "  warn(\"Some inputs do not have OOB scores. \"\n",
      "C:\\Users\\alter\\Anaconda3\\lib\\site-packages\\sklearn\\ensemble\\forest.py:458: RuntimeWarning: invalid value encountered in true_divide\n",
      "  predictions[k].sum(axis=1)[:, np.newaxis])\n",
      "C:\\Users\\alter\\Anaconda3\\lib\\site-packages\\sklearn\\ensemble\\forest.py:453: UserWarning: Some inputs do not have OOB scores. This probably means too few trees were used to compute any reliable oob estimates.\n",
      "  warn(\"Some inputs do not have OOB scores. \"\n",
      "C:\\Users\\alter\\Anaconda3\\lib\\site-packages\\sklearn\\ensemble\\forest.py:458: RuntimeWarning: invalid value encountered in true_divide\n",
      "  predictions[k].sum(axis=1)[:, np.newaxis])\n",
      "C:\\Users\\alter\\Anaconda3\\lib\\site-packages\\sklearn\\ensemble\\forest.py:453: UserWarning: Some inputs do not have OOB scores. This probably means too few trees were used to compute any reliable oob estimates.\n",
      "  warn(\"Some inputs do not have OOB scores. \"\n",
      "C:\\Users\\alter\\Anaconda3\\lib\\site-packages\\sklearn\\ensemble\\forest.py:458: RuntimeWarning: invalid value encountered in true_divide\n",
      "  predictions[k].sum(axis=1)[:, np.newaxis])\n",
      "C:\\Users\\alter\\Anaconda3\\lib\\site-packages\\sklearn\\ensemble\\forest.py:453: UserWarning: Some inputs do not have OOB scores. This probably means too few trees were used to compute any reliable oob estimates.\n",
      "  warn(\"Some inputs do not have OOB scores. \"\n",
      "C:\\Users\\alter\\Anaconda3\\lib\\site-packages\\sklearn\\ensemble\\forest.py:458: RuntimeWarning: invalid value encountered in true_divide\n",
      "  predictions[k].sum(axis=1)[:, np.newaxis])\n",
      "C:\\Users\\alter\\Anaconda3\\lib\\site-packages\\sklearn\\ensemble\\forest.py:453: UserWarning: Some inputs do not have OOB scores. This probably means too few trees were used to compute any reliable oob estimates.\n",
      "  warn(\"Some inputs do not have OOB scores. \"\n",
      "C:\\Users\\alter\\Anaconda3\\lib\\site-packages\\sklearn\\ensemble\\forest.py:458: RuntimeWarning: invalid value encountered in true_divide\n",
      "  predictions[k].sum(axis=1)[:, np.newaxis])\n",
      "C:\\Users\\alter\\Anaconda3\\lib\\site-packages\\sklearn\\ensemble\\forest.py:453: UserWarning: Some inputs do not have OOB scores. This probably means too few trees were used to compute any reliable oob estimates.\n",
      "  warn(\"Some inputs do not have OOB scores. \"\n",
      "C:\\Users\\alter\\Anaconda3\\lib\\site-packages\\sklearn\\ensemble\\forest.py:458: RuntimeWarning: invalid value encountered in true_divide\n",
      "  predictions[k].sum(axis=1)[:, np.newaxis])\n",
      "C:\\Users\\alter\\Anaconda3\\lib\\site-packages\\sklearn\\ensemble\\forest.py:453: UserWarning: Some inputs do not have OOB scores. This probably means too few trees were used to compute any reliable oob estimates.\n",
      "  warn(\"Some inputs do not have OOB scores. \"\n",
      "C:\\Users\\alter\\Anaconda3\\lib\\site-packages\\sklearn\\ensemble\\forest.py:458: RuntimeWarning: invalid value encountered in true_divide\n",
      "  predictions[k].sum(axis=1)[:, np.newaxis])\n",
      "C:\\Users\\alter\\Anaconda3\\lib\\site-packages\\sklearn\\ensemble\\forest.py:453: UserWarning: Some inputs do not have OOB scores. This probably means too few trees were used to compute any reliable oob estimates.\n",
      "  warn(\"Some inputs do not have OOB scores. \"\n",
      "C:\\Users\\alter\\Anaconda3\\lib\\site-packages\\sklearn\\ensemble\\forest.py:458: RuntimeWarning: invalid value encountered in true_divide\n",
      "  predictions[k].sum(axis=1)[:, np.newaxis])\n",
      "C:\\Users\\alter\\Anaconda3\\lib\\site-packages\\sklearn\\ensemble\\forest.py:453: UserWarning: Some inputs do not have OOB scores. This probably means too few trees were used to compute any reliable oob estimates.\n",
      "  warn(\"Some inputs do not have OOB scores. \"\n",
      "C:\\Users\\alter\\Anaconda3\\lib\\site-packages\\sklearn\\ensemble\\forest.py:458: RuntimeWarning: invalid value encountered in true_divide\n",
      "  predictions[k].sum(axis=1)[:, np.newaxis])\n",
      "C:\\Users\\alter\\Anaconda3\\lib\\site-packages\\sklearn\\ensemble\\forest.py:453: UserWarning: Some inputs do not have OOB scores. This probably means too few trees were used to compute any reliable oob estimates.\n",
      "  warn(\"Some inputs do not have OOB scores. \"\n",
      "C:\\Users\\alter\\Anaconda3\\lib\\site-packages\\sklearn\\ensemble\\forest.py:458: RuntimeWarning: invalid value encountered in true_divide\n",
      "  predictions[k].sum(axis=1)[:, np.newaxis])\n",
      "C:\\Users\\alter\\Anaconda3\\lib\\site-packages\\sklearn\\ensemble\\forest.py:453: UserWarning: Some inputs do not have OOB scores. This probably means too few trees were used to compute any reliable oob estimates.\n",
      "  warn(\"Some inputs do not have OOB scores. \"\n",
      "C:\\Users\\alter\\Anaconda3\\lib\\site-packages\\sklearn\\ensemble\\forest.py:458: RuntimeWarning: invalid value encountered in true_divide\n",
      "  predictions[k].sum(axis=1)[:, np.newaxis])\n",
      "C:\\Users\\alter\\Anaconda3\\lib\\site-packages\\sklearn\\ensemble\\forest.py:453: UserWarning: Some inputs do not have OOB scores. This probably means too few trees were used to compute any reliable oob estimates.\n",
      "  warn(\"Some inputs do not have OOB scores. \"\n",
      "C:\\Users\\alter\\Anaconda3\\lib\\site-packages\\sklearn\\ensemble\\forest.py:458: RuntimeWarning: invalid value encountered in true_divide\n",
      "  predictions[k].sum(axis=1)[:, np.newaxis])\n",
      "C:\\Users\\alter\\Anaconda3\\lib\\site-packages\\sklearn\\ensemble\\forest.py:453: UserWarning: Some inputs do not have OOB scores. This probably means too few trees were used to compute any reliable oob estimates.\n",
      "  warn(\"Some inputs do not have OOB scores. \"\n",
      "C:\\Users\\alter\\Anaconda3\\lib\\site-packages\\sklearn\\ensemble\\forest.py:458: RuntimeWarning: invalid value encountered in true_divide\n",
      "  predictions[k].sum(axis=1)[:, np.newaxis])\n",
      "C:\\Users\\alter\\Anaconda3\\lib\\site-packages\\sklearn\\ensemble\\forest.py:453: UserWarning: Some inputs do not have OOB scores. This probably means too few trees were used to compute any reliable oob estimates.\n",
      "  warn(\"Some inputs do not have OOB scores. \"\n",
      "C:\\Users\\alter\\Anaconda3\\lib\\site-packages\\sklearn\\ensemble\\forest.py:458: RuntimeWarning: invalid value encountered in true_divide\n",
      "  predictions[k].sum(axis=1)[:, np.newaxis])\n",
      "C:\\Users\\alter\\Anaconda3\\lib\\site-packages\\sklearn\\ensemble\\forest.py:453: UserWarning: Some inputs do not have OOB scores. This probably means too few trees were used to compute any reliable oob estimates.\n",
      "  warn(\"Some inputs do not have OOB scores. \"\n",
      "C:\\Users\\alter\\Anaconda3\\lib\\site-packages\\sklearn\\ensemble\\forest.py:458: RuntimeWarning: invalid value encountered in true_divide\n",
      "  predictions[k].sum(axis=1)[:, np.newaxis])\n",
      "C:\\Users\\alter\\Anaconda3\\lib\\site-packages\\sklearn\\ensemble\\forest.py:453: UserWarning: Some inputs do not have OOB scores. This probably means too few trees were used to compute any reliable oob estimates.\n",
      "  warn(\"Some inputs do not have OOB scores. \"\n",
      "C:\\Users\\alter\\Anaconda3\\lib\\site-packages\\sklearn\\ensemble\\forest.py:458: RuntimeWarning: invalid value encountered in true_divide\n",
      "  predictions[k].sum(axis=1)[:, np.newaxis])\n",
      "C:\\Users\\alter\\Anaconda3\\lib\\site-packages\\sklearn\\ensemble\\forest.py:453: UserWarning: Some inputs do not have OOB scores. This probably means too few trees were used to compute any reliable oob estimates.\n",
      "  warn(\"Some inputs do not have OOB scores. \"\n",
      "C:\\Users\\alter\\Anaconda3\\lib\\site-packages\\sklearn\\ensemble\\forest.py:458: RuntimeWarning: invalid value encountered in true_divide\n",
      "  predictions[k].sum(axis=1)[:, np.newaxis])\n",
      "C:\\Users\\alter\\Anaconda3\\lib\\site-packages\\sklearn\\ensemble\\forest.py:453: UserWarning: Some inputs do not have OOB scores. This probably means too few trees were used to compute any reliable oob estimates.\n",
      "  warn(\"Some inputs do not have OOB scores. \"\n",
      "C:\\Users\\alter\\Anaconda3\\lib\\site-packages\\sklearn\\ensemble\\forest.py:458: RuntimeWarning: invalid value encountered in true_divide\n",
      "  predictions[k].sum(axis=1)[:, np.newaxis])\n",
      "C:\\Users\\alter\\Anaconda3\\lib\\site-packages\\sklearn\\ensemble\\forest.py:453: UserWarning: Some inputs do not have OOB scores. This probably means too few trees were used to compute any reliable oob estimates.\n",
      "  warn(\"Some inputs do not have OOB scores. \"\n",
      "C:\\Users\\alter\\Anaconda3\\lib\\site-packages\\sklearn\\ensemble\\forest.py:458: RuntimeWarning: invalid value encountered in true_divide\n",
      "  predictions[k].sum(axis=1)[:, np.newaxis])\n",
      "C:\\Users\\alter\\Anaconda3\\lib\\site-packages\\sklearn\\ensemble\\forest.py:453: UserWarning: Some inputs do not have OOB scores. This probably means too few trees were used to compute any reliable oob estimates.\n",
      "  warn(\"Some inputs do not have OOB scores. \"\n",
      "C:\\Users\\alter\\Anaconda3\\lib\\site-packages\\sklearn\\ensemble\\forest.py:458: RuntimeWarning: invalid value encountered in true_divide\n",
      "  predictions[k].sum(axis=1)[:, np.newaxis])\n"
     ]
    },
    {
     "name": "stderr",
     "output_type": "stream",
     "text": [
      "C:\\Users\\alter\\Anaconda3\\lib\\site-packages\\sklearn\\ensemble\\forest.py:453: UserWarning: Some inputs do not have OOB scores. This probably means too few trees were used to compute any reliable oob estimates.\n",
      "  warn(\"Some inputs do not have OOB scores. \"\n",
      "C:\\Users\\alter\\Anaconda3\\lib\\site-packages\\sklearn\\ensemble\\forest.py:458: RuntimeWarning: invalid value encountered in true_divide\n",
      "  predictions[k].sum(axis=1)[:, np.newaxis])\n",
      "C:\\Users\\alter\\Anaconda3\\lib\\site-packages\\sklearn\\ensemble\\forest.py:453: UserWarning: Some inputs do not have OOB scores. This probably means too few trees were used to compute any reliable oob estimates.\n",
      "  warn(\"Some inputs do not have OOB scores. \"\n",
      "C:\\Users\\alter\\Anaconda3\\lib\\site-packages\\sklearn\\ensemble\\forest.py:458: RuntimeWarning: invalid value encountered in true_divide\n",
      "  predictions[k].sum(axis=1)[:, np.newaxis])\n",
      "C:\\Users\\alter\\Anaconda3\\lib\\site-packages\\sklearn\\ensemble\\forest.py:453: UserWarning: Some inputs do not have OOB scores. This probably means too few trees were used to compute any reliable oob estimates.\n",
      "  warn(\"Some inputs do not have OOB scores. \"\n",
      "C:\\Users\\alter\\Anaconda3\\lib\\site-packages\\sklearn\\ensemble\\forest.py:458: RuntimeWarning: invalid value encountered in true_divide\n",
      "  predictions[k].sum(axis=1)[:, np.newaxis])\n"
     ]
    }
   ],
   "source": [
    "error_rate = []\n",
    "num_trees = []\n",
    "rf_clf = RandomForestClassifier(warm_start=True, oob_score=True,n_jobs= -1,random_state=10)\n",
    "for i in range(2,101):\n",
    "    rf_clf.set_params(n_estimators=i)\n",
    "    rf_clf.fit(X2,y2)\n",
    "    oob_error = 1 - rf_clf.oob_score_\n",
    "    error_rate.append(oob_error)\n",
    "    num_trees.append(i)"
   ]
  },
  {
   "cell_type": "code",
   "execution_count": 82,
   "metadata": {},
   "outputs": [
    {
     "data": {
      "image/png": "[encoded data removed]",
      "text/plain": [
       "<Figure size 432x288 with 1 Axes>"
      ]
     },
     "metadata": {
      "image/png": {
       "height": 277,
       "width": 401
      },
      "needs_background": "light"
     },
     "output_type": "display_data"
    }
   ],
   "source": [
    "set_matplotlib_formats('retina')\n",
    "%matplotlib inline\n",
    "plt.plot(num_trees,error_rate)\n",
    "plt.title('Errors by ntrees')\n",
    "plt.xlim(2,100)\n",
    "plt.xlabel(\"n_estimators\")\n",
    "plt.ylabel(\"OOB error rate\")\n",
    "plt.grid(True)"
   ]
  },
  {
   "cell_type": "markdown",
   "metadata": {},
   "source": [
    "### 1.6.2. Validación del max_depth: "
   ]
  },
  {
   "cell_type": "code",
   "execution_count": 83,
   "metadata": {},
   "outputs": [],
   "source": [
    "train_scores = []\n",
    "test_scores = []\n",
    "max_depth_tree = list(range(1,60,1))  # Poner mas profundidad.\n",
    "for c in max_depth_tree:\n",
    "    rf_clf = RandomForestClassifier(n_jobs= -1,warm_start = True,random_state=12,max_depth=c)\n",
    "    rf_clf.fit(X1_train,y1_train)\n",
    "    y_train_pred = rf_clf.predict_proba(X1_train)\n",
    "    y_test_pred = rf_clf.predict_proba(X1_test)\n",
    "    train_scores.append(roc_auc_score(y1_train,y_train_pred[:,1]))\n",
    "    test_scores.append(roc_auc_score(y1_test,y_test_pred[:,1]))"
   ]
  },
  {
   "cell_type": "code",
   "execution_count": 84,
   "metadata": {},
   "outputs": [
    {
     "data": {
      "image/png": "[encoded data removed]",
      "text/plain": [
       "<Figure size 432x288 with 1 Axes>"
      ]
     },
     "metadata": {
      "image/png": {
       "height": 277,
       "width": 393
      },
      "needs_background": "light"
     },
     "output_type": "display_data"
    }
   ],
   "source": [
    "plt.plot(max_depth_tree,train_scores,color='r',label='Datos de train')\n",
    "plt.plot(max_depth_tree,test_scores,color='b',label='Datos de test')\n",
    "plt.title('Decision tree classifier')\n",
    "plt.legend()\n",
    "plt.xlabel('Profundidad del Árbol')\n",
    "plt.ylabel('AUC')  \n",
    "plt.grid(True)"
   ]
  },
  {
   "cell_type": "markdown",
   "metadata": {},
   "source": [
    "#### La linea del test profundidad máxima de 40, a partir de aquí se produce un sobreajuste en la validación del train."
   ]
  },
  {
   "cell_type": "raw",
   "metadata": {},
   "source": [
    "max_depth=11\n",
    "10 -> 0.7414202263599854\n",
    "11 -> 0.7439759036144579***\n",
    "12 -> 0.740233661920409\n",
    "13 -> 0.7415115005476451"
   ]
  },
  {
   "cell_type": "code",
   "execution_count": 85,
   "metadata": {},
   "outputs": [],
   "source": [
    "rf_clf = RandomForestClassifier(n_estimators=60, warm_start=True, oob_score=True,n_jobs= -1,\n",
    "                                random_state=12,max_depth=11)"
   ]
  },
  {
   "cell_type": "code",
   "execution_count": 86,
   "metadata": {},
   "outputs": [],
   "source": [
    "rf_clf.fit(X1_train,y1_train)\n",
    "y_train_pred = rf_clf.predict(X1_train)\n",
    "y_test_pred = rf_clf.predict(X1_test)"
   ]
  },
  {
   "cell_type": "code",
   "execution_count": 87,
   "metadata": {},
   "outputs": [
    {
     "name": "stdout",
     "output_type": "stream",
     "text": [
      "Accuracy - Datos entrenamiento: 0.7341314085636602\n",
      "Accuracy - Datos test: 0.7032084341198485\n"
     ]
    }
   ],
   "source": [
    "print(\"Accuracy - Datos entrenamiento: {}\\nAccuracy - Datos test: {}\"\n",
    "      .format(accuracy_score(y1_train, y_train_pred),accuracy_score(y1_test, y_test_pred)))"
   ]
  },
  {
   "cell_type": "code",
   "execution_count": 88,
   "metadata": {},
   "outputs": [],
   "source": [
    "y_train_pred_proba = rf_clf.predict_proba(X1_train)\n",
    "y_test_pred_proba = rf_clf.predict_proba(X1_test)"
   ]
  },
  {
   "cell_type": "code",
   "execution_count": 89,
   "metadata": {},
   "outputs": [
    {
     "name": "stdout",
     "output_type": "stream",
     "text": [
      "Árbol de decisión - Datos entrenamiento: 0.8080715386275059\n",
      "Árbol de decisión - Datos test: 0.7691170015941946\n"
     ]
    }
   ],
   "source": [
    "print(\"Árbol de decisión - Datos entrenamiento: {}\\nÁrbol de decisión - Datos test: {}\"\n",
    "      .format(roc_auc_score(y1_train, y_train_pred_proba[:,1]),roc_auc_score(y1_test, y_test_pred_proba[:,1])))"
   ]
  },
  {
   "cell_type": "code",
   "execution_count": 90,
   "metadata": {},
   "outputs": [
    {
     "name": "stdout",
     "output_type": "stream",
     "text": [
      "[0 1]\n"
     ]
    }
   ],
   "source": [
    "print(np.unique(y_test_pred))"
   ]
  },
  {
   "cell_type": "code",
   "execution_count": 91,
   "metadata": {},
   "outputs": [
    {
     "name": "stdout",
     "output_type": "stream",
     "text": [
      "Datos test: 0.7439759036144579\n"
     ]
    }
   ],
   "source": [
    "print(\"Datos test:\",recall_score(y1_test,y_test_pred))"
   ]
  },
  {
   "cell_type": "code",
   "execution_count": 92,
   "metadata": {
    "scrolled": true
   },
   "outputs": [
    {
     "name": "stdout",
     "output_type": "stream",
     "text": [
      "Matrix confusion - train:\n",
      "[[17457  8105]\n",
      " [ 5487 20074]]\n",
      "Matrix confusion - test:\n",
      "[[7257 3698]\n",
      " [2805 8151]]\n"
     ]
    }
   ],
   "source": [
    "print(\"Matrix confusion - train:\\n{}\\nMatrix confusion - test:\\n{}\"\n",
    "      .format(metrics.confusion_matrix(y1_train, y_train_pred),metrics.confusion_matrix(y1_test, y_test_pred)))"
   ]
  },
  {
   "cell_type": "code",
   "execution_count": 93,
   "metadata": {},
   "outputs": [
    {
     "name": "stdout",
     "output_type": "stream",
     "text": [
      "[0 1]\n"
     ]
    }
   ],
   "source": [
    "print(np.unique(y_test_pred))"
   ]
  },
  {
   "cell_type": "markdown",
   "metadata": {},
   "source": [
    "# Resultados:"
   ]
  },
  {
   "cell_type": "code",
   "execution_count": 94,
   "metadata": {
    "scrolled": true
   },
   "outputs": [
    {
     "data": {
      "image/png": "[encoded data removed]",
      "text/plain": [
       "<Figure size 432x288 with 1 Axes>"
      ]
     },
     "metadata": {
      "image/png": {
       "height": 286,
       "width": 393
      },
      "needs_background": "light"
     },
     "output_type": "display_data"
    }
   ],
   "source": [
    "from IPython.display import set_matplotlib_formats\n",
    "set_matplotlib_formats('retina')\n",
    "%matplotlib inline\n",
    "rfp, rvp, umbrales = metrics.roc_curve(y1_train, y_train_pred_proba[:,1])\n",
    "plt.plot(rfp, rvp)\n",
    "plt.plot([0, 1], [0, 1], color='black', lw=1, linestyle='--')\n",
    "plt.xlim([0.0, 1.0])\n",
    "plt.ylim([0.0, 1.0])\n",
    "plt.title('Espesificidad\\n1.0                 0.8               0.6               0.4               0.2              0.0', \n",
    "          fontsize=10)\n",
    "plt.xlabel('1 - Espesificidad = Ratio de falsos positivos')\n",
    "plt.ylabel('Sensibilidad = Ratio verdaderos positivos')\n",
    "plt.grid(True)"
   ]
  },
  {
   "cell_type": "code",
   "execution_count": 95,
   "metadata": {},
   "outputs": [
    {
     "data": {
      "image/png": "[encoded data removed]",
      "text/plain": [
       "<Figure size 432x288 with 1 Axes>"
      ]
     },
     "metadata": {
      "image/png": {
       "height": 286,
       "width": 393
      },
      "needs_background": "light"
     },
     "output_type": "display_data"
    }
   ],
   "source": [
    "from IPython.display import set_matplotlib_formats\n",
    "set_matplotlib_formats('retina')\n",
    "%matplotlib inline\n",
    "rfp, rvp, umbrales = metrics.roc_curve(y1_test, y_test_pred_proba[:,1])\n",
    "plt.plot(rfp, rvp)\n",
    "plt.plot([0, 1], [0, 1], color='black', lw=1, linestyle='--')\n",
    "plt.xlim([0.0, 1.0])\n",
    "plt.ylim([0.0, 1.0])\n",
    "plt.title('Espesificidad\\n1.0                 0.8               0.6               0.4               0.2              0.0', \n",
    "          fontsize=10)\n",
    "plt.xlabel('1 - Espesificidad = Ratio de falsos positivos')\n",
    "plt.ylabel('Sensibilidad = Ratio verdaderos positivos')\n",
    "plt.grid(True)"
   ]
  },
  {
   "cell_type": "code",
   "execution_count": null,
   "metadata": {},
   "outputs": [],
   "source": []
  }
 ],
 "metadata": {
  "kernelspec": {
   "display_name": "Python 3",
   "language": "python",
   "name": "python3"
  },
  "language_info": {
   "codemirror_mode": {
    "name": "ipython",
    "version": 3
   },
   "file_extension": ".py",
   "mimetype": "text/x-python",
   "name": "python",
   "nbconvert_exporter": "python",
   "pygments_lexer": "ipython3",
   "version": "3.7.0"
  }
 },
 "nbformat": 4,
 "nbformat_minor": 2
}
