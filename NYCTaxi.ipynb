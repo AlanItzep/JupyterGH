{
 "cells": [
  {
   "cell_type": "code",
   "execution_count": 1,
   "metadata": {},
   "outputs": [],
   "source": [
    "import pandas as pd\n",
    "import numpy as np"
   ]
  },
  {
   "cell_type": "code",
   "execution_count": 45,
   "metadata": {},
   "outputs": [],
   "source": [
    "df_or = pd.read_csv('green_tripdata_2015-01.csv')"
   ]
  },
  {
   "cell_type": "code",
   "execution_count": 274,
   "metadata": {},
   "outputs": [],
   "source": [
    "df = df_or"
   ]
  },
  {
   "cell_type": "code",
   "execution_count": 275,
   "metadata": {
    "scrolled": true
   },
   "outputs": [
    {
     "data": {
      "text/html": [
       "<div>\n",
       "<style scoped>\n",
       "    .dataframe tbody tr th:only-of-type {\n",
       "        vertical-align: middle;\n",
       "    }\n",
       "\n",
       "    .dataframe tbody tr th {\n",
       "        vertical-align: top;\n",
       "    }\n",
       "\n",
       "    .dataframe thead th {\n",
       "        text-align: right;\n",
       "    }\n",
       "</style>\n",
       "<table border=\"1\" class=\"dataframe\">\n",
       "  <thead>\n",
       "    <tr style=\"text-align: right;\">\n",
       "      <th></th>\n",
       "      <th>VendorID</th>\n",
       "      <th>lpep_pickup_datetime</th>\n",
       "      <th>Lpep_dropoff_datetime</th>\n",
       "      <th>Store_and_fwd_flag</th>\n",
       "      <th>RateCodeID</th>\n",
       "      <th>Pickup_longitude</th>\n",
       "      <th>Pickup_latitude</th>\n",
       "      <th>Dropoff_longitude</th>\n",
       "      <th>Dropoff_latitude</th>\n",
       "      <th>Passenger_count</th>\n",
       "      <th>...</th>\n",
       "      <th>Fare_amount</th>\n",
       "      <th>Extra</th>\n",
       "      <th>MTA_tax</th>\n",
       "      <th>Tip_amount</th>\n",
       "      <th>Tolls_amount</th>\n",
       "      <th>Ehail_fee</th>\n",
       "      <th>improvement_surcharge</th>\n",
       "      <th>Total_amount</th>\n",
       "      <th>Payment_type</th>\n",
       "      <th>Trip_type</th>\n",
       "    </tr>\n",
       "  </thead>\n",
       "  <tbody>\n",
       "    <tr>\n",
       "      <th>1048570</th>\n",
       "      <td>1</td>\n",
       "      <td>22/01/2015 14:56</td>\n",
       "      <td>22/01/2015 15:27</td>\n",
       "      <td>N</td>\n",
       "      <td>1</td>\n",
       "      <td>-73.959213</td>\n",
       "      <td>40.809345</td>\n",
       "      <td>-73.954941</td>\n",
       "      <td>40.765453</td>\n",
       "      <td>1</td>\n",
       "      <td>...</td>\n",
       "      <td>20.5</td>\n",
       "      <td>0.0</td>\n",
       "      <td>0.5</td>\n",
       "      <td>4.20</td>\n",
       "      <td>0.0</td>\n",
       "      <td>NaN</td>\n",
       "      <td>0.0</td>\n",
       "      <td>25.20</td>\n",
       "      <td>1</td>\n",
       "      <td>1.0</td>\n",
       "    </tr>\n",
       "    <tr>\n",
       "      <th>1048571</th>\n",
       "      <td>1</td>\n",
       "      <td>22/01/2015 14:55</td>\n",
       "      <td>22/01/2015 15:13</td>\n",
       "      <td>N</td>\n",
       "      <td>1</td>\n",
       "      <td>-73.897095</td>\n",
       "      <td>40.675816</td>\n",
       "      <td>-73.937881</td>\n",
       "      <td>40.666531</td>\n",
       "      <td>1</td>\n",
       "      <td>...</td>\n",
       "      <td>14.0</td>\n",
       "      <td>0.0</td>\n",
       "      <td>0.5</td>\n",
       "      <td>0.00</td>\n",
       "      <td>0.0</td>\n",
       "      <td>NaN</td>\n",
       "      <td>0.3</td>\n",
       "      <td>14.80</td>\n",
       "      <td>4</td>\n",
       "      <td>1.0</td>\n",
       "    </tr>\n",
       "    <tr>\n",
       "      <th>1048572</th>\n",
       "      <td>1</td>\n",
       "      <td>22/01/2015 14:55</td>\n",
       "      <td>22/01/2015 15:01</td>\n",
       "      <td>N</td>\n",
       "      <td>1</td>\n",
       "      <td>-73.874397</td>\n",
       "      <td>40.829514</td>\n",
       "      <td>-73.860619</td>\n",
       "      <td>40.837070</td>\n",
       "      <td>1</td>\n",
       "      <td>...</td>\n",
       "      <td>6.0</td>\n",
       "      <td>0.0</td>\n",
       "      <td>0.5</td>\n",
       "      <td>0.00</td>\n",
       "      <td>0.0</td>\n",
       "      <td>NaN</td>\n",
       "      <td>0.3</td>\n",
       "      <td>6.80</td>\n",
       "      <td>2</td>\n",
       "      <td>1.0</td>\n",
       "    </tr>\n",
       "    <tr>\n",
       "      <th>1048573</th>\n",
       "      <td>1</td>\n",
       "      <td>22/01/2015 14:53</td>\n",
       "      <td>22/01/2015 15:01</td>\n",
       "      <td>N</td>\n",
       "      <td>1</td>\n",
       "      <td>-73.954147</td>\n",
       "      <td>40.787342</td>\n",
       "      <td>-73.971451</td>\n",
       "      <td>40.790321</td>\n",
       "      <td>2</td>\n",
       "      <td>...</td>\n",
       "      <td>7.0</td>\n",
       "      <td>0.0</td>\n",
       "      <td>0.5</td>\n",
       "      <td>1.55</td>\n",
       "      <td>0.0</td>\n",
       "      <td>NaN</td>\n",
       "      <td>0.3</td>\n",
       "      <td>9.35</td>\n",
       "      <td>1</td>\n",
       "      <td>1.0</td>\n",
       "    </tr>\n",
       "    <tr>\n",
       "      <th>1048574</th>\n",
       "      <td>1</td>\n",
       "      <td>22/01/2015 14:52</td>\n",
       "      <td>22/01/2015 15:05</td>\n",
       "      <td>N</td>\n",
       "      <td>1</td>\n",
       "      <td>-73.963608</td>\n",
       "      <td>40.672054</td>\n",
       "      <td>-73.995300</td>\n",
       "      <td>40.679649</td>\n",
       "      <td>4</td>\n",
       "      <td>...</td>\n",
       "      <td>10.5</td>\n",
       "      <td>0.0</td>\n",
       "      <td>0.5</td>\n",
       "      <td>2.80</td>\n",
       "      <td>0.0</td>\n",
       "      <td>NaN</td>\n",
       "      <td>0.3</td>\n",
       "      <td>14.10</td>\n",
       "      <td>1</td>\n",
       "      <td>1.0</td>\n",
       "    </tr>\n",
       "  </tbody>\n",
       "</table>\n",
       "<p>5 rows × 21 columns</p>\n",
       "</div>"
      ],
      "text/plain": [
       "         VendorID lpep_pickup_datetime Lpep_dropoff_datetime  \\\n",
       "1048570         1     22/01/2015 14:56      22/01/2015 15:27   \n",
       "1048571         1     22/01/2015 14:55      22/01/2015 15:13   \n",
       "1048572         1     22/01/2015 14:55      22/01/2015 15:01   \n",
       "1048573         1     22/01/2015 14:53      22/01/2015 15:01   \n",
       "1048574         1     22/01/2015 14:52      22/01/2015 15:05   \n",
       "\n",
       "        Store_and_fwd_flag  RateCodeID  Pickup_longitude  Pickup_latitude  \\\n",
       "1048570                  N           1        -73.959213        40.809345   \n",
       "1048571                  N           1        -73.897095        40.675816   \n",
       "1048572                  N           1        -73.874397        40.829514   \n",
       "1048573                  N           1        -73.954147        40.787342   \n",
       "1048574                  N           1        -73.963608        40.672054   \n",
       "\n",
       "         Dropoff_longitude  Dropoff_latitude  Passenger_count     ...      \\\n",
       "1048570         -73.954941         40.765453                1     ...       \n",
       "1048571         -73.937881         40.666531                1     ...       \n",
       "1048572         -73.860619         40.837070                1     ...       \n",
       "1048573         -73.971451         40.790321                2     ...       \n",
       "1048574         -73.995300         40.679649                4     ...       \n",
       "\n",
       "         Fare_amount  Extra  MTA_tax  Tip_amount  Tolls_amount  Ehail_fee  \\\n",
       "1048570         20.5    0.0      0.5        4.20           0.0        NaN   \n",
       "1048571         14.0    0.0      0.5        0.00           0.0        NaN   \n",
       "1048572          6.0    0.0      0.5        0.00           0.0        NaN   \n",
       "1048573          7.0    0.0      0.5        1.55           0.0        NaN   \n",
       "1048574         10.5    0.0      0.5        2.80           0.0        NaN   \n",
       "\n",
       "         improvement_surcharge  Total_amount  Payment_type  Trip_type   \n",
       "1048570                    0.0         25.20             1         1.0  \n",
       "1048571                    0.3         14.80             4         1.0  \n",
       "1048572                    0.3          6.80             2         1.0  \n",
       "1048573                    0.3          9.35             1         1.0  \n",
       "1048574                    0.3         14.10             1         1.0  \n",
       "\n",
       "[5 rows x 21 columns]"
      ]
     },
     "execution_count": 275,
     "metadata": {},
     "output_type": "execute_result"
    }
   ],
   "source": [
    "df.tail()"
   ]
  },
  {
   "cell_type": "code",
   "execution_count": 276,
   "metadata": {},
   "outputs": [
    {
     "data": {
      "text/plain": [
       "(1048575, 21)"
      ]
     },
     "execution_count": 276,
     "metadata": {},
     "output_type": "execute_result"
    }
   ],
   "source": [
    "df.shape"
   ]
  },
  {
   "cell_type": "markdown",
   "metadata": {},
   "source": [
    "### To delete: \n",
    "All rows in columns Pickup_longitude Pickup_latitude  Dropoff_longitude Dropoff_latitude with value 0."
   ]
  },
  {
   "cell_type": "code",
   "execution_count": 277,
   "metadata": {},
   "outputs": [],
   "source": [
    "df = df.drop(['Ehail_fee'],axis=1)"
   ]
  },
  {
   "cell_type": "code",
   "execution_count": 278,
   "metadata": {},
   "outputs": [
    {
     "data": {
      "text/plain": [
       "(1048575, 20)"
      ]
     },
     "execution_count": 278,
     "metadata": {},
     "output_type": "execute_result"
    }
   ],
   "source": [
    "df.shape"
   ]
  },
  {
   "cell_type": "code",
   "execution_count": 279,
   "metadata": {},
   "outputs": [],
   "source": [
    "col = df.columns.tolist()"
   ]
  },
  {
   "cell_type": "code",
   "execution_count": 280,
   "metadata": {
    "scrolled": true
   },
   "outputs": [
    {
     "name": "stdout",
     "output_type": "stream",
     "text": [
      "VendorID: 0\n",
      "lpep_pickup_datetime: 0\n",
      "Lpep_dropoff_datetime: 0\n",
      "Store_and_fwd_flag: 0\n",
      "RateCodeID: 0\n",
      "Pickup_longitude: 0\n",
      "Pickup_latitude: 0\n",
      "Dropoff_longitude: 0\n",
      "Dropoff_latitude: 0\n",
      "Passenger_count: 0\n",
      "Trip_distance: 0\n",
      "Fare_amount: 0\n",
      "Extra: 0\n",
      "MTA_tax: 0\n",
      "Tip_amount: 0\n",
      "Tolls_amount: 0\n",
      "improvement_surcharge: 0\n",
      "Total_amount: 0\n",
      "Payment_type: 0\n",
      "Trip_type : 5\n"
     ]
    }
   ],
   "source": [
    "for column in col:\n",
    "  print(\"{}: {}\".format(column, df[column].isnull().sum()))"
   ]
  },
  {
   "cell_type": "code",
   "execution_count": 281,
   "metadata": {
    "scrolled": true
   },
   "outputs": [
    {
     "name": "stdout",
     "output_type": "stream",
     "text": [
      "VendorID: [2 1]\n",
      "lpep_pickup_datetime: ['01/01/2015 00:34' '01/01/2015 00:35' '01/01/2015 00:36' ...\n",
      " '22/01/2015 16:21' '22/01/2015 16:19' '22/01/2015 16:22']\n",
      "Lpep_dropoff_datetime: ['01/01/2015 00:38' '01/01/2015 00:47' '01/01/2015 01:09' ...\n",
      " '22/01/2015 16:28' '22/01/2015 16:21' '22/01/2015 16:23']\n",
      "Store_and_fwd_flag: ['N' 'Y']\n",
      "RateCodeID: [ 1  5  2  3  4  6 99]\n",
      "Pickup_longitude: [-73.92259216 -73.95275116 -73.84300995 ... -73.78638458 -73.85324097\n",
      " -74.0144043 ]\n",
      "Pickup_latitude: [40.75452805 40.67771149 40.71905518 ... 40.88448334 40.63314438\n",
      " 40.6570282 ]\n",
      "Dropoff_longitude: [-73.91363525 -73.98152924 -73.84658051 ... -73.74492645 -73.65460968\n",
      " -74.18148804]\n",
      "Dropoff_latitude: [40.765522   40.65897751 40.71156693 ... 40.59561157 40.88410568\n",
      " 40.60508347]\n",
      "Passenger_count: [1 4 5 2 6 3 8 0 7 9]\n",
      "Trip_distance: [ 0.88  3.08  0.9  ... 26.27 22.39 25.62]\n",
      "Fare_amount: [ 5.0000e+00  1.2000e+01  2.4500e+01  6.5000e+00  2.2000e+01  1.5000e+01\n",
      "  7.0000e+00  8.0000e+00  1.6500e+01  3.9000e+01  2.4000e+01  7.5000e+00\n",
      "  4.0000e+00  6.0000e+00  8.5000e+00  9.5000e+00  1.7000e+01  1.4500e+01\n",
      "  2.9500e+01  1.9500e+01  4.3000e+01  1.2500e+01  3.0000e+00  1.9000e+01\n",
      "  1.0500e+01  2.5000e-01  4.5000e+00  1.8500e+01  2.1500e+01  5.5000e+00\n",
      "  1.1000e+01  1.4000e+01  1.6000e+01  2.1000e+01  2.6000e+01  4.1500e+01\n",
      "  1.1500e+01  2.0000e+01  3.5000e+00  1.0000e+01  9.0000e+00  1.7500e+01\n",
      "  2.2500e+01  3.1500e+01  3.7500e+01  2.3000e+01  3.6500e+01  3.2000e+01\n",
      "  1.3500e+01  3.5500e+01  1.5500e+01  2.5000e+01  1.8000e+01  3.2500e+01\n",
      "  4.4000e+01  2.5000e+00  3.0000e-01  2.7000e+01  2.0500e+01  2.6500e+01\n",
      "  2.7500e+01  3.5000e+01  1.3000e+01  2.8500e+01  3.4000e+01  0.0000e+00\n",
      "  2.9000e+01  2.5500e+01  2.2800e+01  3.3000e+01  2.3500e+01  4.8000e+01\n",
      "  3.0500e+01  5.2000e+01  3.3500e+01  4.9500e+01  3.6000e+01  3.7000e+01\n",
      "  2.8000e+01  3.4500e+01  7.1000e+01  4.0500e+01  5.5500e+01  3.9500e+01\n",
      "  4.0000e+01  3.0000e+01  6.0000e+01  4.2500e+01  4.6500e+01 -2.5000e+00\n",
      "  5.1500e+01  4.7000e+01  4.3500e+01  8.1500e+01  3.8000e+01  5.0000e+01\n",
      "  8.0500e+01  3.1000e+01  5.2500e+01  4.5000e+01  6.4000e+01  5.5000e+01\n",
      "  4.1000e+01  5.3500e+01  4.5500e+01 -3.5000e+00 -6.0000e+00  4.2000e+01\n",
      "  8.0000e+01  3.8500e+01  6.3500e+01  6.9000e+01  4.9000e+01  6.6000e+01\n",
      "  7.0000e+01 -3.0000e+00  4.0000e+02  4.6000e+01 -5.5000e+00  4.4500e+01\n",
      "  7.1500e+01  1.9850e+02  5.3000e+01  1.5000e+00  5.6000e+01  7.3000e+01\n",
      "  6.2000e+01  6.1500e+01  6.4500e+01  9.2500e+01  5.4000e+01  7.2500e+01\n",
      "  7.5000e+01  8.5000e+01  7.2000e+01  9.3000e+01  6.5500e+01  1.1800e+01\n",
      "  4.7500e+01  5.1000e+01  7.4000e+01 -4.5000e+00  1.4000e+02  1.4800e+01\n",
      "  1.0000e-02  3.5800e+01  4.8500e+01  1.1200e+02  6.0500e+01  7.9500e+01\n",
      "  7.0500e+01  5.7500e+01  5.8000e+01 -5.0000e+00  5.4500e+01  5.7000e+01\n",
      "  5.8500e+01 -2.0000e+01  5.6500e+01  8.8000e+00  8.9000e+01  6.8500e+01\n",
      "  5.9000e+01  1.5000e+02 -1.0000e+01  5.0500e+01  5.9500e+01  6.1000e+01\n",
      "  1.1700e+02  1.2000e+02  6.8000e+01  6.7500e+01  8.8000e+01  2.4800e+01\n",
      "  9.2000e+01  6.0000e-01  2.4600e+02  9.0000e+01  6.5000e+01 -4.0000e+00\n",
      "  2.2220e+01 -4.5000e+01  7.8000e+01  1.1000e+02 -1.1000e+02  1.2200e+01\n",
      "  6.2500e+01  7.8500e+01 -1.5000e+01  1.0000e+02  7.6000e+01  1.4800e+02\n",
      "  1.3400e+02 -1.3400e+02  7.4500e+01  2.0000e+02  1.0800e+01  8.1000e+01\n",
      "  2.5000e+02  8.2500e+01  5.4340e+01  1.0150e+02  8.8500e+01 -5.2000e+01\n",
      "  1.1800e+02  2.3100e+02  1.0700e+01  1.5000e-01  1.0000e+00  6.7000e+01\n",
      "  3.5000e+02  6.3000e+01  9.1000e+01  1.0850e+02  2.0000e+00  7.8000e+00\n",
      "  1.2200e+02  9.7000e+01  2.3000e-01  4.1000e+02  7.9000e+01 -6.5000e+00\n",
      " -5.0000e+01  7.7000e+01  6.3000e+00  7.7500e+01  2.2000e+02  1.7700e+01\n",
      "  1.0100e+02  9.2000e+00 -1.6000e+01  8.3000e+01  1.6000e-01  7.2000e+00\n",
      "  9.8000e+01  8.2000e+00  1.1200e+01 -4.4500e+01  3.9340e+01  8.0070e+01\n",
      "  1.3200e+01  1.8800e+01  1.0009e+02  2.3000e+00  7.5500e+01  8.6000e+01\n",
      "  8.0000e-02  1.0000e-01  6.6500e+01 -1.1500e+01  1.8000e+00  2.1000e+00\n",
      " -8.0000e+00  8.9500e+01  1.0600e+02  1.3250e+01  3.0050e+01  2.2000e+00\n",
      "  8.5500e+01  1.2250e+02  3.0000e+02  1.7000e-01 -6.5000e+01  9.9000e+01\n",
      "  1.1300e+02 -7.0000e+00  1.6000e+02  4.5000e+02  2.0000e-02  2.0750e+02\n",
      "  7.6500e+01 -7.0000e+01  8.7000e+01  1.6800e+01  1.2300e+01 -9.0000e+00\n",
      "  1.5180e+01 -6.0000e+01  6.8000e+00  1.5550e+01  1.2500e+02  1.4500e+02\n",
      "  1.1400e+02  1.1000e+00 -9.5000e+00  2.4000e+00  1.2900e+01  1.0450e+02\n",
      "  7.0000e-01  1.8000e-01  1.7000e+02  8.7500e+01  9.1500e+01  1.2720e+01\n",
      "  1.0550e+02  2.8000e+00  5.2000e-01  1.0650e+02  3.8000e+00  1.0250e+02\n",
      "  6.9500e+01  1.5190e+02  2.8100e+01 -1.4000e+01  8.3500e+01 -5.5000e+01\n",
      "  1.0550e+01  9.3500e+01  5.8330e+01  2.3800e+01  8.6500e+01 -1.0500e+01\n",
      "  8.3000e+00  1.3800e+02  2.8800e+01  1.3450e+02  9.7500e+01  1.5880e+01\n",
      "  8.8200e+01  1.1250e+02  8.4500e+01 -1.2000e+01  2.7700e+02  1.8880e+01\n",
      "  8.2000e+01  8.9600e+00  1.1000e-01  1.7800e+02  2.0800e+01  9.8000e+00\n",
      "  2.9150e+01  1.0750e+02  1.2800e+01  1.5950e+02  7.8400e+00 -1.8000e+01\n",
      "  5.1000e+00  9.4500e+01  3.9000e+00  7.3000e+00  6.6600e+00  1.6300e+01\n",
      "  4.9500e+00  1.5300e+01  8.4000e+01  4.7000e-01  1.2850e+02  1.1550e+02\n",
      "  5.5550e+01  9.5000e+01  9.7000e+00  1.0200e+01  2.8300e+01  7.7700e+00\n",
      "  1.0950e+02  5.0000e-01  1.8300e+01  1.3800e+01  3.8000e-01  3.2000e+00\n",
      "  1.3440e+01  3.3130e+01  3.1000e+00  1.3000e-01  1.6000e+00  9.6000e+01\n",
      "  9.0000e-02  1.4400e+02  1.7000e+00  5.0000e-02  1.2300e+02  1.2500e+00\n",
      "  2.5250e+02 -1.0000e-02 -4.0000e+02  7.0090e+01 -7.0090e+01  4.4400e+01\n",
      "  1.0700e+02  2.1100e+01  3.1670e+01  2.1200e+01  2.8750e+01  2.0000e-01\n",
      "  9.9000e+00  1.1950e+02  4.2560e+01  2.9200e+01  1.0200e+02  8.8800e+00\n",
      "  1.9000e+00  5.3000e+00  2.3050e+02  1.4000e+00  4.8000e+02  1.4000e-01\n",
      "  1.1100e+02  3.5890e+01  2.0080e+01  3.0810e+01  1.5870e+01  2.0780e+01\n",
      "  4.5720e+01  3.5870e+01  2.1980e+01  1.7300e+01  1.9950e+02  6.1750e+01\n",
      "  1.2000e-01 -1.5000e-01  8.0000e-01  1.8000e+02  1.3100e+02  4.9000e-01\n",
      " -8.6000e+01  9.0500e+01  4.5450e+01  9.6500e+01  2.1740e+01  1.0890e+01\n",
      "  1.4200e+01  9.5500e+01  1.7200e+01  2.5300e+01  1.0500e+02  5.7300e+01\n",
      "  7.3500e+01  6.5650e+01  2.9700e+01  4.1300e+01  1.4300e+02  6.2500e+00\n",
      "  1.1300e+01  8.0000e+02  9.8500e+01 -1.3500e+01  2.6880e+01 -2.1500e+01\n",
      "  1.7550e+02  6.1400e+00  1.6250e+01 -2.1000e+01  1.3290e+01  1.5800e+01\n",
      "  1.5770e+01  1.5750e+02  6.9920e+01  3.5550e+01  1.4300e+01  2.3870e+01\n",
      "  3.0400e+02  1.3000e+00  5.2800e+01 -3.2000e+01  1.9800e+01  2.9000e+00\n",
      "  1.2600e+01 -1.0000e+00  2.4200e+01 -2.4200e+01  1.2880e+01  4.6000e+02\n",
      "  1.2220e+01  2.0150e+02  2.2300e+01  1.1600e+02  1.0008e+02  9.8800e+00\n",
      "  2.4300e+01  4.8000e+00  1.2700e+02 -1.9500e+01  2.7080e+02  1.2850e+01\n",
      "  7.4630e+01 -1.1000e+01  7.0500e+00  1.2150e+02  1.1500e+02  2.9500e+02\n",
      "  1.3000e+02  1.1100e+00 -3.0000e+01 -2.0000e-01  2.7500e+02  3.3250e+01\n",
      "  4.7500e+02  3.7500e+02  1.7950e+02  1.9000e+02  7.5000e-01  1.6700e+02\n",
      "  1.9200e+01 -8.5000e+00  2.6300e+01  6.8880e+01  2.0300e+01  9.5800e+01\n",
      "  2.4400e+01  1.6430e+01 -1.5000e+02  9.9900e+00  2.0090e+01  1.5750e+01\n",
      " -7.8000e+01  9.9500e+01  1.5500e+02 -2.5000e+01  1.8300e+02  1.8950e+02\n",
      "  1.7800e+01  2.4950e+02  5.4440e+01  1.3009e+02  3.8800e+01  1.1150e+02\n",
      "  1.0300e+02  1.3350e+02  3.1300e+01  2.0005e+02 -3.5000e+01  1.6750e+02\n",
      "  4.0000e-01 -1.7500e+01  2.5800e+01  1.5700e+01  8.0080e+01  1.0500e+00\n",
      "  6.5170e+01  2.4700e+01  8.7200e+00  3.9200e+01  4.4000e+00  5.7000e+00\n",
      "  2.2200e+01  1.6500e+02  2.5900e+02 -2.0000e+02  1.2000e+00  4.0700e+01\n",
      "  1.6550e+01  1.9500e+02  5.5500e+00  8.9300e+00  1.1110e+01  4.5008e+02\n",
      "  5.8000e+00  1.3500e+02  6.0000e-02  1.6508e+02  1.5050e+02  2.7000e+00\n",
      " -2.0000e+00  1.8400e+02  1.1700e+01  1.3090e+01  2.6000e+00  1.2750e+02\n",
      "  1.1090e+01  1.6450e+02  1.2450e+02  1.3650e+02 -5.5500e+00  2.1300e+01\n",
      "  1.8900e+02  9.4000e+01  4.4670e+01  8.2500e+00  1.4560e+01  2.2500e+00\n",
      "  1.3050e+02  4.7000e+00  1.8800e+02  3.3000e+00  3.0800e+01  4.4500e+02\n",
      "  4.5500e+02  1.6380e+02  9.3000e+00  1.3220e+02  3.0001e+02  1.4250e+02\n",
      "  1.1450e+02  2.1500e+02  1.6330e+01  7.1500e+00  4.2750e+02  2.9380e+01\n",
      "  3.5630e+01  1.0350e+02  1.7850e+02  3.3000e+02  5.9200e+01  1.2800e+02\n",
      "  1.5800e+00  1.5800e+02 -5.6000e+01  9.6000e+00  1.3300e+01  4.3000e+00\n",
      "  3.4500e+02  1.4750e+01  1.9990e+01 -1.5000e+00 -8.5000e+01  2.1800e+01\n",
      "  1.2950e+02  1.7500e+02  3.0330e+01  1.4550e+02  1.6400e+02  1.0050e+01\n",
      "  1.9350e+02  1.5600e+02  1.8350e+02  1.5680e+01  4.0000e-02  3.5300e+01\n",
      "  1.9650e+02  2.2600e+01  4.9300e+01  1.6200e+01 -6.4000e+01  2.2000e-01\n",
      "  1.1650e+02  4.5550e+01  4.5000e-01 -3.3000e+01  3.2500e+02  7.0300e+01\n",
      "  1.5067e+02  1.3330e+01  5.1200e+01  2.3300e+01  1.1730e+02  7.3800e+01\n",
      "  1.1111e+02 -1.1111e+02  2.6700e+01  2.7460e+01  2.9600e+01  1.2090e+01\n",
      " -7.2000e+01 -1.2000e+02  1.2100e+01  3.4850e+02  1.2600e+02  7.0000e-02\n",
      "  1.2400e+02  1.0400e+02  1.8600e+02  6.7300e+01 -1.0000e+02  1.0900e+02\n",
      "  4.1770e+01  2.2050e+02  2.1300e+02  1.0380e+01  5.4920e+01  1.5100e+02\n",
      " -1.3000e+00  7.4000e-01  8.9000e+00  1.4200e+02  1.0300e+01 -1.3000e+01\n",
      "  1.0480e+01  1.7250e+02  1.7700e+02  3.0000e-02  1.2550e+02  2.8000e-01\n",
      "  2.8130e+01  1.2650e+02 -2.2000e+01 -3.0000e+02  1.4950e+02  2.0160e+01\n",
      "  5.7460e+01  1.3550e+02 -5.7460e+01  4.7330e+01  5.0380e+01  6.4800e+01\n",
      "  1.6100e+02  1.1530e+02  4.2000e+02  8.8000e-01  1.0950e+01  6.0750e+01\n",
      "  4.0750e+01  4.4800e+01  5.7170e+01  9.6300e+00]\n",
      "Extra: [ 0.5  0.   1.  -0.5 -1. ]\n",
      "MTA_tax: [ 0.5  0.  -0.5  0.8]\n",
      "Tip_amount: [ 0.    1.8   1.4  ... 11.74  6.94 15.36]\n",
      "Tolls_amount: [ 0.0000e+00  5.3300e+00  2.4400e+00  9.7500e+00  1.9500e+01  1.0660e+01\n",
      "  2.0000e+00  1.5080e+01  7.5000e+00  1.0000e+01  1.3000e+01  1.2830e+01\n",
      "  1.4330e+01  5.0000e-01  7.3300e+00  1.4000e+01  9.0000e+00  1.1750e+01\n",
      "  1.4870e+02  1.5000e+00  8.6988e+02  1.2750e+01  1.7000e+01 -1.8160e+01\n",
      "  1.8160e+01  9.8400e+00  1.5000e+01  4.0000e+00  3.0000e+00  2.3430e+01\n",
      "  7.7700e+00  1.6650e+01  2.2410e+01  2.3000e+01  5.3500e+00  1.8000e+01\n",
      "  1.3330e+01  1.7080e+01  1.4750e+01  1.1000e+01  1.5750e+01  1.2000e+01\n",
      "  2.3500e+01  1.6000e+01  2.2860e+01  5.3400e+00  3.3500e+01  1.0330e+01\n",
      "  1.4190e+01  1.4700e+01  1.5500e+01  6.7000e+01  1.0600e+01  1.8750e+01\n",
      "  5.5000e+00  8.0100e+00  3.7300e+00  9.2000e+00  1.9080e+01  2.0410e+01\n",
      "  6.5800e+00  8.0000e+00  9.2500e+00  4.0000e+01  5.8300e+00  1.0000e+00\n",
      "  1.9700e+01  1.3450e+01  4.8000e+01  1.8900e+01  2.3000e+00 -2.3000e+00\n",
      "  1.4100e+01  3.5000e+00  6.0000e+00  5.3200e+00  2.1000e+01  3.0000e-01\n",
      "  5.0000e+00  3.0000e+01  1.2190e+01  2.1080e+01  2.0000e+01  1.5990e+01\n",
      "  4.3000e+00  4.7000e+01  5.8500e+00  5.3000e+00  2.5080e+01  1.0210e+01\n",
      "  2.5000e+01  2.7410e+01  2.1500e+01  5.0000e+01  6.1300e+00  2.3300e+00\n",
      "  1.0732e+02  7.0000e+00  3.5000e+01  1.1111e+02  2.5000e+00  2.4830e+01\n",
      "  1.9800e+01  3.4160e+01 -5.3300e+00  1.5700e+01  1.0200e+01  1.3700e+01\n",
      " -2.0000e+00  1.0000e-02  9.3300e+00  5.5500e+00  3.2000e+00  2.3700e+01\n",
      "  2.2500e+01  1.2500e+01  4.4400e+00  7.5800e+00  2.2280e+01  1.9750e+01\n",
      "  1.4250e+01  4.5420e+01  1.5250e+01  1.6950e+01  1.5000e-01  3.0000e-02]\n",
      "improvement_surcharge: [0.3 0. ]\n",
      "Total_amount: [ 6.3  13.3   7.8  ... 34.68 92.16 40.79]\n",
      "Payment_type: [2 1 4 3 5]\n",
      "Trip_type : [ 1.  2. nan]\n"
     ]
    }
   ],
   "source": [
    "col = df.columns.tolist()\n",
    "\n",
    "for column in col:\n",
    "  print(\"{}: {}\".format(column, df[column].unique()))"
   ]
  },
  {
   "cell_type": "code",
   "execution_count": 282,
   "metadata": {
    "scrolled": true
   },
   "outputs": [
    {
     "data": {
      "text/plain": [
       "VendorID                   int64\n",
       "lpep_pickup_datetime      object\n",
       "Lpep_dropoff_datetime     object\n",
       "Store_and_fwd_flag        object\n",
       "RateCodeID                 int64\n",
       "Pickup_longitude         float64\n",
       "Pickup_latitude          float64\n",
       "Dropoff_longitude        float64\n",
       "Dropoff_latitude         float64\n",
       "Passenger_count            int64\n",
       "Trip_distance            float64\n",
       "Fare_amount              float64\n",
       "Extra                    float64\n",
       "MTA_tax                  float64\n",
       "Tip_amount               float64\n",
       "Tolls_amount             float64\n",
       "improvement_surcharge    float64\n",
       "Total_amount             float64\n",
       "Payment_type               int64\n",
       "Trip_type                float64\n",
       "dtype: object"
      ]
     },
     "execution_count": 282,
     "metadata": {},
     "output_type": "execute_result"
    }
   ],
   "source": [
    "df.dtypes"
   ]
  },
  {
   "cell_type": "code",
   "execution_count": 283,
   "metadata": {},
   "outputs": [],
   "source": [
    "df.dropna(inplace = True)"
   ]
  },
  {
   "cell_type": "markdown",
   "metadata": {},
   "source": [
    "## change types:\n",
    "lpep_pickup_datetime Lpep_dropoff_datetime Trip_type \n",
    "\n",
    "## verify valids quantity of each column\n",
    "No negatives:\n",
    "Trip_distance Fare_amount Total_amount"
   ]
  },
  {
   "cell_type": "code",
   "execution_count": 284,
   "metadata": {
    "scrolled": false
   },
   "outputs": [],
   "source": [
    "df['lpep_pickup_datetime'] = pd.to_datetime(df['lpep_pickup_datetime'], format = '%d/%m/%Y %H:%M')"
   ]
  },
  {
   "cell_type": "code",
   "execution_count": 285,
   "metadata": {},
   "outputs": [],
   "source": [
    "df['Lpep_dropoff_datetime'] = pd.to_datetime(df['Lpep_dropoff_datetime'], format = '%d/%m/%Y %H:%M')"
   ]
  },
  {
   "cell_type": "code",
   "execution_count": 286,
   "metadata": {
    "scrolled": true
   },
   "outputs": [],
   "source": [
    "df['Trip_type ']= df['Trip_type '].astype(np.int64)"
   ]
  },
  {
   "cell_type": "code",
   "execution_count": 287,
   "metadata": {},
   "outputs": [
    {
     "data": {
      "text/plain": [
       "VendorID                          int64\n",
       "lpep_pickup_datetime     datetime64[ns]\n",
       "Lpep_dropoff_datetime    datetime64[ns]\n",
       "Store_and_fwd_flag               object\n",
       "RateCodeID                        int64\n",
       "Pickup_longitude                float64\n",
       "Pickup_latitude                 float64\n",
       "Dropoff_longitude               float64\n",
       "Dropoff_latitude                float64\n",
       "Passenger_count                   int64\n",
       "Trip_distance                   float64\n",
       "Fare_amount                     float64\n",
       "Extra                           float64\n",
       "MTA_tax                         float64\n",
       "Tip_amount                      float64\n",
       "Tolls_amount                    float64\n",
       "improvement_surcharge           float64\n",
       "Total_amount                    float64\n",
       "Payment_type                      int64\n",
       "Trip_type                         int64\n",
       "dtype: object"
      ]
     },
     "execution_count": 287,
     "metadata": {},
     "output_type": "execute_result"
    }
   ],
   "source": [
    "df.dtypes"
   ]
  },
  {
   "cell_type": "code",
   "execution_count": 288,
   "metadata": {
    "scrolled": true
   },
   "outputs": [
    {
     "data": {
      "text/plain": [
       "count    1048570.00\n",
       "mean           2.78\n",
       "std            2.95\n",
       "min            0.00\n",
       "25%            1.01\n",
       "50%            1.83\n",
       "75%            3.54\n",
       "max          830.40\n",
       "Name: Trip_distance, dtype: float64"
      ]
     },
     "execution_count": 288,
     "metadata": {},
     "output_type": "execute_result"
    }
   ],
   "source": [
    "df['Trip_distance'].describe().round(2)"
   ]
  },
  {
   "cell_type": "code",
   "execution_count": 289,
   "metadata": {
    "scrolled": true
   },
   "outputs": [
    {
     "data": {
      "text/plain": [
       "count    1048570.00\n",
       "mean          11.73\n",
       "std            9.55\n",
       "min         -400.00\n",
       "25%            6.00\n",
       "50%            9.00\n",
       "75%           14.50\n",
       "max          800.00\n",
       "Name: Fare_amount, dtype: float64"
      ]
     },
     "execution_count": 289,
     "metadata": {},
     "output_type": "execute_result"
    }
   ],
   "source": [
    "df['Fare_amount'].describe().round(2)"
   ]
  },
  {
   "cell_type": "code",
   "execution_count": 290,
   "metadata": {},
   "outputs": [],
   "source": [
    "df = df.loc[df['Fare_amount'] >= 0]"
   ]
  },
  {
   "cell_type": "code",
   "execution_count": 291,
   "metadata": {},
   "outputs": [
    {
     "data": {
      "text/plain": [
       "count    1047038.00\n",
       "mean          15.04\n",
       "std          967.53\n",
       "min            0.00\n",
       "25%            7.80\n",
       "50%           10.80\n",
       "75%           17.00\n",
       "max       989970.39\n",
       "Name: Total_amount, dtype: float64"
      ]
     },
     "execution_count": 291,
     "metadata": {},
     "output_type": "execute_result"
    }
   ],
   "source": [
    "df['Total_amount'].describe().round(2)"
   ]
  },
  {
   "cell_type": "code",
   "execution_count": 292,
   "metadata": {
    "scrolled": true
   },
   "outputs": [],
   "source": [
    "df = df.loc[df['Total_amount'] >= 0]"
   ]
  },
  {
   "cell_type": "code",
   "execution_count": 293,
   "metadata": {},
   "outputs": [
    {
     "data": {
      "text/plain": [
       "(1047038, 20)"
      ]
     },
     "execution_count": 293,
     "metadata": {},
     "output_type": "execute_result"
    }
   ],
   "source": [
    "df.shape"
   ]
  },
  {
   "cell_type": "code",
   "execution_count": 294,
   "metadata": {},
   "outputs": [
    {
     "data": {
      "text/plain": [
       "117"
      ]
     },
     "execution_count": 294,
     "metadata": {},
     "output_type": "execute_result"
    }
   ],
   "source": [
    "df.duplicated().sum()"
   ]
  },
  {
   "cell_type": "code",
   "execution_count": 295,
   "metadata": {},
   "outputs": [],
   "source": [
    "df.drop_duplicates(inplace = True)"
   ]
  },
  {
   "cell_type": "code",
   "execution_count": 297,
   "metadata": {
    "scrolled": true
   },
   "outputs": [
    {
     "data": {
      "text/html": [
       "<div>\n",
       "<style scoped>\n",
       "    .dataframe tbody tr th:only-of-type {\n",
       "        vertical-align: middle;\n",
       "    }\n",
       "\n",
       "    .dataframe tbody tr th {\n",
       "        vertical-align: top;\n",
       "    }\n",
       "\n",
       "    .dataframe thead th {\n",
       "        text-align: right;\n",
       "    }\n",
       "</style>\n",
       "<table border=\"1\" class=\"dataframe\">\n",
       "  <thead>\n",
       "    <tr style=\"text-align: right;\">\n",
       "      <th></th>\n",
       "      <th>VendorID</th>\n",
       "      <th>RateCodeID</th>\n",
       "      <th>Pickup_longitude</th>\n",
       "      <th>Pickup_latitude</th>\n",
       "      <th>Dropoff_longitude</th>\n",
       "      <th>Dropoff_latitude</th>\n",
       "      <th>Passenger_count</th>\n",
       "      <th>Trip_distance</th>\n",
       "      <th>Fare_amount</th>\n",
       "      <th>Extra</th>\n",
       "      <th>MTA_tax</th>\n",
       "      <th>Tip_amount</th>\n",
       "      <th>Tolls_amount</th>\n",
       "      <th>improvement_surcharge</th>\n",
       "      <th>Total_amount</th>\n",
       "      <th>Payment_type</th>\n",
       "      <th>Trip_type</th>\n",
       "    </tr>\n",
       "  </thead>\n",
       "  <tbody>\n",
       "    <tr>\n",
       "      <th>count</th>\n",
       "      <td>1046921.00</td>\n",
       "      <td>1046921.00</td>\n",
       "      <td>1046921.00</td>\n",
       "      <td>1046921.00</td>\n",
       "      <td>1046921.00</td>\n",
       "      <td>1046921.00</td>\n",
       "      <td>1046921.00</td>\n",
       "      <td>1046921.00</td>\n",
       "      <td>1046921.00</td>\n",
       "      <td>1046921.00</td>\n",
       "      <td>1046921.00</td>\n",
       "      <td>1046921.00</td>\n",
       "      <td>1046921.00</td>\n",
       "      <td>1046921.00</td>\n",
       "      <td>1046921.00</td>\n",
       "      <td>1046921.00</td>\n",
       "      <td>1046921.00</td>\n",
       "    </tr>\n",
       "    <tr>\n",
       "      <th>mean</th>\n",
       "      <td>1.78</td>\n",
       "      <td>1.10</td>\n",
       "      <td>-73.82</td>\n",
       "      <td>40.69</td>\n",
       "      <td>-73.82</td>\n",
       "      <td>40.68</td>\n",
       "      <td>1.39</td>\n",
       "      <td>2.79</td>\n",
       "      <td>11.76</td>\n",
       "      <td>0.34</td>\n",
       "      <td>0.49</td>\n",
       "      <td>1.12</td>\n",
       "      <td>0.10</td>\n",
       "      <td>0.28</td>\n",
       "      <td>15.04</td>\n",
       "      <td>1.56</td>\n",
       "      <td>1.02</td>\n",
       "    </tr>\n",
       "    <tr>\n",
       "      <th>std</th>\n",
       "      <td>0.42</td>\n",
       "      <td>0.61</td>\n",
       "      <td>2.90</td>\n",
       "      <td>1.60</td>\n",
       "      <td>2.95</td>\n",
       "      <td>1.63</td>\n",
       "      <td>1.08</td>\n",
       "      <td>2.95</td>\n",
       "      <td>9.49</td>\n",
       "      <td>0.36</td>\n",
       "      <td>0.08</td>\n",
       "      <td>3.81</td>\n",
       "      <td>1.17</td>\n",
       "      <td>0.07</td>\n",
       "      <td>967.58</td>\n",
       "      <td>0.52</td>\n",
       "      <td>0.15</td>\n",
       "    </tr>\n",
       "    <tr>\n",
       "      <th>min</th>\n",
       "      <td>1.00</td>\n",
       "      <td>1.00</td>\n",
       "      <td>-75.35</td>\n",
       "      <td>0.00</td>\n",
       "      <td>-75.44</td>\n",
       "      <td>0.00</td>\n",
       "      <td>0.00</td>\n",
       "      <td>0.00</td>\n",
       "      <td>0.00</td>\n",
       "      <td>0.00</td>\n",
       "      <td>0.00</td>\n",
       "      <td>0.00</td>\n",
       "      <td>0.00</td>\n",
       "      <td>0.00</td>\n",
       "      <td>0.00</td>\n",
       "      <td>1.00</td>\n",
       "      <td>1.00</td>\n",
       "    </tr>\n",
       "    <tr>\n",
       "      <th>25%</th>\n",
       "      <td>2.00</td>\n",
       "      <td>1.00</td>\n",
       "      <td>-73.96</td>\n",
       "      <td>40.70</td>\n",
       "      <td>-73.97</td>\n",
       "      <td>40.70</td>\n",
       "      <td>1.00</td>\n",
       "      <td>1.01</td>\n",
       "      <td>6.00</td>\n",
       "      <td>0.00</td>\n",
       "      <td>0.50</td>\n",
       "      <td>0.00</td>\n",
       "      <td>0.00</td>\n",
       "      <td>0.30</td>\n",
       "      <td>7.80</td>\n",
       "      <td>1.00</td>\n",
       "      <td>1.00</td>\n",
       "    </tr>\n",
       "    <tr>\n",
       "      <th>50%</th>\n",
       "      <td>2.00</td>\n",
       "      <td>1.00</td>\n",
       "      <td>-73.95</td>\n",
       "      <td>40.75</td>\n",
       "      <td>-73.95</td>\n",
       "      <td>40.75</td>\n",
       "      <td>1.00</td>\n",
       "      <td>1.83</td>\n",
       "      <td>9.00</td>\n",
       "      <td>0.50</td>\n",
       "      <td>0.50</td>\n",
       "      <td>0.00</td>\n",
       "      <td>0.00</td>\n",
       "      <td>0.30</td>\n",
       "      <td>10.80</td>\n",
       "      <td>2.00</td>\n",
       "      <td>1.00</td>\n",
       "    </tr>\n",
       "    <tr>\n",
       "      <th>75%</th>\n",
       "      <td>2.00</td>\n",
       "      <td>1.00</td>\n",
       "      <td>-73.92</td>\n",
       "      <td>40.80</td>\n",
       "      <td>-73.91</td>\n",
       "      <td>40.79</td>\n",
       "      <td>1.00</td>\n",
       "      <td>3.55</td>\n",
       "      <td>14.50</td>\n",
       "      <td>0.50</td>\n",
       "      <td>0.50</td>\n",
       "      <td>1.80</td>\n",
       "      <td>0.00</td>\n",
       "      <td>0.30</td>\n",
       "      <td>17.00</td>\n",
       "      <td>2.00</td>\n",
       "      <td>1.00</td>\n",
       "    </tr>\n",
       "    <tr>\n",
       "      <th>max</th>\n",
       "      <td>2.00</td>\n",
       "      <td>99.00</td>\n",
       "      <td>0.00</td>\n",
       "      <td>42.92</td>\n",
       "      <td>0.00</td>\n",
       "      <td>42.92</td>\n",
       "      <td>9.00</td>\n",
       "      <td>830.40</td>\n",
       "      <td>800.00</td>\n",
       "      <td>1.00</td>\n",
       "      <td>0.80</td>\n",
       "      <td>490.00</td>\n",
       "      <td>869.88</td>\n",
       "      <td>0.30</td>\n",
       "      <td>989970.39</td>\n",
       "      <td>5.00</td>\n",
       "      <td>2.00</td>\n",
       "    </tr>\n",
       "  </tbody>\n",
       "</table>\n",
       "</div>"
      ],
      "text/plain": [
       "         VendorID  RateCodeID  Pickup_longitude  Pickup_latitude  \\\n",
       "count  1046921.00  1046921.00        1046921.00       1046921.00   \n",
       "mean         1.78        1.10            -73.82            40.69   \n",
       "std          0.42        0.61              2.90             1.60   \n",
       "min          1.00        1.00            -75.35             0.00   \n",
       "25%          2.00        1.00            -73.96            40.70   \n",
       "50%          2.00        1.00            -73.95            40.75   \n",
       "75%          2.00        1.00            -73.92            40.80   \n",
       "max          2.00       99.00              0.00            42.92   \n",
       "\n",
       "       Dropoff_longitude  Dropoff_latitude  Passenger_count  Trip_distance  \\\n",
       "count         1046921.00        1046921.00       1046921.00     1046921.00   \n",
       "mean              -73.82             40.68             1.39           2.79   \n",
       "std                 2.95              1.63             1.08           2.95   \n",
       "min               -75.44              0.00             0.00           0.00   \n",
       "25%               -73.97             40.70             1.00           1.01   \n",
       "50%               -73.95             40.75             1.00           1.83   \n",
       "75%               -73.91             40.79             1.00           3.55   \n",
       "max                 0.00             42.92             9.00         830.40   \n",
       "\n",
       "       Fare_amount       Extra     MTA_tax  Tip_amount  Tolls_amount  \\\n",
       "count   1046921.00  1046921.00  1046921.00  1046921.00    1046921.00   \n",
       "mean         11.76        0.34        0.49        1.12          0.10   \n",
       "std           9.49        0.36        0.08        3.81          1.17   \n",
       "min           0.00        0.00        0.00        0.00          0.00   \n",
       "25%           6.00        0.00        0.50        0.00          0.00   \n",
       "50%           9.00        0.50        0.50        0.00          0.00   \n",
       "75%          14.50        0.50        0.50        1.80          0.00   \n",
       "max         800.00        1.00        0.80      490.00        869.88   \n",
       "\n",
       "       improvement_surcharge  Total_amount  Payment_type  Trip_type   \n",
       "count             1046921.00    1046921.00    1046921.00  1046921.00  \n",
       "mean                    0.28         15.04          1.56        1.02  \n",
       "std                     0.07        967.58          0.52        0.15  \n",
       "min                     0.00          0.00          1.00        1.00  \n",
       "25%                     0.30          7.80          1.00        1.00  \n",
       "50%                     0.30         10.80          2.00        1.00  \n",
       "75%                     0.30         17.00          2.00        1.00  \n",
       "max                     0.30     989970.39          5.00        2.00  "
      ]
     },
     "execution_count": 297,
     "metadata": {},
     "output_type": "execute_result"
    }
   ],
   "source": [
    "(df.describe()).round(2)"
   ]
  },
  {
   "cell_type": "code",
   "execution_count": 298,
   "metadata": {
    "scrolled": true
   },
   "outputs": [],
   "source": [
    "df = df.loc[df['Pickup_longitude'] != 0]"
   ]
  },
  {
   "cell_type": "code",
   "execution_count": 299,
   "metadata": {},
   "outputs": [],
   "source": [
    "df = df.loc[df['Pickup_latitude'] != 0]"
   ]
  },
  {
   "cell_type": "code",
   "execution_count": 300,
   "metadata": {
    "scrolled": true
   },
   "outputs": [],
   "source": [
    "df = df.loc[df['Dropoff_longitude'] != 0]"
   ]
  },
  {
   "cell_type": "code",
   "execution_count": 301,
   "metadata": {},
   "outputs": [],
   "source": [
    "df = df.loc[df['Dropoff_latitude'] != 0]"
   ]
  },
  {
   "cell_type": "code",
   "execution_count": 302,
   "metadata": {
    "scrolled": true
   },
   "outputs": [
    {
     "data": {
      "text/plain": [
       "array([ 1,  5,  2,  3,  4,  6, 99], dtype=int64)"
      ]
     },
     "execution_count": 302,
     "metadata": {},
     "output_type": "execute_result"
    }
   ],
   "source": [
    "df['RateCodeID'].unique()"
   ]
  },
  {
   "cell_type": "code",
   "execution_count": 303,
   "metadata": {
    "scrolled": true
   },
   "outputs": [
    {
     "data": {
      "text/plain": [
       "1     1016585\n",
       "5       23513\n",
       "2        2862\n",
       "3         715\n",
       "4         348\n",
       "6          20\n",
       "99          1\n",
       "Name: RateCodeID, dtype: int64"
      ]
     },
     "execution_count": 303,
     "metadata": {},
     "output_type": "execute_result"
    }
   ],
   "source": [
    "df['RateCodeID'].value_counts()"
   ]
  },
  {
   "cell_type": "code",
   "execution_count": 304,
   "metadata": {
    "scrolled": true
   },
   "outputs": [
    {
     "data": {
      "text/plain": [
       "(1044043, 20)"
      ]
     },
     "execution_count": 304,
     "metadata": {},
     "output_type": "execute_result"
    }
   ],
   "source": [
    "df = df.loc[df['RateCodeID'] != 99]\n",
    "df.shape"
   ]
  },
  {
   "cell_type": "code",
   "execution_count": 305,
   "metadata": {},
   "outputs": [
    {
     "data": {
      "text/plain": [
       "count    1044043.00\n",
       "mean          15.02\n",
       "std          968.91\n",
       "min            0.00\n",
       "25%            7.80\n",
       "50%           10.80\n",
       "75%           17.00\n",
       "max       989970.39\n",
       "Name: Total_amount, dtype: float64"
      ]
     },
     "execution_count": 305,
     "metadata": {},
     "output_type": "execute_result"
    }
   ],
   "source": [
    "df['Total_amount'].describe().round(2)"
   ]
  },
  {
   "cell_type": "code",
   "execution_count": 306,
   "metadata": {},
   "outputs": [
    {
     "data": {
      "text/plain": [
       "(1044042, 20)"
      ]
     },
     "execution_count": 306,
     "metadata": {},
     "output_type": "execute_result"
    }
   ],
   "source": [
    "df = df.loc[df['Total_amount'] >= 0 ]\n",
    "df = df.loc[df['Total_amount'] <= 1000]\n",
    "df.shape "
   ]
  },
  {
   "cell_type": "code",
   "execution_count": 307,
   "metadata": {},
   "outputs": [
    {
     "data": {
      "text/plain": [
       "count    1044042.00\n",
       "mean          14.07\n",
       "std           10.95\n",
       "min            0.00\n",
       "25%            7.80\n",
       "50%           10.80\n",
       "75%           17.00\n",
       "max          874.18\n",
       "Name: Total_amount, dtype: float64"
      ]
     },
     "execution_count": 307,
     "metadata": {},
     "output_type": "execute_result"
    }
   ],
   "source": [
    "df['Total_amount'].describe().round(2)"
   ]
  },
  {
   "cell_type": "code",
   "execution_count": 308,
   "metadata": {},
   "outputs": [
    {
     "data": {
      "text/html": [
       "<div>\n",
       "<style scoped>\n",
       "    .dataframe tbody tr th:only-of-type {\n",
       "        vertical-align: middle;\n",
       "    }\n",
       "\n",
       "    .dataframe tbody tr th {\n",
       "        vertical-align: top;\n",
       "    }\n",
       "\n",
       "    .dataframe thead th {\n",
       "        text-align: right;\n",
       "    }\n",
       "</style>\n",
       "<table border=\"1\" class=\"dataframe\">\n",
       "  <thead>\n",
       "    <tr style=\"text-align: right;\">\n",
       "      <th></th>\n",
       "      <th>VendorID</th>\n",
       "      <th>RateCodeID</th>\n",
       "      <th>Pickup_longitude</th>\n",
       "      <th>Pickup_latitude</th>\n",
       "      <th>Dropoff_longitude</th>\n",
       "      <th>Dropoff_latitude</th>\n",
       "      <th>Passenger_count</th>\n",
       "      <th>Trip_distance</th>\n",
       "      <th>Fare_amount</th>\n",
       "      <th>Extra</th>\n",
       "      <th>MTA_tax</th>\n",
       "      <th>Tip_amount</th>\n",
       "      <th>Tolls_amount</th>\n",
       "      <th>improvement_surcharge</th>\n",
       "      <th>Total_amount</th>\n",
       "      <th>Payment_type</th>\n",
       "      <th>Trip_type</th>\n",
       "    </tr>\n",
       "  </thead>\n",
       "  <tbody>\n",
       "    <tr>\n",
       "      <th>count</th>\n",
       "      <td>1044042.00</td>\n",
       "      <td>1044042.0</td>\n",
       "      <td>1044042.00</td>\n",
       "      <td>1044042.00</td>\n",
       "      <td>1044042.00</td>\n",
       "      <td>1044042.00</td>\n",
       "      <td>1044042.00</td>\n",
       "      <td>1044042.00</td>\n",
       "      <td>1044042.00</td>\n",
       "      <td>1044042.00</td>\n",
       "      <td>1044042.00</td>\n",
       "      <td>1044042.00</td>\n",
       "      <td>1044042.00</td>\n",
       "      <td>1044042.00</td>\n",
       "      <td>1044042.00</td>\n",
       "      <td>1044042.00</td>\n",
       "      <td>1044042.00</td>\n",
       "    </tr>\n",
       "    <tr>\n",
       "      <th>mean</th>\n",
       "      <td>1.78</td>\n",
       "      <td>1.1</td>\n",
       "      <td>-73.94</td>\n",
       "      <td>40.75</td>\n",
       "      <td>-73.94</td>\n",
       "      <td>40.75</td>\n",
       "      <td>1.39</td>\n",
       "      <td>2.79</td>\n",
       "      <td>11.76</td>\n",
       "      <td>0.34</td>\n",
       "      <td>0.49</td>\n",
       "      <td>1.11</td>\n",
       "      <td>0.10</td>\n",
       "      <td>0.28</td>\n",
       "      <td>14.07</td>\n",
       "      <td>1.56</td>\n",
       "      <td>1.02</td>\n",
       "    </tr>\n",
       "    <tr>\n",
       "      <th>std</th>\n",
       "      <td>0.41</td>\n",
       "      <td>0.6</td>\n",
       "      <td>0.04</td>\n",
       "      <td>0.06</td>\n",
       "      <td>0.05</td>\n",
       "      <td>0.06</td>\n",
       "      <td>1.08</td>\n",
       "      <td>2.95</td>\n",
       "      <td>9.40</td>\n",
       "      <td>0.36</td>\n",
       "      <td>0.08</td>\n",
       "      <td>3.15</td>\n",
       "      <td>1.17</td>\n",
       "      <td>0.07</td>\n",
       "      <td>10.95</td>\n",
       "      <td>0.52</td>\n",
       "      <td>0.15</td>\n",
       "    </tr>\n",
       "    <tr>\n",
       "      <th>min</th>\n",
       "      <td>1.00</td>\n",
       "      <td>1.0</td>\n",
       "      <td>-75.35</td>\n",
       "      <td>39.95</td>\n",
       "      <td>-75.44</td>\n",
       "      <td>39.36</td>\n",
       "      <td>0.00</td>\n",
       "      <td>0.00</td>\n",
       "      <td>0.00</td>\n",
       "      <td>0.00</td>\n",
       "      <td>0.00</td>\n",
       "      <td>0.00</td>\n",
       "      <td>0.00</td>\n",
       "      <td>0.00</td>\n",
       "      <td>0.00</td>\n",
       "      <td>1.00</td>\n",
       "      <td>1.00</td>\n",
       "    </tr>\n",
       "    <tr>\n",
       "      <th>25%</th>\n",
       "      <td>2.00</td>\n",
       "      <td>1.0</td>\n",
       "      <td>-73.96</td>\n",
       "      <td>40.70</td>\n",
       "      <td>-73.97</td>\n",
       "      <td>40.70</td>\n",
       "      <td>1.00</td>\n",
       "      <td>1.01</td>\n",
       "      <td>6.00</td>\n",
       "      <td>0.00</td>\n",
       "      <td>0.50</td>\n",
       "      <td>0.00</td>\n",
       "      <td>0.00</td>\n",
       "      <td>0.30</td>\n",
       "      <td>7.80</td>\n",
       "      <td>1.00</td>\n",
       "      <td>1.00</td>\n",
       "    </tr>\n",
       "    <tr>\n",
       "      <th>50%</th>\n",
       "      <td>2.00</td>\n",
       "      <td>1.0</td>\n",
       "      <td>-73.95</td>\n",
       "      <td>40.75</td>\n",
       "      <td>-73.95</td>\n",
       "      <td>40.75</td>\n",
       "      <td>1.00</td>\n",
       "      <td>1.83</td>\n",
       "      <td>9.00</td>\n",
       "      <td>0.50</td>\n",
       "      <td>0.50</td>\n",
       "      <td>0.00</td>\n",
       "      <td>0.00</td>\n",
       "      <td>0.30</td>\n",
       "      <td>10.80</td>\n",
       "      <td>2.00</td>\n",
       "      <td>1.00</td>\n",
       "    </tr>\n",
       "    <tr>\n",
       "      <th>75%</th>\n",
       "      <td>2.00</td>\n",
       "      <td>1.0</td>\n",
       "      <td>-73.92</td>\n",
       "      <td>40.80</td>\n",
       "      <td>-73.91</td>\n",
       "      <td>40.79</td>\n",
       "      <td>1.00</td>\n",
       "      <td>3.55</td>\n",
       "      <td>14.50</td>\n",
       "      <td>0.50</td>\n",
       "      <td>0.50</td>\n",
       "      <td>1.80</td>\n",
       "      <td>0.00</td>\n",
       "      <td>0.30</td>\n",
       "      <td>17.00</td>\n",
       "      <td>2.00</td>\n",
       "      <td>1.00</td>\n",
       "    </tr>\n",
       "    <tr>\n",
       "      <th>max</th>\n",
       "      <td>2.00</td>\n",
       "      <td>6.0</td>\n",
       "      <td>-70.96</td>\n",
       "      <td>42.92</td>\n",
       "      <td>-70.94</td>\n",
       "      <td>42.92</td>\n",
       "      <td>9.00</td>\n",
       "      <td>830.40</td>\n",
       "      <td>800.00</td>\n",
       "      <td>1.00</td>\n",
       "      <td>0.50</td>\n",
       "      <td>490.00</td>\n",
       "      <td>869.88</td>\n",
       "      <td>0.30</td>\n",
       "      <td>874.18</td>\n",
       "      <td>5.00</td>\n",
       "      <td>2.00</td>\n",
       "    </tr>\n",
       "  </tbody>\n",
       "</table>\n",
       "</div>"
      ],
      "text/plain": [
       "         VendorID  RateCodeID  Pickup_longitude  Pickup_latitude  \\\n",
       "count  1044042.00   1044042.0        1044042.00       1044042.00   \n",
       "mean         1.78         1.1            -73.94            40.75   \n",
       "std          0.41         0.6              0.04             0.06   \n",
       "min          1.00         1.0            -75.35            39.95   \n",
       "25%          2.00         1.0            -73.96            40.70   \n",
       "50%          2.00         1.0            -73.95            40.75   \n",
       "75%          2.00         1.0            -73.92            40.80   \n",
       "max          2.00         6.0            -70.96            42.92   \n",
       "\n",
       "       Dropoff_longitude  Dropoff_latitude  Passenger_count  Trip_distance  \\\n",
       "count         1044042.00        1044042.00       1044042.00     1044042.00   \n",
       "mean              -73.94             40.75             1.39           2.79   \n",
       "std                 0.05              0.06             1.08           2.95   \n",
       "min               -75.44             39.36             0.00           0.00   \n",
       "25%               -73.97             40.70             1.00           1.01   \n",
       "50%               -73.95             40.75             1.00           1.83   \n",
       "75%               -73.91             40.79             1.00           3.55   \n",
       "max               -70.94             42.92             9.00         830.40   \n",
       "\n",
       "       Fare_amount       Extra     MTA_tax  Tip_amount  Tolls_amount  \\\n",
       "count   1044042.00  1044042.00  1044042.00  1044042.00    1044042.00   \n",
       "mean         11.76        0.34        0.49        1.11          0.10   \n",
       "std           9.40        0.36        0.08        3.15          1.17   \n",
       "min           0.00        0.00        0.00        0.00          0.00   \n",
       "25%           6.00        0.00        0.50        0.00          0.00   \n",
       "50%           9.00        0.50        0.50        0.00          0.00   \n",
       "75%          14.50        0.50        0.50        1.80          0.00   \n",
       "max         800.00        1.00        0.50      490.00        869.88   \n",
       "\n",
       "       improvement_surcharge  Total_amount  Payment_type  Trip_type   \n",
       "count             1044042.00    1044042.00    1044042.00  1044042.00  \n",
       "mean                    0.28         14.07          1.56        1.02  \n",
       "std                     0.07         10.95          0.52        0.15  \n",
       "min                     0.00          0.00          1.00        1.00  \n",
       "25%                     0.30          7.80          1.00        1.00  \n",
       "50%                     0.30         10.80          2.00        1.00  \n",
       "75%                     0.30         17.00          2.00        1.00  \n",
       "max                     0.30        874.18          5.00        2.00  "
      ]
     },
     "execution_count": 308,
     "metadata": {},
     "output_type": "execute_result"
    }
   ],
   "source": [
    "df.describe().round(2)"
   ]
  },
  {
   "cell_type": "markdown",
   "metadata": {},
   "source": [
    "# Then we will split the dataset\n",
    "The principal reason is because it's a good pratice dont work with all the samples, so for this reason and also because we hace a very large dataset.  \n",
    "\n",
    "     total: 1044042  \n",
    " \n",
    " * 80 % train: 835233   \n",
    " * 20 % test: 208809\n",
    " \n",
    " Optionally:\n",
    " * 10 % validation"
   ]
  },
  {
   "cell_type": "code",
   "execution_count": 310,
   "metadata": {},
   "outputs": [
    {
     "data": {
      "text/plain": [
       "(1044042, 20)"
      ]
     },
     "execution_count": 310,
     "metadata": {},
     "output_type": "execute_result"
    }
   ],
   "source": [
    "df.shape"
   ]
  },
  {
   "cell_type": "code",
   "execution_count": 311,
   "metadata": {
    "scrolled": true
   },
   "outputs": [
    {
     "data": {
      "text/plain": [
       "(835233, 20)"
      ]
     },
     "execution_count": 311,
     "metadata": {},
     "output_type": "execute_result"
    }
   ],
   "source": [
    "from random import sample\n",
    "lil_df = df.loc[np.random.choice(df.index, 835233, replace = False)]\n",
    "lil_df.shape"
   ]
  },
  {
   "cell_type": "code",
   "execution_count": 312,
   "metadata": {},
   "outputs": [],
   "source": [
    "lil_df = lil_df.sort_values(by = 'lpep_pickup_datetime')"
   ]
  },
  {
   "cell_type": "code",
   "execution_count": 313,
   "metadata": {},
   "outputs": [],
   "source": [
    "lil_df.reset_index(drop = True, inplace = True)"
   ]
  },
  {
   "cell_type": "code",
   "execution_count": 314,
   "metadata": {},
   "outputs": [
    {
     "data": {
      "text/html": [
       "<div>\n",
       "<style scoped>\n",
       "    .dataframe tbody tr th:only-of-type {\n",
       "        vertical-align: middle;\n",
       "    }\n",
       "\n",
       "    .dataframe tbody tr th {\n",
       "        vertical-align: top;\n",
       "    }\n",
       "\n",
       "    .dataframe thead th {\n",
       "        text-align: right;\n",
       "    }\n",
       "</style>\n",
       "<table border=\"1\" class=\"dataframe\">\n",
       "  <thead>\n",
       "    <tr style=\"text-align: right;\">\n",
       "      <th></th>\n",
       "      <th>VendorID</th>\n",
       "      <th>lpep_pickup_datetime</th>\n",
       "      <th>Lpep_dropoff_datetime</th>\n",
       "      <th>Store_and_fwd_flag</th>\n",
       "      <th>RateCodeID</th>\n",
       "      <th>Pickup_longitude</th>\n",
       "      <th>Pickup_latitude</th>\n",
       "      <th>Dropoff_longitude</th>\n",
       "      <th>Dropoff_latitude</th>\n",
       "      <th>Passenger_count</th>\n",
       "      <th>Trip_distance</th>\n",
       "      <th>Fare_amount</th>\n",
       "      <th>Extra</th>\n",
       "      <th>MTA_tax</th>\n",
       "      <th>Tip_amount</th>\n",
       "      <th>Tolls_amount</th>\n",
       "      <th>improvement_surcharge</th>\n",
       "      <th>Total_amount</th>\n",
       "      <th>Payment_type</th>\n",
       "      <th>Trip_type</th>\n",
       "    </tr>\n",
       "  </thead>\n",
       "  <tbody>\n",
       "    <tr>\n",
       "      <th>0</th>\n",
       "      <td>2</td>\n",
       "      <td>2015-01-01</td>\n",
       "      <td>2015-01-01 00:06:00</td>\n",
       "      <td>N</td>\n",
       "      <td>1</td>\n",
       "      <td>-73.961418</td>\n",
       "      <td>40.714340</td>\n",
       "      <td>-73.961357</td>\n",
       "      <td>40.719212</td>\n",
       "      <td>1</td>\n",
       "      <td>0.74</td>\n",
       "      <td>6.0</td>\n",
       "      <td>0.5</td>\n",
       "      <td>0.5</td>\n",
       "      <td>1.95</td>\n",
       "      <td>0.0</td>\n",
       "      <td>0.0</td>\n",
       "      <td>8.95</td>\n",
       "      <td>1</td>\n",
       "      <td>1</td>\n",
       "    </tr>\n",
       "    <tr>\n",
       "      <th>1</th>\n",
       "      <td>2</td>\n",
       "      <td>2015-01-01</td>\n",
       "      <td>2015-01-01 00:11:00</td>\n",
       "      <td>N</td>\n",
       "      <td>1</td>\n",
       "      <td>-73.890915</td>\n",
       "      <td>40.746918</td>\n",
       "      <td>-73.868408</td>\n",
       "      <td>40.739296</td>\n",
       "      <td>1</td>\n",
       "      <td>1.67</td>\n",
       "      <td>8.5</td>\n",
       "      <td>0.5</td>\n",
       "      <td>0.5</td>\n",
       "      <td>0.00</td>\n",
       "      <td>0.0</td>\n",
       "      <td>0.3</td>\n",
       "      <td>9.80</td>\n",
       "      <td>2</td>\n",
       "      <td>1</td>\n",
       "    </tr>\n",
       "    <tr>\n",
       "      <th>2</th>\n",
       "      <td>1</td>\n",
       "      <td>2015-01-01</td>\n",
       "      <td>2015-01-01 00:16:00</td>\n",
       "      <td>N</td>\n",
       "      <td>1</td>\n",
       "      <td>-73.951454</td>\n",
       "      <td>40.824905</td>\n",
       "      <td>-73.895561</td>\n",
       "      <td>40.869946</td>\n",
       "      <td>1</td>\n",
       "      <td>5.70</td>\n",
       "      <td>19.0</td>\n",
       "      <td>0.5</td>\n",
       "      <td>0.5</td>\n",
       "      <td>0.00</td>\n",
       "      <td>0.0</td>\n",
       "      <td>0.3</td>\n",
       "      <td>20.30</td>\n",
       "      <td>2</td>\n",
       "      <td>1</td>\n",
       "    </tr>\n",
       "    <tr>\n",
       "      <th>3</th>\n",
       "      <td>2</td>\n",
       "      <td>2015-01-01</td>\n",
       "      <td>2015-01-01 00:11:00</td>\n",
       "      <td>N</td>\n",
       "      <td>1</td>\n",
       "      <td>-73.990395</td>\n",
       "      <td>40.686752</td>\n",
       "      <td>-73.958351</td>\n",
       "      <td>40.687611</td>\n",
       "      <td>1</td>\n",
       "      <td>1.88</td>\n",
       "      <td>9.5</td>\n",
       "      <td>0.5</td>\n",
       "      <td>0.5</td>\n",
       "      <td>3.00</td>\n",
       "      <td>0.0</td>\n",
       "      <td>0.3</td>\n",
       "      <td>13.80</td>\n",
       "      <td>1</td>\n",
       "      <td>1</td>\n",
       "    </tr>\n",
       "    <tr>\n",
       "      <th>4</th>\n",
       "      <td>2</td>\n",
       "      <td>2015-01-01</td>\n",
       "      <td>2015-01-01 00:23:00</td>\n",
       "      <td>N</td>\n",
       "      <td>1</td>\n",
       "      <td>-73.952347</td>\n",
       "      <td>40.663719</td>\n",
       "      <td>-74.017433</td>\n",
       "      <td>40.641983</td>\n",
       "      <td>1</td>\n",
       "      <td>6.01</td>\n",
       "      <td>21.0</td>\n",
       "      <td>0.5</td>\n",
       "      <td>0.5</td>\n",
       "      <td>4.30</td>\n",
       "      <td>0.0</td>\n",
       "      <td>0.3</td>\n",
       "      <td>26.60</td>\n",
       "      <td>1</td>\n",
       "      <td>1</td>\n",
       "    </tr>\n",
       "  </tbody>\n",
       "</table>\n",
       "</div>"
      ],
      "text/plain": [
       "   VendorID lpep_pickup_datetime Lpep_dropoff_datetime Store_and_fwd_flag  \\\n",
       "0         2           2015-01-01   2015-01-01 00:06:00                  N   \n",
       "1         2           2015-01-01   2015-01-01 00:11:00                  N   \n",
       "2         1           2015-01-01   2015-01-01 00:16:00                  N   \n",
       "3         2           2015-01-01   2015-01-01 00:11:00                  N   \n",
       "4         2           2015-01-01   2015-01-01 00:23:00                  N   \n",
       "\n",
       "   RateCodeID  Pickup_longitude  Pickup_latitude  Dropoff_longitude  \\\n",
       "0           1        -73.961418        40.714340         -73.961357   \n",
       "1           1        -73.890915        40.746918         -73.868408   \n",
       "2           1        -73.951454        40.824905         -73.895561   \n",
       "3           1        -73.990395        40.686752         -73.958351   \n",
       "4           1        -73.952347        40.663719         -74.017433   \n",
       "\n",
       "   Dropoff_latitude  Passenger_count  Trip_distance  Fare_amount  Extra  \\\n",
       "0         40.719212                1           0.74          6.0    0.5   \n",
       "1         40.739296                1           1.67          8.5    0.5   \n",
       "2         40.869946                1           5.70         19.0    0.5   \n",
       "3         40.687611                1           1.88          9.5    0.5   \n",
       "4         40.641983                1           6.01         21.0    0.5   \n",
       "\n",
       "   MTA_tax  Tip_amount  Tolls_amount  improvement_surcharge  Total_amount  \\\n",
       "0      0.5        1.95           0.0                    0.0          8.95   \n",
       "1      0.5        0.00           0.0                    0.3          9.80   \n",
       "2      0.5        0.00           0.0                    0.3         20.30   \n",
       "3      0.5        3.00           0.0                    0.3         13.80   \n",
       "4      0.5        4.30           0.0                    0.3         26.60   \n",
       "\n",
       "   Payment_type  Trip_type   \n",
       "0             1           1  \n",
       "1             2           1  \n",
       "2             2           1  \n",
       "3             1           1  \n",
       "4             1           1  "
      ]
     },
     "execution_count": 314,
     "metadata": {},
     "output_type": "execute_result"
    }
   ],
   "source": [
    "lil_df.head()"
   ]
  },
  {
   "cell_type": "code",
   "execution_count": 315,
   "metadata": {},
   "outputs": [
    {
     "data": {
      "text/plain": [
       "0"
      ]
     },
     "execution_count": 315,
     "metadata": {},
     "output_type": "execute_result"
    }
   ],
   "source": [
    "lil_df.duplicated().sum()"
   ]
  },
  {
   "cell_type": "code",
   "execution_count": 316,
   "metadata": {},
   "outputs": [],
   "source": [
    "df_clean = lil_df"
   ]
  },
  {
   "cell_type": "code",
   "execution_count": 317,
   "metadata": {},
   "outputs": [
    {
     "data": {
      "text/html": [
       "<div>\n",
       "<style scoped>\n",
       "    .dataframe tbody tr th:only-of-type {\n",
       "        vertical-align: middle;\n",
       "    }\n",
       "\n",
       "    .dataframe tbody tr th {\n",
       "        vertical-align: top;\n",
       "    }\n",
       "\n",
       "    .dataframe thead th {\n",
       "        text-align: right;\n",
       "    }\n",
       "</style>\n",
       "<table border=\"1\" class=\"dataframe\">\n",
       "  <thead>\n",
       "    <tr style=\"text-align: right;\">\n",
       "      <th></th>\n",
       "      <th>VendorID</th>\n",
       "      <th>RateCodeID</th>\n",
       "      <th>Pickup_longitude</th>\n",
       "      <th>Pickup_latitude</th>\n",
       "      <th>Dropoff_longitude</th>\n",
       "      <th>Dropoff_latitude</th>\n",
       "      <th>Passenger_count</th>\n",
       "      <th>Trip_distance</th>\n",
       "      <th>Fare_amount</th>\n",
       "      <th>Extra</th>\n",
       "      <th>MTA_tax</th>\n",
       "      <th>Tip_amount</th>\n",
       "      <th>Tolls_amount</th>\n",
       "      <th>improvement_surcharge</th>\n",
       "      <th>Total_amount</th>\n",
       "      <th>Payment_type</th>\n",
       "      <th>Trip_type</th>\n",
       "    </tr>\n",
       "  </thead>\n",
       "  <tbody>\n",
       "    <tr>\n",
       "      <th>count</th>\n",
       "      <td>835233.000000</td>\n",
       "      <td>835233.000000</td>\n",
       "      <td>835233.000000</td>\n",
       "      <td>835233.000000</td>\n",
       "      <td>835233.000000</td>\n",
       "      <td>835233.000000</td>\n",
       "      <td>835233.000000</td>\n",
       "      <td>835233.000000</td>\n",
       "      <td>835233.000000</td>\n",
       "      <td>835233.000000</td>\n",
       "      <td>835233.000000</td>\n",
       "      <td>835233.000000</td>\n",
       "      <td>835233.000000</td>\n",
       "      <td>835233.000000</td>\n",
       "      <td>835233.000000</td>\n",
       "      <td>835233.000000</td>\n",
       "      <td>835233.000000</td>\n",
       "    </tr>\n",
       "    <tr>\n",
       "      <th>mean</th>\n",
       "      <td>1.779318</td>\n",
       "      <td>1.095375</td>\n",
       "      <td>-73.935918</td>\n",
       "      <td>40.749812</td>\n",
       "      <td>-73.935507</td>\n",
       "      <td>40.747841</td>\n",
       "      <td>1.389661</td>\n",
       "      <td>2.789763</td>\n",
       "      <td>11.756595</td>\n",
       "      <td>0.343916</td>\n",
       "      <td>0.488236</td>\n",
       "      <td>1.106440</td>\n",
       "      <td>0.095862</td>\n",
       "      <td>0.281035</td>\n",
       "      <td>14.072366</td>\n",
       "      <td>1.558238</td>\n",
       "      <td>1.022446</td>\n",
       "    </tr>\n",
       "    <tr>\n",
       "      <th>std</th>\n",
       "      <td>0.414707</td>\n",
       "      <td>0.600378</td>\n",
       "      <td>0.041597</td>\n",
       "      <td>0.056858</td>\n",
       "      <td>0.049663</td>\n",
       "      <td>0.057427</td>\n",
       "      <td>1.078698</td>\n",
       "      <td>2.985592</td>\n",
       "      <td>9.425217</td>\n",
       "      <td>0.359569</td>\n",
       "      <td>0.075788</td>\n",
       "      <td>3.201608</td>\n",
       "      <td>1.250181</td>\n",
       "      <td>0.073005</td>\n",
       "      <td>10.996286</td>\n",
       "      <td>0.517392</td>\n",
       "      <td>0.148130</td>\n",
       "    </tr>\n",
       "    <tr>\n",
       "      <th>min</th>\n",
       "      <td>1.000000</td>\n",
       "      <td>1.000000</td>\n",
       "      <td>-75.351311</td>\n",
       "      <td>39.947926</td>\n",
       "      <td>-75.439667</td>\n",
       "      <td>39.357143</td>\n",
       "      <td>0.000000</td>\n",
       "      <td>0.000000</td>\n",
       "      <td>0.000000</td>\n",
       "      <td>0.000000</td>\n",
       "      <td>0.000000</td>\n",
       "      <td>0.000000</td>\n",
       "      <td>0.000000</td>\n",
       "      <td>0.000000</td>\n",
       "      <td>0.000000</td>\n",
       "      <td>1.000000</td>\n",
       "      <td>1.000000</td>\n",
       "    </tr>\n",
       "    <tr>\n",
       "      <th>25%</th>\n",
       "      <td>2.000000</td>\n",
       "      <td>1.000000</td>\n",
       "      <td>-73.959366</td>\n",
       "      <td>40.700478</td>\n",
       "      <td>-73.968094</td>\n",
       "      <td>40.702679</td>\n",
       "      <td>1.000000</td>\n",
       "      <td>1.010000</td>\n",
       "      <td>6.000000</td>\n",
       "      <td>0.000000</td>\n",
       "      <td>0.500000</td>\n",
       "      <td>0.000000</td>\n",
       "      <td>0.000000</td>\n",
       "      <td>0.300000</td>\n",
       "      <td>7.800000</td>\n",
       "      <td>1.000000</td>\n",
       "      <td>1.000000</td>\n",
       "    </tr>\n",
       "    <tr>\n",
       "      <th>50%</th>\n",
       "      <td>2.000000</td>\n",
       "      <td>1.000000</td>\n",
       "      <td>-73.945526</td>\n",
       "      <td>40.746872</td>\n",
       "      <td>-73.945648</td>\n",
       "      <td>40.747932</td>\n",
       "      <td>1.000000</td>\n",
       "      <td>1.830000</td>\n",
       "      <td>9.000000</td>\n",
       "      <td>0.500000</td>\n",
       "      <td>0.500000</td>\n",
       "      <td>0.000000</td>\n",
       "      <td>0.000000</td>\n",
       "      <td>0.300000</td>\n",
       "      <td>10.800000</td>\n",
       "      <td>2.000000</td>\n",
       "      <td>1.000000</td>\n",
       "    </tr>\n",
       "    <tr>\n",
       "      <th>75%</th>\n",
       "      <td>2.000000</td>\n",
       "      <td>1.000000</td>\n",
       "      <td>-73.917969</td>\n",
       "      <td>40.802441</td>\n",
       "      <td>-73.912132</td>\n",
       "      <td>40.790722</td>\n",
       "      <td>1.000000</td>\n",
       "      <td>3.550000</td>\n",
       "      <td>14.500000</td>\n",
       "      <td>0.500000</td>\n",
       "      <td>0.500000</td>\n",
       "      <td>1.800000</td>\n",
       "      <td>0.000000</td>\n",
       "      <td>0.300000</td>\n",
       "      <td>17.000000</td>\n",
       "      <td>2.000000</td>\n",
       "      <td>1.000000</td>\n",
       "    </tr>\n",
       "    <tr>\n",
       "      <th>max</th>\n",
       "      <td>2.000000</td>\n",
       "      <td>6.000000</td>\n",
       "      <td>-71.106323</td>\n",
       "      <td>42.918247</td>\n",
       "      <td>-71.089050</td>\n",
       "      <td>42.918175</td>\n",
       "      <td>9.000000</td>\n",
       "      <td>830.400000</td>\n",
       "      <td>800.000000</td>\n",
       "      <td>1.000000</td>\n",
       "      <td>0.500000</td>\n",
       "      <td>490.000000</td>\n",
       "      <td>869.880000</td>\n",
       "      <td>0.300000</td>\n",
       "      <td>874.180000</td>\n",
       "      <td>5.000000</td>\n",
       "      <td>2.000000</td>\n",
       "    </tr>\n",
       "  </tbody>\n",
       "</table>\n",
       "</div>"
      ],
      "text/plain": [
       "            VendorID     RateCodeID  Pickup_longitude  Pickup_latitude  \\\n",
       "count  835233.000000  835233.000000     835233.000000    835233.000000   \n",
       "mean        1.779318       1.095375        -73.935918        40.749812   \n",
       "std         0.414707       0.600378          0.041597         0.056858   \n",
       "min         1.000000       1.000000        -75.351311        39.947926   \n",
       "25%         2.000000       1.000000        -73.959366        40.700478   \n",
       "50%         2.000000       1.000000        -73.945526        40.746872   \n",
       "75%         2.000000       1.000000        -73.917969        40.802441   \n",
       "max         2.000000       6.000000        -71.106323        42.918247   \n",
       "\n",
       "       Dropoff_longitude  Dropoff_latitude  Passenger_count  Trip_distance  \\\n",
       "count      835233.000000     835233.000000    835233.000000  835233.000000   \n",
       "mean          -73.935507         40.747841         1.389661       2.789763   \n",
       "std             0.049663          0.057427         1.078698       2.985592   \n",
       "min           -75.439667         39.357143         0.000000       0.000000   \n",
       "25%           -73.968094         40.702679         1.000000       1.010000   \n",
       "50%           -73.945648         40.747932         1.000000       1.830000   \n",
       "75%           -73.912132         40.790722         1.000000       3.550000   \n",
       "max           -71.089050         42.918175         9.000000     830.400000   \n",
       "\n",
       "         Fare_amount          Extra        MTA_tax     Tip_amount  \\\n",
       "count  835233.000000  835233.000000  835233.000000  835233.000000   \n",
       "mean       11.756595       0.343916       0.488236       1.106440   \n",
       "std         9.425217       0.359569       0.075788       3.201608   \n",
       "min         0.000000       0.000000       0.000000       0.000000   \n",
       "25%         6.000000       0.000000       0.500000       0.000000   \n",
       "50%         9.000000       0.500000       0.500000       0.000000   \n",
       "75%        14.500000       0.500000       0.500000       1.800000   \n",
       "max       800.000000       1.000000       0.500000     490.000000   \n",
       "\n",
       "        Tolls_amount  improvement_surcharge   Total_amount   Payment_type  \\\n",
       "count  835233.000000          835233.000000  835233.000000  835233.000000   \n",
       "mean        0.095862               0.281035      14.072366       1.558238   \n",
       "std         1.250181               0.073005      10.996286       0.517392   \n",
       "min         0.000000               0.000000       0.000000       1.000000   \n",
       "25%         0.000000               0.300000       7.800000       1.000000   \n",
       "50%         0.000000               0.300000      10.800000       2.000000   \n",
       "75%         0.000000               0.300000      17.000000       2.000000   \n",
       "max       869.880000               0.300000     874.180000       5.000000   \n",
       "\n",
       "          Trip_type   \n",
       "count  835233.000000  \n",
       "mean        1.022446  \n",
       "std         0.148130  \n",
       "min         1.000000  \n",
       "25%         1.000000  \n",
       "50%         1.000000  \n",
       "75%         1.000000  \n",
       "max         2.000000  "
      ]
     },
     "execution_count": 317,
     "metadata": {},
     "output_type": "execute_result"
    }
   ],
   "source": [
    "df_clean.describe()"
   ]
  },
  {
   "cell_type": "code",
   "execution_count": 321,
   "metadata": {},
   "outputs": [
    {
     "data": {
      "text/plain": [
       "VendorID                          int64\n",
       "lpep_pickup_datetime     datetime64[ns]\n",
       "Lpep_dropoff_datetime    datetime64[ns]\n",
       "Store_and_fwd_flag               object\n",
       "RateCodeID                        int64\n",
       "Pickup_longitude                float64\n",
       "Pickup_latitude                 float64\n",
       "Dropoff_longitude               float64\n",
       "Dropoff_latitude                float64\n",
       "Passenger_count                   int64\n",
       "Trip_distance                   float64\n",
       "Fare_amount                     float64\n",
       "Extra                           float64\n",
       "MTA_tax                         float64\n",
       "Tip_amount                      float64\n",
       "Tolls_amount                    float64\n",
       "improvement_surcharge           float64\n",
       "Total_amount                    float64\n",
       "Payment_type                      int64\n",
       "Trip_type                         int64\n",
       "dtype: object"
      ]
     },
     "execution_count": 321,
     "metadata": {},
     "output_type": "execute_result"
    }
   ],
   "source": [
    "df_clean.dtypes"
   ]
  },
  {
   "cell_type": "code",
   "execution_count": 322,
   "metadata": {},
   "outputs": [
    {
     "data": {
      "text/plain": [
       "(835233, 20)"
      ]
     },
     "execution_count": 322,
     "metadata": {},
     "output_type": "execute_result"
    }
   ],
   "source": []
  },
  {
   "cell_type": "code",
   "execution_count": null,
   "metadata": {},
   "outputs": [],
   "source": []
  },
  {
   "cell_type": "code",
   "execution_count": null,
   "metadata": {},
   "outputs": [],
   "source": []
  },
  {
   "cell_type": "code",
   "execution_count": null,
   "metadata": {},
   "outputs": [],
   "source": [
    "data_filter = dfg.loc[dfg['Pickup_longitude'] != (0)]\n",
    "#df_clean = points.loc[points['Pickup_longitude'] != str(0)]"
   ]
  },
  {
   "cell_type": "code",
   "execution_count": null,
   "metadata": {},
   "outputs": [],
   "source": [
    "data_filter = data_filter.loc[data_filter['Pickup_latitude'] != (0)]"
   ]
  },
  {
   "cell_type": "code",
   "execution_count": null,
   "metadata": {},
   "outputs": [],
   "source": [
    "data_filter = data_filter.loc[data_filter['Dropoff_longitude'] != (0)]"
   ]
  },
  {
   "cell_type": "code",
   "execution_count": null,
   "metadata": {},
   "outputs": [],
   "source": [
    "data_filter.shape"
   ]
  },
  {
   "cell_type": "code",
   "execution_count": null,
   "metadata": {},
   "outputs": [],
   "source": [
    "x_coords = data_filter['Dropoff_longitude'].astype(float)\n",
    "y_coords = data_filter['Pickup_latitude'].astype(float)"
   ]
  },
  {
   "cell_type": "code",
   "execution_count": null,
   "metadata": {},
   "outputs": [],
   "source": [
    "col = data_filter.columns.tolist()"
   ]
  },
  {
   "cell_type": "code",
   "execution_count": null,
   "metadata": {},
   "outputs": [],
   "source": [
    "for column in col:\n",
    "  print(\"{}: {}\".format(columns, datafilter[column].isnull().sum()))"
   ]
  },
  {
   "cell_type": "code",
   "execution_count": null,
   "metadata": {},
   "outputs": [],
   "source": [
    "dfg.shape"
   ]
  },
  {
   "cell_type": "code",
   "execution_count": null,
   "metadata": {},
   "outputs": [],
   "source": [
    "dfg.head()"
   ]
  },
  {
   "cell_type": "code",
   "execution_count": null,
   "metadata": {},
   "outputs": [],
   "source": [
    "dfn = dfg.drop(dfg.columns[[16]], axis = 'columns')"
   ]
  },
  {
   "cell_type": "code",
   "execution_count": null,
   "metadata": {},
   "outputs": [],
   "source": [
    "dfn = dfn.dropna()"
   ]
  },
  {
   "cell_type": "code",
   "execution_count": null,
   "metadata": {},
   "outputs": [],
   "source": [
    "dfn.head()"
   ]
  },
  {
   "cell_type": "code",
   "execution_count": null,
   "metadata": {},
   "outputs": [],
   "source": [
    "col = dfn.columns.tolist()\n",
    "for column in col:\n",
    "  print(\"{}: {}\".format(column, dfn[column].isnull().sum()))"
   ]
  },
  {
   "cell_type": "code",
   "execution_count": null,
   "metadata": {},
   "outputs": [],
   "source": [
    "dfn.shape"
   ]
  },
  {
   "cell_type": "code",
   "execution_count": null,
   "metadata": {},
   "outputs": [],
   "source": [
    "dfg.describe()"
   ]
  },
  {
   "cell_type": "code",
   "execution_count": null,
   "metadata": {},
   "outputs": [],
   "source": [
    "dfg.info()"
   ]
  },
  {
   "cell_type": "code",
   "execution_count": null,
   "metadata": {},
   "outputs": [],
   "source": [
    "from bokeh.plotting import figure, save\n",
    "p = figure(title=\"My first plot!\")\n",
    "p"
   ]
  },
  {
   "cell_type": "code",
   "execution_count": null,
   "metadata": {},
   "outputs": [],
   "source": [
    "x_coords = [0,1,2,3,4]\n",
    "y_coords = [5,4,1,2,0]"
   ]
  },
  {
   "cell_type": "code",
   "execution_count": null,
   "metadata": {},
   "outputs": [],
   "source": [
    "p.circle(x=x_coords, y = y_coords, size = 10, color = \"red\")"
   ]
  },
  {
   "cell_type": "code",
   "execution_count": null,
   "metadata": {},
   "outputs": [],
   "source": [
    "#C:\\Users\\alter\\Desktop\n",
    "outputfp = r\"/Users/alter/Desktop/points.htmls\""
   ]
  },
  {
   "cell_type": "code",
   "execution_count": null,
   "metadata": {},
   "outputs": [],
   "source": [
    "save(obj = p, filename = outputfp)"
   ]
  },
  {
   "cell_type": "code",
   "execution_count": null,
   "metadata": {},
   "outputs": [],
   "source": [
    "import geopandas as gpd"
   ]
  },
  {
   "cell_type": "code",
   "execution_count": null,
   "metadata": {},
   "outputs": [],
   "source": [
    "points_fp = r\"/Users/alter/Documents/Barcelona/La Salle/Asignaturas/Data Mining/JupyterGH/green_tripdata_2015-02.csv\"\n",
    "\n",
    "# Read the data\n",
    "points = gpd.read_file(points_fp)"
   ]
  },
  {
   "cell_type": "code",
   "execution_count": null,
   "metadata": {},
   "outputs": [],
   "source": [
    "points.head()"
   ]
  },
  {
   "cell_type": "code",
   "execution_count": null,
   "metadata": {},
   "outputs": [],
   "source": [
    "p = figure(title=\"A map of address points from a Shapefile\")"
   ]
  },
  {
   "cell_type": "code",
   "execution_count": null,
   "metadata": {},
   "outputs": [],
   "source": []
  }
 ],
 "metadata": {
  "kernelspec": {
   "display_name": "Python 3",
   "language": "python",
   "name": "python3"
  },
  "language_info": {
   "codemirror_mode": {
    "name": "ipython",
    "version": 3
   },
   "file_extension": ".py",
   "mimetype": "text/x-python",
   "name": "python",
   "nbconvert_exporter": "python",
   "pygments_lexer": "ipython3",
   "version": "3.7.0"
  }
 },
 "nbformat": 4,
 "nbformat_minor": 2
}
