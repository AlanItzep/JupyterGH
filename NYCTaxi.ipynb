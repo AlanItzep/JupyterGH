{
 "cells": [
  {
   "cell_type": "code",
   "execution_count": 1,
   "metadata": {},
   "outputs": [],
   "source": [
    "import pandas as pd\n",
    "import numpy as np"
   ]
  },
  {
   "cell_type": "code",
   "execution_count": 81,
   "metadata": {},
   "outputs": [],
   "source": [
    "df_or = pd.read_csv('green_tripdata_2015-01.csv')"
   ]
  },
  {
   "cell_type": "code",
   "execution_count": 82,
   "metadata": {},
   "outputs": [],
   "source": [
    "df = df_or"
   ]
  },
  {
   "cell_type": "code",
   "execution_count": 83,
   "metadata": {
    "scrolled": true
   },
   "outputs": [
    {
     "data": {
      "text/html": [
       "<div>\n",
       "<style scoped>\n",
       "    .dataframe tbody tr th:only-of-type {\n",
       "        vertical-align: middle;\n",
       "    }\n",
       "\n",
       "    .dataframe tbody tr th {\n",
       "        vertical-align: top;\n",
       "    }\n",
       "\n",
       "    .dataframe thead th {\n",
       "        text-align: right;\n",
       "    }\n",
       "</style>\n",
       "<table border=\"1\" class=\"dataframe\">\n",
       "  <thead>\n",
       "    <tr style=\"text-align: right;\">\n",
       "      <th></th>\n",
       "      <th>VendorID</th>\n",
       "      <th>lpep_pickup_datetime</th>\n",
       "      <th>Lpep_dropoff_datetime</th>\n",
       "      <th>Store_and_fwd_flag</th>\n",
       "      <th>RateCodeID</th>\n",
       "      <th>Pickup_longitude</th>\n",
       "      <th>Pickup_latitude</th>\n",
       "      <th>Dropoff_longitude</th>\n",
       "      <th>Dropoff_latitude</th>\n",
       "      <th>Passenger_count</th>\n",
       "      <th>...</th>\n",
       "      <th>Fare_amount</th>\n",
       "      <th>Extra</th>\n",
       "      <th>MTA_tax</th>\n",
       "      <th>Tip_amount</th>\n",
       "      <th>Tolls_amount</th>\n",
       "      <th>Ehail_fee</th>\n",
       "      <th>improvement_surcharge</th>\n",
       "      <th>Total_amount</th>\n",
       "      <th>Payment_type</th>\n",
       "      <th>Trip_type</th>\n",
       "    </tr>\n",
       "  </thead>\n",
       "  <tbody>\n",
       "    <tr>\n",
       "      <th>0</th>\n",
       "      <td>2</td>\n",
       "      <td>01/01/2015 00:34</td>\n",
       "      <td>01/01/2015 00:38</td>\n",
       "      <td>N</td>\n",
       "      <td>1</td>\n",
       "      <td>-73.922592</td>\n",
       "      <td>40.754528</td>\n",
       "      <td>-73.913635</td>\n",
       "      <td>40.765522</td>\n",
       "      <td>1</td>\n",
       "      <td>...</td>\n",
       "      <td>5.0</td>\n",
       "      <td>0.5</td>\n",
       "      <td>0.5</td>\n",
       "      <td>0.0</td>\n",
       "      <td>0.0</td>\n",
       "      <td>NaN</td>\n",
       "      <td>0.3</td>\n",
       "      <td>6.3</td>\n",
       "      <td>2</td>\n",
       "      <td>1.0</td>\n",
       "    </tr>\n",
       "    <tr>\n",
       "      <th>1</th>\n",
       "      <td>2</td>\n",
       "      <td>01/01/2015 00:34</td>\n",
       "      <td>01/01/2015 00:47</td>\n",
       "      <td>N</td>\n",
       "      <td>1</td>\n",
       "      <td>-73.952751</td>\n",
       "      <td>40.677711</td>\n",
       "      <td>-73.981529</td>\n",
       "      <td>40.658978</td>\n",
       "      <td>1</td>\n",
       "      <td>...</td>\n",
       "      <td>12.0</td>\n",
       "      <td>0.5</td>\n",
       "      <td>0.5</td>\n",
       "      <td>0.0</td>\n",
       "      <td>0.0</td>\n",
       "      <td>NaN</td>\n",
       "      <td>0.3</td>\n",
       "      <td>13.3</td>\n",
       "      <td>2</td>\n",
       "      <td>1.0</td>\n",
       "    </tr>\n",
       "    <tr>\n",
       "      <th>2</th>\n",
       "      <td>1</td>\n",
       "      <td>01/01/2015 00:34</td>\n",
       "      <td>01/01/2015 00:38</td>\n",
       "      <td>N</td>\n",
       "      <td>1</td>\n",
       "      <td>-73.843010</td>\n",
       "      <td>40.719055</td>\n",
       "      <td>-73.846581</td>\n",
       "      <td>40.711567</td>\n",
       "      <td>1</td>\n",
       "      <td>...</td>\n",
       "      <td>5.0</td>\n",
       "      <td>0.5</td>\n",
       "      <td>0.5</td>\n",
       "      <td>1.8</td>\n",
       "      <td>0.0</td>\n",
       "      <td>NaN</td>\n",
       "      <td>0.0</td>\n",
       "      <td>7.8</td>\n",
       "      <td>1</td>\n",
       "      <td>1.0</td>\n",
       "    </tr>\n",
       "    <tr>\n",
       "      <th>3</th>\n",
       "      <td>2</td>\n",
       "      <td>01/01/2015 00:34</td>\n",
       "      <td>01/01/2015 00:38</td>\n",
       "      <td>N</td>\n",
       "      <td>1</td>\n",
       "      <td>-73.860825</td>\n",
       "      <td>40.757793</td>\n",
       "      <td>-73.854042</td>\n",
       "      <td>40.749821</td>\n",
       "      <td>1</td>\n",
       "      <td>...</td>\n",
       "      <td>5.0</td>\n",
       "      <td>0.5</td>\n",
       "      <td>0.5</td>\n",
       "      <td>0.0</td>\n",
       "      <td>0.0</td>\n",
       "      <td>NaN</td>\n",
       "      <td>0.3</td>\n",
       "      <td>6.3</td>\n",
       "      <td>2</td>\n",
       "      <td>1.0</td>\n",
       "    </tr>\n",
       "    <tr>\n",
       "      <th>4</th>\n",
       "      <td>2</td>\n",
       "      <td>01/01/2015 00:34</td>\n",
       "      <td>01/01/2015 01:09</td>\n",
       "      <td>N</td>\n",
       "      <td>1</td>\n",
       "      <td>-73.945183</td>\n",
       "      <td>40.783321</td>\n",
       "      <td>-73.989624</td>\n",
       "      <td>40.765450</td>\n",
       "      <td>1</td>\n",
       "      <td>...</td>\n",
       "      <td>24.5</td>\n",
       "      <td>0.5</td>\n",
       "      <td>0.5</td>\n",
       "      <td>0.0</td>\n",
       "      <td>0.0</td>\n",
       "      <td>NaN</td>\n",
       "      <td>0.3</td>\n",
       "      <td>25.8</td>\n",
       "      <td>2</td>\n",
       "      <td>1.0</td>\n",
       "    </tr>\n",
       "  </tbody>\n",
       "</table>\n",
       "<p>5 rows × 21 columns</p>\n",
       "</div>"
      ],
      "text/plain": [
       "   VendorID lpep_pickup_datetime Lpep_dropoff_datetime Store_and_fwd_flag  \\\n",
       "0         2     01/01/2015 00:34      01/01/2015 00:38                  N   \n",
       "1         2     01/01/2015 00:34      01/01/2015 00:47                  N   \n",
       "2         1     01/01/2015 00:34      01/01/2015 00:38                  N   \n",
       "3         2     01/01/2015 00:34      01/01/2015 00:38                  N   \n",
       "4         2     01/01/2015 00:34      01/01/2015 01:09                  N   \n",
       "\n",
       "   RateCodeID  Pickup_longitude  Pickup_latitude  Dropoff_longitude  \\\n",
       "0           1        -73.922592        40.754528         -73.913635   \n",
       "1           1        -73.952751        40.677711         -73.981529   \n",
       "2           1        -73.843010        40.719055         -73.846581   \n",
       "3           1        -73.860825        40.757793         -73.854042   \n",
       "4           1        -73.945183        40.783321         -73.989624   \n",
       "\n",
       "   Dropoff_latitude  Passenger_count     ...      Fare_amount  Extra  MTA_tax  \\\n",
       "0         40.765522                1     ...              5.0    0.5      0.5   \n",
       "1         40.658978                1     ...             12.0    0.5      0.5   \n",
       "2         40.711567                1     ...              5.0    0.5      0.5   \n",
       "3         40.749821                1     ...              5.0    0.5      0.5   \n",
       "4         40.765450                1     ...             24.5    0.5      0.5   \n",
       "\n",
       "   Tip_amount  Tolls_amount  Ehail_fee  improvement_surcharge  Total_amount  \\\n",
       "0         0.0           0.0        NaN                    0.3           6.3   \n",
       "1         0.0           0.0        NaN                    0.3          13.3   \n",
       "2         1.8           0.0        NaN                    0.0           7.8   \n",
       "3         0.0           0.0        NaN                    0.3           6.3   \n",
       "4         0.0           0.0        NaN                    0.3          25.8   \n",
       "\n",
       "   Payment_type  Trip_type   \n",
       "0             2         1.0  \n",
       "1             2         1.0  \n",
       "2             1         1.0  \n",
       "3             2         1.0  \n",
       "4             2         1.0  \n",
       "\n",
       "[5 rows x 21 columns]"
      ]
     },
     "execution_count": 83,
     "metadata": {},
     "output_type": "execute_result"
    }
   ],
   "source": [
    "df.head()"
   ]
  },
  {
   "cell_type": "code",
   "execution_count": 85,
   "metadata": {},
   "outputs": [
    {
     "data": {
      "text/plain": [
       "1     1020308\n",
       "5       24160\n",
       "2        2980\n",
       "3         748\n",
       "4         352\n",
       "6          21\n",
       "99          6\n",
       "Name: RateCodeID, dtype: int64"
      ]
     },
     "execution_count": 85,
     "metadata": {},
     "output_type": "execute_result"
    }
   ],
   "source": [
    "df['RateCodeID'].value_counts()"
   ]
  },
  {
   "cell_type": "code",
   "execution_count": 84,
   "metadata": {},
   "outputs": [
    {
     "data": {
      "text/plain": [
       "(1048575, 21)"
      ]
     },
     "execution_count": 84,
     "metadata": {},
     "output_type": "execute_result"
    }
   ],
   "source": [
    "df.shape"
   ]
  },
  {
   "cell_type": "code",
   "execution_count": 35,
   "metadata": {},
   "outputs": [],
   "source": [
    "col = df.columns.tolist()"
   ]
  },
  {
   "cell_type": "code",
   "execution_count": 36,
   "metadata": {
    "scrolled": true
   },
   "outputs": [
    {
     "name": "stdout",
     "output_type": "stream",
     "text": [
      "VendorID: 0\n",
      "lpep_pickup_datetime: 0\n",
      "Lpep_dropoff_datetime: 0\n",
      "Store_and_fwd_flag: 0\n",
      "RateCodeID: 0\n",
      "Pickup_longitude: 0\n",
      "Pickup_latitude: 0\n",
      "Dropoff_longitude: 0\n",
      "Dropoff_latitude: 0\n",
      "Passenger_count: 0\n",
      "Trip_distance: 0\n",
      "Fare_amount: 0\n",
      "Extra: 0\n",
      "MTA_tax: 0\n",
      "Tip_amount: 0\n",
      "Tolls_amount: 0\n",
      "Ehail_fee: 1048458\n",
      "improvement_surcharge: 0\n",
      "Total_amount: 0\n",
      "Payment_type: 0\n",
      "Trip_type : 5\n"
     ]
    }
   ],
   "source": [
    "for column in col:\n",
    "  print(\"{}: {}\".format(column, df[column].isnull().sum()))"
   ]
  },
  {
   "cell_type": "code",
   "execution_count": 37,
   "metadata": {},
   "outputs": [
    {
     "data": {
      "text/plain": [
       "0"
      ]
     },
     "execution_count": 37,
     "metadata": {},
     "output_type": "execute_result"
    }
   ],
   "source": [
    "df.duplicated().sum()"
   ]
  },
  {
   "cell_type": "code",
   "execution_count": 38,
   "metadata": {},
   "outputs": [],
   "source": [
    "df.drop_duplicates(inplace = True)\n",
    "#df = df.drop(df.loc(df.duplicated())\n",
    "#df = df.drop(['Ehail_fee'],axis=1)\n",
    "#df = df.loc[df['Dropoff_longitude'] == 0]"
   ]
  },
  {
   "cell_type": "code",
   "execution_count": 39,
   "metadata": {},
   "outputs": [],
   "source": [
    "df = df.drop(['Ehail_fee'],axis=1)"
   ]
  },
  {
   "cell_type": "code",
   "execution_count": 40,
   "metadata": {},
   "outputs": [
    {
     "data": {
      "text/plain": [
       "(1048458, 20)"
      ]
     },
     "execution_count": 40,
     "metadata": {},
     "output_type": "execute_result"
    }
   ],
   "source": [
    "df.shape"
   ]
  },
  {
   "cell_type": "code",
   "execution_count": 41,
   "metadata": {},
   "outputs": [],
   "source": [
    "df.dropna(inplace = True)"
   ]
  },
  {
   "cell_type": "code",
   "execution_count": 42,
   "metadata": {},
   "outputs": [
    {
     "data": {
      "text/plain": [
       "(1048453, 20)"
      ]
     },
     "execution_count": 42,
     "metadata": {},
     "output_type": "execute_result"
    }
   ],
   "source": [
    "df.shape"
   ]
  },
  {
   "cell_type": "code",
   "execution_count": 43,
   "metadata": {
    "scrolled": true
   },
   "outputs": [
    {
     "data": {
      "text/html": [
       "<div>\n",
       "<style scoped>\n",
       "    .dataframe tbody tr th:only-of-type {\n",
       "        vertical-align: middle;\n",
       "    }\n",
       "\n",
       "    .dataframe tbody tr th {\n",
       "        vertical-align: top;\n",
       "    }\n",
       "\n",
       "    .dataframe thead th {\n",
       "        text-align: right;\n",
       "    }\n",
       "</style>\n",
       "<table border=\"1\" class=\"dataframe\">\n",
       "  <thead>\n",
       "    <tr style=\"text-align: right;\">\n",
       "      <th></th>\n",
       "      <th>VendorID</th>\n",
       "      <th>RateCodeID</th>\n",
       "      <th>Pickup_longitude</th>\n",
       "      <th>Pickup_latitude</th>\n",
       "      <th>Dropoff_longitude</th>\n",
       "      <th>Dropoff_latitude</th>\n",
       "      <th>Passenger_count</th>\n",
       "      <th>Trip_distance</th>\n",
       "      <th>Fare_amount</th>\n",
       "      <th>Extra</th>\n",
       "      <th>MTA_tax</th>\n",
       "      <th>Tip_amount</th>\n",
       "      <th>Tolls_amount</th>\n",
       "      <th>improvement_surcharge</th>\n",
       "      <th>Total_amount</th>\n",
       "      <th>Payment_type</th>\n",
       "      <th>Trip_type</th>\n",
       "    </tr>\n",
       "  </thead>\n",
       "  <tbody>\n",
       "    <tr>\n",
       "      <th>count</th>\n",
       "      <td>1.048453e+06</td>\n",
       "      <td>1.048453e+06</td>\n",
       "      <td>1.048453e+06</td>\n",
       "      <td>1.048453e+06</td>\n",
       "      <td>1.048453e+06</td>\n",
       "      <td>1.048453e+06</td>\n",
       "      <td>1.048453e+06</td>\n",
       "      <td>1.048453e+06</td>\n",
       "      <td>1.048453e+06</td>\n",
       "      <td>1.048453e+06</td>\n",
       "      <td>1.048453e+06</td>\n",
       "      <td>1.048453e+06</td>\n",
       "      <td>1.048453e+06</td>\n",
       "      <td>1.048453e+06</td>\n",
       "      <td>1.048453e+06</td>\n",
       "      <td>1.048453e+06</td>\n",
       "      <td>1.048453e+06</td>\n",
       "    </tr>\n",
       "    <tr>\n",
       "      <th>mean</th>\n",
       "      <td>1.778673e+00</td>\n",
       "      <td>1.097644e+00</td>\n",
       "      <td>-7.382167e+01</td>\n",
       "      <td>4.068687e+01</td>\n",
       "      <td>-7.381723e+01</td>\n",
       "      <td>4.068273e+01</td>\n",
       "      <td>1.389440e+00</td>\n",
       "      <td>2.782883e+00</td>\n",
       "      <td>1.173387e+01</td>\n",
       "      <td>3.428313e-01</td>\n",
       "      <td>4.865834e-01</td>\n",
       "      <td>1.116702e+00</td>\n",
       "      <td>9.530457e-02</td>\n",
       "      <td>2.807926e-01</td>\n",
       "      <td>1.499975e+01</td>\n",
       "      <td>1.561045e+00</td>\n",
       "      <td>1.022897e+00</td>\n",
       "    </tr>\n",
       "    <tr>\n",
       "      <th>std</th>\n",
       "      <td>4.151404e-01</td>\n",
       "      <td>6.144429e-01</td>\n",
       "      <td>2.904340e+00</td>\n",
       "      <td>1.601574e+00</td>\n",
       "      <td>2.955015e+00</td>\n",
       "      <td>1.629369e+00</td>\n",
       "      <td>1.078480e+00</td>\n",
       "      <td>2.952065e+00</td>\n",
       "      <td>9.551968e+00</td>\n",
       "      <td>3.605999e-01</td>\n",
       "      <td>8.480507e-02</td>\n",
       "      <td>3.804202e+00</td>\n",
       "      <td>1.167220e+00</td>\n",
       "      <td>7.343917e-02</td>\n",
       "      <td>9.668768e+02</td>\n",
       "      <td>5.218226e-01</td>\n",
       "      <td>1.495739e-01</td>\n",
       "    </tr>\n",
       "    <tr>\n",
       "      <th>min</th>\n",
       "      <td>1.000000e+00</td>\n",
       "      <td>1.000000e+00</td>\n",
       "      <td>-7.535131e+01</td>\n",
       "      <td>0.000000e+00</td>\n",
       "      <td>-7.543967e+01</td>\n",
       "      <td>0.000000e+00</td>\n",
       "      <td>0.000000e+00</td>\n",
       "      <td>0.000000e+00</td>\n",
       "      <td>-4.000000e+02</td>\n",
       "      <td>-1.000000e+00</td>\n",
       "      <td>-5.000000e-01</td>\n",
       "      <td>-1.450000e+01</td>\n",
       "      <td>-1.816000e+01</td>\n",
       "      <td>0.000000e+00</td>\n",
       "      <td>-4.000000e+02</td>\n",
       "      <td>1.000000e+00</td>\n",
       "      <td>1.000000e+00</td>\n",
       "    </tr>\n",
       "    <tr>\n",
       "      <th>25%</th>\n",
       "      <td>2.000000e+00</td>\n",
       "      <td>1.000000e+00</td>\n",
       "      <td>-7.395934e+01</td>\n",
       "      <td>4.070041e+01</td>\n",
       "      <td>-7.396800e+01</td>\n",
       "      <td>4.070253e+01</td>\n",
       "      <td>1.000000e+00</td>\n",
       "      <td>1.010000e+00</td>\n",
       "      <td>6.000000e+00</td>\n",
       "      <td>0.000000e+00</td>\n",
       "      <td>5.000000e-01</td>\n",
       "      <td>0.000000e+00</td>\n",
       "      <td>0.000000e+00</td>\n",
       "      <td>3.000000e-01</td>\n",
       "      <td>7.800000e+00</td>\n",
       "      <td>1.000000e+00</td>\n",
       "      <td>1.000000e+00</td>\n",
       "    </tr>\n",
       "    <tr>\n",
       "      <th>50%</th>\n",
       "      <td>2.000000e+00</td>\n",
       "      <td>1.000000e+00</td>\n",
       "      <td>-7.394547e+01</td>\n",
       "      <td>4.074686e+01</td>\n",
       "      <td>-7.394550e+01</td>\n",
       "      <td>4.074789e+01</td>\n",
       "      <td>1.000000e+00</td>\n",
       "      <td>1.830000e+00</td>\n",
       "      <td>9.000000e+00</td>\n",
       "      <td>5.000000e-01</td>\n",
       "      <td>5.000000e-01</td>\n",
       "      <td>0.000000e+00</td>\n",
       "      <td>0.000000e+00</td>\n",
       "      <td>3.000000e-01</td>\n",
       "      <td>1.080000e+01</td>\n",
       "      <td>2.000000e+00</td>\n",
       "      <td>1.000000e+00</td>\n",
       "    </tr>\n",
       "    <tr>\n",
       "      <th>75%</th>\n",
       "      <td>2.000000e+00</td>\n",
       "      <td>1.000000e+00</td>\n",
       "      <td>-7.391782e+01</td>\n",
       "      <td>4.080241e+01</td>\n",
       "      <td>-7.391186e+01</td>\n",
       "      <td>4.079070e+01</td>\n",
       "      <td>1.000000e+00</td>\n",
       "      <td>3.540000e+00</td>\n",
       "      <td>1.450000e+01</td>\n",
       "      <td>5.000000e-01</td>\n",
       "      <td>5.000000e-01</td>\n",
       "      <td>1.750000e+00</td>\n",
       "      <td>0.000000e+00</td>\n",
       "      <td>3.000000e-01</td>\n",
       "      <td>1.700000e+01</td>\n",
       "      <td>2.000000e+00</td>\n",
       "      <td>1.000000e+00</td>\n",
       "    </tr>\n",
       "    <tr>\n",
       "      <th>max</th>\n",
       "      <td>2.000000e+00</td>\n",
       "      <td>9.900000e+01</td>\n",
       "      <td>0.000000e+00</td>\n",
       "      <td>4.291825e+01</td>\n",
       "      <td>0.000000e+00</td>\n",
       "      <td>4.291817e+01</td>\n",
       "      <td>9.000000e+00</td>\n",
       "      <td>8.304000e+02</td>\n",
       "      <td>8.000000e+02</td>\n",
       "      <td>1.000000e+00</td>\n",
       "      <td>8.000000e-01</td>\n",
       "      <td>4.900000e+02</td>\n",
       "      <td>8.698800e+02</td>\n",
       "      <td>3.000000e-01</td>\n",
       "      <td>9.899704e+05</td>\n",
       "      <td>5.000000e+00</td>\n",
       "      <td>2.000000e+00</td>\n",
       "    </tr>\n",
       "  </tbody>\n",
       "</table>\n",
       "</div>"
      ],
      "text/plain": [
       "           VendorID    RateCodeID  Pickup_longitude  Pickup_latitude  \\\n",
       "count  1.048453e+06  1.048453e+06      1.048453e+06     1.048453e+06   \n",
       "mean   1.778673e+00  1.097644e+00     -7.382167e+01     4.068687e+01   \n",
       "std    4.151404e-01  6.144429e-01      2.904340e+00     1.601574e+00   \n",
       "min    1.000000e+00  1.000000e+00     -7.535131e+01     0.000000e+00   \n",
       "25%    2.000000e+00  1.000000e+00     -7.395934e+01     4.070041e+01   \n",
       "50%    2.000000e+00  1.000000e+00     -7.394547e+01     4.074686e+01   \n",
       "75%    2.000000e+00  1.000000e+00     -7.391782e+01     4.080241e+01   \n",
       "max    2.000000e+00  9.900000e+01      0.000000e+00     4.291825e+01   \n",
       "\n",
       "       Dropoff_longitude  Dropoff_latitude  Passenger_count  Trip_distance  \\\n",
       "count       1.048453e+06      1.048453e+06     1.048453e+06   1.048453e+06   \n",
       "mean       -7.381723e+01      4.068273e+01     1.389440e+00   2.782883e+00   \n",
       "std         2.955015e+00      1.629369e+00     1.078480e+00   2.952065e+00   \n",
       "min        -7.543967e+01      0.000000e+00     0.000000e+00   0.000000e+00   \n",
       "25%        -7.396800e+01      4.070253e+01     1.000000e+00   1.010000e+00   \n",
       "50%        -7.394550e+01      4.074789e+01     1.000000e+00   1.830000e+00   \n",
       "75%        -7.391186e+01      4.079070e+01     1.000000e+00   3.540000e+00   \n",
       "max         0.000000e+00      4.291817e+01     9.000000e+00   8.304000e+02   \n",
       "\n",
       "        Fare_amount         Extra       MTA_tax    Tip_amount  Tolls_amount  \\\n",
       "count  1.048453e+06  1.048453e+06  1.048453e+06  1.048453e+06  1.048453e+06   \n",
       "mean   1.173387e+01  3.428313e-01  4.865834e-01  1.116702e+00  9.530457e-02   \n",
       "std    9.551968e+00  3.605999e-01  8.480507e-02  3.804202e+00  1.167220e+00   \n",
       "min   -4.000000e+02 -1.000000e+00 -5.000000e-01 -1.450000e+01 -1.816000e+01   \n",
       "25%    6.000000e+00  0.000000e+00  5.000000e-01  0.000000e+00  0.000000e+00   \n",
       "50%    9.000000e+00  5.000000e-01  5.000000e-01  0.000000e+00  0.000000e+00   \n",
       "75%    1.450000e+01  5.000000e-01  5.000000e-01  1.750000e+00  0.000000e+00   \n",
       "max    8.000000e+02  1.000000e+00  8.000000e-01  4.900000e+02  8.698800e+02   \n",
       "\n",
       "       improvement_surcharge  Total_amount  Payment_type    Trip_type   \n",
       "count           1.048453e+06  1.048453e+06  1.048453e+06  1.048453e+06  \n",
       "mean            2.807926e-01  1.499975e+01  1.561045e+00  1.022897e+00  \n",
       "std             7.343917e-02  9.668768e+02  5.218226e-01  1.495739e-01  \n",
       "min             0.000000e+00 -4.000000e+02  1.000000e+00  1.000000e+00  \n",
       "25%             3.000000e-01  7.800000e+00  1.000000e+00  1.000000e+00  \n",
       "50%             3.000000e-01  1.080000e+01  2.000000e+00  1.000000e+00  \n",
       "75%             3.000000e-01  1.700000e+01  2.000000e+00  1.000000e+00  \n",
       "max             3.000000e-01  9.899704e+05  5.000000e+00  2.000000e+00  "
      ]
     },
     "execution_count": 43,
     "metadata": {},
     "output_type": "execute_result"
    }
   ],
   "source": [
    "df.describe()"
   ]
  },
  {
   "cell_type": "markdown",
   "metadata": {},
   "source": [
    "### To delete: \n",
    "All rows in columns Pickup_longitude Pickup_latitude  Dropoff_longitude Dropoff_latitude with value 0."
   ]
  },
  {
   "cell_type": "code",
   "execution_count": 44,
   "metadata": {
    "scrolled": true
   },
   "outputs": [],
   "source": [
    "df = df.loc[df['Pickup_longitude'] != 0]"
   ]
  },
  {
   "cell_type": "code",
   "execution_count": 45,
   "metadata": {},
   "outputs": [],
   "source": [
    "df = df.loc[df['Pickup_latitude'] != 0]"
   ]
  },
  {
   "cell_type": "code",
   "execution_count": 46,
   "metadata": {
    "scrolled": true
   },
   "outputs": [],
   "source": [
    "df = df.loc[df['Dropoff_longitude'] != 0]"
   ]
  },
  {
   "cell_type": "code",
   "execution_count": null,
   "metadata": {},
   "outputs": [],
   "source": [
    "df = df.loc[df['Dropoff_latitude'] != 0]"
   ]
  },
  {
   "cell_type": "code",
   "execution_count": 47,
   "metadata": {
    "scrolled": true
   },
   "outputs": [
    {
     "data": {
      "text/plain": [
       "(1045563, 20)"
      ]
     },
     "execution_count": 47,
     "metadata": {},
     "output_type": "execute_result"
    }
   ],
   "source": [
    "df = df.loc[df['RateCodeID'] != 99]\n",
    "df.shape"
   ]
  },
  {
   "cell_type": "code",
   "execution_count": 48,
   "metadata": {},
   "outputs": [
    {
     "data": {
      "text/plain": [
       "VendorID                   int64\n",
       "lpep_pickup_datetime      object\n",
       "Lpep_dropoff_datetime     object\n",
       "Store_and_fwd_flag        object\n",
       "RateCodeID                 int64\n",
       "Pickup_longitude         float64\n",
       "Pickup_latitude          float64\n",
       "Dropoff_longitude        float64\n",
       "Dropoff_latitude         float64\n",
       "Passenger_count            int64\n",
       "Trip_distance            float64\n",
       "Fare_amount              float64\n",
       "Extra                    float64\n",
       "MTA_tax                  float64\n",
       "Tip_amount               float64\n",
       "Tolls_amount             float64\n",
       "improvement_surcharge    float64\n",
       "Total_amount             float64\n",
       "Payment_type               int64\n",
       "Trip_type                float64\n",
       "dtype: object"
      ]
     },
     "execution_count": 48,
     "metadata": {},
     "output_type": "execute_result"
    }
   ],
   "source": [
    "df.dtypes"
   ]
  },
  {
   "cell_type": "raw",
   "metadata": {},
   "source": [
    "col = df.columns.tolist()\n",
    "for col in df:\n",
    "    print(df[col].mean())"
   ]
  },
  {
   "cell_type": "code",
   "execution_count": 49,
   "metadata": {},
   "outputs": [
    {
     "data": {
      "text/plain": [
       "(1045563, 20)"
      ]
     },
     "execution_count": 49,
     "metadata": {},
     "output_type": "execute_result"
    }
   ],
   "source": [
    "df.shape"
   ]
  },
  {
   "cell_type": "markdown",
   "metadata": {},
   "source": [
    "# Then we will split the dataset\n",
    "The principal reason is because it's a good pratice dont work with all the samples, so for this reason and also because we hace a very large dataset.  \n",
    " * 80 % train: 836450   \n",
    " * 20 % test: 209113\n",
    " \n",
    " Optionally:\n",
    " * 10 % validation"
   ]
  },
  {
   "cell_type": "code",
   "execution_count": 54,
   "metadata": {},
   "outputs": [
    {
     "data": {
      "text/plain": [
       "(1045563, 20)"
      ]
     },
     "execution_count": 54,
     "metadata": {},
     "output_type": "execute_result"
    }
   ],
   "source": [
    "df.shape"
   ]
  },
  {
   "cell_type": "code",
   "execution_count": 66,
   "metadata": {
    "scrolled": true
   },
   "outputs": [
    {
     "data": {
      "text/plain": [
       "(836450, 20)"
      ]
     },
     "execution_count": 66,
     "metadata": {},
     "output_type": "execute_result"
    }
   ],
   "source": [
    "from random import sample\n",
    "lil_df = df.loc[np.random.choice(df.index, 836450, replace = False)]\n",
    "lil_df.shape"
   ]
  },
  {
   "cell_type": "code",
   "execution_count": 67,
   "metadata": {},
   "outputs": [],
   "source": [
    "lil_df = lil_df.sort_values(by = 'lpep_pickup_datetime')"
   ]
  },
  {
   "cell_type": "code",
   "execution_count": 68,
   "metadata": {},
   "outputs": [],
   "source": [
    "lil_df.reset_index(drop = True, inplace = True)"
   ]
  },
  {
   "cell_type": "code",
   "execution_count": 71,
   "metadata": {},
   "outputs": [
    {
     "data": {
      "text/html": [
       "<div>\n",
       "<style scoped>\n",
       "    .dataframe tbody tr th:only-of-type {\n",
       "        vertical-align: middle;\n",
       "    }\n",
       "\n",
       "    .dataframe tbody tr th {\n",
       "        vertical-align: top;\n",
       "    }\n",
       "\n",
       "    .dataframe thead th {\n",
       "        text-align: right;\n",
       "    }\n",
       "</style>\n",
       "<table border=\"1\" class=\"dataframe\">\n",
       "  <thead>\n",
       "    <tr style=\"text-align: right;\">\n",
       "      <th></th>\n",
       "      <th>VendorID</th>\n",
       "      <th>lpep_pickup_datetime</th>\n",
       "      <th>Lpep_dropoff_datetime</th>\n",
       "      <th>Store_and_fwd_flag</th>\n",
       "      <th>RateCodeID</th>\n",
       "      <th>Pickup_longitude</th>\n",
       "      <th>Pickup_latitude</th>\n",
       "      <th>Dropoff_longitude</th>\n",
       "      <th>Dropoff_latitude</th>\n",
       "      <th>Passenger_count</th>\n",
       "      <th>Trip_distance</th>\n",
       "      <th>Fare_amount</th>\n",
       "      <th>Extra</th>\n",
       "      <th>MTA_tax</th>\n",
       "      <th>Tip_amount</th>\n",
       "      <th>Tolls_amount</th>\n",
       "      <th>improvement_surcharge</th>\n",
       "      <th>Total_amount</th>\n",
       "      <th>Payment_type</th>\n",
       "      <th>Trip_type</th>\n",
       "    </tr>\n",
       "  </thead>\n",
       "  <tbody>\n",
       "    <tr>\n",
       "      <th>0</th>\n",
       "      <td>2</td>\n",
       "      <td>01/01/2015 00:00</td>\n",
       "      <td>01/01/2015 00:12</td>\n",
       "      <td>N</td>\n",
       "      <td>1</td>\n",
       "      <td>-73.930908</td>\n",
       "      <td>40.694630</td>\n",
       "      <td>-73.956932</td>\n",
       "      <td>40.712601</td>\n",
       "      <td>1</td>\n",
       "      <td>2.08</td>\n",
       "      <td>10.0</td>\n",
       "      <td>0.5</td>\n",
       "      <td>0.5</td>\n",
       "      <td>2.62</td>\n",
       "      <td>0.0</td>\n",
       "      <td>0.3</td>\n",
       "      <td>13.92</td>\n",
       "      <td>1</td>\n",
       "      <td>1.0</td>\n",
       "    </tr>\n",
       "    <tr>\n",
       "      <th>1</th>\n",
       "      <td>2</td>\n",
       "      <td>01/01/2015 00:00</td>\n",
       "      <td>01/01/2015 00:12</td>\n",
       "      <td>N</td>\n",
       "      <td>1</td>\n",
       "      <td>-73.928574</td>\n",
       "      <td>40.704853</td>\n",
       "      <td>-73.987572</td>\n",
       "      <td>40.703831</td>\n",
       "      <td>1</td>\n",
       "      <td>3.68</td>\n",
       "      <td>13.0</td>\n",
       "      <td>0.5</td>\n",
       "      <td>0.5</td>\n",
       "      <td>3.38</td>\n",
       "      <td>0.0</td>\n",
       "      <td>0.3</td>\n",
       "      <td>17.68</td>\n",
       "      <td>1</td>\n",
       "      <td>1.0</td>\n",
       "    </tr>\n",
       "    <tr>\n",
       "      <th>2</th>\n",
       "      <td>2</td>\n",
       "      <td>01/01/2015 00:00</td>\n",
       "      <td>01/01/2015 00:27</td>\n",
       "      <td>N</td>\n",
       "      <td>1</td>\n",
       "      <td>-73.921448</td>\n",
       "      <td>40.766762</td>\n",
       "      <td>-73.924980</td>\n",
       "      <td>40.681644</td>\n",
       "      <td>1</td>\n",
       "      <td>9.19</td>\n",
       "      <td>29.5</td>\n",
       "      <td>0.5</td>\n",
       "      <td>0.5</td>\n",
       "      <td>0.00</td>\n",
       "      <td>0.0</td>\n",
       "      <td>0.3</td>\n",
       "      <td>30.80</td>\n",
       "      <td>1</td>\n",
       "      <td>1.0</td>\n",
       "    </tr>\n",
       "    <tr>\n",
       "      <th>3</th>\n",
       "      <td>1</td>\n",
       "      <td>01/01/2015 00:00</td>\n",
       "      <td>01/01/2015 00:05</td>\n",
       "      <td>N</td>\n",
       "      <td>1</td>\n",
       "      <td>-73.918846</td>\n",
       "      <td>40.743019</td>\n",
       "      <td>-73.901253</td>\n",
       "      <td>40.745758</td>\n",
       "      <td>1</td>\n",
       "      <td>1.00</td>\n",
       "      <td>5.5</td>\n",
       "      <td>0.5</td>\n",
       "      <td>0.5</td>\n",
       "      <td>0.00</td>\n",
       "      <td>0.0</td>\n",
       "      <td>0.3</td>\n",
       "      <td>6.80</td>\n",
       "      <td>2</td>\n",
       "      <td>1.0</td>\n",
       "    </tr>\n",
       "    <tr>\n",
       "      <th>4</th>\n",
       "      <td>1</td>\n",
       "      <td>01/01/2015 00:00</td>\n",
       "      <td>01/01/2015 00:07</td>\n",
       "      <td>N</td>\n",
       "      <td>1</td>\n",
       "      <td>-73.928108</td>\n",
       "      <td>40.670444</td>\n",
       "      <td>-73.947319</td>\n",
       "      <td>40.674217</td>\n",
       "      <td>1</td>\n",
       "      <td>1.20</td>\n",
       "      <td>7.0</td>\n",
       "      <td>0.5</td>\n",
       "      <td>0.5</td>\n",
       "      <td>0.00</td>\n",
       "      <td>0.0</td>\n",
       "      <td>0.3</td>\n",
       "      <td>8.30</td>\n",
       "      <td>2</td>\n",
       "      <td>1.0</td>\n",
       "    </tr>\n",
       "  </tbody>\n",
       "</table>\n",
       "</div>"
      ],
      "text/plain": [
       "   VendorID lpep_pickup_datetime Lpep_dropoff_datetime Store_and_fwd_flag  \\\n",
       "0         2     01/01/2015 00:00      01/01/2015 00:12                  N   \n",
       "1         2     01/01/2015 00:00      01/01/2015 00:12                  N   \n",
       "2         2     01/01/2015 00:00      01/01/2015 00:27                  N   \n",
       "3         1     01/01/2015 00:00      01/01/2015 00:05                  N   \n",
       "4         1     01/01/2015 00:00      01/01/2015 00:07                  N   \n",
       "\n",
       "   RateCodeID  Pickup_longitude  Pickup_latitude  Dropoff_longitude  \\\n",
       "0           1        -73.930908        40.694630         -73.956932   \n",
       "1           1        -73.928574        40.704853         -73.987572   \n",
       "2           1        -73.921448        40.766762         -73.924980   \n",
       "3           1        -73.918846        40.743019         -73.901253   \n",
       "4           1        -73.928108        40.670444         -73.947319   \n",
       "\n",
       "   Dropoff_latitude  Passenger_count  Trip_distance  Fare_amount  Extra  \\\n",
       "0         40.712601                1           2.08         10.0    0.5   \n",
       "1         40.703831                1           3.68         13.0    0.5   \n",
       "2         40.681644                1           9.19         29.5    0.5   \n",
       "3         40.745758                1           1.00          5.5    0.5   \n",
       "4         40.674217                1           1.20          7.0    0.5   \n",
       "\n",
       "   MTA_tax  Tip_amount  Tolls_amount  improvement_surcharge  Total_amount  \\\n",
       "0      0.5        2.62           0.0                    0.3         13.92   \n",
       "1      0.5        3.38           0.0                    0.3         17.68   \n",
       "2      0.5        0.00           0.0                    0.3         30.80   \n",
       "3      0.5        0.00           0.0                    0.3          6.80   \n",
       "4      0.5        0.00           0.0                    0.3          8.30   \n",
       "\n",
       "   Payment_type  Trip_type   \n",
       "0             1         1.0  \n",
       "1             1         1.0  \n",
       "2             1         1.0  \n",
       "3             2         1.0  \n",
       "4             2         1.0  "
      ]
     },
     "execution_count": 71,
     "metadata": {},
     "output_type": "execute_result"
    }
   ],
   "source": [
    "lil_df.head()"
   ]
  },
  {
   "cell_type": "code",
   "execution_count": 70,
   "metadata": {},
   "outputs": [
    {
     "data": {
      "text/plain": [
       "0"
      ]
     },
     "execution_count": 70,
     "metadata": {},
     "output_type": "execute_result"
    }
   ],
   "source": [
    "lil_df.duplicated().sum()"
   ]
  },
  {
   "cell_type": "code",
   "execution_count": 72,
   "metadata": {},
   "outputs": [],
   "source": [
    "df_clean = lil_df"
   ]
  },
  {
   "cell_type": "code",
   "execution_count": 73,
   "metadata": {},
   "outputs": [
    {
     "data": {
      "text/html": [
       "<div>\n",
       "<style scoped>\n",
       "    .dataframe tbody tr th:only-of-type {\n",
       "        vertical-align: middle;\n",
       "    }\n",
       "\n",
       "    .dataframe tbody tr th {\n",
       "        vertical-align: top;\n",
       "    }\n",
       "\n",
       "    .dataframe thead th {\n",
       "        text-align: right;\n",
       "    }\n",
       "</style>\n",
       "<table border=\"1\" class=\"dataframe\">\n",
       "  <thead>\n",
       "    <tr style=\"text-align: right;\">\n",
       "      <th></th>\n",
       "      <th>VendorID</th>\n",
       "      <th>RateCodeID</th>\n",
       "      <th>Pickup_longitude</th>\n",
       "      <th>Pickup_latitude</th>\n",
       "      <th>Dropoff_longitude</th>\n",
       "      <th>Dropoff_latitude</th>\n",
       "      <th>Passenger_count</th>\n",
       "      <th>Trip_distance</th>\n",
       "      <th>Fare_amount</th>\n",
       "      <th>Extra</th>\n",
       "      <th>MTA_tax</th>\n",
       "      <th>Tip_amount</th>\n",
       "      <th>Tolls_amount</th>\n",
       "      <th>improvement_surcharge</th>\n",
       "      <th>Total_amount</th>\n",
       "      <th>Payment_type</th>\n",
       "      <th>Trip_type</th>\n",
       "    </tr>\n",
       "  </thead>\n",
       "  <tbody>\n",
       "    <tr>\n",
       "      <th>count</th>\n",
       "      <td>836450.000000</td>\n",
       "      <td>836450.000000</td>\n",
       "      <td>836450.000000</td>\n",
       "      <td>836450.000000</td>\n",
       "      <td>836450.000000</td>\n",
       "      <td>836450.000000</td>\n",
       "      <td>836450.000000</td>\n",
       "      <td>836450.000000</td>\n",
       "      <td>836450.000000</td>\n",
       "      <td>836450.000000</td>\n",
       "      <td>836450.000000</td>\n",
       "      <td>836450.000000</td>\n",
       "      <td>836450.000000</td>\n",
       "      <td>836450.000000</td>\n",
       "      <td>836450.000000</td>\n",
       "      <td>836450.000000</td>\n",
       "      <td>836450.000000</td>\n",
       "    </tr>\n",
       "    <tr>\n",
       "      <th>mean</th>\n",
       "      <td>1.779395</td>\n",
       "      <td>1.096191</td>\n",
       "      <td>-73.935902</td>\n",
       "      <td>40.749820</td>\n",
       "      <td>-73.935457</td>\n",
       "      <td>40.747893</td>\n",
       "      <td>1.389349</td>\n",
       "      <td>2.786711</td>\n",
       "      <td>11.731718</td>\n",
       "      <td>0.342999</td>\n",
       "      <td>0.486781</td>\n",
       "      <td>1.104673</td>\n",
       "      <td>0.095061</td>\n",
       "      <td>0.280899</td>\n",
       "      <td>15.224995</td>\n",
       "      <td>1.560933</td>\n",
       "      <td>1.022629</td>\n",
       "    </tr>\n",
       "    <tr>\n",
       "      <th>std</th>\n",
       "      <td>0.414655</td>\n",
       "      <td>0.611899</td>\n",
       "      <td>0.041721</td>\n",
       "      <td>0.056895</td>\n",
       "      <td>0.049720</td>\n",
       "      <td>0.057446</td>\n",
       "      <td>1.078491</td>\n",
       "      <td>2.975272</td>\n",
       "      <td>9.438774</td>\n",
       "      <td>0.360519</td>\n",
       "      <td>0.084308</td>\n",
       "      <td>3.142304</td>\n",
       "      <td>1.241046</td>\n",
       "      <td>0.073250</td>\n",
       "      <td>1082.476392</td>\n",
       "      <td>0.521695</td>\n",
       "      <td>0.148718</td>\n",
       "    </tr>\n",
       "    <tr>\n",
       "      <th>min</th>\n",
       "      <td>1.000000</td>\n",
       "      <td>1.000000</td>\n",
       "      <td>-75.351311</td>\n",
       "      <td>39.947926</td>\n",
       "      <td>-75.439667</td>\n",
       "      <td>39.357143</td>\n",
       "      <td>0.000000</td>\n",
       "      <td>0.000000</td>\n",
       "      <td>-400.000000</td>\n",
       "      <td>-1.000000</td>\n",
       "      <td>-0.500000</td>\n",
       "      <td>-14.500000</td>\n",
       "      <td>-18.160000</td>\n",
       "      <td>0.000000</td>\n",
       "      <td>-400.000000</td>\n",
       "      <td>1.000000</td>\n",
       "      <td>1.000000</td>\n",
       "    </tr>\n",
       "    <tr>\n",
       "      <th>25%</th>\n",
       "      <td>2.000000</td>\n",
       "      <td>1.000000</td>\n",
       "      <td>-73.959381</td>\n",
       "      <td>40.700474</td>\n",
       "      <td>-73.968040</td>\n",
       "      <td>40.702694</td>\n",
       "      <td>1.000000</td>\n",
       "      <td>1.010000</td>\n",
       "      <td>6.000000</td>\n",
       "      <td>0.000000</td>\n",
       "      <td>0.500000</td>\n",
       "      <td>0.000000</td>\n",
       "      <td>0.000000</td>\n",
       "      <td>0.300000</td>\n",
       "      <td>7.800000</td>\n",
       "      <td>1.000000</td>\n",
       "      <td>1.000000</td>\n",
       "    </tr>\n",
       "    <tr>\n",
       "      <th>50%</th>\n",
       "      <td>2.000000</td>\n",
       "      <td>1.000000</td>\n",
       "      <td>-73.945518</td>\n",
       "      <td>40.746868</td>\n",
       "      <td>-73.945595</td>\n",
       "      <td>40.747952</td>\n",
       "      <td>1.000000</td>\n",
       "      <td>1.830000</td>\n",
       "      <td>9.000000</td>\n",
       "      <td>0.500000</td>\n",
       "      <td>0.500000</td>\n",
       "      <td>0.000000</td>\n",
       "      <td>0.000000</td>\n",
       "      <td>0.300000</td>\n",
       "      <td>10.800000</td>\n",
       "      <td>2.000000</td>\n",
       "      <td>1.000000</td>\n",
       "    </tr>\n",
       "    <tr>\n",
       "      <th>75%</th>\n",
       "      <td>2.000000</td>\n",
       "      <td>1.000000</td>\n",
       "      <td>-73.917915</td>\n",
       "      <td>40.802422</td>\n",
       "      <td>-73.912109</td>\n",
       "      <td>40.790771</td>\n",
       "      <td>1.000000</td>\n",
       "      <td>3.550000</td>\n",
       "      <td>14.500000</td>\n",
       "      <td>0.500000</td>\n",
       "      <td>0.500000</td>\n",
       "      <td>1.800000</td>\n",
       "      <td>0.000000</td>\n",
       "      <td>0.300000</td>\n",
       "      <td>17.000000</td>\n",
       "      <td>2.000000</td>\n",
       "      <td>1.000000</td>\n",
       "    </tr>\n",
       "    <tr>\n",
       "      <th>max</th>\n",
       "      <td>2.000000</td>\n",
       "      <td>99.000000</td>\n",
       "      <td>-70.957291</td>\n",
       "      <td>42.918247</td>\n",
       "      <td>-70.938744</td>\n",
       "      <td>42.918175</td>\n",
       "      <td>9.000000</td>\n",
       "      <td>830.400000</td>\n",
       "      <td>480.000000</td>\n",
       "      <td>1.000000</td>\n",
       "      <td>0.500000</td>\n",
       "      <td>475.000000</td>\n",
       "      <td>869.880000</td>\n",
       "      <td>0.300000</td>\n",
       "      <td>989970.390000</td>\n",
       "      <td>5.000000</td>\n",
       "      <td>2.000000</td>\n",
       "    </tr>\n",
       "  </tbody>\n",
       "</table>\n",
       "</div>"
      ],
      "text/plain": [
       "            VendorID     RateCodeID  Pickup_longitude  Pickup_latitude  \\\n",
       "count  836450.000000  836450.000000     836450.000000    836450.000000   \n",
       "mean        1.779395       1.096191        -73.935902        40.749820   \n",
       "std         0.414655       0.611899          0.041721         0.056895   \n",
       "min         1.000000       1.000000        -75.351311        39.947926   \n",
       "25%         2.000000       1.000000        -73.959381        40.700474   \n",
       "50%         2.000000       1.000000        -73.945518        40.746868   \n",
       "75%         2.000000       1.000000        -73.917915        40.802422   \n",
       "max         2.000000      99.000000        -70.957291        42.918247   \n",
       "\n",
       "       Dropoff_longitude  Dropoff_latitude  Passenger_count  Trip_distance  \\\n",
       "count      836450.000000     836450.000000    836450.000000  836450.000000   \n",
       "mean          -73.935457         40.747893         1.389349       2.786711   \n",
       "std             0.049720          0.057446         1.078491       2.975272   \n",
       "min           -75.439667         39.357143         0.000000       0.000000   \n",
       "25%           -73.968040         40.702694         1.000000       1.010000   \n",
       "50%           -73.945595         40.747952         1.000000       1.830000   \n",
       "75%           -73.912109         40.790771         1.000000       3.550000   \n",
       "max           -70.938744         42.918175         9.000000     830.400000   \n",
       "\n",
       "         Fare_amount          Extra        MTA_tax     Tip_amount  \\\n",
       "count  836450.000000  836450.000000  836450.000000  836450.000000   \n",
       "mean       11.731718       0.342999       0.486781       1.104673   \n",
       "std         9.438774       0.360519       0.084308       3.142304   \n",
       "min      -400.000000      -1.000000      -0.500000     -14.500000   \n",
       "25%         6.000000       0.000000       0.500000       0.000000   \n",
       "50%         9.000000       0.500000       0.500000       0.000000   \n",
       "75%        14.500000       0.500000       0.500000       1.800000   \n",
       "max       480.000000       1.000000       0.500000     475.000000   \n",
       "\n",
       "        Tolls_amount  improvement_surcharge   Total_amount   Payment_type  \\\n",
       "count  836450.000000          836450.000000  836450.000000  836450.000000   \n",
       "mean        0.095061               0.280899      15.224995       1.560933   \n",
       "std         1.241046               0.073250    1082.476392       0.521695   \n",
       "min       -18.160000               0.000000    -400.000000       1.000000   \n",
       "25%         0.000000               0.300000       7.800000       1.000000   \n",
       "50%         0.000000               0.300000      10.800000       2.000000   \n",
       "75%         0.000000               0.300000      17.000000       2.000000   \n",
       "max       869.880000               0.300000  989970.390000       5.000000   \n",
       "\n",
       "          Trip_type   \n",
       "count  836450.000000  \n",
       "mean        1.022629  \n",
       "std         0.148718  \n",
       "min         1.000000  \n",
       "25%         1.000000  \n",
       "50%         1.000000  \n",
       "75%         1.000000  \n",
       "max         2.000000  "
      ]
     },
     "execution_count": 73,
     "metadata": {},
     "output_type": "execute_result"
    }
   ],
   "source": [
    "df_clean.describe()"
   ]
  },
  {
   "cell_type": "code",
   "execution_count": 75,
   "metadata": {},
   "outputs": [
    {
     "data": {
      "text/html": [
       "<div>\n",
       "<style scoped>\n",
       "    .dataframe tbody tr th:only-of-type {\n",
       "        vertical-align: middle;\n",
       "    }\n",
       "\n",
       "    .dataframe tbody tr th {\n",
       "        vertical-align: top;\n",
       "    }\n",
       "\n",
       "    .dataframe thead th {\n",
       "        text-align: right;\n",
       "    }\n",
       "</style>\n",
       "<table border=\"1\" class=\"dataframe\">\n",
       "  <thead>\n",
       "    <tr style=\"text-align: right;\">\n",
       "      <th></th>\n",
       "      <th>VendorID</th>\n",
       "      <th>lpep_pickup_datetime</th>\n",
       "      <th>Lpep_dropoff_datetime</th>\n",
       "      <th>Store_and_fwd_flag</th>\n",
       "      <th>RateCodeID</th>\n",
       "      <th>Pickup_longitude</th>\n",
       "      <th>Pickup_latitude</th>\n",
       "      <th>Dropoff_longitude</th>\n",
       "      <th>Dropoff_latitude</th>\n",
       "      <th>Passenger_count</th>\n",
       "      <th>Trip_distance</th>\n",
       "      <th>Fare_amount</th>\n",
       "      <th>Extra</th>\n",
       "      <th>MTA_tax</th>\n",
       "      <th>Tip_amount</th>\n",
       "      <th>Tolls_amount</th>\n",
       "      <th>improvement_surcharge</th>\n",
       "      <th>Total_amount</th>\n",
       "      <th>Payment_type</th>\n",
       "      <th>Trip_type</th>\n",
       "    </tr>\n",
       "  </thead>\n",
       "  <tbody>\n",
       "    <tr>\n",
       "      <th>0</th>\n",
       "      <td>2</td>\n",
       "      <td>01/01/2015 00:00</td>\n",
       "      <td>01/01/2015 00:12</td>\n",
       "      <td>N</td>\n",
       "      <td>1</td>\n",
       "      <td>-73.930908</td>\n",
       "      <td>40.694630</td>\n",
       "      <td>-73.956932</td>\n",
       "      <td>40.712601</td>\n",
       "      <td>1</td>\n",
       "      <td>2.08</td>\n",
       "      <td>10.0</td>\n",
       "      <td>0.5</td>\n",
       "      <td>0.5</td>\n",
       "      <td>2.62</td>\n",
       "      <td>0.0</td>\n",
       "      <td>0.3</td>\n",
       "      <td>13.92</td>\n",
       "      <td>1</td>\n",
       "      <td>1.0</td>\n",
       "    </tr>\n",
       "    <tr>\n",
       "      <th>1</th>\n",
       "      <td>2</td>\n",
       "      <td>01/01/2015 00:00</td>\n",
       "      <td>01/01/2015 00:12</td>\n",
       "      <td>N</td>\n",
       "      <td>1</td>\n",
       "      <td>-73.928574</td>\n",
       "      <td>40.704853</td>\n",
       "      <td>-73.987572</td>\n",
       "      <td>40.703831</td>\n",
       "      <td>1</td>\n",
       "      <td>3.68</td>\n",
       "      <td>13.0</td>\n",
       "      <td>0.5</td>\n",
       "      <td>0.5</td>\n",
       "      <td>3.38</td>\n",
       "      <td>0.0</td>\n",
       "      <td>0.3</td>\n",
       "      <td>17.68</td>\n",
       "      <td>1</td>\n",
       "      <td>1.0</td>\n",
       "    </tr>\n",
       "    <tr>\n",
       "      <th>2</th>\n",
       "      <td>2</td>\n",
       "      <td>01/01/2015 00:00</td>\n",
       "      <td>01/01/2015 00:27</td>\n",
       "      <td>N</td>\n",
       "      <td>1</td>\n",
       "      <td>-73.921448</td>\n",
       "      <td>40.766762</td>\n",
       "      <td>-73.924980</td>\n",
       "      <td>40.681644</td>\n",
       "      <td>1</td>\n",
       "      <td>9.19</td>\n",
       "      <td>29.5</td>\n",
       "      <td>0.5</td>\n",
       "      <td>0.5</td>\n",
       "      <td>0.00</td>\n",
       "      <td>0.0</td>\n",
       "      <td>0.3</td>\n",
       "      <td>30.80</td>\n",
       "      <td>1</td>\n",
       "      <td>1.0</td>\n",
       "    </tr>\n",
       "    <tr>\n",
       "      <th>3</th>\n",
       "      <td>1</td>\n",
       "      <td>01/01/2015 00:00</td>\n",
       "      <td>01/01/2015 00:05</td>\n",
       "      <td>N</td>\n",
       "      <td>1</td>\n",
       "      <td>-73.918846</td>\n",
       "      <td>40.743019</td>\n",
       "      <td>-73.901253</td>\n",
       "      <td>40.745758</td>\n",
       "      <td>1</td>\n",
       "      <td>1.00</td>\n",
       "      <td>5.5</td>\n",
       "      <td>0.5</td>\n",
       "      <td>0.5</td>\n",
       "      <td>0.00</td>\n",
       "      <td>0.0</td>\n",
       "      <td>0.3</td>\n",
       "      <td>6.80</td>\n",
       "      <td>2</td>\n",
       "      <td>1.0</td>\n",
       "    </tr>\n",
       "    <tr>\n",
       "      <th>4</th>\n",
       "      <td>1</td>\n",
       "      <td>01/01/2015 00:00</td>\n",
       "      <td>01/01/2015 00:07</td>\n",
       "      <td>N</td>\n",
       "      <td>1</td>\n",
       "      <td>-73.928108</td>\n",
       "      <td>40.670444</td>\n",
       "      <td>-73.947319</td>\n",
       "      <td>40.674217</td>\n",
       "      <td>1</td>\n",
       "      <td>1.20</td>\n",
       "      <td>7.0</td>\n",
       "      <td>0.5</td>\n",
       "      <td>0.5</td>\n",
       "      <td>0.00</td>\n",
       "      <td>0.0</td>\n",
       "      <td>0.3</td>\n",
       "      <td>8.30</td>\n",
       "      <td>2</td>\n",
       "      <td>1.0</td>\n",
       "    </tr>\n",
       "  </tbody>\n",
       "</table>\n",
       "</div>"
      ],
      "text/plain": [
       "   VendorID lpep_pickup_datetime Lpep_dropoff_datetime Store_and_fwd_flag  \\\n",
       "0         2     01/01/2015 00:00      01/01/2015 00:12                  N   \n",
       "1         2     01/01/2015 00:00      01/01/2015 00:12                  N   \n",
       "2         2     01/01/2015 00:00      01/01/2015 00:27                  N   \n",
       "3         1     01/01/2015 00:00      01/01/2015 00:05                  N   \n",
       "4         1     01/01/2015 00:00      01/01/2015 00:07                  N   \n",
       "\n",
       "   RateCodeID  Pickup_longitude  Pickup_latitude  Dropoff_longitude  \\\n",
       "0           1        -73.930908        40.694630         -73.956932   \n",
       "1           1        -73.928574        40.704853         -73.987572   \n",
       "2           1        -73.921448        40.766762         -73.924980   \n",
       "3           1        -73.918846        40.743019         -73.901253   \n",
       "4           1        -73.928108        40.670444         -73.947319   \n",
       "\n",
       "   Dropoff_latitude  Passenger_count  Trip_distance  Fare_amount  Extra  \\\n",
       "0         40.712601                1           2.08         10.0    0.5   \n",
       "1         40.703831                1           3.68         13.0    0.5   \n",
       "2         40.681644                1           9.19         29.5    0.5   \n",
       "3         40.745758                1           1.00          5.5    0.5   \n",
       "4         40.674217                1           1.20          7.0    0.5   \n",
       "\n",
       "   MTA_tax  Tip_amount  Tolls_amount  improvement_surcharge  Total_amount  \\\n",
       "0      0.5        2.62           0.0                    0.3         13.92   \n",
       "1      0.5        3.38           0.0                    0.3         17.68   \n",
       "2      0.5        0.00           0.0                    0.3         30.80   \n",
       "3      0.5        0.00           0.0                    0.3          6.80   \n",
       "4      0.5        0.00           0.0                    0.3          8.30   \n",
       "\n",
       "   Payment_type  Trip_type   \n",
       "0             1         1.0  \n",
       "1             1         1.0  \n",
       "2             1         1.0  \n",
       "3             2         1.0  \n",
       "4             2         1.0  "
      ]
     },
     "execution_count": 75,
     "metadata": {},
     "output_type": "execute_result"
    }
   ],
   "source": [
    "df_clean.head()"
   ]
  },
  {
   "cell_type": "code",
   "execution_count": 76,
   "metadata": {},
   "outputs": [
    {
     "data": {
      "text/plain": [
       "array([ 1,  5,  2,  3,  4,  6, 99], dtype=int64)"
      ]
     },
     "execution_count": 76,
     "metadata": {},
     "output_type": "execute_result"
    }
   ],
   "source": [
    "df_clean['RateCodeID'].unique()"
   ]
  },
  {
   "cell_type": "code",
   "execution_count": 86,
   "metadata": {},
   "outputs": [
    {
     "name": "stdout",
     "output_type": "stream",
     "text": [
      "VendorID: [2 1]\n",
      "lpep_pickup_datetime: ['01/01/2015 00:00' '01/01/2015 00:01' '01/01/2015 00:02' ...\n",
      " '22/01/2015 16:20' '22/01/2015 16:21' '22/01/2015 16:22']\n",
      "Lpep_dropoff_datetime: ['01/01/2015 00:12' '01/01/2015 00:27' '01/01/2015 00:05' ...\n",
      " '22/01/2015 16:22' '22/01/2015 16:23' '22/01/2015 16:21']\n",
      "Store_and_fwd_flag: ['N' 'Y']\n",
      "RateCodeID: [ 1  5  2  3  4  6 99]\n",
      "Pickup_longitude: [-73.9309082  -73.92857361 -73.92144775 ... -73.85050201 -73.78638458\n",
      " -74.0144043 ]\n",
      "Pickup_latitude: [40.69462967 40.70485306 40.76676178 ... 40.63927078 40.87960052\n",
      " 40.85572433]\n",
      "Dropoff_longitude: [-73.95693207 -73.98757172 -73.92498016 ... -73.78171539 -73.74061584\n",
      " -73.80302429]\n",
      "Dropoff_latitude: [40.71260071 40.70383072 40.68164444 ... 40.86904907 40.64959717\n",
      " 40.86332703]\n",
      "Passenger_count: [1 2 5 4 6 3 8 0 7 9]\n",
      "Trip_distance: [ 2.08  3.68  9.19 ... 26.47 22.39 25.62]\n",
      "Fare_amount: [ 1.0000e+01  1.3000e+01  2.9500e+01  5.5000e+00  7.0000e+00  3.5000e+01\n",
      "  6.0000e+00  4.5000e+00  1.9000e+01  1.1500e+01  1.3500e+01  3.0000e+00\n",
      "  1.2500e+01  6.5000e+00  1.4500e+01  2.1000e+01  9.0000e+00  1.0500e+01\n",
      "  8.5000e+00  1.5500e+01  5.0000e+00  8.0000e+00  1.4000e+01  4.0000e+00\n",
      "  7.5000e+00  2.3000e+01  1.7000e+01  2.0500e+01  2.4500e+01  2.5000e+00\n",
      "  1.1000e+01  3.5000e+00  2.4000e+01  1.6000e+01  2.9000e+01  4.2000e+01\n",
      "  4.0000e+01  2.1500e+01  1.8000e+01  3.3500e+01  1.7500e+01  9.5000e+00\n",
      "  4.3500e+01  1.8500e+01 -2.5000e+00  3.4000e+01  2.2000e+01  1.5000e+01\n",
      "  4.2500e+01  0.0000e+00  8.1500e+01  3.0500e+01  2.8500e+01  2.3500e+01\n",
      "  1.2000e+01  2.5500e+01  2.6000e+01  2.6500e+01  2.2500e+01  1.6500e+01\n",
      "  2.7500e+01  2.7000e+01  4.7000e+01  2.8000e+01  2.5000e+01  2.0000e+01\n",
      "  3.6500e+01  5.2000e+01  3.2500e+01  4.9000e+01  3.1500e+01  1.9500e+01\n",
      "  3.5500e+01  3.9000e+01  3.0000e+01  3.1000e+01  3.2000e+01  4.0500e+01\n",
      "  4.5500e+01  5.2500e+01  3.4500e+01  6.0000e+01  4.1000e+01  3.7500e+01\n",
      "  3.6000e+01  5.6000e+01  5.0000e+01  4.8000e+01  3.3000e+01  3.7000e+01\n",
      "  4.7500e+01  1.1800e+01  3.8000e+01  4.1500e+01  3.9500e+01  7.4000e+01\n",
      "  4.9500e+01  5.1000e+01  4.3000e+01  4.6000e+01  4.4500e+01  4.8500e+01\n",
      "  4.4000e+01  3.0000e-01  2.2800e+01  4.6500e+01  7.1000e+01  5.5500e+01\n",
      "  5.1500e+01 -3.0000e+00  5.3500e+01  6.2000e+01  5.3000e+01  1.5000e+00\n",
      "  7.2500e+01  4.5000e+01  6.4500e+01  5.4000e+01  3.8500e+01  6.9000e+01\n",
      "  1.1200e+02 -4.5000e+00  1.4800e+01  1.0000e-02  5.7500e+01  3.5800e+01\n",
      "  6.0500e+01  8.8000e+01  6.7500e+01  5.4500e+01  1.1700e+02  5.0500e+01\n",
      "  6.8000e+01  1.2000e+02  6.1000e+01  5.8500e+01  5.9000e+01  5.5000e+01\n",
      " -5.0000e+00  2.4800e+01  2.4600e+02  6.4000e+01  6.6000e+01  6.3500e+01\n",
      "  8.0500e+01  6.5500e+01  8.5000e+01  5.7000e+01  7.0000e+01 -5.5000e+00\n",
      "  9.2000e+01  6.0000e-01  9.0000e+01  5.9500e+01  8.0000e+01  6.1500e+01\n",
      "  1.3400e+02 -1.3400e+02  5.8000e+01  1.0000e+02  7.4500e+01  2.0000e+02\n",
      "  7.5000e+01 -3.5000e+00 -5.0000e+01  5.6500e+01  7.7000e+01  7.7500e+01\n",
      "  1.5000e+02  6.3000e+00  7.1500e+01  4.0000e+02  1.9850e+02 -6.0000e+00\n",
      "  7.2000e+01 -2.0000e+01  6.8500e+01  8.9000e+01  8.8000e+00 -4.0000e+00\n",
      "  7.8000e+01  6.5000e+01  1.2200e+01  7.8500e+01 -4.5000e+01  7.0500e+01\n",
      " -1.1000e+02  8.1000e+01  1.0800e+01  7.9500e+01  7.6000e+01  1.0150e+02\n",
      "  8.2500e+01  8.8500e+01  1.1800e+02  2.3100e+02 -1.5000e+01  1.4800e+02\n",
      "  6.2500e+01  6.3000e+01  2.5000e-01  1.0000e+00  1.0700e+01  3.5000e+02\n",
      "  1.0850e+02  7.3000e+01  2.0000e+00 -5.2000e+01  7.8000e+00  1.4000e+02\n",
      "  1.2200e+02  1.7700e+01  1.6300e+01  2.3000e-01  9.7000e+01 -6.5000e+00\n",
      "  7.9000e+01  6.7000e+01  8.3000e+01  1.6000e-01 -1.6000e+01  9.8000e+01\n",
      "  7.2000e+00  8.2000e+00  9.3000e+01  1.1200e+01  3.9340e+01  8.0070e+01\n",
      "  9.2000e+00  1.3200e+01  1.8800e+01  7.5500e+01  2.1000e+00  6.6500e+01\n",
      "  1.0600e+02  8.0000e-02  8.6000e+01  1.0000e-01 -1.1500e+01  8.9500e+01\n",
      "  8.5500e+01  1.8000e+00  2.2000e+00  1.2250e+02  1.7000e-01 -8.0000e+00\n",
      "  1.1300e+02  1.3250e+01  1.1000e+02  9.9000e+01  3.0000e+02 -7.0000e+00\n",
      "  1.6000e+02 -6.5000e+01  4.5000e+02  2.5000e+02  2.0000e-02  7.6500e+01\n",
      " -7.0000e+01  2.2220e+01  1.6800e+01  1.2300e+01  8.7000e+01  6.8000e+00\n",
      "  1.5180e+01  1.5550e+01  1.1000e+00  1.0450e+02  7.0000e-01  1.7000e+02\n",
      "  2.8000e+00  1.8000e-01  5.2000e-01 -1.0000e+01  8.7500e+01  1.2720e+01\n",
      "  3.8000e+00  1.0250e+02  1.0550e+02  6.9500e+01  1.5190e+02  8.3500e+01\n",
      " -1.0500e+01 -5.5000e+01  8.3000e+00  1.0550e+01  5.8330e+01  8.6500e+01\n",
      "  1.3800e+02  2.8800e+01  9.7500e+01  1.3450e+02  2.3800e+01  8.4500e+01\n",
      "  8.8200e+01  1.1250e+02  1.5880e+01  1.8880e+01  8.9600e+00  8.2000e+01\n",
      "  2.9150e+01  1.7800e+02  2.0800e+01  1.2800e+01  1.0750e+02  1.0100e+02\n",
      "  9.8000e+00  7.8400e+00  7.3000e+00  5.1000e+00  3.9000e+00  6.6600e+00\n",
      " -1.8000e+01  9.4500e+01  2.4000e+00  8.4000e+01  4.9500e+00  1.5300e+01\n",
      "  4.7000e-01  1.2850e+02  9.5000e+01  9.7000e+00  5.5550e+01  2.8300e+01\n",
      "  7.7700e+00  1.0950e+02  1.8300e+01  5.0000e-01  1.5000e-01  1.3800e+01\n",
      "  1.3440e+01  3.3130e+01  3.8000e-01  3.1000e+00  1.3000e-01  1.6000e+00\n",
      "  9.1000e+01  1.4400e+02  1.7000e+00  9.6000e+01  5.0000e-02  1.2500e+00\n",
      "  1.2500e+02 -1.0000e-02 -4.0000e+02  1.0700e+02  7.0090e+01 -7.0090e+01\n",
      "  4.4400e+01  2.1100e+01  3.1670e+01  9.2500e+01  2.8750e+01  9.9000e+00\n",
      "  1.1950e+02  2.9200e+01  1.0200e+02  4.2560e+01  5.3000e+00  1.1100e+02\n",
      "  1.4000e-01  4.8000e+02  3.5890e+01  4.5720e+01  2.0080e+01  3.5870e+01\n",
      "  3.0810e+01  1.5870e+01  2.1980e+01  2.0780e+01  1.9950e+02  1.7300e+01\n",
      "  6.1750e+01  9.3500e+01  1.2000e-01 -1.5000e-01  1.8000e+02  1.3100e+02\n",
      "  8.0000e-01  4.9000e-01  9.0500e+01  9.6500e+01  4.5450e+01  1.0890e+01\n",
      "  9.5500e+01  2.5300e+01  1.0500e+02  5.7300e+01  2.9700e+01  9.1500e+01\n",
      "  6.5650e+01  1.1300e+01  6.2500e+00  4.1300e+01  1.4500e+02  9.8500e+01\n",
      " -1.4000e+01 -1.3500e+01  2.6880e+01 -2.1500e+01  6.1400e+00  1.6250e+01\n",
      "  1.3290e+01  7.3500e+01 -2.1000e+01  1.5800e+01  1.2300e+02  6.9920e+01\n",
      "  1.5770e+01  8.8800e+00  3.0400e+02  1.4300e+01  1.3000e+00  5.2800e+01\n",
      "  2.9000e+00  1.2600e+01  2.4200e+01  2.0150e+02  2.2300e+01  4.8000e+00\n",
      "  1.2700e+02  2.7080e+02 -1.9500e+01  1.2850e+01  3.0050e+01  7.4630e+01\n",
      " -1.1000e+01  7.0500e+00  1.1500e+02  1.2150e+02  3.5550e+01  2.9500e+02\n",
      "  1.3000e+02 -3.0000e+01 -2.0000e-01  2.0000e-01  1.7950e+02  3.3250e+01\n",
      "  4.7500e+02  2.7500e+02  1.9000e+02  7.5000e-01  1.6700e+02  1.9200e+01\n",
      " -8.5000e+00  2.6300e+01  6.8880e+01  9.5800e+01  2.4400e+01  1.6430e+01\n",
      " -1.5000e+02  2.0090e+01  1.5750e+01 -7.8000e+01  9.9500e+01 -6.0000e+01\n",
      " -2.5000e+01  1.8300e+02  1.8950e+02  1.4200e+01  2.4950e+02  1.3009e+02\n",
      "  3.8800e+01  1.0300e+02  1.3350e+02  1.1150e+02  3.1300e+01  2.0005e+02\n",
      " -1.0000e+00 -3.5000e+01  1.6750e+02 -1.7500e+01  2.5800e+01  1.5700e+01\n",
      "  8.0080e+01  1.0500e+00  6.5170e+01  2.4700e+01  3.9200e+01  4.4000e+00\n",
      "  5.7000e+00  2.2200e+01  1.9000e+00  1.6500e+02  1.2000e+00 -2.0000e+02\n",
      "  4.0700e+01  1.6550e+01  5.5500e+00  1.9500e+02  8.9300e+00  2.1200e+01\n",
      "  1.1110e+01  4.5008e+02  6.0000e-02  5.8000e+00  1.5050e+02  1.6508e+02\n",
      "  2.7000e+00  1.1700e+01  2.6000e+00  1.3090e+01  1.9800e+01  1.2750e+02\n",
      "  1.1090e+01  1.2450e+02 -5.5500e+00  2.1300e+01  1.8900e+02  9.4000e+01\n",
      "  4.4670e+01  8.2500e+00  1.7800e+01  2.2500e+00  1.3050e+02  1.8800e+02\n",
      "  3.3000e+00  3.0800e+01  4.5500e+02  9.3000e+00  1.3650e+02  1.6380e+02\n",
      "  3.0001e+02  1.3220e+02  1.0200e+01  1.4250e+02  1.1450e+02  1.6330e+01\n",
      "  4.2750e+02  2.9380e+01  1.0350e+02  1.4300e+02  1.7850e+02  5.9200e+01\n",
      "  1.5800e+00  1.2800e+02  1.5800e+02 -5.6000e+01  9.6000e+00  1.3300e+01\n",
      "  4.3000e+00  3.4500e+02  1.4750e+01  1.9990e+01  8.7200e+00 -8.5000e+01\n",
      "  2.1800e+01  1.0650e+02  1.7500e+02  3.0330e+01  1.4550e+02  1.6400e+02\n",
      "  1.0050e+01  1.5600e+02  1.8350e+02  1.9350e+02  1.5680e+01  1.6200e+01\n",
      "  4.9300e+01  2.2000e-01  1.1650e+02  4.5550e+01  4.5000e-01 -3.3000e+01\n",
      "  1.2900e+01  7.0300e+01  3.2500e+02  1.3500e+02  1.3330e+01 -2.0000e+00\n",
      "  5.1200e+01  1.1730e+02  7.3800e+01  2.3300e+01 -1.1111e+02  1.1111e+02\n",
      "  2.6700e+01  2.7460e+01  2.9600e+01  1.2090e+01 -1.2000e+02  3.4850e+02\n",
      "  1.2100e+01  1.2600e+02  1.0400e+02  2.3870e+01  1.0900e+02  1.5750e+02\n",
      "  4.1770e+01  2.2050e+02  5.4920e+01  1.0380e+01  1.1600e+02  2.2000e+02\n",
      "  1.5950e+02 -1.3000e+00  1.5100e+02  8.9000e+00  1.0300e+01  7.4000e-01\n",
      " -1.3000e+01  1.0480e+01  1.7700e+02 -2.4200e+01  1.1400e+02  1.2550e+02\n",
      "  3.0000e-02  2.8000e-01  1.2650e+02 -2.2000e+01  2.1300e+02 -3.0000e+02\n",
      "  4.7330e+01  5.7460e+01  2.0160e+01  1.6100e+02  6.4800e+01  8.8000e-01\n",
      "  4.2000e+02  1.0950e+01  4.0750e+01  6.0750e+01  1.5500e+02  4.4800e+01\n",
      "  5.7170e+01  7.0000e-02 -9.5000e+00  9.6300e+00]\n",
      "Extra: [ 0.5  0.  -0.5  1.  -1. ]\n",
      "MTA_tax: [ 0.5  0.  -0.5]\n",
      "Tip_amount: [ 2.62  3.38  0.   ... 14.91 24.54 23.08]\n",
      "Tolls_amount: [ 0.0000e+00  5.3300e+00  7.5000e+00  2.4400e+00  9.7500e+00  1.0660e+01\n",
      "  1.3000e+01  1.2830e+01  9.0000e+00  2.0000e+00  1.2750e+01  1.9500e+01\n",
      "  1.5080e+01  7.3300e+00  5.0000e-01  1.1750e+01  1.4870e+02  1.5000e+00\n",
      "  1.7000e+01  8.6988e+02 -1.8160e+01  1.8160e+01  9.8400e+00  1.5000e+01\n",
      "  2.3430e+01  4.0000e+00  7.7700e+00  2.2410e+01  2.3000e+01  3.0000e+00\n",
      "  5.3500e+00  1.8000e+01  1.3330e+01  1.1000e+01  1.7080e+01  1.2000e+01\n",
      "  1.6000e+01  5.3400e+00  2.2860e+01  3.3500e+01  1.0330e+01  1.4190e+01\n",
      "  1.4700e+01  6.7000e+01  1.0600e+01  1.8750e+01  5.5000e+00  8.0100e+00\n",
      "  9.2000e+00  6.5800e+00  2.0410e+01  1.9080e+01  8.0000e+00  9.2500e+00\n",
      "  5.8300e+00  1.0000e+01  1.0000e+00  1.4000e+01  1.9700e+01  1.3450e+01\n",
      "  4.8000e+01  1.8900e+01  2.3000e+00 -2.3000e+00  1.4100e+01  3.5000e+00\n",
      "  6.0000e+00  5.3200e+00  2.1000e+01  3.0000e-01  5.0000e+00  3.0000e+01\n",
      "  1.2190e+01  2.1080e+01  2.0000e+01  1.5990e+01  4.7000e+01  5.8500e+00\n",
      "  5.3000e+00  1.4750e+01  2.5080e+01  1.0210e+01  2.5000e+01  2.7410e+01\n",
      "  2.1500e+01  5.0000e+01  6.1300e+00  2.3300e+00  1.0732e+02  3.5000e+01\n",
      "  7.0000e+00  1.1111e+02  2.5000e+00  2.4830e+01  1.9800e+01  3.4160e+01\n",
      " -5.3300e+00  1.0200e+01  1.5700e+01  1.3700e+01  1.0000e-02 -2.0000e+00\n",
      "  5.5500e+00  3.2000e+00  2.3700e+01  2.2500e+01  1.5750e+01  1.2500e+01\n",
      "  4.4400e+00  2.2280e+01  1.9750e+01  1.4250e+01  1.5250e+01  1.5000e-01\n",
      "  3.0000e-02]\n",
      "improvement_surcharge: [0.3 0. ]\n",
      "Total_amount: [ 13.92  17.68  30.8  ...  48.49  89.46 106.34]\n",
      "Payment_type: [1 2 3 4 5]\n",
      "Trip_type : [1. 2.]\n"
     ]
    }
   ],
   "source": [
    "col = df_clean.columns.tolist()\n",
    "\n",
    "for column in col:\n",
    "  print(\"{}: {}\".format(column, df_clean[column].unique()))"
   ]
  },
  {
   "cell_type": "code",
   "execution_count": 78,
   "metadata": {},
   "outputs": [],
   "source": [
    "t1 = df_clean.loc[df_clean['RateCodeID'] == 99]"
   ]
  },
  {
   "cell_type": "code",
   "execution_count": 80,
   "metadata": {},
   "outputs": [
    {
     "data": {
      "text/plain": [
       "1     814239\n",
       "5      18979\n",
       "2       2351\n",
       "3        584\n",
       "4        277\n",
       "6         19\n",
       "99         1\n",
       "Name: RateCodeID, dtype: int64"
      ]
     },
     "execution_count": 80,
     "metadata": {},
     "output_type": "execute_result"
    }
   ],
   "source": [
    "df_clean['RateCodeID'].value_counts()"
   ]
  },
  {
   "cell_type": "code",
   "execution_count": null,
   "metadata": {},
   "outputs": [],
   "source": [
    "df_clean['RateCodeID'].value_counts()"
   ]
  },
  {
   "cell_type": "code",
   "execution_count": 93,
   "metadata": {},
   "outputs": [
    {
     "data": {
      "text/plain": [
       " 6.80      34661\n",
       " 7.30      31375\n",
       " 7.80      29629\n",
       " 6.30      29278\n",
       " 8.30      28494\n",
       " 5.80      26333\n",
       " 9.80      25085\n",
       " 8.80      24947\n",
       " 9.30      21920\n",
       " 5.30      19447\n",
       " 10.80     18483\n",
       " 10.30     18085\n",
       " 12.80     15182\n",
       " 11.30     14840\n",
       " 11.80     14203\n",
       " 4.80      12753\n",
       " 12.30     12736\n",
       " 13.30     11832\n",
       " 15.80     11253\n",
       " 13.80     10646\n",
       " 14.30      9598\n",
       " 14.80      9058\n",
       " 8.00       8617\n",
       " 15.30      8290\n",
       " 18.80      7053\n",
       " 16.30      6992\n",
       " 4.30       6703\n",
       " 16.80      6571\n",
       " 17.30      6174\n",
       " 8.60       6088\n",
       "           ...  \n",
       " 152.00        1\n",
       " 4.52          1\n",
       " 137.95        1\n",
       " 93.11         1\n",
       " 92.71         1\n",
       " 16.02         1\n",
       "-150.00        1\n",
       "-111.11        1\n",
       " 13.11         1\n",
       " 80.01         1\n",
       " 16.99         1\n",
       " 67.54         1\n",
       " 2.01          1\n",
       " 64.33         1\n",
       " 64.17         1\n",
       " 123.05        1\n",
       "-27.13         1\n",
       " 55.25         1\n",
       " 170.94        1\n",
       " 34.05         1\n",
       " 64.83         1\n",
       " 38.52         1\n",
       " 123.55        1\n",
       " 44.98         1\n",
       " 23.91         1\n",
       " 27.39         1\n",
       " 58.26         1\n",
       " 122.30        1\n",
       " 57.96         1\n",
       " 29.86         1\n",
       "Name: Total_amount, Length: 4128, dtype: int64"
      ]
     },
     "execution_count": 93,
     "metadata": {},
     "output_type": "execute_result"
    }
   ],
   "source": [
    "df_clean['Total_amount'].value_counts()"
   ]
  },
  {
   "cell_type": "code",
   "execution_count": 94,
   "metadata": {},
   "outputs": [
    {
     "data": {
      "text/plain": [
       "count    836450.000000\n",
       "mean         15.224995\n",
       "std        1082.476392\n",
       "min        -400.000000\n",
       "25%           7.800000\n",
       "50%          10.800000\n",
       "75%          17.000000\n",
       "max      989970.390000\n",
       "Name: Total_amount, dtype: float64"
      ]
     },
     "execution_count": 94,
     "metadata": {},
     "output_type": "execute_result"
    }
   ],
   "source": [
    "df_clean['Total_amount'].describe()"
   ]
  },
  {
   "cell_type": "code",
   "execution_count": 110,
   "metadata": {},
   "outputs": [
    {
     "data": {
      "text/plain": [
       "(835210, 20)"
      ]
     },
     "execution_count": 110,
     "metadata": {},
     "output_type": "execute_result"
    }
   ],
   "source": [
    "t2 = df_clean.loc[df_clean['Total_amount'] >= 0 ]\n",
    "t2 = t2.loc[t2['Total_amount'] <= 1000]\n",
    "t2.shape"
   ]
  },
  {
   "cell_type": "code",
   "execution_count": 111,
   "metadata": {},
   "outputs": [
    {
     "data": {
      "text/plain": [
       "(836450, 20)"
      ]
     },
     "execution_count": 111,
     "metadata": {},
     "output_type": "execute_result"
    }
   ],
   "source": [
    "df_clean.shape"
   ]
  },
  {
   "cell_type": "code",
   "execution_count": 112,
   "metadata": {},
   "outputs": [
    {
     "data": {
      "text/plain": [
       "count    835210.000000\n",
       "mean         14.077576\n",
       "std          10.922953\n",
       "min           0.000000\n",
       "25%           7.800000\n",
       "50%          10.800000\n",
       "75%          17.000000\n",
       "max         874.180000\n",
       "Name: Total_amount, dtype: float64"
      ]
     },
     "execution_count": 112,
     "metadata": {},
     "output_type": "execute_result"
    }
   ],
   "source": [
    "t2['Total_amount'].describe()"
   ]
  },
  {
   "cell_type": "code",
   "execution_count": null,
   "metadata": {},
   "outputs": [],
   "source": []
  },
  {
   "cell_type": "code",
   "execution_count": null,
   "metadata": {},
   "outputs": [],
   "source": []
  },
  {
   "cell_type": "code",
   "execution_count": null,
   "metadata": {},
   "outputs": [],
   "source": []
  },
  {
   "cell_type": "code",
   "execution_count": null,
   "metadata": {},
   "outputs": [],
   "source": []
  },
  {
   "cell_type": "code",
   "execution_count": null,
   "metadata": {},
   "outputs": [],
   "source": [
    "data_filter = dfg.loc[dfg['Pickup_longitude'] != (0)]\n",
    "#df_clean = points.loc[points['Pickup_longitude'] != str(0)]"
   ]
  },
  {
   "cell_type": "code",
   "execution_count": null,
   "metadata": {},
   "outputs": [],
   "source": [
    "data_filter = data_filter.loc[data_filter['Pickup_latitude'] != (0)]"
   ]
  },
  {
   "cell_type": "code",
   "execution_count": null,
   "metadata": {},
   "outputs": [],
   "source": [
    "data_filter = data_filter.loc[data_filter['Dropoff_longitude'] != (0)]"
   ]
  },
  {
   "cell_type": "code",
   "execution_count": null,
   "metadata": {},
   "outputs": [],
   "source": [
    "data_filter.shape"
   ]
  },
  {
   "cell_type": "code",
   "execution_count": null,
   "metadata": {},
   "outputs": [],
   "source": [
    "x_coords = data_filter['Dropoff_longitude'].astype(float)\n",
    "y_coords = data_filter['Pickup_latitude'].astype(float)"
   ]
  },
  {
   "cell_type": "code",
   "execution_count": null,
   "metadata": {},
   "outputs": [],
   "source": [
    "col = data_filter.columns.tolist()"
   ]
  },
  {
   "cell_type": "code",
   "execution_count": null,
   "metadata": {},
   "outputs": [],
   "source": [
    "for column in col:\n",
    "  print(\"{}: {}\".format(columns, datafilter[column].isnull().sum()))"
   ]
  },
  {
   "cell_type": "code",
   "execution_count": null,
   "metadata": {},
   "outputs": [],
   "source": [
    "dfg.shape"
   ]
  },
  {
   "cell_type": "code",
   "execution_count": null,
   "metadata": {},
   "outputs": [],
   "source": [
    "dfg.head()"
   ]
  },
  {
   "cell_type": "code",
   "execution_count": null,
   "metadata": {},
   "outputs": [],
   "source": [
    "dfn = dfg.drop(dfg.columns[[16]], axis = 'columns')"
   ]
  },
  {
   "cell_type": "code",
   "execution_count": null,
   "metadata": {},
   "outputs": [],
   "source": [
    "dfn = dfn.dropna()"
   ]
  },
  {
   "cell_type": "code",
   "execution_count": null,
   "metadata": {},
   "outputs": [],
   "source": [
    "dfn.head()"
   ]
  },
  {
   "cell_type": "code",
   "execution_count": null,
   "metadata": {},
   "outputs": [],
   "source": [
    "col = dfn.columns.tolist()\n",
    "for column in col:\n",
    "  print(\"{}: {}\".format(column, dfn[column].isnull().sum()))"
   ]
  },
  {
   "cell_type": "code",
   "execution_count": null,
   "metadata": {},
   "outputs": [],
   "source": [
    "dfn.shape"
   ]
  },
  {
   "cell_type": "code",
   "execution_count": null,
   "metadata": {},
   "outputs": [],
   "source": [
    "dfg.describe()"
   ]
  },
  {
   "cell_type": "code",
   "execution_count": null,
   "metadata": {},
   "outputs": [],
   "source": [
    "dfg.info()"
   ]
  },
  {
   "cell_type": "code",
   "execution_count": null,
   "metadata": {},
   "outputs": [],
   "source": [
    "from bokeh.plotting import figure, save\n",
    "p = figure(title=\"My first plot!\")\n",
    "p"
   ]
  },
  {
   "cell_type": "code",
   "execution_count": null,
   "metadata": {},
   "outputs": [],
   "source": [
    "x_coords = [0,1,2,3,4]\n",
    "y_coords = [5,4,1,2,0]"
   ]
  },
  {
   "cell_type": "code",
   "execution_count": null,
   "metadata": {},
   "outputs": [],
   "source": [
    "p.circle(x=x_coords, y = y_coords, size = 10, color = \"red\")"
   ]
  },
  {
   "cell_type": "code",
   "execution_count": null,
   "metadata": {},
   "outputs": [],
   "source": [
    "#C:\\Users\\alter\\Desktop\n",
    "outputfp = r\"/Users/alter/Desktop/points.htmls\""
   ]
  },
  {
   "cell_type": "code",
   "execution_count": null,
   "metadata": {},
   "outputs": [],
   "source": [
    "save(obj = p, filename = outputfp)"
   ]
  },
  {
   "cell_type": "code",
   "execution_count": null,
   "metadata": {},
   "outputs": [],
   "source": [
    "import geopandas as gpd"
   ]
  },
  {
   "cell_type": "code",
   "execution_count": null,
   "metadata": {},
   "outputs": [],
   "source": [
    "points_fp = r\"/Users/alter/Documents/Barcelona/La Salle/Asignaturas/Data Mining/JupyterGH/green_tripdata_2015-02.csv\"\n",
    "\n",
    "# Read the data\n",
    "points = gpd.read_file(points_fp)"
   ]
  },
  {
   "cell_type": "code",
   "execution_count": null,
   "metadata": {},
   "outputs": [],
   "source": [
    "points.head()"
   ]
  },
  {
   "cell_type": "code",
   "execution_count": null,
   "metadata": {},
   "outputs": [],
   "source": [
    "p = figure(title=\"A map of address points from a Shapefile\")"
   ]
  },
  {
   "cell_type": "code",
   "execution_count": null,
   "metadata": {},
   "outputs": [],
   "source": []
  }
 ],
 "metadata": {
  "kernelspec": {
   "display_name": "Python 3",
   "language": "python",
   "name": "python3"
  },
  "language_info": {
   "codemirror_mode": {
    "name": "ipython",
    "version": 3
   },
   "file_extension": ".py",
   "mimetype": "text/x-python",
   "name": "python",
   "nbconvert_exporter": "python",
   "pygments_lexer": "ipython3",
   "version": "3.7.0"
  }
 },
 "nbformat": 4,
 "nbformat_minor": 2
}
