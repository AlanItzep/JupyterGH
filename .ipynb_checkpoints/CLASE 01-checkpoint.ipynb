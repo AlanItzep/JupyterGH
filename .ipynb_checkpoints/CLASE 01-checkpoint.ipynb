{
 "cells": [
  {
   "cell_type": "markdown",
   "metadata": {},
   "source": [
    "*Esto es cursiva*"
   ]
  },
  {
   "cell_type": "markdown",
   "metadata": {},
   "source": [
    "**Esto es negrita**"
   ]
  },
  {
   "cell_type": "markdown",
   "metadata": {},
   "source": [
    "***Esto es cursiva y negrita***"
   ]
  },
  {
   "cell_type": "markdown",
   "metadata": {},
   "source": [
    "Hola Mundo!\n",
    "\n",
    "Hola Mundo!"
   ]
  },
  {
   "cell_type": "markdown",
   "metadata": {},
   "source": [
    "Hola mundo!   \n",
    "Hola mundo!"
   ]
  },
  {
   "cell_type": "markdown",
   "metadata": {},
   "source": [
    "* Esto es una lista\n",
    "* Esto es una lista\n",
    "* Esto es una lista"
   ]
  },
  {
   "cell_type": "markdown",
   "metadata": {},
   "source": [
    "1. Esto tambien es una lista\n",
    "2. Esto tambien es una lista\n",
    "3. Esto tambien es una lista"
   ]
  },
  {
   "cell_type": "markdown",
   "metadata": {},
   "source": [
    "\\*\\[\\]\\(\\)\\#"
   ]
  },
  {
   "cell_type": "markdown",
   "metadata": {},
   "source": [
    "# Esto es una cabecera H1 "
   ]
  },
  {
   "cell_type": "markdown",
   "metadata": {},
   "source": [
    "## Esto es una cabecera H2"
   ]
  },
  {
   "cell_type": "markdown",
   "metadata": {},
   "source": [
    "### Esto es una cabecera H3"
   ]
  },
  {
   "cell_type": "markdown",
   "metadata": {},
   "source": [
    "#### Esto es una cabecera H4"
   ]
  },
  {
   "cell_type": "markdown",
   "metadata": {},
   "source": [
    "[Titulo del Link](https://www.wikipedia.org)"
   ]
  },
  {
   "cell_type": "markdown",
   "metadata": {},
   "source": [
    "Linea de separación  \n",
    "- - -"
   ]
  },
  {
   "cell_type": "markdown",
   "metadata": {},
   "source": [
    "## HISTORIA \n",
    "### Markdown\n",
    "*John Gruber* en **2004**, con una ayuda importante de Aaron Swartz en la sintaxis.  \n",
    "Gruber tenía la meta de hacer que la gente pudiera escribir usando un formato de texto plano:\n",
    "\n",
    "1. Fácil de leer\n",
    "2. Fácil de escribir\n",
    "3. Con la posibilidad de poder convertir su documento en XHTML (o HTML) válido\n",
    "\n",
    "***Referencia:***  \n",
    "[Link Wikipedia (https://www.wikipedia.org)](https://www.wikipedia.org)"
   ]
  }
 ],
 "metadata": {
  "kernelspec": {
   "display_name": "Python 3",
   "language": "python",
   "name": "python3"
  },
  "language_info": {
   "codemirror_mode": {
    "name": "ipython",
    "version": 3
   },
   "file_extension": ".py",
   "mimetype": "text/x-python",
   "name": "python",
   "nbconvert_exporter": "python",
   "pygments_lexer": "ipython3",
   "version": "3.7.0"
  }
 },
 "nbformat": 4,
 "nbformat_minor": 2
}
