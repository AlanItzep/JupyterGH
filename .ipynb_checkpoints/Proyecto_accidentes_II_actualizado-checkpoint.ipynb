{
 "cells": [
  {
   "cell_type": "markdown",
   "metadata": {},
   "source": [
    "# Análisis de los accidentes de tráfico"
   ]
  },
  {
   "cell_type": "code",
   "execution_count": 1,
   "metadata": {},
   "outputs": [
    {
     "name": "stderr",
     "output_type": "stream",
     "text": [
      "/anaconda3/lib/python3.7/site-packages/sklearn/ensemble/weight_boosting.py:29: DeprecationWarning: numpy.core.umath_tests is an internal NumPy module and should not be imported. It will be removed in a future NumPy release.\n",
      "  from numpy.core.umath_tests import inner1d\n"
     ]
    }
   ],
   "source": [
    "import pandas as pd\n",
    "from sklearn.model_selection import train_test_split\n",
    "from sklearn.tree import DecisionTreeClassifier\n",
    "from sklearn.ensemble import RandomForestClassifier,AdaBoostClassifier\n",
    "from sklearn.neighbors import KNeighborsClassifier\n",
    "from sklearn.svm import SVC\n",
    "from sklearn.linear_model import LogisticRegression\n",
    "from sklearn.metrics import accuracy_score\n",
    "from sklearn.metrics import roc_auc_score\n",
    "from sklearn.metrics import recall_score\n",
    "from sklearn.feature_selection import SelectFromModel\n",
    "import matplotlib.pyplot as plt\n",
    "from sklearn.utils import resample\n",
    "import numpy as np\n",
    "from sklearn import metrics\n",
    "import seaborn as sns\n",
    "from IPython.display import set_matplotlib_formats\n",
    "from sklearn.preprocessing import MinMaxScaler \n",
    "from sklearn.model_selection import cross_val_score\n",
    "from sklearn.preprocessing import binarize"
   ]
  },
  {
   "cell_type": "code",
   "execution_count": 58,
   "metadata": {},
   "outputs": [],
   "source": [
    "acc = pd.read_csv('/Users/Domm/Desktop/MBD/3_Mineria_de_Datos/Proyecto/accidentes.csv')"
   ]
  },
  {
   "cell_type": "code",
   "execution_count": 3,
   "metadata": {},
   "outputs": [
    {
     "data": {
      "text/html": [
       "<div>\n",
       "<style scoped>\n",
       "    .dataframe tbody tr th:only-of-type {\n",
       "        vertical-align: middle;\n",
       "    }\n",
       "\n",
       "    .dataframe tbody tr th {\n",
       "        vertical-align: top;\n",
       "    }\n",
       "\n",
       "    .dataframe thead th {\n",
       "        text-align: right;\n",
       "    }\n",
       "</style>\n",
       "<table border=\"1\" class=\"dataframe\">\n",
       "  <thead>\n",
       "    <tr style=\"text-align: right;\">\n",
       "      <th></th>\n",
       "      <th>GridID</th>\n",
       "      <th>date</th>\n",
       "      <th>Shift</th>\n",
       "      <th>Accident</th>\n",
       "      <th>Longitude.grid</th>\n",
       "      <th>Latitude.grid</th>\n",
       "    </tr>\n",
       "  </thead>\n",
       "  <tbody>\n",
       "    <tr>\n",
       "      <th>0</th>\n",
       "      <td>1</td>\n",
       "      <td>2010-10-08</td>\n",
       "      <td>Night</td>\n",
       "      <td>0</td>\n",
       "      <td>2.08</td>\n",
       "      <td>41.41</td>\n",
       "    </tr>\n",
       "    <tr>\n",
       "      <th>1</th>\n",
       "      <td>1</td>\n",
       "      <td>2011-02-16</td>\n",
       "      <td>Morning</td>\n",
       "      <td>0</td>\n",
       "      <td>2.08</td>\n",
       "      <td>41.41</td>\n",
       "    </tr>\n",
       "    <tr>\n",
       "      <th>2</th>\n",
       "      <td>1</td>\n",
       "      <td>2014-05-31</td>\n",
       "      <td>Night</td>\n",
       "      <td>0</td>\n",
       "      <td>2.08</td>\n",
       "      <td>41.41</td>\n",
       "    </tr>\n",
       "    <tr>\n",
       "      <th>3</th>\n",
       "      <td>1</td>\n",
       "      <td>2011-04-03</td>\n",
       "      <td>Afternoon</td>\n",
       "      <td>0</td>\n",
       "      <td>2.08</td>\n",
       "      <td>41.41</td>\n",
       "    </tr>\n",
       "    <tr>\n",
       "      <th>4</th>\n",
       "      <td>1</td>\n",
       "      <td>2013-02-20</td>\n",
       "      <td>Morning</td>\n",
       "      <td>0</td>\n",
       "      <td>2.08</td>\n",
       "      <td>41.41</td>\n",
       "    </tr>\n",
       "  </tbody>\n",
       "</table>\n",
       "</div>"
      ],
      "text/plain": [
       "   GridID        date      Shift  Accident  Longitude.grid  Latitude.grid\n",
       "0       1  2010-10-08      Night         0            2.08          41.41\n",
       "1       1  2011-02-16    Morning         0            2.08          41.41\n",
       "2       1  2014-05-31      Night         0            2.08          41.41\n",
       "3       1  2011-04-03  Afternoon         0            2.08          41.41\n",
       "4       1  2013-02-20    Morning         0            2.08          41.41"
      ]
     },
     "execution_count": 3,
     "metadata": {},
     "output_type": "execute_result"
    }
   ],
   "source": [
    "acc.head()"
   ]
  },
  {
   "cell_type": "code",
   "execution_count": 4,
   "metadata": {},
   "outputs": [
    {
     "data": {
      "text/plain": [
       "(824587, 6)"
      ]
     },
     "execution_count": 4,
     "metadata": {},
     "output_type": "execute_result"
    }
   ],
   "source": [
    "acc.shape"
   ]
  },
  {
   "cell_type": "code",
   "execution_count": 5,
   "metadata": {},
   "outputs": [
    {
     "data": {
      "text/plain": [
       "False"
      ]
     },
     "execution_count": 5,
     "metadata": {},
     "output_type": "execute_result"
    }
   ],
   "source": [
    "acc.isnull().values.any()  # Miramos si hay NaN"
   ]
  },
  {
   "cell_type": "code",
   "execution_count": 6,
   "metadata": {},
   "outputs": [
    {
     "data": {
      "text/plain": [
       "326"
      ]
     },
     "execution_count": 6,
     "metadata": {},
     "output_type": "execute_result"
    }
   ],
   "source": [
    "acc.duplicated().sum()  # Miramos si hay duplicados"
   ]
  },
  {
   "cell_type": "code",
   "execution_count": 7,
   "metadata": {},
   "outputs": [],
   "source": [
    "del acc['GridID']   # Borramos la columna GridID ya que es irrelevante"
   ]
  },
  {
   "cell_type": "code",
   "execution_count": 8,
   "metadata": {},
   "outputs": [
    {
     "data": {
      "text/plain": [
       "['date', 'Shift', 'Accident', 'Longitude.grid', 'Latitude.grid']"
      ]
     },
     "execution_count": 8,
     "metadata": {},
     "output_type": "execute_result"
    }
   ],
   "source": [
    "cols = list(acc.columns.values)\n",
    "cols"
   ]
  },
  {
   "cell_type": "code",
   "execution_count": 9,
   "metadata": {},
   "outputs": [
    {
     "data": {
      "text/plain": [
       "date               object\n",
       "Shift              object\n",
       "Accident            int64\n",
       "Longitude.grid    float64\n",
       "Latitude.grid     float64\n",
       "dtype: object"
      ]
     },
     "execution_count": 9,
     "metadata": {},
     "output_type": "execute_result"
    }
   ],
   "source": [
    "acc.dtypes    # Tipo de variables"
   ]
  },
  {
   "cell_type": "code",
   "execution_count": 10,
   "metadata": {},
   "outputs": [
    {
     "data": {
      "text/plain": [
       "0    788070\n",
       "1     36517\n",
       "Name: Accident, dtype: int64"
      ]
     },
     "execution_count": 10,
     "metadata": {},
     "output_type": "execute_result"
    }
   ],
   "source": [
    "acc['Accident'].value_counts()   # No esta balanceado"
   ]
  },
  {
   "cell_type": "markdown",
   "metadata": {},
   "source": [
    "### Vamos a realizar una prueba sin ningun procesado para tener una idea:"
   ]
  },
  {
   "cell_type": "code",
   "execution_count": 11,
   "metadata": {},
   "outputs": [],
   "source": [
    "Sample = resample(acc, n_samples=10000, random_state=1)"
   ]
  },
  {
   "cell_type": "code",
   "execution_count": 12,
   "metadata": {},
   "outputs": [],
   "source": [
    "X = Sample.drop('Accident',1)"
   ]
  },
  {
   "cell_type": "code",
   "execution_count": 13,
   "metadata": {},
   "outputs": [],
   "source": [
    "y = Sample['Accident']"
   ]
  },
  {
   "cell_type": "code",
   "execution_count": 14,
   "metadata": {},
   "outputs": [],
   "source": [
    "for nombre_columna in X.columns:\n",
    "    if X[nombre_columna].dtypes == 'object':  # Si es categorica hacemos el dummies\n",
    "        dummies = pd.get_dummies(X[nombre_columna])  # Almacena en dummies\n",
    "        X = pd.concat([X, dummies], axis=1)  # Concatena\n",
    "        del X[nombre_columna] # La eliminamos"
   ]
  },
  {
   "cell_type": "code",
   "execution_count": 15,
   "metadata": {},
   "outputs": [
    {
     "name": "stderr",
     "output_type": "stream",
     "text": [
      "/anaconda3/lib/python3.7/site-packages/sklearn/model_selection/_split.py:2026: FutureWarning: From version 0.21, test_size will always complement train_size unless both are specified.\n",
      "  FutureWarning)\n"
     ]
    }
   ],
   "source": [
    "from sklearn.model_selection import train_test_split\n",
    "X_train,X_test,y_train,y_test = train_test_split(X,y,train_size=0.70,random_state=15)"
   ]
  },
  {
   "cell_type": "markdown",
   "metadata": {},
   "source": [
    "**Logistic Regression**:"
   ]
  },
  {
   "cell_type": "code",
   "execution_count": 31,
   "metadata": {},
   "outputs": [],
   "source": [
    "LR = LogisticRegression()\n",
    "LR.fit(X_train,y_train)\n",
    "y_train_pred = LR.predict(X_train)\n",
    "y_test_pred = LR.predict(X_test)"
   ]
  },
  {
   "cell_type": "code",
   "execution_count": 32,
   "metadata": {},
   "outputs": [
    {
     "name": "stdout",
     "output_type": "stream",
     "text": [
      "Accuracy - Datos de entrenamiento: 0.9565714285714285\n",
      " Accuracy - Datos de test: 0.957\n"
     ]
    }
   ],
   "source": [
    "print(\"Accuracy - Datos de entrenamiento: {}\\n Accuracy - Datos de test: {}\"\n",
    "      .format(accuracy_score(y_train, y_train_pred),accuracy_score(y_test, y_test_pred)))"
   ]
  },
  {
   "cell_type": "code",
   "execution_count": 40,
   "metadata": {},
   "outputs": [
    {
     "data": {
      "text/plain": [
       "array([0])"
      ]
     },
     "execution_count": 40,
     "metadata": {},
     "output_type": "execute_result"
    }
   ],
   "source": [
    "print(np.unique(y_train_pred))     # Observamos que solo nos esta prediciendo el los casos de 0."
   ]
  },
  {
   "cell_type": "code",
   "execution_count": 20,
   "metadata": {},
   "outputs": [],
   "source": [
    "y_train_pred = LR.predict_proba(X_train)\n",
    "y_test_pred = LR.predict_proba(X_test)"
   ]
  },
  {
   "cell_type": "code",
   "execution_count": 21,
   "metadata": {},
   "outputs": [
    {
     "name": "stdout",
     "output_type": "stream",
     "text": [
      "Árbol de decisión - Datos de entrenamiento: 0.9028504841853737\n",
      " Árbol de decisión - Datos de test: 0.6390745195877513\n"
     ]
    }
   ],
   "source": [
    "print(\"Árbol de decisión - Datos de entrenamiento: {}\\n Árbol de decisión - Datos de test: {}\"\n",
    "      .format(roc_auc_score(y_train,y_train_pred[:,1]),roc_auc_score(y_test,y_test_pred[:,1])))"
   ]
  },
  {
   "cell_type": "markdown",
   "metadata": {},
   "source": [
    "**K-Nearest-Neighbors (KNN):**"
   ]
  },
  {
   "cell_type": "code",
   "execution_count": 41,
   "metadata": {},
   "outputs": [],
   "source": [
    "knn = KNeighborsClassifier(n_neighbors=3)\n",
    "knn.fit(X_train,y_train)\n",
    "y_train_pred = knn.predict(X_train)\n",
    "y_test_pred = knn.predict(X_test)"
   ]
  },
  {
   "cell_type": "code",
   "execution_count": 42,
   "metadata": {},
   "outputs": [
    {
     "name": "stdout",
     "output_type": "stream",
     "text": [
      "Accuracy - Datos de entrenamiento: 0.9605714285714285\n",
      " Accuracy - Datos de test: 0.9483333333333334\n"
     ]
    }
   ],
   "source": [
    "print(\"Accuracy - Datos de entrenamiento: {}\\n Accuracy - Datos de test: {}\"\n",
    "      .format(accuracy_score(y_train, y_train_pred),accuracy_score(y_test, y_test_pred)))"
   ]
  },
  {
   "cell_type": "code",
   "execution_count": 43,
   "metadata": {},
   "outputs": [
    {
     "name": "stdout",
     "output_type": "stream",
     "text": [
      "[0 1]\n"
     ]
    }
   ],
   "source": [
    "print(np.unique(y_train_pred))     # Observamos que nos esta prediciendo los casos 0 y 1."
   ]
  },
  {
   "cell_type": "code",
   "execution_count": 28,
   "metadata": {},
   "outputs": [],
   "source": [
    "y_train_pred =knn.predict_proba(X_train)\n",
    "y_test_pred = knn.predict_proba(X_test)"
   ]
  },
  {
   "cell_type": "code",
   "execution_count": 29,
   "metadata": {},
   "outputs": [
    {
     "name": "stdout",
     "output_type": "stream",
     "text": [
      "Árbol de decisión - Datos de entrenamiento: 0.9607974910394266\n",
      " Árbol de decisión - Datos de test: 0.5549520870290718\n"
     ]
    }
   ],
   "source": [
    "print(\"Árbol de decisión - Datos de entrenamiento: {}\\n Árbol de decisión - Datos de test: {}\"\n",
    "      .format(roc_auc_score(y_train,y_train_pred[:,1]),roc_auc_score(y_test,y_test_pred[:,1])))"
   ]
  },
  {
   "cell_type": "markdown",
   "metadata": {},
   "source": [
    "**Decision Tree Classifier:**"
   ]
  },
  {
   "cell_type": "code",
   "execution_count": 36,
   "metadata": {},
   "outputs": [],
   "source": [
    "DTC = DecisionTreeClassifier(criterion=\"entropy\",random_state=1, max_depth = 5)\n",
    "DTC.fit(X_train,y_train)\n",
    "y_train_pred = DTC.predict(X_train)\n",
    "y_test_pred = DTC.predict(X_test)"
   ]
  },
  {
   "cell_type": "code",
   "execution_count": 37,
   "metadata": {},
   "outputs": [
    {
     "name": "stdout",
     "output_type": "stream",
     "text": [
      "Accuracy - Datos de entrenamiento: 0.9587142857142857\n",
      " Accuracy - Datos de test: 0.9566666666666667\n"
     ]
    }
   ],
   "source": [
    "print(\"Accuracy - Datos de entrenamiento: {}\\n Accuracy - Datos de test: {}\"\n",
    "      .format(accuracy_score(y_train, y_train_pred),accuracy_score(y_test, y_test_pred)))"
   ]
  },
  {
   "cell_type": "code",
   "execution_count": 38,
   "metadata": {},
   "outputs": [
    {
     "name": "stdout",
     "output_type": "stream",
     "text": [
      "[0 1]\n"
     ]
    }
   ],
   "source": [
    "print(np.unique(y_train_pred))     # Observamos que nos esta prediciendo los casos 0 y 1."
   ]
  },
  {
   "cell_type": "code",
   "execution_count": 39,
   "metadata": {},
   "outputs": [],
   "source": [
    "y_train_pred = DTC.predict_proba(X_train)\n",
    "y_test_pred = DTC.predict_proba(X_test)"
   ]
  },
  {
   "cell_type": "code",
   "execution_count": 40,
   "metadata": {},
   "outputs": [
    {
     "name": "stdout",
     "output_type": "stream",
     "text": [
      "Árbol de decisión - Datos de entrenamiento: 0.7654967812676854\n",
      " Árbol de decisión - Datos de test: 0.7318237169881116\n"
     ]
    }
   ],
   "source": [
    "print(\"Árbol de decisión - Datos de entrenamiento: {}\\n Árbol de decisión - Datos de test: {}\"\n",
    "      .format(roc_auc_score(y_train,y_train_pred[:,1]),roc_auc_score(y_test,y_test_pred[:,1])))"
   ]
  },
  {
   "cell_type": "markdown",
   "metadata": {},
   "source": [
    "**Random Forest:**"
   ]
  },
  {
   "cell_type": "code",
   "execution_count": 47,
   "metadata": {},
   "outputs": [],
   "source": [
    "rf = RandomForestClassifier()\n",
    "rf.fit(X_train, y_train)\n",
    "y_train_pred = rf.predict(X_train)\n",
    "y_test_pred = rf.predict(X_test)"
   ]
  },
  {
   "cell_type": "code",
   "execution_count": 48,
   "metadata": {},
   "outputs": [
    {
     "name": "stdout",
     "output_type": "stream",
     "text": [
      "Accuracy - Datos de entrenamiento: 0.9908571428571429\n",
      " Accuracy - Datos de test: 0.9523333333333334\n"
     ]
    }
   ],
   "source": [
    "print(\"Accuracy - Datos de entrenamiento: {}\\n Accuracy - Datos de test: {}\"\n",
    "      .format(accuracy_score(y_train, y_train_pred),accuracy_score(y_test, y_test_pred)))"
   ]
  },
  {
   "cell_type": "code",
   "execution_count": 49,
   "metadata": {},
   "outputs": [
    {
     "name": "stdout",
     "output_type": "stream",
     "text": [
      "[0 1]\n"
     ]
    }
   ],
   "source": [
    "print(np.unique(y_train_pred))     # Observamos que nos esta prediciendo los casos 0 y 1."
   ]
  },
  {
   "cell_type": "code",
   "execution_count": 32,
   "metadata": {},
   "outputs": [],
   "source": [
    "y_train_pred = rf.predict_proba(X_train)\n",
    "y_test_pred = rf.predict_proba(X_test)"
   ]
  },
  {
   "cell_type": "code",
   "execution_count": 33,
   "metadata": {},
   "outputs": [
    {
     "name": "stdout",
     "output_type": "stream",
     "text": [
      "Árbol de decisión - Datos de entrenamiento: 0.9995743236339055\n",
      " Árbol de decisión - Datos de test: 0.5451845371652909\n"
     ]
    }
   ],
   "source": [
    "print(\"Árbol de decisión - Datos de entrenamiento: {}\\n Árbol de decisión - Datos de test: {}\"\n",
    "      .format(roc_auc_score(y_train,y_train_pred[:,1]),roc_auc_score(y_test,y_test_pred[:,1])))"
   ]
  },
  {
   "cell_type": "markdown",
   "metadata": {},
   "source": [
    "**Support Vector Machine (SVM):**"
   ]
  },
  {
   "cell_type": "code",
   "execution_count": 50,
   "metadata": {},
   "outputs": [],
   "source": [
    "SVM = SVC(probability=True,random_state=1)\n",
    "SVM.fit(X_train,y_train)\n",
    "y_train_pred = SVM.predict(X_train)\n",
    "y_test_pred = SVM.predict(X_test)"
   ]
  },
  {
   "cell_type": "code",
   "execution_count": 51,
   "metadata": {},
   "outputs": [
    {
     "name": "stdout",
     "output_type": "stream",
     "text": [
      "Accuracy - Datos de entrenamiento: 0.9565714285714285\n",
      " Accuracy - Datos de test: 0.957\n"
     ]
    }
   ],
   "source": [
    "print(\"Accuracy - Datos de entrenamiento: {}\\n Accuracy - Datos de test: {}\"\n",
    "      .format(accuracy_score(y_train, y_train_pred),accuracy_score(y_test, y_test_pred)))"
   ]
  },
  {
   "cell_type": "code",
   "execution_count": 52,
   "metadata": {},
   "outputs": [
    {
     "name": "stdout",
     "output_type": "stream",
     "text": [
      "[0]\n"
     ]
    }
   ],
   "source": [
    "print(np.unique(y_train_pred))     # Observamos que solo nos esta prediciendo los casos de 0."
   ]
  },
  {
   "cell_type": "code",
   "execution_count": 36,
   "metadata": {},
   "outputs": [],
   "source": [
    "y_train_pred = SVM.predict_proba(X_train)\n",
    "y_test_pred = SVM.predict_proba(X_test)"
   ]
  },
  {
   "cell_type": "code",
   "execution_count": 38,
   "metadata": {},
   "outputs": [
    {
     "name": "stdout",
     "output_type": "stream",
     "text": [
      "Árbol de decisión - Datos de entrenamiento: 0.7173061882978055\n",
      " Árbol de decisión - Datos de test: 0.6432636981955346\n"
     ]
    }
   ],
   "source": [
    "print(\"Árbol de decisión - Datos de entrenamiento: {}\\n Árbol de decisión - Datos de test: {}\"\n",
    "      .format(roc_auc_score(y_train,y_train_pred[:,1]),roc_auc_score(y_test,y_test_pred[:,1])))"
   ]
  },
  {
   "cell_type": "markdown",
   "metadata": {},
   "source": [
    "**Curva ROC con algoritmo DecisionTreeClassifier AUC = 0.7318:**"
   ]
  },
  {
   "cell_type": "code",
   "execution_count": 82,
   "metadata": {},
   "outputs": [
    {
     "data": {
      "image/png": "[encoded data removed]",
      "text/plain": [
       "<Figure size 432x288 with 1 Axes>"
      ]
     },
     "metadata": {
      "image/png": {
       "height": 286,
       "width": 393
      },
      "needs_background": "light"
     },
     "output_type": "display_data"
    }
   ],
   "source": [
    "from IPython.display import set_matplotlib_formats\n",
    "set_matplotlib_formats('retina')\n",
    "%matplotlib inline\n",
    "rfp, rvp, umbrales = metrics.roc_curve(y_test, y_test_pred[:,1])\n",
    "plt.plot(rfp, rvp)\n",
    "plt.plot([0, 1], [0, 1], color='black', lw=1, linestyle='--')\n",
    "plt.xlim([0.0, 1.0])\n",
    "plt.ylim([0.0, 1.0])\n",
    "plt.title('Espesificidad\\n1.0                 0.8               0.6               0.4               0.2              0.0', \n",
    "          fontsize=10)\n",
    "plt.xlabel('1 - Espesificidad = Ratio de falsos positivos')\n",
    "plt.ylabel('Sensibilidad = Ratio verdaderos positivos')\n",
    "plt.grid(True)"
   ]
  },
  {
   "cell_type": "markdown",
   "metadata": {},
   "source": [
    "## 1.    Procesado de los datos:"
   ]
  },
  {
   "cell_type": "markdown",
   "metadata": {},
   "source": [
    "**Visualización de los datos:**"
   ]
  },
  {
   "cell_type": "markdown",
   "metadata": {},
   "source": [
    "Antes de todo comentar que trabajaremos con el algoritmo DecisionTreeClassifier ya que el coste computacional es \n",
    "mucho menor. He tenido que realizar las pruebas anteriores con una muestra de 1000 registros ya que con 10000 registros, algoritmos como knn, random forest y svm tardavan unos 20 minutos. Si con 10000 registrros tardaban \n",
    "20 minutos, con la totalidad del dataset hubiera tardado horas, por eso motivo escogemos DecisionTreeClassifier para\n",
    "su procesado y mejora, aunque esos algoritmos hubieran dado mejores resultaods con el dataset mas grande."
   ]
  },
  {
   "cell_type": "code",
   "execution_count": 39,
   "metadata": {},
   "outputs": [
    {
     "data": {
      "text/plain": [
       "array(['Night', 'Morning', 'Afternoon'], dtype=object)"
      ]
     },
     "execution_count": 39,
     "metadata": {},
     "output_type": "execute_result"
    }
   ],
   "source": [
    "acc['Shift'].unique()"
   ]
  },
  {
   "cell_type": "code",
   "execution_count": 40,
   "metadata": {},
   "outputs": [
    {
     "data": {
      "text/plain": [
       "Afternoon    279847\n",
       "Morning      277391\n",
       "Night        267349\n",
       "Name: Shift, dtype: int64"
      ]
     },
     "execution_count": 40,
     "metadata": {},
     "output_type": "execute_result"
    }
   ],
   "source": [
    "acc['Shift'].value_counts()"
   ]
  },
  {
   "cell_type": "code",
   "execution_count": 41,
   "metadata": {},
   "outputs": [
    {
     "data": {
      "text/plain": [
       "<matplotlib.axes._subplots.AxesSubplot at 0x1a178ae7f0>"
      ]
     },
     "execution_count": 41,
     "metadata": {},
     "output_type": "execute_result"
    },
    {
     "data": {
      "image/png": "[encoded data removed]",
      "text/plain": [
       "<Figure size 432x288 with 1 Axes>"
      ]
     },
     "metadata": {
      "image/png": {
       "height": 263,
       "width": 410
      },
      "needs_background": "light"
     },
     "output_type": "display_data"
    }
   ],
   "source": [
    "set_matplotlib_formats('retina')\n",
    "sns.countplot(x=\"Shift\", data=acc, hue='Accident')   # DATOS BALANCEADOS DE LA FRANJA HORARIA EN 0, EN CAMBIO\n",
    "                                                     # EN 1 VEMOS MAS ACCIDENTES POR LA MAÑANA Y TARDE"
   ]
  },
  {
   "cell_type": "code",
   "execution_count": 46,
   "metadata": {},
   "outputs": [
    {
     "data": {
      "text/plain": [
       "array(['2010-10-08', '2011-02-16', '2014-05-31', ..., '2013-04-04',\n",
       "       '2010-09-07', '2010-03-10'], dtype=object)"
      ]
     },
     "execution_count": 46,
     "metadata": {},
     "output_type": "execute_result"
    }
   ],
   "source": [
    "acc['date'].unique()"
   ]
  },
  {
   "cell_type": "code",
   "execution_count": 52,
   "metadata": {},
   "outputs": [
    {
     "name": "stdout",
     "output_type": "stream",
     "text": [
      "Primeros datos:\n",
      " 2014-03-26    525\n",
      "2014-05-29    519\n",
      "2014-05-12    517\n",
      "2014-06-24    516\n",
      "2010-05-28    514\n",
      "Name: date, dtype: int64\n",
      " Últimos datos:\n",
      " 2014-05-03    393\n",
      "2014-08-22    392\n",
      "2011-06-24    391\n",
      "2012-05-28    388\n",
      "2012-06-15    375\n",
      "Name: date, dtype: int64\n"
     ]
    }
   ],
   "source": [
    "print('Primeros datos:\\n {}\\n Últimos datos:\\n {}'.format(acc['date'].value_counts().head(),\n",
    "                                                     acc['date'].value_counts().tail()))       # DATOS BALANCEADOS"
   ]
  },
  {
   "cell_type": "code",
   "execution_count": 53,
   "metadata": {},
   "outputs": [
    {
     "data": {
      "text/plain": [
       "array([2.08  , 2.0825, 2.085 , 2.0875, 2.09  , 2.0925, 2.095 , 2.0975,\n",
       "       2.1   , 2.1025, 2.105 , 2.1075, 2.11  , 2.1125, 2.115 , 2.1175,\n",
       "       2.12  , 2.1225, 2.125 , 2.1275, 2.13  , 2.1325, 2.135 , 2.1375,\n",
       "       2.14  , 2.1425, 2.145 , 2.1475, 2.15  , 2.1525, 2.155 , 2.1575,\n",
       "       2.16  , 2.1625, 2.165 , 2.1675, 2.17  , 2.1725, 2.175 , 2.1775,\n",
       "       2.18  , 2.1825, 2.185 , 2.1875, 2.19  , 2.1925, 2.195 , 2.1975,\n",
       "       2.2   , 2.2025, 2.205 , 2.2075, 2.21  , 2.2125, 2.215 , 2.2175,\n",
       "       2.22  , 2.2225])"
      ]
     },
     "execution_count": 53,
     "metadata": {},
     "output_type": "execute_result"
    }
   ],
   "source": [
    "acc['Longitude.grid'].unique()"
   ]
  },
  {
   "cell_type": "code",
   "execution_count": 54,
   "metadata": {},
   "outputs": [
    {
     "name": "stdout",
     "output_type": "stream",
     "text": [
      "Primeros datos:\n",
      " 2.1325    24441\n",
      "2.1350    24291\n",
      "2.1475    23703\n",
      "2.1450    23525\n",
      "2.1425    23150\n",
      "Name: Longitude.grid, dtype: int64\n",
      " Últimos datos:\n",
      " 2.0825    590\n",
      "2.0875    551\n",
      "2.0850    545\n",
      "2.0800    539\n",
      "2.0900    511\n",
      "Name: Longitude.grid, dtype: int64\n"
     ]
    }
   ],
   "source": [
    "print('Primeros datos:\\n {}\\n Últimos datos:\\n {}'.format(acc['Longitude.grid'].value_counts().head(),\n",
    "                                                     acc['Longitude.grid'].value_counts().tail()))  \n",
    "\n",
    "# DATOS NO BALANCEADOS DE LA LONGITUD"
   ]
  },
  {
   "cell_type": "code",
   "execution_count": 55,
   "metadata": {},
   "outputs": [
    {
     "data": {
      "text/plain": [
       "array([41.41  , 41.42  , 41.4275, 41.415 , 41.4225, 41.43  , 41.4175,\n",
       "       41.425 , 41.4125, 41.38  , 41.3825, 41.4075, 41.335 , 41.385 ,\n",
       "       41.3875, 41.39  , 41.3925, 41.395 , 41.405 , 41.3375, 41.3775,\n",
       "       41.375 , 41.4   , 41.4025, 41.33  , 41.3325, 41.3975, 41.325 ,\n",
       "       41.3275, 41.34  , 41.3225, 41.3725, 41.3425, 41.37  , 41.4325,\n",
       "       41.345 , 41.365 , 41.3675, 41.44  , 41.3475, 41.3525, 41.355 ,\n",
       "       41.3575, 41.36  , 41.3625, 41.35  , 41.435 , 41.445 , 41.4375,\n",
       "       41.4425, 41.4475, 41.45  , 41.4575, 41.46  , 41.455 , 41.4525,\n",
       "       41.4625, 41.465 , 41.4675])"
      ]
     },
     "execution_count": 55,
     "metadata": {},
     "output_type": "execute_result"
    }
   ],
   "source": [
    "acc['Latitude.grid'].unique()"
   ]
  },
  {
   "cell_type": "code",
   "execution_count": 56,
   "metadata": {},
   "outputs": [
    {
     "name": "stdout",
     "output_type": "stream",
     "text": [
      "Primeros datos:\n",
      " 41.4075    27746\n",
      "41.4050    26966\n",
      "41.4100    26643\n",
      "41.4025    26131\n",
      "41.4175    25635\n",
      "Name: Latitude.grid, dtype: int64\n",
      " Últimos datos:\n",
      " 41.3475    3979\n",
      "41.3450    3858\n",
      "41.4625    3324\n",
      "41.4675    1173\n",
      "41.4650    1094\n",
      "Name: Latitude.grid, dtype: int64\n"
     ]
    }
   ],
   "source": [
    "print('Primeros datos:\\n {}\\n Últimos datos:\\n {}'.format(acc['Latitude.grid'].value_counts().head(),\n",
    "                                                     acc['Latitude.grid'].value_counts().tail()))  \n",
    "\n",
    "# DATOS NO BALANCEADOS DE LA LATITUD"
   ]
  },
  {
   "cell_type": "markdown",
   "metadata": {},
   "source": [
    "### 1.1. Balanceado de datos:"
   ]
  },
  {
   "cell_type": "code",
   "execution_count": 67,
   "metadata": {},
   "outputs": [
    {
     "data": {
      "text/plain": [
       "(824587, 6)"
      ]
     },
     "execution_count": 67,
     "metadata": {},
     "output_type": "execute_result"
    }
   ],
   "source": [
    "X2 = acc\n",
    "X2.shape"
   ]
  },
  {
   "cell_type": "code",
   "execution_count": 68,
   "metadata": {},
   "outputs": [
    {
     "data": {
      "text/plain": [
       "326"
      ]
     },
     "execution_count": 68,
     "metadata": {},
     "output_type": "execute_result"
    }
   ],
   "source": [
    "X2.duplicated().sum()"
   ]
  },
  {
   "cell_type": "code",
   "execution_count": 69,
   "metadata": {},
   "outputs": [
    {
     "data": {
      "text/plain": [
       "0"
      ]
     },
     "execution_count": 69,
     "metadata": {},
     "output_type": "execute_result"
    }
   ],
   "source": [
    "X2 = X2.drop_duplicates(keep='first')    # Eliminamos los duplicados, nos quedamos con el primero\n",
    "X2.duplicated().sum()"
   ]
  },
  {
   "cell_type": "code",
   "execution_count": 70,
   "metadata": {},
   "outputs": [
    {
     "data": {
      "text/plain": [
       "0    788070\n",
       "1     36191\n",
       "Name: Accident, dtype: int64"
      ]
     },
     "execution_count": 70,
     "metadata": {},
     "output_type": "execute_result"
    }
   ],
   "source": [
    "X2['Accident'].value_counts()   # Como comentamos anteriormente, los datos estan no balanceados,\n",
    "                                # vamos a balancearlos con downsampling"
   ]
  },
  {
   "cell_type": "code",
   "execution_count": 71,
   "metadata": {},
   "outputs": [],
   "source": [
    "clase_mayoritaria = X2[X2.Accident == 0]\n",
    "clase_minoritaria = X2[X2.Accident == 1]"
   ]
  },
  {
   "cell_type": "code",
   "execution_count": 72,
   "metadata": {},
   "outputs": [],
   "source": [
    "clase_mayoritaria_downsampled = resample(clase_mayoritaria, n_samples=clase_minoritaria.shape[0],\n",
    "                                         replace = False, random_state=1)\n",
    "\n",
    "# Con replace = False, el sampleado no vuelve a cojer las mismas muestras, mientras que si es True podria cojer\n",
    "# más de una vez una misma muestra. Cuando se hace un upsampling debe ser True ya que se deben cojer mas de una\n",
    "# vez una misma muestra, de hecho llamamos duplicados."
   ]
  },
  {
   "cell_type": "code",
   "execution_count": 73,
   "metadata": {},
   "outputs": [],
   "source": [
    "nuevo_dataset = pd.concat([clase_mayoritaria_downsampled, clase_minoritaria])"
   ]
  },
  {
   "cell_type": "code",
   "execution_count": 74,
   "metadata": {},
   "outputs": [
    {
     "data": {
      "text/plain": [
       "1    36191\n",
       "0    36191\n",
       "Name: Accident, dtype: int64"
      ]
     },
     "execution_count": 74,
     "metadata": {},
     "output_type": "execute_result"
    }
   ],
   "source": [
    "nuevo_dataset[\"Accident\"].value_counts()"
   ]
  },
  {
   "cell_type": "code",
   "execution_count": 75,
   "metadata": {},
   "outputs": [],
   "source": [
    "X2 = nuevo_dataset.drop('Accident',1)\n",
    "y2 = nuevo_dataset['Accident']"
   ]
  },
  {
   "cell_type": "code",
   "execution_count": 76,
   "metadata": {},
   "outputs": [],
   "source": [
    "for nombre_columna in X2.columns:\n",
    "    if X2[nombre_columna].dtypes == 'object':  # Si es categorica hacemos el dummies\n",
    "        dummies = pd.get_dummies(X2[nombre_columna])  # Almacena en dummies\n",
    "        X2 = pd.concat([X2, dummies], axis=1)  # Concatena\n",
    "        del X2[nombre_columna] # La eliminamos"
   ]
  },
  {
   "cell_type": "code",
   "execution_count": 77,
   "metadata": {},
   "outputs": [],
   "source": [
    "X2 = MinMaxScaler().fit_transform(X2)   # Un escalado puede aumentar un porcentaje significativo, \n",
    "                                        # importante probar de hacer un escalado."
   ]
  },
  {
   "cell_type": "code",
   "execution_count": 78,
   "metadata": {},
   "outputs": [
    {
     "name": "stderr",
     "output_type": "stream",
     "text": [
      "/anaconda3/lib/python3.7/site-packages/sklearn/model_selection/_split.py:2026: FutureWarning: From version 0.21, test_size will always complement train_size unless both are specified.\n",
      "  FutureWarning)\n"
     ]
    }
   ],
   "source": [
    "X1_train,X1_test,y1_train,y1_test = train_test_split(X2,y2,train_size=0.70,stratify = y2,random_state=10)"
   ]
  },
  {
   "cell_type": "markdown",
   "metadata": {},
   "source": [
    "### 1.2.    Validación con los datos X1_train y y1_train:"
   ]
  },
  {
   "cell_type": "code",
   "execution_count": 65,
   "metadata": {},
   "outputs": [
    {
     "data": {
      "image/png": "[encoded data removed]",
      "text/plain": [
       "<Figure size 432x288 with 1 Axes>"
      ]
     },
     "metadata": {
      "needs_background": "light"
     },
     "output_type": "display_data"
    }
   ],
   "source": [
    "train_scores = []\n",
    "val_scores = []\n",
    "max_depth_tree = list(range(1,26,1))\n",
    "\n",
    "for c in max_depth_tree:\n",
    "    DTC = DecisionTreeClassifier(max_depth=c,criterion=\"entropy\",random_state=1)\n",
    "    DTC.fit(X1_train,y1_train)\n",
    "    y_train_pred = DTC.predict_proba(X1_train)\n",
    "    train_scores.append(roc_auc_score(y1_train,y_train_pred[:,1]))\n",
    "    val_scores.append(cross_val_score(DTC,X1_train,y1_train,cv=5,scoring=\"roc_auc\").mean())\n",
    "\n",
    "plt.plot(max_depth_tree,train_scores,color='r',label='Datos de entrenamiento')\n",
    "plt.plot(max_depth_tree,val_scores,color='b',label='Datos de validación')\n",
    "plt.title('Decision tree classifier')\n",
    "plt.legend()\n",
    "plt.xlabel('Profundidad del Árbol')\n",
    "plt.ylabel('AUC')  \n",
    "plt.grid(True)"
   ]
  },
  {
   "cell_type": "code",
   "execution_count": 69,
   "metadata": {},
   "outputs": [
    {
     "name": "stdout",
     "output_type": "stream",
     "text": [
      "Train scores: [0.6098287271435114, 0.6409606226742136, 0.6950888573209602, 0.7141231869438793, 0.7291437700017706, 0.741674693288444, 0.755210213701954, 0.7623436569569304, 0.772362642057171, 0.7817659468954268, 0.7901447162937756, 0.7997757877580431, 0.8086800501266103, 0.8168297320957094, 0.826114169999241, 0.8347397650765794, 0.8438871891577966, 0.8523053308895095, 0.860257880297032, 0.867693557156395, 0.8754295529911171, 0.8816194254324708, 0.8873976794163585, 0.8954624970990922, 0.9006207640535432]\n",
      "\n",
      "Validación scores: [0.6098287887789173, 0.6402245431168374, 0.6944698642511458, 0.7127671253089141, 0.7271407689827527, 0.7353517394939498, 0.7477062429894665, 0.7539541351991164, 0.7594123254095534, 0.76275341351392, 0.7647651533818123, 0.7665135823756938, 0.7678581665127895, 0.7675205420650182, 0.7673488386638864, 0.7671711623435824, 0.7658030282745761, 0.7638030660322521, 0.7610194115746955, 0.7603042276757428, 0.7555535775060478, 0.755188402104614, 0.7533282525708123, 0.7512931706162036, 0.7479114915075823]\n",
      "\n",
      "Profundidad del árbol: [1, 2, 3, 4, 5, 6, 7, 8, 9, 10, 11, 12, 13, 14, 15, 16, 17, 18, 19, 20, 21, 22, 23, 24, 25]\n"
     ]
    }
   ],
   "source": [
    "print('Train scores: {}\\n\\nValidación scores: {}\\n\\nProfundidad del árbol: {}'\n",
    "      .format(train_scores,val_scores,max_depth_tree))"
   ]
  },
  {
   "cell_type": "code",
   "execution_count": 72,
   "metadata": {},
   "outputs": [
    {
     "name": "stdout",
     "output_type": "stream",
     "text": [
      "Max. Train score: 0.8086800501266103\n",
      "Max. Validación score: 0.7678581665127895\n",
      "Profundidad del árbol: 13\n"
     ]
    }
   ],
   "source": [
    "print('Max. Train score: {}\\nMax. Validación score: {}\\nProfundidad del árbol: {}'\n",
    "      .format(0.8086800501266103,0.7678581665127895,13))"
   ]
  },
  {
   "cell_type": "code",
   "execution_count": 179,
   "metadata": {},
   "outputs": [],
   "source": [
    "DTC = DecisionTreeClassifier(criterion=\"entropy\",random_state=7, max_depth = 13)\n",
    "DTC.fit(X1_train,y1_train)\n",
    "y_train_pred = DTC.predict(X1_train)\n",
    "y_test_pred = DTC.predict(X1_test)"
   ]
  },
  {
   "cell_type": "code",
   "execution_count": 180,
   "metadata": {},
   "outputs": [
    {
     "name": "stdout",
     "output_type": "stream",
     "text": [
      "Accuracy - Datos de entrenamiento: 0.7290938875402135\n",
      "Accuracy - Datos de test: 0.7027860925627446\n"
     ]
    }
   ],
   "source": [
    "print(\"Accuracy - Datos de entrenamiento: {}\\nAccuracy - Datos de test: {}\"\n",
    "      .format(accuracy_score(y1_train, y_train_pred),accuracy_score(y1_test, y_test_pred)))"
   ]
  },
  {
   "cell_type": "code",
   "execution_count": 181,
   "metadata": {},
   "outputs": [
    {
     "name": "stdout",
     "output_type": "stream",
     "text": [
      "[0 1]\n"
     ]
    }
   ],
   "source": [
    "print(np.unique(y_train_pred))    # Nos esta calculando los dos niveles"
   ]
  },
  {
   "cell_type": "code",
   "execution_count": 182,
   "metadata": {},
   "outputs": [],
   "source": [
    "y_train_pred = DTC.predict_proba(X1_train)\n",
    "y_test_pred = DTC.predict_proba(X1_test)"
   ]
  },
  {
   "cell_type": "code",
   "execution_count": 183,
   "metadata": {},
   "outputs": [
    {
     "name": "stdout",
     "output_type": "stream",
     "text": [
      "Árbol de decisión - Datos de entrenamiento: 0.8043689102443836\n",
      "Árbol de decisión - Datos de test: 0.766124253009107\n"
     ]
    }
   ],
   "source": [
    "print(\"Árbol de decisión - Datos de entrenamiento: {}\\nÁrbol de decisión - Datos de test: {}\"\n",
    "      .format(roc_auc_score(y1_train,y_train_pred[:,1]),roc_auc_score(y1_test,y_test_pred[:,1])))"
   ]
  },
  {
   "cell_type": "markdown",
   "metadata": {},
   "source": [
    "### 1.3. Probamos la selección de feature importance:"
   ]
  },
  {
   "cell_type": "code",
   "execution_count": 219,
   "metadata": {},
   "outputs": [
    {
     "data": {
      "text/plain": [
       "DecisionTreeClassifier(class_weight=None, criterion='entropy', max_depth=13,\n",
       "            max_features=None, max_leaf_nodes=None,\n",
       "            min_impurity_decrease=0.0, min_impurity_split=None,\n",
       "            min_samples_leaf=1, min_samples_split=2,\n",
       "            min_weight_fraction_leaf=0.0, presort=False, random_state=3,\n",
       "            splitter='best')"
      ]
     },
     "execution_count": 219,
     "metadata": {},
     "output_type": "execute_result"
    }
   ],
   "source": [
    "DTC = DecisionTreeClassifier(criterion=\"entropy\",random_state=3, max_depth = 13)\n",
    "DTC.fit(X1_train,y1_train)"
   ]
  },
  {
   "cell_type": "code",
   "execution_count": null,
   "metadata": {},
   "outputs": [],
   "source": [
    "DTC.feature_importances_  "
   ]
  },
  {
   "cell_type": "code",
   "execution_count": 220,
   "metadata": {},
   "outputs": [],
   "source": [
    "model = SelectFromModel(DTC, prefit=True)"
   ]
  },
  {
   "cell_type": "code",
   "execution_count": 221,
   "metadata": {},
   "outputs": [
    {
     "name": "stdout",
     "output_type": "stream",
     "text": [
      "(50667, 55) (21715, 55)\n"
     ]
    }
   ],
   "source": [
    "X_new_train = model.transform(X1_train)\n",
    "X_new_test = model.transform(X1_test)\n",
    "print(X_new_train.shape,X_new_test.shape)"
   ]
  },
  {
   "cell_type": "code",
   "execution_count": 222,
   "metadata": {},
   "outputs": [],
   "source": [
    "DTC.fit(X_new_train,y1_train)\n",
    "y_train_pred = DTC.predict(X_new_train)\n",
    "y_test_pred = DTC.predict(X_new_test)"
   ]
  },
  {
   "cell_type": "code",
   "execution_count": 223,
   "metadata": {},
   "outputs": [
    {
     "name": "stdout",
     "output_type": "stream",
     "text": [
      "Accuracy - Datos de entrenamiento: 0.7246333905697989\n",
      "Accuracy - Datos test: 0.7015427124107759\n"
     ]
    }
   ],
   "source": [
    "print(\"Accuracy - Datos de entrenamiento: {}\\nAccuracy - Datos test: {}\"\n",
    "      .format(accuracy_score(y1_train, y_train_pred),accuracy_score(y1_test, y_test_pred)))"
   ]
  },
  {
   "cell_type": "code",
   "execution_count": 224,
   "metadata": {},
   "outputs": [],
   "source": [
    "y_train_pred_proba = DTC.predict_proba(X_new_train)\n",
    "y_test_pred_proba = DTC.predict_proba(X_new_test)"
   ]
  },
  {
   "cell_type": "code",
   "execution_count": 225,
   "metadata": {},
   "outputs": [
    {
     "name": "stdout",
     "output_type": "stream",
     "text": [
      "Datos de entrenamiento - roc_auc: 0.8017238815076962\n",
      "Datos test - roc_auc: 0.7679029903862657\n"
     ]
    }
   ],
   "source": [
    "print(\"Datos de entrenamiento - roc_auc: {}\\nDatos test - roc_auc: {}\"\n",
    "      .format(roc_auc_score(y1_train,y_train_pred_proba[:,1]),roc_auc_score(y1_test,y_test_pred_proba[:,1])))"
   ]
  },
  {
   "cell_type": "markdown",
   "metadata": {},
   "source": [
    "La selección de feature importance mejora ligeramente el algoritmo."
   ]
  },
  {
   "cell_type": "markdown",
   "metadata": {},
   "source": [
    "### 1.4. AdaBoosClassifier para mejorar el porcentaje de acierto de los errores:"
   ]
  },
  {
   "cell_type": "code",
   "execution_count": 67,
   "metadata": {},
   "outputs": [],
   "source": [
    "BOOS = AdaBoostClassifier(random_state=1)\n",
    "BOOS.fit(X1_train,y1_train)\n",
    "y_train_pred = BOOS.predict(X1_train)\n",
    "y_test_pred = BOOS.predict(X1_test)"
   ]
  },
  {
   "cell_type": "code",
   "execution_count": 68,
   "metadata": {},
   "outputs": [
    {
     "name": "stdout",
     "output_type": "stream",
     "text": [
      "Estimación del set de Validacion usando BOOS\n",
      "0.7457242088544432\n"
     ]
    }
   ],
   "source": [
    "print(\"Estimación del set de Validacion usando BOOS\")\n",
    "print(cross_val_score(BOOS, X1_train, y1_train, cv=5, scoring='roc_auc').mean())"
   ]
  },
  {
   "cell_type": "code",
   "execution_count": 118,
   "metadata": {},
   "outputs": [],
   "source": [
    "y_train_pred = BOOS.predict_proba(X1_train)\n",
    "y_test_pred = BOOS.predict_proba(X1_test)"
   ]
  },
  {
   "cell_type": "code",
   "execution_count": 120,
   "metadata": {},
   "outputs": [
    {
     "name": "stdout",
     "output_type": "stream",
     "text": [
      "Árbol de decisión - Datos de entrenamiento: 0.7505077274781383\n",
      " Árbol de decisión - Datos de test: 0.7379541899819135\n"
     ]
    }
   ],
   "source": [
    "print(\"Árbol de decisión - Datos de entrenamiento: {}\\n Árbol de decisión - Datos de test: {}\"\n",
    "      .format(roc_auc_score(y1_train,y_train_pred[:,1]),roc_auc_score(y1_test,y_test_pred[:,1])))"
   ]
  },
  {
   "cell_type": "markdown",
   "metadata": {},
   "source": [
    "Observamos que el algoritmo de AdaBoostClassifier no mejora."
   ]
  },
  {
   "cell_type": "markdown",
   "metadata": {},
   "source": [
    "### 1.5. Haremos que todos los datos del algoritmo balanceado sean el train:**"
   ]
  },
  {
   "cell_type": "code",
   "execution_count": 27,
   "metadata": {},
   "outputs": [],
   "source": [
    "train_scores = []\n",
    "val_scores = []\n",
    "max_depth_tree = list(range(1,61,1))\n",
    "for c in max_depth_tree:\n",
    "    DTC = DecisionTreeClassifier(max_depth = c,criterion=\"entropy\",random_state=9)\n",
    "    DTC.fit(X2,y2)\n",
    "    y_train_pred = DTC.predict_proba(X2)\n",
    "    train_scores.append(roc_auc_score(y2,y_train_pred[:,1]))\n",
    "    val_scores.append(cross_val_score(DTC,X2,y2,cv=5,scoring=\"roc_auc\").mean())"
   ]
  },
  {
   "cell_type": "code",
   "execution_count": 28,
   "metadata": {},
   "outputs": [
    {
     "data": {
      "image/png": "[encoded data removed]",
      "text/plain": [
       "<Figure size 432x288 with 1 Axes>"
      ]
     },
     "metadata": {
      "needs_background": "light"
     },
     "output_type": "display_data"
    }
   ],
   "source": [
    "plt.plot(max_depth_tree,train_scores,color='r',label='Datos de entrenamiento')\n",
    "plt.plot(max_depth_tree,val_scores,color='b',label='Datos de validación')\n",
    "plt.title('Decision tree classifier')\n",
    "plt.legend()\n",
    "plt.xlabel('Profundidad del Árbol')\n",
    "plt.ylabel('AUC')  \n",
    "plt.grid(True)"
   ]
  },
  {
   "cell_type": "markdown",
   "metadata": {},
   "source": [
    "**NOTA:** Hemos realizado esta prueba de validación con todos los datos balanceados para observar si aumentaba el porcentaje en AUC, ya que puede estar ligado al aumento en la validación de test, pero como vemos el comportamiento es extraño. Vemos que a una profundidad superior a 60 el AUC es prácticamente 1.0, seguramente deberemos descartar esta validación."
   ]
  },
  {
   "cell_type": "code",
   "execution_count": 35,
   "metadata": {},
   "outputs": [],
   "source": [
    "DTC = DecisionTreeClassifier(criterion=\"entropy\",random_state=23, max_depth = 70)\n",
    "DTC.fit(X2,y2)\n",
    "y_train_pred = DTC.predict(X2)"
   ]
  },
  {
   "cell_type": "code",
   "execution_count": 36,
   "metadata": {},
   "outputs": [
    {
     "name": "stdout",
     "output_type": "stream",
     "text": [
      "Accuracy - Datos de entrenamiento: 0.9582216573181178\n"
     ]
    }
   ],
   "source": [
    "print(\"Accuracy - Datos de entrenamiento:\",accuracy_score(y2, y_train_pred))"
   ]
  },
  {
   "cell_type": "code",
   "execution_count": 37,
   "metadata": {},
   "outputs": [
    {
     "name": "stdout",
     "output_type": "stream",
     "text": [
      "[0 1]\n"
     ]
    }
   ],
   "source": [
    "print(np.unique(y_train_pred))    # Nos esta calculando los dos niveles"
   ]
  },
  {
   "cell_type": "code",
   "execution_count": 38,
   "metadata": {},
   "outputs": [],
   "source": [
    "y_train_pred_proba = DTC.predict_proba(X2)"
   ]
  },
  {
   "cell_type": "code",
   "execution_count": 39,
   "metadata": {},
   "outputs": [
    {
     "name": "stdout",
     "output_type": "stream",
     "text": [
      "Árbol de decisión - Datos de entrenamiento: 0.9909035239866336\n"
     ]
    }
   ],
   "source": [
    "print(\"Árbol de decisión - Datos de entrenamiento:\",roc_auc_score(y2,y_train_pred_proba[:,1]))"
   ]
  },
  {
   "cell_type": "markdown",
   "metadata": {},
   "source": [
    "### 1.6. Probamos mejorar el algoritmo Random Forest una vez balanceados los datos:"
   ]
  },
  {
   "cell_type": "markdown",
   "metadata": {},
   "source": [
    "### 1.6.1 Validación de los errores:"
   ]
  },
  {
   "cell_type": "code",
   "execution_count": 128,
   "metadata": {},
   "outputs": [
    {
     "name": "stderr",
     "output_type": "stream",
     "text": [
      "/anaconda3/lib/python3.7/site-packages/sklearn/ensemble/forest.py:453: UserWarning: Some inputs do not have OOB scores. This probably means too few trees were used to compute any reliable oob estimates.\n",
      "  warn(\"Some inputs do not have OOB scores. \"\n",
      "/anaconda3/lib/python3.7/site-packages/sklearn/ensemble/forest.py:458: RuntimeWarning: divide by zero encountered in true_divide\n",
      "  predictions[k].sum(axis=1)[:, np.newaxis])\n",
      "/anaconda3/lib/python3.7/site-packages/sklearn/ensemble/forest.py:458: RuntimeWarning: invalid value encountered in true_divide\n",
      "  predictions[k].sum(axis=1)[:, np.newaxis])\n",
      "/anaconda3/lib/python3.7/site-packages/sklearn/ensemble/forest.py:453: UserWarning: Some inputs do not have OOB scores. This probably means too few trees were used to compute any reliable oob estimates.\n",
      "  warn(\"Some inputs do not have OOB scores. \"\n",
      "/anaconda3/lib/python3.7/site-packages/sklearn/ensemble/forest.py:458: RuntimeWarning: divide by zero encountered in true_divide\n",
      "  predictions[k].sum(axis=1)[:, np.newaxis])\n",
      "/anaconda3/lib/python3.7/site-packages/sklearn/ensemble/forest.py:458: RuntimeWarning: invalid value encountered in true_divide\n",
      "  predictions[k].sum(axis=1)[:, np.newaxis])\n",
      "/anaconda3/lib/python3.7/site-packages/sklearn/ensemble/forest.py:453: UserWarning: Some inputs do not have OOB scores. This probably means too few trees were used to compute any reliable oob estimates.\n",
      "  warn(\"Some inputs do not have OOB scores. \"\n",
      "/anaconda3/lib/python3.7/site-packages/sklearn/ensemble/forest.py:458: RuntimeWarning: divide by zero encountered in true_divide\n",
      "  predictions[k].sum(axis=1)[:, np.newaxis])\n",
      "/anaconda3/lib/python3.7/site-packages/sklearn/ensemble/forest.py:458: RuntimeWarning: invalid value encountered in true_divide\n",
      "  predictions[k].sum(axis=1)[:, np.newaxis])\n",
      "/anaconda3/lib/python3.7/site-packages/sklearn/ensemble/forest.py:453: UserWarning: Some inputs do not have OOB scores. This probably means too few trees were used to compute any reliable oob estimates.\n",
      "  warn(\"Some inputs do not have OOB scores. \"\n",
      "/anaconda3/lib/python3.7/site-packages/sklearn/ensemble/forest.py:458: RuntimeWarning: divide by zero encountered in true_divide\n",
      "  predictions[k].sum(axis=1)[:, np.newaxis])\n",
      "/anaconda3/lib/python3.7/site-packages/sklearn/ensemble/forest.py:458: RuntimeWarning: invalid value encountered in true_divide\n",
      "  predictions[k].sum(axis=1)[:, np.newaxis])\n",
      "/anaconda3/lib/python3.7/site-packages/sklearn/ensemble/forest.py:453: UserWarning: Some inputs do not have OOB scores. This probably means too few trees were used to compute any reliable oob estimates.\n",
      "  warn(\"Some inputs do not have OOB scores. \"\n",
      "/anaconda3/lib/python3.7/site-packages/sklearn/ensemble/forest.py:458: RuntimeWarning: divide by zero encountered in true_divide\n",
      "  predictions[k].sum(axis=1)[:, np.newaxis])\n",
      "/anaconda3/lib/python3.7/site-packages/sklearn/ensemble/forest.py:458: RuntimeWarning: invalid value encountered in true_divide\n",
      "  predictions[k].sum(axis=1)[:, np.newaxis])\n",
      "/anaconda3/lib/python3.7/site-packages/sklearn/ensemble/forest.py:453: UserWarning: Some inputs do not have OOB scores. This probably means too few trees were used to compute any reliable oob estimates.\n",
      "  warn(\"Some inputs do not have OOB scores. \"\n",
      "/anaconda3/lib/python3.7/site-packages/sklearn/ensemble/forest.py:458: RuntimeWarning: divide by zero encountered in true_divide\n",
      "  predictions[k].sum(axis=1)[:, np.newaxis])\n",
      "/anaconda3/lib/python3.7/site-packages/sklearn/ensemble/forest.py:458: RuntimeWarning: invalid value encountered in true_divide\n",
      "  predictions[k].sum(axis=1)[:, np.newaxis])\n",
      "/anaconda3/lib/python3.7/site-packages/sklearn/ensemble/forest.py:453: UserWarning: Some inputs do not have OOB scores. This probably means too few trees were used to compute any reliable oob estimates.\n",
      "  warn(\"Some inputs do not have OOB scores. \"\n",
      "/anaconda3/lib/python3.7/site-packages/sklearn/ensemble/forest.py:458: RuntimeWarning: divide by zero encountered in true_divide\n",
      "  predictions[k].sum(axis=1)[:, np.newaxis])\n",
      "/anaconda3/lib/python3.7/site-packages/sklearn/ensemble/forest.py:458: RuntimeWarning: invalid value encountered in true_divide\n",
      "  predictions[k].sum(axis=1)[:, np.newaxis])\n",
      "/anaconda3/lib/python3.7/site-packages/sklearn/ensemble/forest.py:453: UserWarning: Some inputs do not have OOB scores. This probably means too few trees were used to compute any reliable oob estimates.\n",
      "  warn(\"Some inputs do not have OOB scores. \"\n",
      "/anaconda3/lib/python3.7/site-packages/sklearn/ensemble/forest.py:458: RuntimeWarning: divide by zero encountered in true_divide\n",
      "  predictions[k].sum(axis=1)[:, np.newaxis])\n",
      "/anaconda3/lib/python3.7/site-packages/sklearn/ensemble/forest.py:458: RuntimeWarning: invalid value encountered in true_divide\n",
      "  predictions[k].sum(axis=1)[:, np.newaxis])\n",
      "/anaconda3/lib/python3.7/site-packages/sklearn/ensemble/forest.py:453: UserWarning: Some inputs do not have OOB scores. This probably means too few trees were used to compute any reliable oob estimates.\n",
      "  warn(\"Some inputs do not have OOB scores. \"\n",
      "/anaconda3/lib/python3.7/site-packages/sklearn/ensemble/forest.py:458: RuntimeWarning: divide by zero encountered in true_divide\n",
      "  predictions[k].sum(axis=1)[:, np.newaxis])\n",
      "/anaconda3/lib/python3.7/site-packages/sklearn/ensemble/forest.py:458: RuntimeWarning: invalid value encountered in true_divide\n",
      "  predictions[k].sum(axis=1)[:, np.newaxis])\n",
      "/anaconda3/lib/python3.7/site-packages/sklearn/ensemble/forest.py:453: UserWarning: Some inputs do not have OOB scores. This probably means too few trees were used to compute any reliable oob estimates.\n",
      "  warn(\"Some inputs do not have OOB scores. \"\n",
      "/anaconda3/lib/python3.7/site-packages/sklearn/ensemble/forest.py:458: RuntimeWarning: divide by zero encountered in true_divide\n",
      "  predictions[k].sum(axis=1)[:, np.newaxis])\n",
      "/anaconda3/lib/python3.7/site-packages/sklearn/ensemble/forest.py:458: RuntimeWarning: invalid value encountered in true_divide\n",
      "  predictions[k].sum(axis=1)[:, np.newaxis])\n",
      "/anaconda3/lib/python3.7/site-packages/sklearn/ensemble/forest.py:453: UserWarning: Some inputs do not have OOB scores. This probably means too few trees were used to compute any reliable oob estimates.\n",
      "  warn(\"Some inputs do not have OOB scores. \"\n",
      "/anaconda3/lib/python3.7/site-packages/sklearn/ensemble/forest.py:458: RuntimeWarning: divide by zero encountered in true_divide\n",
      "  predictions[k].sum(axis=1)[:, np.newaxis])\n",
      "/anaconda3/lib/python3.7/site-packages/sklearn/ensemble/forest.py:458: RuntimeWarning: invalid value encountered in true_divide\n",
      "  predictions[k].sum(axis=1)[:, np.newaxis])\n",
      "/anaconda3/lib/python3.7/site-packages/sklearn/ensemble/forest.py:453: UserWarning: Some inputs do not have OOB scores. This probably means too few trees were used to compute any reliable oob estimates.\n",
      "  warn(\"Some inputs do not have OOB scores. \"\n",
      "/anaconda3/lib/python3.7/site-packages/sklearn/ensemble/forest.py:458: RuntimeWarning: divide by zero encountered in true_divide\n",
      "  predictions[k].sum(axis=1)[:, np.newaxis])\n",
      "/anaconda3/lib/python3.7/site-packages/sklearn/ensemble/forest.py:458: RuntimeWarning: invalid value encountered in true_divide\n",
      "  predictions[k].sum(axis=1)[:, np.newaxis])\n",
      "/anaconda3/lib/python3.7/site-packages/sklearn/ensemble/forest.py:453: UserWarning: Some inputs do not have OOB scores. This probably means too few trees were used to compute any reliable oob estimates.\n",
      "  warn(\"Some inputs do not have OOB scores. \"\n",
      "/anaconda3/lib/python3.7/site-packages/sklearn/ensemble/forest.py:458: RuntimeWarning: divide by zero encountered in true_divide\n",
      "  predictions[k].sum(axis=1)[:, np.newaxis])\n",
      "/anaconda3/lib/python3.7/site-packages/sklearn/ensemble/forest.py:458: RuntimeWarning: invalid value encountered in true_divide\n",
      "  predictions[k].sum(axis=1)[:, np.newaxis])\n",
      "/anaconda3/lib/python3.7/site-packages/sklearn/ensemble/forest.py:453: UserWarning: Some inputs do not have OOB scores. This probably means too few trees were used to compute any reliable oob estimates.\n",
      "  warn(\"Some inputs do not have OOB scores. \"\n",
      "/anaconda3/lib/python3.7/site-packages/sklearn/ensemble/forest.py:458: RuntimeWarning: divide by zero encountered in true_divide\n",
      "  predictions[k].sum(axis=1)[:, np.newaxis])\n",
      "/anaconda3/lib/python3.7/site-packages/sklearn/ensemble/forest.py:458: RuntimeWarning: invalid value encountered in true_divide\n",
      "  predictions[k].sum(axis=1)[:, np.newaxis])\n"
     ]
    },
    {
     "name": "stderr",
     "output_type": "stream",
     "text": [
      "/anaconda3/lib/python3.7/site-packages/sklearn/ensemble/forest.py:453: UserWarning: Some inputs do not have OOB scores. This probably means too few trees were used to compute any reliable oob estimates.\n",
      "  warn(\"Some inputs do not have OOB scores. \"\n",
      "/anaconda3/lib/python3.7/site-packages/sklearn/ensemble/forest.py:458: RuntimeWarning: divide by zero encountered in true_divide\n",
      "  predictions[k].sum(axis=1)[:, np.newaxis])\n",
      "/anaconda3/lib/python3.7/site-packages/sklearn/ensemble/forest.py:458: RuntimeWarning: invalid value encountered in true_divide\n",
      "  predictions[k].sum(axis=1)[:, np.newaxis])\n",
      "/anaconda3/lib/python3.7/site-packages/sklearn/ensemble/forest.py:453: UserWarning: Some inputs do not have OOB scores. This probably means too few trees were used to compute any reliable oob estimates.\n",
      "  warn(\"Some inputs do not have OOB scores. \"\n",
      "/anaconda3/lib/python3.7/site-packages/sklearn/ensemble/forest.py:458: RuntimeWarning: divide by zero encountered in true_divide\n",
      "  predictions[k].sum(axis=1)[:, np.newaxis])\n",
      "/anaconda3/lib/python3.7/site-packages/sklearn/ensemble/forest.py:458: RuntimeWarning: invalid value encountered in true_divide\n",
      "  predictions[k].sum(axis=1)[:, np.newaxis])\n",
      "/anaconda3/lib/python3.7/site-packages/sklearn/ensemble/forest.py:453: UserWarning: Some inputs do not have OOB scores. This probably means too few trees were used to compute any reliable oob estimates.\n",
      "  warn(\"Some inputs do not have OOB scores. \"\n",
      "/anaconda3/lib/python3.7/site-packages/sklearn/ensemble/forest.py:458: RuntimeWarning: divide by zero encountered in true_divide\n",
      "  predictions[k].sum(axis=1)[:, np.newaxis])\n",
      "/anaconda3/lib/python3.7/site-packages/sklearn/ensemble/forest.py:458: RuntimeWarning: invalid value encountered in true_divide\n",
      "  predictions[k].sum(axis=1)[:, np.newaxis])\n",
      "/anaconda3/lib/python3.7/site-packages/sklearn/ensemble/forest.py:453: UserWarning: Some inputs do not have OOB scores. This probably means too few trees were used to compute any reliable oob estimates.\n",
      "  warn(\"Some inputs do not have OOB scores. \"\n",
      "/anaconda3/lib/python3.7/site-packages/sklearn/ensemble/forest.py:458: RuntimeWarning: divide by zero encountered in true_divide\n",
      "  predictions[k].sum(axis=1)[:, np.newaxis])\n",
      "/anaconda3/lib/python3.7/site-packages/sklearn/ensemble/forest.py:458: RuntimeWarning: invalid value encountered in true_divide\n",
      "  predictions[k].sum(axis=1)[:, np.newaxis])\n",
      "/anaconda3/lib/python3.7/site-packages/sklearn/ensemble/forest.py:453: UserWarning: Some inputs do not have OOB scores. This probably means too few trees were used to compute any reliable oob estimates.\n",
      "  warn(\"Some inputs do not have OOB scores. \"\n",
      "/anaconda3/lib/python3.7/site-packages/sklearn/ensemble/forest.py:458: RuntimeWarning: divide by zero encountered in true_divide\n",
      "  predictions[k].sum(axis=1)[:, np.newaxis])\n",
      "/anaconda3/lib/python3.7/site-packages/sklearn/ensemble/forest.py:458: RuntimeWarning: invalid value encountered in true_divide\n",
      "  predictions[k].sum(axis=1)[:, np.newaxis])\n",
      "/anaconda3/lib/python3.7/site-packages/sklearn/ensemble/forest.py:453: UserWarning: Some inputs do not have OOB scores. This probably means too few trees were used to compute any reliable oob estimates.\n",
      "  warn(\"Some inputs do not have OOB scores. \"\n",
      "/anaconda3/lib/python3.7/site-packages/sklearn/ensemble/forest.py:458: RuntimeWarning: divide by zero encountered in true_divide\n",
      "  predictions[k].sum(axis=1)[:, np.newaxis])\n",
      "/anaconda3/lib/python3.7/site-packages/sklearn/ensemble/forest.py:458: RuntimeWarning: invalid value encountered in true_divide\n",
      "  predictions[k].sum(axis=1)[:, np.newaxis])\n",
      "/anaconda3/lib/python3.7/site-packages/sklearn/ensemble/forest.py:453: UserWarning: Some inputs do not have OOB scores. This probably means too few trees were used to compute any reliable oob estimates.\n",
      "  warn(\"Some inputs do not have OOB scores. \"\n",
      "/anaconda3/lib/python3.7/site-packages/sklearn/ensemble/forest.py:458: RuntimeWarning: divide by zero encountered in true_divide\n",
      "  predictions[k].sum(axis=1)[:, np.newaxis])\n",
      "/anaconda3/lib/python3.7/site-packages/sklearn/ensemble/forest.py:458: RuntimeWarning: invalid value encountered in true_divide\n",
      "  predictions[k].sum(axis=1)[:, np.newaxis])\n",
      "/anaconda3/lib/python3.7/site-packages/sklearn/ensemble/forest.py:453: UserWarning: Some inputs do not have OOB scores. This probably means too few trees were used to compute any reliable oob estimates.\n",
      "  warn(\"Some inputs do not have OOB scores. \"\n",
      "/anaconda3/lib/python3.7/site-packages/sklearn/ensemble/forest.py:458: RuntimeWarning: divide by zero encountered in true_divide\n",
      "  predictions[k].sum(axis=1)[:, np.newaxis])\n",
      "/anaconda3/lib/python3.7/site-packages/sklearn/ensemble/forest.py:458: RuntimeWarning: invalid value encountered in true_divide\n",
      "  predictions[k].sum(axis=1)[:, np.newaxis])\n",
      "/anaconda3/lib/python3.7/site-packages/sklearn/ensemble/forest.py:453: UserWarning: Some inputs do not have OOB scores. This probably means too few trees were used to compute any reliable oob estimates.\n",
      "  warn(\"Some inputs do not have OOB scores. \"\n",
      "/anaconda3/lib/python3.7/site-packages/sklearn/ensemble/forest.py:458: RuntimeWarning: divide by zero encountered in true_divide\n",
      "  predictions[k].sum(axis=1)[:, np.newaxis])\n",
      "/anaconda3/lib/python3.7/site-packages/sklearn/ensemble/forest.py:458: RuntimeWarning: invalid value encountered in true_divide\n",
      "  predictions[k].sum(axis=1)[:, np.newaxis])\n"
     ]
    }
   ],
   "source": [
    "error_rate = []\n",
    "num_trees = []\n",
    "rf_clf = RandomForestClassifier(warm_start=True, oob_score=True,n_jobs= -1,random_state=10)\n",
    "for i in range(2,101):\n",
    "    rf_clf.set_params(n_estimators=i)\n",
    "    rf_clf.fit(X2,y2)\n",
    "    oob_error = 1 - rf_clf.oob_score_\n",
    "    error_rate.append(oob_error)\n",
    "    num_trees.append(i)"
   ]
  },
  {
   "cell_type": "markdown",
   "metadata": {},
   "source": [
    "**El oob_score no es el error, es la puntación, cuanto más alto mejor ya que significa un error más pequeño, recordemos oob_error = 1 - oob_score. Son mejores puntuaciones altas de accuracy y oob_score.**"
   ]
  },
  {
   "cell_type": "code",
   "execution_count": 133,
   "metadata": {},
   "outputs": [
    {
     "data": {
      "image/png": "[encoded data removed]",
      "text/plain": [
       "<Figure size 432x288 with 1 Axes>"
      ]
     },
     "metadata": {
      "image/png": {
       "height": 277,
       "width": 401
      },
      "needs_background": "light"
     },
     "output_type": "display_data"
    }
   ],
   "source": [
    "set_matplotlib_formats('retina')\n",
    "%matplotlib inline\n",
    "plt.plot(num_trees,error_rate)\n",
    "plt.title('Errors by ntrees')\n",
    "plt.xlim(2,100)\n",
    "plt.xlabel(\"n_estimators\")\n",
    "plt.ylabel(\"OOB error rate\")\n",
    "plt.grid(True)"
   ]
  },
  {
   "cell_type": "markdown",
   "metadata": {},
   "source": [
    "### 1.6.2. Validación del max_depth: "
   ]
  },
  {
   "cell_type": "code",
   "execution_count": 79,
   "metadata": {},
   "outputs": [],
   "source": [
    "train_scores = []\n",
    "test_scores = []\n",
    "max_depth_tree = list(range(1,251,1))  # Poner mas profundidad.\n",
    "for c in max_depth_tree:\n",
    "    rf_clf = RandomForestClassifier(n_jobs= -1,warm_start = True,random_state=12,max_depth=c)\n",
    "    rf_clf.fit(X1_train,y1_train)\n",
    "    y_train_pred = rf_clf.predict_proba(X1_train)\n",
    "    y_test_pred = rf_clf.predict_proba(X1_test)\n",
    "    train_scores.append(roc_auc_score(y1_train,y_train_pred[:,1]))\n",
    "    test_scores.append(roc_auc_score(y1_test,y_test_pred[:,1]))\n",
    "   "
   ]
  },
  {
   "cell_type": "code",
   "execution_count": 80,
   "metadata": {},
   "outputs": [
    {
     "data": {
      "image/png": "[encoded data removed]",
      "text/plain": [
       "<Figure size 432x288 with 1 Axes>"
      ]
     },
     "metadata": {
      "needs_background": "light"
     },
     "output_type": "display_data"
    }
   ],
   "source": [
    "plt.plot(max_depth_tree,train_scores,color='r',label='Datos de train')\n",
    "plt.plot(max_depth_tree,test_scores,color='b',label='Datos de test')\n",
    "plt.title('Decision tree classifier')\n",
    "plt.legend()\n",
    "plt.xlabel('Profundidad del Árbol')\n",
    "plt.ylabel('AUC')  \n",
    "plt.grid(True)"
   ]
  },
  {
   "cell_type": "markdown",
   "metadata": {},
   "source": [
    "**La línia del test llega al máximo a una profundidad de árbol de 140-150, a partir de aquí se produce un sobreajuste en la validación del train.**"
   ]
  },
  {
   "cell_type": "code",
   "execution_count": 81,
   "metadata": {},
   "outputs": [],
   "source": [
    "rf_clf = RandomForestClassifier(n_estimators=150, warm_start=True, oob_score=True,n_jobs= -1,\n",
    "                                random_state=12,max_depth=140)"
   ]
  },
  {
   "cell_type": "code",
   "execution_count": 82,
   "metadata": {},
   "outputs": [],
   "source": [
    "rf_clf.fit(X1_train,y1_train)\n",
    "y_train_pred = rf_clf.predict(X1_train)\n",
    "y_test_pred = rf_clf.predict(X1_test)"
   ]
  },
  {
   "cell_type": "code",
   "execution_count": 83,
   "metadata": {},
   "outputs": [
    {
     "name": "stdout",
     "output_type": "stream",
     "text": [
      "Accuracy - Datos entrenamiento: 0.8906388773758067\n",
      "Accuracy - Datos test: 0.7021874280451301\n"
     ]
    }
   ],
   "source": [
    "print(\"Accuracy - Datos entrenamiento: {}\\nAccuracy - Datos test: {}\"\n",
    "      .format(accuracy_score(y1_train, y_train_pred),accuracy_score(y1_test, y_test_pred)))"
   ]
  },
  {
   "cell_type": "code",
   "execution_count": 84,
   "metadata": {},
   "outputs": [],
   "source": [
    "y_train_pred_proba = rf_clf.predict_proba(X1_train)\n",
    "y_test_pred_proba = rf_clf.predict_proba(X1_test)"
   ]
  },
  {
   "cell_type": "code",
   "execution_count": 85,
   "metadata": {},
   "outputs": [
    {
     "name": "stdout",
     "output_type": "stream",
     "text": [
      "Árbol de decisión - Datos entrenamiento: 0.9579466120106268\n",
      "Árbol de decisión - Datos test: 0.7680677310198438\n"
     ]
    }
   ],
   "source": [
    "print(\"Árbol de decisión - Datos entrenamiento: {}\\nÁrbol de decisión - Datos test: {}\"\n",
    "      .format(roc_auc_score(y1_train, y_train_pred_proba[:,1]),roc_auc_score(y1_test, y_test_pred_proba[:,1])))"
   ]
  },
  {
   "cell_type": "code",
   "execution_count": 86,
   "metadata": {},
   "outputs": [
    {
     "name": "stdout",
     "output_type": "stream",
     "text": [
      "[0 1]\n"
     ]
    }
   ],
   "source": [
    "print(np.unique(y_test_pred))"
   ]
  },
  {
   "cell_type": "code",
   "execution_count": 87,
   "metadata": {},
   "outputs": [
    {
     "name": "stdout",
     "output_type": "stream",
     "text": [
      "Datos test: 0.7365997421256216\n"
     ]
    }
   ],
   "source": [
    "print(\"Datos test:\",recall_score(y1_test,y_test_pred))\n",
    "\n",
    "#Sensitivity (also called the true positive rate, the recall\n",
    "#Specificity (also called the true negative rate)"
   ]
  },
  {
   "cell_type": "markdown",
   "metadata": {},
   "source": [
    "## 2.    Nuevo dataset con nuevas features:"
   ]
  },
  {
   "cell_type": "code",
   "execution_count": 40,
   "metadata": {},
   "outputs": [],
   "source": [
    "acci_meteo = pd.read_csv('/Users/Domm/Desktop/MBD/3_Mineria_de_Datos/Proyecto/acci_meteo.csv',index_col = 0)"
   ]
  },
  {
   "cell_type": "code",
   "execution_count": 41,
   "metadata": {},
   "outputs": [
    {
     "data": {
      "text/html": [
       "<div>\n",
       "<style scoped>\n",
       "    .dataframe tbody tr th:only-of-type {\n",
       "        vertical-align: middle;\n",
       "    }\n",
       "\n",
       "    .dataframe tbody tr th {\n",
       "        vertical-align: top;\n",
       "    }\n",
       "\n",
       "    .dataframe thead th {\n",
       "        text-align: right;\n",
       "    }\n",
       "</style>\n",
       "<table border=\"1\" class=\"dataframe\">\n",
       "  <thead>\n",
       "    <tr style=\"text-align: right;\">\n",
       "      <th></th>\n",
       "      <th>FECHA</th>\n",
       "      <th>Shift</th>\n",
       "      <th>Accident</th>\n",
       "      <th>Longitude.grid</th>\n",
       "      <th>Latitude.grid</th>\n",
       "      <th>Temperatura</th>\n",
       "      <th>Vel.viento</th>\n",
       "    </tr>\n",
       "  </thead>\n",
       "  <tbody>\n",
       "    <tr>\n",
       "      <th>0</th>\n",
       "      <td>2010-01-01</td>\n",
       "      <td>Night</td>\n",
       "      <td>0</td>\n",
       "      <td>2.1200</td>\n",
       "      <td>41.3225</td>\n",
       "      <td>5.8</td>\n",
       "      <td>4.2</td>\n",
       "    </tr>\n",
       "    <tr>\n",
       "      <th>1</th>\n",
       "      <td>2010-01-01</td>\n",
       "      <td>Night</td>\n",
       "      <td>0</td>\n",
       "      <td>2.1600</td>\n",
       "      <td>41.4025</td>\n",
       "      <td>5.8</td>\n",
       "      <td>4.2</td>\n",
       "    </tr>\n",
       "    <tr>\n",
       "      <th>2</th>\n",
       "      <td>2010-01-01</td>\n",
       "      <td>Night</td>\n",
       "      <td>0</td>\n",
       "      <td>2.1050</td>\n",
       "      <td>41.3775</td>\n",
       "      <td>5.8</td>\n",
       "      <td>4.2</td>\n",
       "    </tr>\n",
       "    <tr>\n",
       "      <th>3</th>\n",
       "      <td>2010-01-01</td>\n",
       "      <td>Afternoon</td>\n",
       "      <td>0</td>\n",
       "      <td>2.2150</td>\n",
       "      <td>41.4050</td>\n",
       "      <td>11.4</td>\n",
       "      <td>4.2</td>\n",
       "    </tr>\n",
       "    <tr>\n",
       "      <th>4</th>\n",
       "      <td>2010-01-01</td>\n",
       "      <td>Night</td>\n",
       "      <td>0</td>\n",
       "      <td>2.1550</td>\n",
       "      <td>41.3750</td>\n",
       "      <td>5.8</td>\n",
       "      <td>4.2</td>\n",
       "    </tr>\n",
       "    <tr>\n",
       "      <th>5</th>\n",
       "      <td>2010-01-01</td>\n",
       "      <td>Morning</td>\n",
       "      <td>0</td>\n",
       "      <td>2.1625</td>\n",
       "      <td>41.3575</td>\n",
       "      <td>8.6</td>\n",
       "      <td>20.0</td>\n",
       "    </tr>\n",
       "    <tr>\n",
       "      <th>6</th>\n",
       "      <td>2010-01-01</td>\n",
       "      <td>Morning</td>\n",
       "      <td>0</td>\n",
       "      <td>2.1300</td>\n",
       "      <td>41.3700</td>\n",
       "      <td>8.6</td>\n",
       "      <td>20.0</td>\n",
       "    </tr>\n",
       "    <tr>\n",
       "      <th>7</th>\n",
       "      <td>2010-01-01</td>\n",
       "      <td>Morning</td>\n",
       "      <td>0</td>\n",
       "      <td>2.1250</td>\n",
       "      <td>41.3850</td>\n",
       "      <td>8.6</td>\n",
       "      <td>20.0</td>\n",
       "    </tr>\n",
       "    <tr>\n",
       "      <th>8</th>\n",
       "      <td>2010-01-01</td>\n",
       "      <td>Morning</td>\n",
       "      <td>0</td>\n",
       "      <td>2.1850</td>\n",
       "      <td>41.4175</td>\n",
       "      <td>8.6</td>\n",
       "      <td>20.0</td>\n",
       "    </tr>\n",
       "    <tr>\n",
       "      <th>9</th>\n",
       "      <td>2010-01-01</td>\n",
       "      <td>Night</td>\n",
       "      <td>0</td>\n",
       "      <td>2.1575</td>\n",
       "      <td>41.4400</td>\n",
       "      <td>5.8</td>\n",
       "      <td>4.2</td>\n",
       "    </tr>\n",
       "  </tbody>\n",
       "</table>\n",
       "</div>"
      ],
      "text/plain": [
       "        FECHA      Shift  Accident  Longitude.grid  Latitude.grid  \\\n",
       "0  2010-01-01      Night         0          2.1200        41.3225   \n",
       "1  2010-01-01      Night         0          2.1600        41.4025   \n",
       "2  2010-01-01      Night         0          2.1050        41.3775   \n",
       "3  2010-01-01  Afternoon         0          2.2150        41.4050   \n",
       "4  2010-01-01      Night         0          2.1550        41.3750   \n",
       "5  2010-01-01    Morning         0          2.1625        41.3575   \n",
       "6  2010-01-01    Morning         0          2.1300        41.3700   \n",
       "7  2010-01-01    Morning         0          2.1250        41.3850   \n",
       "8  2010-01-01    Morning         0          2.1850        41.4175   \n",
       "9  2010-01-01      Night         0          2.1575        41.4400   \n",
       "\n",
       "   Temperatura  Vel.viento  \n",
       "0          5.8         4.2  \n",
       "1          5.8         4.2  \n",
       "2          5.8         4.2  \n",
       "3         11.4         4.2  \n",
       "4          5.8         4.2  \n",
       "5          8.6        20.0  \n",
       "6          8.6        20.0  \n",
       "7          8.6        20.0  \n",
       "8          8.6        20.0  \n",
       "9          5.8         4.2  "
      ]
     },
     "execution_count": 41,
     "metadata": {},
     "output_type": "execute_result"
    }
   ],
   "source": [
    "acci_meteo.head(10)"
   ]
  },
  {
   "cell_type": "code",
   "execution_count": 42,
   "metadata": {},
   "outputs": [
    {
     "data": {
      "text/plain": [
       "(824261, 7)"
      ]
     },
     "execution_count": 42,
     "metadata": {},
     "output_type": "execute_result"
    }
   ],
   "source": [
    "acci_meteo.shape"
   ]
  },
  {
   "cell_type": "code",
   "execution_count": 43,
   "metadata": {},
   "outputs": [
    {
     "data": {
      "text/plain": [
       "False"
      ]
     },
     "execution_count": 43,
     "metadata": {},
     "output_type": "execute_result"
    }
   ],
   "source": [
    "acci_meteo.isnull().values.any()  # Miramos si hay NaN"
   ]
  },
  {
   "cell_type": "code",
   "execution_count": 44,
   "metadata": {},
   "outputs": [
    {
     "data": {
      "text/plain": [
       "0"
      ]
     },
     "execution_count": 44,
     "metadata": {},
     "output_type": "execute_result"
    }
   ],
   "source": [
    "acci_meteo.duplicated().sum()  # Miramos si hay duplicados"
   ]
  },
  {
   "cell_type": "markdown",
   "metadata": {},
   "source": [
    "### 2.1. Balanceado de datos:"
   ]
  },
  {
   "cell_type": "code",
   "execution_count": 45,
   "metadata": {},
   "outputs": [
    {
     "data": {
      "text/plain": [
       "(824261, 7)"
      ]
     },
     "execution_count": 45,
     "metadata": {},
     "output_type": "execute_result"
    }
   ],
   "source": [
    "X2 = acci_meteo\n",
    "X2.shape"
   ]
  },
  {
   "cell_type": "code",
   "execution_count": 46,
   "metadata": {},
   "outputs": [
    {
     "data": {
      "text/plain": [
       "0    788070\n",
       "1     36191\n",
       "Name: Accident, dtype: int64"
      ]
     },
     "execution_count": 46,
     "metadata": {},
     "output_type": "execute_result"
    }
   ],
   "source": [
    "X2['Accident'].value_counts()   # Como comentamos anteriormente, los datos estan no balanceados,\n",
    "                                # vamos a balancearlos con downsampling"
   ]
  },
  {
   "cell_type": "code",
   "execution_count": 47,
   "metadata": {},
   "outputs": [],
   "source": [
    "clase_mayoritaria = X2[X2.Accident == 0]\n",
    "clase_minoritaria = X2[X2.Accident == 1]"
   ]
  },
  {
   "cell_type": "code",
   "execution_count": 48,
   "metadata": {},
   "outputs": [],
   "source": [
    "clase_mayoritaria_downsampled = resample(clase_mayoritaria, n_samples=clase_minoritaria.shape[0],\n",
    "                                         replace = False, random_state=8)"
   ]
  },
  {
   "cell_type": "code",
   "execution_count": 49,
   "metadata": {},
   "outputs": [],
   "source": [
    "nuevo_dataset = pd.concat([clase_mayoritaria_downsampled, clase_minoritaria])"
   ]
  },
  {
   "cell_type": "code",
   "execution_count": 50,
   "metadata": {},
   "outputs": [
    {
     "data": {
      "text/plain": [
       "1    36191\n",
       "0    36191\n",
       "Name: Accident, dtype: int64"
      ]
     },
     "execution_count": 50,
     "metadata": {},
     "output_type": "execute_result"
    }
   ],
   "source": [
    "nuevo_dataset[\"Accident\"].value_counts()"
   ]
  },
  {
   "cell_type": "code",
   "execution_count": 51,
   "metadata": {},
   "outputs": [],
   "source": [
    "X2 = nuevo_dataset.drop('Accident',1)\n",
    "y2 = nuevo_dataset['Accident']"
   ]
  },
  {
   "cell_type": "code",
   "execution_count": 52,
   "metadata": {},
   "outputs": [],
   "source": [
    "for nombre_columna in X2.columns:\n",
    "    if X2[nombre_columna].dtypes == 'object':  # Si es categorica hacemos el dummies\n",
    "        dummies = pd.get_dummies(X2[nombre_columna])  # Almacena en dummies\n",
    "        X2 = pd.concat([X2, dummies], axis=1)  # Concatena\n",
    "        del X2[nombre_columna] # La eliminamos"
   ]
  },
  {
   "cell_type": "code",
   "execution_count": 53,
   "metadata": {},
   "outputs": [],
   "source": [
    "X2 = MinMaxScaler().fit_transform(X2)   # Un escalado puede aumentar un porcentaje significativo, \n",
    "                                        # importante probar de hacer un escalado."
   ]
  },
  {
   "cell_type": "code",
   "execution_count": 54,
   "metadata": {},
   "outputs": [
    {
     "name": "stderr",
     "output_type": "stream",
     "text": [
      "/anaconda3/lib/python3.7/site-packages/sklearn/model_selection/_split.py:2026: FutureWarning: From version 0.21, test_size will always complement train_size unless both are specified.\n",
      "  FutureWarning)\n"
     ]
    }
   ],
   "source": [
    "X1_train,X1_test,y1_train,y1_test = train_test_split(X2,y2,train_size=0.70,stratify = y2,random_state=1)"
   ]
  },
  {
   "cell_type": "markdown",
   "metadata": {},
   "source": [
    "### 2.2.    Validación con los datos X1_train y y1_train:"
   ]
  },
  {
   "cell_type": "code",
   "execution_count": 137,
   "metadata": {},
   "outputs": [],
   "source": [
    "train_scores = []\n",
    "val_scores = []\n",
    "max_depth_tree = list(range(1,21,1))\n",
    "DTC = DecisionTreeClassifier(criterion=\"entropy\",random_state=11)\n",
    "for c in max_depth_tree:\n",
    "    DTC.set_params(max_depth = c)\n",
    "    DTC.fit(X1_train,y1_train)\n",
    "    y_train_pred = DTC.predict_proba(X1_train)\n",
    "    train_scores.append(roc_auc_score(y1_train,y_train_pred[:,1]))\n",
    "    val_scores.append(cross_val_score(DTC,X1_train,y1_train,cv=5,scoring=\"roc_auc\").mean())"
   ]
  },
  {
   "cell_type": "code",
   "execution_count": 138,
   "metadata": {},
   "outputs": [
    {
     "data": {
      "image/png": "[encoded data removed]",
      "text/plain": [
       "<Figure size 432x288 with 1 Axes>"
      ]
     },
     "metadata": {
      "needs_background": "light"
     },
     "output_type": "display_data"
    }
   ],
   "source": [
    "plt.plot(max_depth_tree,train_scores,color='r',label='Datos de entrenamiento')\n",
    "plt.plot(max_depth_tree,val_scores,color='b',label='Datos de validación')\n",
    "plt.title('Decision tree classifier')\n",
    "plt.legend()\n",
    "plt.xlabel('Profundidad del Árbol')\n",
    "plt.ylabel('AUC')  \n",
    "plt.grid(True)"
   ]
  },
  {
   "cell_type": "code",
   "execution_count": 139,
   "metadata": {},
   "outputs": [
    {
     "name": "stdout",
     "output_type": "stream",
     "text": [
      "Train scores: [0.6091790437345974, 0.6405450162499748, 0.6952235085532888, 0.7148312479665543, 0.7299689942549125, 0.7414553517791161, 0.7550522906052666, 0.7617683797830113, 0.7709692737841294, 0.7801203653761204, 0.7876424480175268, 0.7959581492854174, 0.8053458258877986, 0.8128470651400179, 0.8217148754869966, 0.8303946808630616, 0.8369517583691599, 0.8491346827324069, 0.8534720522560548, 0.8651183142725678]\n",
      "\n",
      "Validación scores: [0.6091787964684207, 0.6428195812422886, 0.6964058255263545, 0.7165490025362046, 0.7313511919273441, 0.7394336013603526, 0.7484632148796345, 0.7558419268602472, 0.7607126336659469, 0.7645894263013246, 0.7661202356828085, 0.7676484073770873, 0.7680181552525991, 0.7665876107623617, 0.7654630195182093, 0.764871426756611, 0.7630771294108418, 0.7620382617737397, 0.7593343343428447, 0.7564828563506836]\n",
      "\n",
      "Profundidad del árbol: [1, 2, 3, 4, 5, 6, 7, 8, 9, 10, 11, 12, 13, 14, 15, 16, 17, 18, 19, 20]\n"
     ]
    }
   ],
   "source": [
    "print('Train scores: {}\\n\\nValidación scores: {}\\n\\nProfundidad del árbol: {}'\n",
    "      .format(train_scores,val_scores,max_depth_tree))"
   ]
  },
  {
   "cell_type": "code",
   "execution_count": 140,
   "metadata": {},
   "outputs": [
    {
     "name": "stdout",
     "output_type": "stream",
     "text": [
      "Max. Train score: 0.8053458258877986\n",
      "Max. Validación score: 0.7680181552525991\n",
      "Profundidad del árbol: 13\n"
     ]
    }
   ],
   "source": [
    "print('Max. Train score: {}\\nMax. Validación score: {}\\nProfundidad del árbol: {}'\n",
    "      .format(0.8053458258877986,0.7680181552525991,13))"
   ]
  },
  {
   "cell_type": "code",
   "execution_count": 163,
   "metadata": {},
   "outputs": [],
   "source": [
    "DTC = DecisionTreeClassifier(criterion=\"entropy\",random_state= 3, max_depth = 13)\n",
    "DTC.fit(X1_train,y1_train)\n",
    "y_train_pred = DTC.predict(X1_train)\n",
    "y_test_pred = DTC.predict(X1_test)"
   ]
  },
  {
   "cell_type": "code",
   "execution_count": 164,
   "metadata": {},
   "outputs": [
    {
     "name": "stdout",
     "output_type": "stream",
     "text": [
      "Accuracy - Datos de entrenamiento: 0.7384096157262123\n",
      "Accuracy - Datos de test: 0.7002532811420676\n"
     ]
    }
   ],
   "source": [
    "print(\"Accuracy - Datos de entrenamiento: {}\\nAccuracy - Datos de test: {}\"\n",
    "      .format(accuracy_score(y1_train, y_train_pred),accuracy_score(y1_test, y_test_pred)))"
   ]
  },
  {
   "cell_type": "code",
   "execution_count": 165,
   "metadata": {},
   "outputs": [
    {
     "name": "stdout",
     "output_type": "stream",
     "text": [
      "[0 1]\n"
     ]
    }
   ],
   "source": [
    "print(np.unique(y_train_pred))    # Nos esta calculando los dos niveles"
   ]
  },
  {
   "cell_type": "code",
   "execution_count": 166,
   "metadata": {},
   "outputs": [],
   "source": [
    "y_train_pred = DTC.predict_proba(X1_train)\n",
    "y_test_pred = DTC.predict_proba(X1_test)"
   ]
  },
  {
   "cell_type": "code",
   "execution_count": 167,
   "metadata": {},
   "outputs": [
    {
     "name": "stdout",
     "output_type": "stream",
     "text": [
      "Árbol de decisión - Datos de entrenamiento: 0.8203559837406419\n",
      "Árbol de decisión - Datos de test: 0.7555924993739254\n"
     ]
    }
   ],
   "source": [
    "print(\"Árbol de decisión - Datos de entrenamiento: {}\\nÁrbol de decisión - Datos de test: {}\"\n",
    "      .format(roc_auc_score(y1_train,y_train_pred[:,1]),roc_auc_score(y1_test,y_test_pred[:,1])))"
   ]
  },
  {
   "cell_type": "code",
   "execution_count": 168,
   "metadata": {},
   "outputs": [
    {
     "data": {
      "text/plain": [
       "array([[0.51799568, 0.48200432],\n",
       "       [0.36720629, 0.63279371],\n",
       "       [0.50708691, 0.49291309],\n",
       "       [0.98412637, 0.01587363],\n",
       "       [0.61110173, 0.38889827],\n",
       "       [0.68749152, 0.31250848],\n",
       "       [0.1796982 , 0.8203018 ],\n",
       "       [0.4768758 , 0.5231242 ],\n",
       "       [0.38751426, 0.61248574],\n",
       "       [0.95927448, 0.04072552],\n",
       "       [0.51799568, 0.48200432],\n",
       "       [0.29689416, 0.70310584],\n",
       "       [0.50876206, 0.49123794],\n",
       "       [0.36720629, 0.63279371],\n",
       "       [0.61086018, 0.38913982],\n",
       "       [1.        , 0.        ],\n",
       "       [0.29689416, 0.70310584],\n",
       "       [0.19945771, 0.80054229],\n",
       "       [1.        , 0.        ],\n",
       "       [0.21827071, 0.78172929],\n",
       "       [0.27999204, 0.72000796],\n",
       "       [0.5714189 , 0.4285811 ],\n",
       "       [0.91044454, 0.08955546],\n",
       "       [0.63371177, 0.36628823],\n",
       "       [0.        , 1.        ]])"
      ]
     },
     "execution_count": 168,
     "metadata": {},
     "output_type": "execute_result"
    }
   ],
   "source": [
    "y_train_pred[0:25]"
   ]
  },
  {
   "cell_type": "code",
   "execution_count": 196,
   "metadata": {},
   "outputs": [],
   "source": [
    "y_pred_class1 = binarize(y_train_pred,0.4)  # Treshold: límite por el cual por debajo o igual se clasifica \n",
    "y_pred_class2 = binarize(y_test_pred,0.4)   # como 0 y por ariba con un 1."
   ]
  },
  {
   "cell_type": "code",
   "execution_count": 197,
   "metadata": {},
   "outputs": [
    {
     "name": "stdout",
     "output_type": "stream",
     "text": [
      "[[14648 10686]\n",
      " [ 2869 22464]]\n",
      "[[5913 4944]\n",
      " [1698 9160]]\n"
     ]
    }
   ],
   "source": [
    "print(metrics.confusion_matrix(y1_train, y_pred_class1[:,1]))  # Se escoje 1\n",
    "print(metrics.confusion_matrix(y1_test, y_pred_class2[:,1]))  # Se escoje 1"
   ]
  },
  {
   "cell_type": "code",
   "execution_count": 198,
   "metadata": {},
   "outputs": [
    {
     "name": "stdout",
     "output_type": "stream",
     "text": [
      "Datos de entrenamiento binarizado: 0.7324719102492667\n",
      "Datos de test binarizado: 0.6941215981574496\n"
     ]
    }
   ],
   "source": [
    "print(\"Datos de entrenamiento binarizado: {}\\nDatos de test binarizado: {}\"\n",
    "      .format(roc_auc_score(y1_train,y_pred_class1[:,1]),roc_auc_score(y1_test,y_pred_class2[:,1])))"
   ]
  },
  {
   "cell_type": "markdown",
   "metadata": {},
   "source": [
    "### 2.3. Probamos la selección de feature importance:"
   ]
  },
  {
   "cell_type": "code",
   "execution_count": 302,
   "metadata": {},
   "outputs": [
    {
     "data": {
      "text/plain": [
       "DecisionTreeClassifier(class_weight=None, criterion='entropy', max_depth=13,\n",
       "            max_features=None, max_leaf_nodes=None,\n",
       "            min_impurity_decrease=0.0, min_impurity_split=None,\n",
       "            min_samples_leaf=1, min_samples_split=2,\n",
       "            min_weight_fraction_leaf=0.0, presort=False, random_state=117,\n",
       "            splitter='best')"
      ]
     },
     "execution_count": 302,
     "metadata": {},
     "output_type": "execute_result"
    }
   ],
   "source": [
    "DTC = DecisionTreeClassifier(criterion=\"entropy\",random_state=117, max_depth = 13)\n",
    "DTC.fit(X1_train,y1_train)"
   ]
  },
  {
   "cell_type": "code",
   "execution_count": 303,
   "metadata": {},
   "outputs": [
    {
     "data": {
      "text/plain": [
       "array([0.22365535, 0.34381867, 0.09000717, ..., 0.00317569, 0.00285021,\n",
       "       0.18044772])"
      ]
     },
     "execution_count": 303,
     "metadata": {},
     "output_type": "execute_result"
    }
   ],
   "source": [
    "DTC.feature_importances_  "
   ]
  },
  {
   "cell_type": "code",
   "execution_count": 304,
   "metadata": {},
   "outputs": [],
   "source": [
    "model = SelectFromModel(DTC, prefit=True)"
   ]
  },
  {
   "cell_type": "code",
   "execution_count": 305,
   "metadata": {},
   "outputs": [
    {
     "name": "stdout",
     "output_type": "stream",
     "text": [
      "(50667, 30) (21715, 30)\n"
     ]
    }
   ],
   "source": [
    "X_new_train = model.transform(X1_train)\n",
    "X_new_test = model.transform(X1_test)\n",
    "print(X_new_train.shape,X_new_test.shape)"
   ]
  },
  {
   "cell_type": "code",
   "execution_count": 306,
   "metadata": {},
   "outputs": [],
   "source": [
    "DTC.fit(X_new_train,y1_train)\n",
    "y_train_pred = DTC.predict(X_new_train)\n",
    "y_test_pred = DTC.predict(X_new_test)"
   ]
  },
  {
   "cell_type": "code",
   "execution_count": 307,
   "metadata": {},
   "outputs": [
    {
     "name": "stdout",
     "output_type": "stream",
     "text": [
      "Accuracy - Datos de entrenamiento: 0.7381135650423353\n",
      "Accuracy - Datos test: 0.69560211835137\n"
     ]
    }
   ],
   "source": [
    "print(\"Accuracy - Datos de entrenamiento: {}\\nAccuracy - Datos test: {}\"\n",
    "      .format(accuracy_score(y1_train, y_train_pred),accuracy_score(y1_test, y_test_pred)))"
   ]
  },
  {
   "cell_type": "code",
   "execution_count": 308,
   "metadata": {},
   "outputs": [],
   "source": [
    "y_train_pred_proba = DTC.predict_proba(X_new_train)\n",
    "y_test_pred_proba = DTC.predict_proba(X_new_test)"
   ]
  },
  {
   "cell_type": "code",
   "execution_count": 309,
   "metadata": {},
   "outputs": [
    {
     "name": "stdout",
     "output_type": "stream",
     "text": [
      "Datos de entrenamiento - roc_auc: 0.8217637936452927\n",
      "Datos test - roc_auc: 0.748363023293166\n"
     ]
    }
   ],
   "source": [
    "print(\"Datos de entrenamiento - roc_auc: {}\\nDatos test - roc_auc: {}\"\n",
    "      .format(roc_auc_score(y1_train,y_train_pred_proba[:,1]),roc_auc_score(y1_test,y_test_pred_proba[:,1])))"
   ]
  },
  {
   "cell_type": "markdown",
   "metadata": {},
   "source": [
    "La selección de feature importance no mejora ligeramente el algoritmo."
   ]
  },
  {
   "cell_type": "markdown",
   "metadata": {},
   "source": [
    "### 2.4. Validación con el total de datos balanceados datos X2 y y2:"
   ]
  },
  {
   "cell_type": "code",
   "execution_count": 154,
   "metadata": {},
   "outputs": [],
   "source": [
    "train_scores = []\n",
    "val_scores = []\n",
    "max_depth_tree = list(range(1,21,1))\n",
    "DTC = DecisionTreeClassifier(criterion=\"entropy\",random_state=14)\n",
    "for c in max_depth_tree:\n",
    "    DTC.set_params(max_depth = c)\n",
    "    DTC.fit(X2,y2)\n",
    "    y_train_pred = DTC.predict_proba(X2)\n",
    "    train_scores.append(roc_auc_score(y2,y_train_pred[:,1]))\n",
    "    val_scores.append(cross_val_score(DTC,X2,y2,cv=5,scoring=\"roc_auc\").mean())"
   ]
  },
  {
   "cell_type": "code",
   "execution_count": 155,
   "metadata": {},
   "outputs": [
    {
     "data": {
      "image/png": "[encoded data removed]",
      "text/plain": [
       "<Figure size 432x288 with 1 Axes>"
      ]
     },
     "metadata": {
      "needs_background": "light"
     },
     "output_type": "display_data"
    }
   ],
   "source": [
    "plt.plot(max_depth_tree,train_scores,color='r',label='Datos de entrenamiento')\n",
    "plt.plot(max_depth_tree,val_scores,color='b',label='Datos de validación')\n",
    "plt.title('Decision tree classifier')\n",
    "plt.legend()\n",
    "plt.xlabel('Profundidad del Árbol')\n",
    "plt.ylabel('AUC')  \n",
    "plt.grid(True)"
   ]
  },
  {
   "cell_type": "code",
   "execution_count": 156,
   "metadata": {},
   "outputs": [
    {
     "name": "stdout",
     "output_type": "stream",
     "text": [
      "Train scores: [0.6074576552181481, 0.639989949262655, 0.6925364420730464, 0.7141116967114327, 0.7285086579563529, 0.7392614380458886, 0.7520054617887574, 0.7621897325267437, 0.771135521614043, 0.7806426433215823, 0.7893997882090092, 0.799952637543466, 0.810867735444682, 0.8237922936810437, 0.8370683388228698, 0.8508970079268853, 0.8652880101943727, 0.8797471024636381, 0.8927921996284529, 0.9055207365195937]\n",
      "\n",
      "Validación scores: [0.6074576872281681, 0.6395745351483731, 0.6913208652437868, 0.7116895865228491, 0.7253165712121078, 0.7354862066647974, 0.7452222786318373, 0.7520591570040364, 0.7563259681270712, 0.7587341209116094, 0.7571635189526665, 0.7542269212492495, 0.7499217069399104, 0.743934070151593, 0.7379157390869618, 0.7289438522107078, 0.7209433552063432, 0.7120566379735073, 0.7062822865989935, 0.696821909010257]\n",
      "\n",
      "Profundidad del árbol: [1, 2, 3, 4, 5, 6, 7, 8, 9, 10, 11, 12, 13, 14, 15, 16, 17, 18, 19, 20]\n"
     ]
    }
   ],
   "source": [
    "print('Train scores: {}\\n\\nValidación scores: {}\\n\\nProfundidad del árbol: {}'\n",
    "      .format(train_scores,val_scores,max_depth_tree))"
   ]
  },
  {
   "cell_type": "code",
   "execution_count": 158,
   "metadata": {},
   "outputs": [
    {
     "name": "stdout",
     "output_type": "stream",
     "text": [
      "Max. Train score: 0.7806426433215823\n",
      "Max. Validación score: 0.7587341209116094\n",
      "Profundidad del árbol: 10\n"
     ]
    }
   ],
   "source": [
    "print('Max. Train score: {}\\nMax. Validación score: {}\\nProfundidad del árbol: {}'\n",
    "      .format(0.7806426433215823,0.7587341209116094,10))"
   ]
  },
  {
   "cell_type": "code",
   "execution_count": 163,
   "metadata": {},
   "outputs": [],
   "source": [
    "DTC = DecisionTreeClassifier(criterion=\"entropy\",random_state=13, max_depth = 10)\n",
    "DTC.fit(X2,y2)\n",
    "y_train_pred = DTC.predict(X2)"
   ]
  },
  {
   "cell_type": "code",
   "execution_count": 164,
   "metadata": {},
   "outputs": [
    {
     "name": "stdout",
     "output_type": "stream",
     "text": [
      "Accuracy - Datos de entrenamiento:  0.7070818711834433\n"
     ]
    }
   ],
   "source": [
    "print(\"Accuracy - Datos de entrenamiento: \",accuracy_score(y2, y_train_pred))"
   ]
  },
  {
   "cell_type": "code",
   "execution_count": 165,
   "metadata": {},
   "outputs": [],
   "source": [
    "y_train_pred = DTC.predict_proba(X2)"
   ]
  },
  {
   "cell_type": "code",
   "execution_count": 166,
   "metadata": {},
   "outputs": [
    {
     "name": "stdout",
     "output_type": "stream",
     "text": [
      "Árbol de decisión - Datos de entrenamiento:  0.7806549392000646\n"
     ]
    }
   ],
   "source": [
    "print(\"Árbol de decisión - Datos de entrenamiento: \",roc_auc_score(y2,y_train_pred[:,1]))"
   ]
  },
  {
   "cell_type": "markdown",
   "metadata": {},
   "source": [
    "### 2.5. Probamos con el Random Forest:"
   ]
  },
  {
   "cell_type": "markdown",
   "metadata": {},
   "source": [
    "#### 2.5.1 Validación del max_depth:"
   ]
  },
  {
   "cell_type": "code",
   "execution_count": 56,
   "metadata": {},
   "outputs": [],
   "source": [
    "train_scores = []\n",
    "test_scores = []\n",
    "max_depth_tree = list(range(1,241,1))  # Poner mas profundidad.\n",
    "for c in max_depth_tree:\n",
    "    rf_clf = RandomForestClassifier(n_jobs= -1,warm_start = True,random_state=16,max_depth=c)\n",
    "    rf_clf.fit(X1_train,y1_train)\n",
    "    y_train_pred = rf_clf.predict_proba(X1_train)\n",
    "    y_test_pred = rf_clf.predict_proba(X1_test)\n",
    "    train_scores.append(roc_auc_score(y1_train,y_train_pred[:,1]))\n",
    "    test_scores.append(roc_auc_score(y1_test,y_test_pred[:,1]))"
   ]
  },
  {
   "cell_type": "code",
   "execution_count": 57,
   "metadata": {},
   "outputs": [
    {
     "data": {
      "image/png": "[encoded data removed]",
      "text/plain": [
       "<Figure size 432x288 with 1 Axes>"
      ]
     },
     "metadata": {
      "needs_background": "light"
     },
     "output_type": "display_data"
    }
   ],
   "source": [
    "plt.plot(max_depth_tree,train_scores,color='r',label='Datos de train')\n",
    "plt.plot(max_depth_tree,test_scores,color='b',label='Datos de test')\n",
    "plt.title('Decision tree classifier')\n",
    "plt.legend()\n",
    "plt.xlabel('Profundidad del Árbol')\n",
    "plt.ylabel('AUC')  \n",
    "plt.grid(True)"
   ]
  },
  {
   "cell_type": "markdown",
   "metadata": {},
   "source": [
    "**La línia del test llega al máximo a una profundidad de 100 árboles, a partir de aquí se produce un sobreajuste en la validación del train.**"
   ]
  },
  {
   "cell_type": "code",
   "execution_count": 59,
   "metadata": {},
   "outputs": [],
   "source": [
    "rf_clf = RandomForestClassifier(n_estimators=150, warm_start=True, max_depth= 100,n_jobs= -1,random_state=14)"
   ]
  },
  {
   "cell_type": "code",
   "execution_count": 60,
   "metadata": {},
   "outputs": [],
   "source": [
    "rf_clf.fit(X1_train,y1_train)\n",
    "y_train_pred = rf_clf.predict(X1_train)\n",
    "y_test_pred = rf_clf.predict(X1_test)"
   ]
  },
  {
   "cell_type": "code",
   "execution_count": 61,
   "metadata": {},
   "outputs": [
    {
     "name": "stdout",
     "output_type": "stream",
     "text": [
      "Accuracy - Datos entrenamiento: 0.8453825961671305\n",
      "Accuracy - Datos test: 0.6870826617545476\n"
     ]
    }
   ],
   "source": [
    "print(\"Accuracy - Datos entrenamiento: {}\\nAccuracy - Datos test: {}\"\n",
    "      .format(accuracy_score(y1_train, y_train_pred),accuracy_score(y1_test, y_test_pred)))"
   ]
  },
  {
   "cell_type": "code",
   "execution_count": 62,
   "metadata": {},
   "outputs": [],
   "source": [
    "y_train_pred_proba = rf_clf.predict_proba(X1_train)\n",
    "y_test_pred_proba = rf_clf.predict_proba(X1_test)"
   ]
  },
  {
   "cell_type": "code",
   "execution_count": 63,
   "metadata": {},
   "outputs": [
    {
     "name": "stdout",
     "output_type": "stream",
     "text": [
      "Árbol de decisión - Datos entrenamiento: 0.9270220154399014\n",
      "Árbol de decisión - Datos test: 0.7533607454011275\n"
     ]
    }
   ],
   "source": [
    "print(\"Árbol de decisión - Datos entrenamiento: {}\\nÁrbol de decisión - Datos test: {}\"\n",
    "      .format(roc_auc_score(y1_train, y_train_pred_proba[:,1]),roc_auc_score(y1_test, y_test_pred_proba[:,1])))"
   ]
  },
  {
   "cell_type": "code",
   "execution_count": 64,
   "metadata": {},
   "outputs": [
    {
     "name": "stdout",
     "output_type": "stream",
     "text": [
      "Matrix confusion - train:\n",
      "[[19929  5405]\n",
      " [ 2429 22904]]\n",
      "Matrix confusion - test:\n",
      "[[7019 3838]\n",
      " [2957 7901]]\n"
     ]
    }
   ],
   "source": [
    "print(\"Matrix confusion - train:\\n{}\\nMatrix confusion - test:\\n{}\"\n",
    "      .format(metrics.confusion_matrix(y1_train, y_train_pred),metrics.confusion_matrix(y1_test, y_test_pred)))"
   ]
  },
  {
   "cell_type": "code",
   "execution_count": 65,
   "metadata": {},
   "outputs": [
    {
     "name": "stdout",
     "output_type": "stream",
     "text": [
      "[0 1]\n"
     ]
    }
   ],
   "source": [
    "print(np.unique(y_test_pred))"
   ]
  },
  {
   "cell_type": "code",
   "execution_count": 66,
   "metadata": {},
   "outputs": [
    {
     "name": "stdout",
     "output_type": "stream",
     "text": [
      "Datos test: 0.7276662368760362\n"
     ]
    }
   ],
   "source": [
    "print(\"Datos test:\",recall_score(y1_test,y_test_pred))\n",
    "\n",
    "#Sensitivity (also called the true positive rate, the recall\n",
    "#Specificity (also called the true negative rate)"
   ]
  },
  {
   "cell_type": "markdown",
   "metadata": {},
   "source": [
    "# Resultados:\n",
    "\n",
    "    Algoritimo DecisionTreeClassifeier(criterion=\"entropy', warm_start = True,max_depth)\n",
    "\n",
    "## Sin procesado:\n",
    "\n",
    "**Sin validación con una muestra aleatoria de los datos de 10000 registros (max_depth = 5):**  \n",
    "\n",
    "Accuracy - Datos de train: 0.9587142857142857      \n",
    "Accuracy - Datos de test:  0.9566666666666667  \n",
    "\n",
    "roc-curve-score - Datos de train: AUC = 0.7654967812676854  \n",
    "roc-curve-score - Datos de test:  AUC = 0.7318237169881116\n",
    "\n",
    "## Con procesado:\n",
    "\n",
    "### 1. Sin golden features:\n",
    "\n",
    "**1.1. Validación con X1_train,y1_train (max_depth = 13):**\n",
    "\n",
    "Accuracy - Datos de train: 0.7290938875402135        \n",
    "Accuracy - Datos de test:  0.7027860925627446  \n",
    "\n",
    "roc-curve-score - Datos de train: AUC = 0.8043689102443836  \n",
    "roc-curve-score - Datos de test:  <span style=\"color:blue\">AUC = 0.766124253009107</span> \n",
    "\n",
    "**Seleccion feature importance:**\n",
    "\n",
    "roc-curve-score - Datos de train: AUC = 0.8017238815076962  \n",
    "roc-curve-score - Datos de test:  <span style=\"color:blue\">AUC = 0.7679029903862657</span>\n",
    "\n",
    "**1.2. Validación con X2,y2:**\n",
    "\n",
    "\n",
    "\n",
    "### 2. Con golden features:\n",
    "\n",
    "**2.1. Validación con X1_train,y1_train (max_depth = 13):**\n",
    "\n",
    "Accuracy - Datos de train: 0.7384096157262123        \n",
    "Accuracy - Datos de test:  0.7002532811420676  \n",
    "\n",
    "roc-curve-score - Datos de train: <span style=\"color:red\">AUC = 0.8203559837406419</span>  \n",
    "roc-curve-score - Datos de test:  AUC = 0.7555924993739254\n",
    "\n",
    "**Seleccion feature importance:**\n",
    "\n",
    "roc-curve-score - Datos de train: <span style=\"color:red\">AUC = 0.8217637936452927</span>  \n",
    "roc-curve-score - Datos de test:  AUC = 0.748363023293166\n",
    "\n",
    "**2.2. Validación con X2,y2 (max_depth = 10):**\n",
    "\n",
    "Accuracy - Datos de train: 0.7070818711834433  \n",
    "roc-curve-score - Datos de train: AUC = 0.7806549392000646  \n",
    "\n",
    "    \n",
    "**Las 2 validaciones en la muestra entrenamiento que me han dado más alta son las de color rojo.  \n",
    "Las 2 validaciones en la muestra test que me han dado más alta son las de color azul.**"
   ]
  },
  {
   "cell_type": "markdown",
   "metadata": {},
   "source": [
    "**VALIDACIÓN 2.1. Plot de la curva-roc para la area train  con un AUC = 0.8218 o AUC = 0.8203 (Prácticamente lo mismo):**"
   ]
  },
  {
   "cell_type": "code",
   "execution_count": 311,
   "metadata": {},
   "outputs": [
    {
     "data": {
      "image/png": "[encoded data removed]",
      "text/plain": [
       "<Figure size 432x288 with 1 Axes>"
      ]
     },
     "metadata": {
      "image/png": {
       "height": 286,
       "width": 393
      },
      "needs_background": "light"
     },
     "output_type": "display_data"
    }
   ],
   "source": [
    "from IPython.display import set_matplotlib_formats\n",
    "set_matplotlib_formats('retina')\n",
    "%matplotlib inline\n",
    "rfp, rvp, umbrales = metrics.roc_curve(y1_train, y_train_pred_proba[:,1])\n",
    "plt.plot(rfp, rvp)\n",
    "plt.plot([0, 1], [0, 1], color='black', lw=1, linestyle='--')\n",
    "plt.xlim([0.0, 1.0])\n",
    "plt.ylim([0.0, 1.0])\n",
    "plt.title('Espesificidad\\n1.0                 0.8               0.6               0.4               0.2              0.0', \n",
    "          fontsize=10)\n",
    "plt.xlabel('1 - Espesificidad = Ratio de falsos positivos')\n",
    "plt.ylabel('Sensibilidad = Ratio verdaderos positivos')\n",
    "plt.grid(True)"
   ]
  },
  {
   "cell_type": "markdown",
   "metadata": {},
   "source": [
    "**VALIDACIÓN 1.1 Plot de la curva-roc para la area test  con un AUC = 0.766 o AUC = 0.768 (Prácticamente lo mismo):**"
   ]
  },
  {
   "cell_type": "code",
   "execution_count": 33,
   "metadata": {},
   "outputs": [
    {
     "data": {
      "image/png": "[encoded data removed]",
      "text/plain": [
       "<Figure size 432x288 with 1 Axes>"
      ]
     },
     "metadata": {
      "image/png": {
       "height": 286,
       "width": 393
      },
      "needs_background": "light"
     },
     "output_type": "display_data"
    }
   ],
   "source": [
    "from IPython.display import set_matplotlib_formats\n",
    "set_matplotlib_formats('retina')\n",
    "%matplotlib inline\n",
    "rfp, rvp, umbrales = metrics.roc_curve(y1_test, y_test_pred[:,1])\n",
    "plt.plot(rfp, rvp)\n",
    "plt.plot([0, 1], [0, 1], color='black', lw=1, linestyle='--')\n",
    "plt.xlim([0.0, 1.0])\n",
    "plt.ylim([0.0, 1.0])\n",
    "plt.title('Espesificidad\\n1.0                 0.8               0.6               0.4               0.2              0.0', \n",
    "          fontsize=10)\n",
    "plt.xlabel('1 - Espesificidad = Ratio de falsos positivos')\n",
    "plt.ylabel('Sensibilidad = Ratio verdaderos positivos')\n",
    "plt.grid(True)"
   ]
  },
  {
   "cell_type": "markdown",
   "metadata": {},
   "source": [
    "# Resultados:\n",
    "\n",
    "    Algoritimo RandomForestClassifier(n_estimators, warm_start=True, oob_score=True, max_depth, n_jobs= -1)\n",
    "\n",
    "## Sin procesado:\n",
    "\n",
    "**Sin validación con una muestra aleatoria de los datos de 10000 registros (n_estimators = default = 10):**  \n",
    "\n",
    "Accuracy - Datos de train: 0.9908571428571429  \n",
    "Accuracy - Datos de test: 0.9523333333333334  \n",
    "\n",
    "roc-curve-score - Datos de train: AUC = 0.9995743236339055  \n",
    "roc-curve-score - Datos de test:  AUC = 0.5451845371652909\n",
    "\n",
    "## Con procesado:\n",
    "\n",
    "### 3. Sin golden features:\n",
    "\n",
    "**3.1. Con X1_train,y1_train (n_estimatots = 150,max_depth = 130):**\n",
    "\n",
    "Accuracy - Datos de train: 0.8906388773758067  \n",
    "Accuracy - Datos de test: 0.7021874280451301  \n",
    "\n",
    "roc-curve-score - Datos de train:  <span style=\"color:red\">AUC = 0.9579466120106268</span>   \n",
    "roc-curve-score - Datos de test:  <span style=\"color:blue\">AUC = 0.7680677310198438</span> \n",
    "\n",
    "\n",
    "### 4. Con golden features:\n",
    "\n",
    "**4.1. Con X1_train,y1_train (n_estimators = 100):**\n",
    "\n",
    "Accuracy - Datos de train: 0.8453825961671305       \n",
    "Accuracy - Datos de test:  0.6870826617545476  \n",
    "\n",
    "roc-curve-score - Datos de train: <span style=\"color:red\">AUC = 0.9270220154399014</span>  \n",
    "roc-curve-score - Datos de test:  <span style=\"color:blue\">AUC = 0.7533607454011275</span> \n"
   ]
  },
  {
   "cell_type": "markdown",
   "metadata": {},
   "source": [
    "**VALIDACIÓN 4.1. Plot de la curva-roc para la area train con un AUC = 0.958:**"
   ]
  },
  {
   "cell_type": "code",
   "execution_count": 88,
   "metadata": {},
   "outputs": [
    {
     "data": {
      "image/png": "[encoded data removed]",
      "text/plain": [
       "<Figure size 432x288 with 1 Axes>"
      ]
     },
     "metadata": {
      "image/png": {
       "height": 286,
       "width": 393
      },
      "needs_background": "light"
     },
     "output_type": "display_data"
    }
   ],
   "source": [
    "from IPython.display import set_matplotlib_formats\n",
    "set_matplotlib_formats('retina')\n",
    "%matplotlib inline\n",
    "rfp, rvp, umbrales = metrics.roc_curve(y1_train, y_train_pred_proba[:,1])\n",
    "plt.plot(rfp, rvp)\n",
    "plt.plot([0, 1], [0, 1], color='black', lw=1, linestyle='--')\n",
    "plt.xlim([0.0, 1.0])\n",
    "plt.ylim([0.0, 1.0])\n",
    "plt.title('Espesificidad\\n1.0                 0.8               0.6               0.4               0.2              0.0', \n",
    "          fontsize=10)\n",
    "plt.xlabel('1 - Espesificidad = Ratio de falsos positivos')\n",
    "plt.ylabel('Sensibilidad = Ratio verdaderos positivos')\n",
    "plt.grid(True)"
   ]
  },
  {
   "cell_type": "markdown",
   "metadata": {},
   "source": [
    "**VALIDACIÓN 3.1. o 4.1. Plot de la curva-roc para la area test con un AUC = 0.7681:**"
   ]
  },
  {
   "cell_type": "code",
   "execution_count": 89,
   "metadata": {},
   "outputs": [
    {
     "data": {
      "image/png": "[encoded data removed]",
      "text/plain": [
       "<Figure size 432x288 with 1 Axes>"
      ]
     },
     "metadata": {
      "image/png": {
       "height": 286,
       "width": 393
      },
      "needs_background": "light"
     },
     "output_type": "display_data"
    }
   ],
   "source": [
    "from IPython.display import set_matplotlib_formats\n",
    "set_matplotlib_formats('retina')\n",
    "%matplotlib inline\n",
    "rfp, rvp, umbrales = metrics.roc_curve(y1_test, y_test_pred_proba[:,1])\n",
    "plt.plot(rfp, rvp)\n",
    "plt.plot([0, 1], [0, 1], color='black', lw=1, linestyle='--')\n",
    "plt.xlim([0.0, 1.0])\n",
    "plt.ylim([0.0, 1.0])\n",
    "plt.title('Espesificidad\\n1.0                 0.8               0.6               0.4               0.2              0.0', \n",
    "          fontsize=10)\n",
    "plt.xlabel('1 - Espesificidad = Ratio de falsos positivos')\n",
    "plt.ylabel('Sensibilidad = Ratio verdaderos positivos')\n",
    "plt.grid(True)"
   ]
  },
  {
   "cell_type": "code",
   "execution_count": null,
   "metadata": {},
   "outputs": [],
   "source": []
  }
 ],
 "metadata": {
  "kernelspec": {
   "display_name": "Python 3",
   "language": "python",
   "name": "python3"
  },
  "language_info": {
   "codemirror_mode": {
    "name": "ipython",
    "version": 3
   },
   "file_extension": ".py",
   "mimetype": "text/x-python",
   "name": "python",
   "nbconvert_exporter": "python",
   "pygments_lexer": "ipython3",
   "version": "3.7.0"
  }
 },
 "nbformat": 4,
 "nbformat_minor": 2
}
