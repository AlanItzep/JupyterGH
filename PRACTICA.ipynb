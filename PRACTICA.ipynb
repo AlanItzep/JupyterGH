{
 "cells": [
  {
   "cell_type": "markdown",
   "metadata": {},
   "source": [
    "# Data Mining Exercise:"
   ]
  },
  {
   "cell_type": "markdown",
   "metadata": {},
   "source": [
    "----\n",
    "# 1. Look at the big picture  \n",
    "### Issue:  \n",
    "Accidentes automovilísticos en Barcelona.  \n",
    "Detectar las zonas más peligrosas y reducir las víctimas.\n",
    "\n",
    "- ¿Supervisada, no supervisada o Aprendizaje Reforzado?  \n",
    "**Supervisada.**\n",
    "- ¿Clasificación, Regresión u otra cosa?  \n",
    "**Regresión.**\n",
    "- ¿Aprendizaje en Batch o con técnicas de aprendizaje online?  \n",
    "**...**"
   ]
  },
  {
   "cell_type": "markdown",
   "metadata": {},
   "source": [
    "---  \n",
    "# 2. Get the data.\n"
   ]
  },
  {
   "cell_type": "code",
   "execution_count": 1,
   "metadata": {},
   "outputs": [],
   "source": [
    "import pandas as pd\n",
    "import numpy as np\n",
    "from sklearn import linear_model\n",
    "from sklearn import model_selection\n",
    "from sklearn.metrics import classification_report \n",
    "from sklearn.metrics import confusion_matrix\n",
    "from sklearn.metrics import accuracy_score\n",
    "import matplotlib.pyplot as plt\n",
    "import seaborn as sb\n",
    "%matplotlib inline\n",
    "df = pd.read_csv('dataset.csv')"
   ]
  },
  {
   "cell_type": "markdown",
   "metadata": {},
   "source": [
    "---\n",
    "# 3. Discover and visualize the data to gain insights."
   ]
  },
  {
   "cell_type": "raw",
   "metadata": {},
   "source": [
    "df['date'] = pd.to_datetime(df['date'])"
   ]
  },
  {
   "cell_type": "code",
   "execution_count": 2,
   "metadata": {
    "scrolled": false
   },
   "outputs": [
    {
     "name": "stdout",
     "output_type": "stream",
     "text": [
      "<class 'pandas.core.frame.DataFrame'>\n",
      "RangeIndex: 824587 entries, 0 to 824586\n",
      "Data columns (total 6 columns):\n",
      "GridID            824587 non-null int64\n",
      "date              824587 non-null object\n",
      "Shift             824587 non-null object\n",
      "Accident          824587 non-null int64\n",
      "Longitude.grid    824587 non-null float64\n",
      "Latitude.grid     824587 non-null float64\n",
      "dtypes: float64(2), int64(2), object(2)\n",
      "memory usage: 37.7+ MB\n"
     ]
    }
   ],
   "source": [
    "df.info()\n",
    "#df.dtypes"
   ]
  },
  {
   "cell_type": "code",
   "execution_count": 3,
   "metadata": {},
   "outputs": [
    {
     "data": {
      "text/plain": [
       "GridID              int64\n",
       "date               object\n",
       "Shift              object\n",
       "Accident            int64\n",
       "Longitude.grid    float64\n",
       "Latitude.grid     float64\n",
       "dtype: object"
      ]
     },
     "execution_count": 3,
     "metadata": {},
     "output_type": "execute_result"
    }
   ],
   "source": [
    "df.dtypes"
   ]
  },
  {
   "cell_type": "code",
   "execution_count": 4,
   "metadata": {},
   "outputs": [
    {
     "data": {
      "text/html": [
       "<div>\n",
       "<style scoped>\n",
       "    .dataframe tbody tr th:only-of-type {\n",
       "        vertical-align: middle;\n",
       "    }\n",
       "\n",
       "    .dataframe tbody tr th {\n",
       "        vertical-align: top;\n",
       "    }\n",
       "\n",
       "    .dataframe thead th {\n",
       "        text-align: right;\n",
       "    }\n",
       "</style>\n",
       "<table border=\"1\" class=\"dataframe\">\n",
       "  <thead>\n",
       "    <tr style=\"text-align: right;\">\n",
       "      <th></th>\n",
       "      <th>GridID</th>\n",
       "      <th>date</th>\n",
       "      <th>Shift</th>\n",
       "      <th>Accident</th>\n",
       "      <th>Longitude.grid</th>\n",
       "      <th>Latitude.grid</th>\n",
       "    </tr>\n",
       "  </thead>\n",
       "  <tbody>\n",
       "    <tr>\n",
       "      <th>0</th>\n",
       "      <td>1</td>\n",
       "      <td>2010-10-08</td>\n",
       "      <td>Night</td>\n",
       "      <td>0</td>\n",
       "      <td>2.08</td>\n",
       "      <td>41.41</td>\n",
       "    </tr>\n",
       "    <tr>\n",
       "      <th>1</th>\n",
       "      <td>1</td>\n",
       "      <td>2011-02-16</td>\n",
       "      <td>Morning</td>\n",
       "      <td>0</td>\n",
       "      <td>2.08</td>\n",
       "      <td>41.41</td>\n",
       "    </tr>\n",
       "    <tr>\n",
       "      <th>2</th>\n",
       "      <td>1</td>\n",
       "      <td>2014-05-31</td>\n",
       "      <td>Night</td>\n",
       "      <td>0</td>\n",
       "      <td>2.08</td>\n",
       "      <td>41.41</td>\n",
       "    </tr>\n",
       "    <tr>\n",
       "      <th>3</th>\n",
       "      <td>1</td>\n",
       "      <td>2011-04-03</td>\n",
       "      <td>Afternoon</td>\n",
       "      <td>0</td>\n",
       "      <td>2.08</td>\n",
       "      <td>41.41</td>\n",
       "    </tr>\n",
       "    <tr>\n",
       "      <th>4</th>\n",
       "      <td>1</td>\n",
       "      <td>2013-02-20</td>\n",
       "      <td>Morning</td>\n",
       "      <td>0</td>\n",
       "      <td>2.08</td>\n",
       "      <td>41.41</td>\n",
       "    </tr>\n",
       "  </tbody>\n",
       "</table>\n",
       "</div>"
      ],
      "text/plain": [
       "   GridID        date      Shift  Accident  Longitude.grid  Latitude.grid\n",
       "0       1  2010-10-08      Night         0            2.08          41.41\n",
       "1       1  2011-02-16    Morning         0            2.08          41.41\n",
       "2       1  2014-05-31      Night         0            2.08          41.41\n",
       "3       1  2011-04-03  Afternoon         0            2.08          41.41\n",
       "4       1  2013-02-20    Morning         0            2.08          41.41"
      ]
     },
     "execution_count": 4,
     "metadata": {},
     "output_type": "execute_result"
    }
   ],
   "source": [
    "df.head()"
   ]
  },
  {
   "cell_type": "markdown",
   "metadata": {},
   "source": [
    "Realiza un ***df.describe()*** en este caso no es bastante revelador, por lo tanto se omitirá."
   ]
  },
  {
   "cell_type": "code",
   "execution_count": 5,
   "metadata": {
    "scrolled": true
   },
   "outputs": [],
   "source": [
    "dummies = pd.get_dummies(df[\"Shift\"])\n",
    "df = pd.concat([df, dummies], axis = 1)"
   ]
  },
  {
   "cell_type": "code",
   "execution_count": 6,
   "metadata": {},
   "outputs": [
    {
     "data": {
      "text/html": [
       "<div>\n",
       "<style scoped>\n",
       "    .dataframe tbody tr th:only-of-type {\n",
       "        vertical-align: middle;\n",
       "    }\n",
       "\n",
       "    .dataframe tbody tr th {\n",
       "        vertical-align: top;\n",
       "    }\n",
       "\n",
       "    .dataframe thead th {\n",
       "        text-align: right;\n",
       "    }\n",
       "</style>\n",
       "<table border=\"1\" class=\"dataframe\">\n",
       "  <thead>\n",
       "    <tr style=\"text-align: right;\">\n",
       "      <th></th>\n",
       "      <th>GridID</th>\n",
       "      <th>Longitude.grid</th>\n",
       "      <th>Latitude.grid</th>\n",
       "      <th>Afternoon</th>\n",
       "      <th>Morning</th>\n",
       "      <th>Night</th>\n",
       "      <th>Accident</th>\n",
       "    </tr>\n",
       "  </thead>\n",
       "  <tbody>\n",
       "    <tr>\n",
       "      <th>0</th>\n",
       "      <td>1</td>\n",
       "      <td>2.08</td>\n",
       "      <td>41.41</td>\n",
       "      <td>0</td>\n",
       "      <td>0</td>\n",
       "      <td>1</td>\n",
       "      <td>0</td>\n",
       "    </tr>\n",
       "    <tr>\n",
       "      <th>1</th>\n",
       "      <td>1</td>\n",
       "      <td>2.08</td>\n",
       "      <td>41.41</td>\n",
       "      <td>0</td>\n",
       "      <td>1</td>\n",
       "      <td>0</td>\n",
       "      <td>0</td>\n",
       "    </tr>\n",
       "    <tr>\n",
       "      <th>2</th>\n",
       "      <td>1</td>\n",
       "      <td>2.08</td>\n",
       "      <td>41.41</td>\n",
       "      <td>0</td>\n",
       "      <td>0</td>\n",
       "      <td>1</td>\n",
       "      <td>0</td>\n",
       "    </tr>\n",
       "    <tr>\n",
       "      <th>3</th>\n",
       "      <td>1</td>\n",
       "      <td>2.08</td>\n",
       "      <td>41.41</td>\n",
       "      <td>1</td>\n",
       "      <td>0</td>\n",
       "      <td>0</td>\n",
       "      <td>0</td>\n",
       "    </tr>\n",
       "    <tr>\n",
       "      <th>4</th>\n",
       "      <td>1</td>\n",
       "      <td>2.08</td>\n",
       "      <td>41.41</td>\n",
       "      <td>0</td>\n",
       "      <td>1</td>\n",
       "      <td>0</td>\n",
       "      <td>0</td>\n",
       "    </tr>\n",
       "  </tbody>\n",
       "</table>\n",
       "</div>"
      ],
      "text/plain": [
       "   GridID  Longitude.grid  Latitude.grid  Afternoon  Morning  Night  Accident\n",
       "0       1            2.08          41.41          0        0      1         0\n",
       "1       1            2.08          41.41          0        1      0         0\n",
       "2       1            2.08          41.41          0        0      1         0\n",
       "3       1            2.08          41.41          1        0      0         0\n",
       "4       1            2.08          41.41          0        1      0         0"
      ]
     },
     "execution_count": 6,
     "metadata": {},
     "output_type": "execute_result"
    }
   ],
   "source": [
    "df = df.drop(\"Shift\",1)\n",
    "df = df.drop(\"date\",1)\n",
    "df = df[['GridID', 'Longitude.grid', 'Latitude.grid', 'Afternoon','Morning','Night', 'Accident']]\n",
    "df.head()"
   ]
  },
  {
   "cell_type": "code",
   "execution_count": 7,
   "metadata": {},
   "outputs": [
    {
     "data": {
      "text/plain": [
       "(824587, 6)"
      ]
     },
     "execution_count": 7,
     "metadata": {},
     "output_type": "execute_result"
    }
   ],
   "source": [
    "X = np.array(df.drop(['Accident'],1))\n",
    "y = np.array(df['Accident'])\n",
    "X.shape"
   ]
  },
  {
   "cell_type": "code",
   "execution_count": 8,
   "metadata": {
    "scrolled": true
   },
   "outputs": [
    {
     "data": {
      "text/plain": [
       "LogisticRegression(C=1.0, class_weight=None, dual=False, fit_intercept=True,\n",
       "          intercept_scaling=1, max_iter=100, multi_class='ovr', n_jobs=1,\n",
       "          penalty='l2', random_state=None, solver='liblinear', tol=0.0001,\n",
       "          verbose=0, warm_start=False)"
      ]
     },
     "execution_count": 8,
     "metadata": {},
     "output_type": "execute_result"
    }
   ],
   "source": [
    "model = linear_model.LogisticRegression()\n",
    "model.fit(X,y)"
   ]
  },
  {
   "cell_type": "code",
   "execution_count": 9,
   "metadata": {
    "scrolled": true
   },
   "outputs": [
    {
     "name": "stdout",
     "output_type": "stream",
     "text": [
      "[0 0 0 0 0]\n"
     ]
    }
   ],
   "source": [
    "predictions = model.predict(X)\n",
    "print(predictions[0:5])"
   ]
  },
  {
   "cell_type": "code",
   "execution_count": 10,
   "metadata": {
    "scrolled": true
   },
   "outputs": [
    {
     "data": {
      "text/plain": [
       "0.9557148002575835"
      ]
     },
     "execution_count": 10,
     "metadata": {},
     "output_type": "execute_result"
    }
   ],
   "source": [
    "model.score(X,y)"
   ]
  },
  {
   "cell_type": "code",
   "execution_count": 11,
   "metadata": {},
   "outputs": [],
   "source": [
    "validation_size = 0.20\n",
    "seed = 7\n",
    "X_train, X_test, y_train, y_test = model_selection.train_test_split(X,y,test_size=validation_size, random_state=seed)"
   ]
  },
  {
   "cell_type": "code",
   "execution_count": 12,
   "metadata": {},
   "outputs": [
    {
     "name": "stdout",
     "output_type": "stream",
     "text": [
      "Logistic Regression: 0.955605 (0.000985)\n"
     ]
    }
   ],
   "source": [
    "name = 'Logistic Regression'\n",
    "kfold = model_selection.KFold(n_splits=10,random_state=seed)\n",
    "cv_results = model_selection.cross_val_score(model,X_train,y_train,cv=kfold,scoring='accuracy')\n",
    "msg=\"%s: %f (%f)\" %(name,cv_results.mean(),cv_results.std())\n",
    "print(msg)"
   ]
  },
  {
   "cell_type": "code",
   "execution_count": 13,
   "metadata": {
    "scrolled": true
   },
   "outputs": [
    {
     "name": "stdout",
     "output_type": "stream",
     "text": [
      "0.956153967426236\n"
     ]
    }
   ],
   "source": [
    "predictions = model.predict(X_test)\n",
    "print(accuracy_score(y_test,predictions))"
   ]
  },
  {
   "cell_type": "code",
   "execution_count": 14,
   "metadata": {
    "scrolled": false
   },
   "outputs": [
    {
     "name": "stdout",
     "output_type": "stream",
     "text": [
      "[[157687      0]\n",
      " [  7231      0]]\n"
     ]
    }
   ],
   "source": [
    "print(confusion_matrix(y_test,predictions))"
   ]
  },
  {
   "cell_type": "code",
   "execution_count": 15,
   "metadata": {
    "scrolled": false
   },
   "outputs": [
    {
     "name": "stdout",
     "output_type": "stream",
     "text": [
      "             precision    recall  f1-score   support\n",
      "\n",
      "          0       0.96      1.00      0.98    157687\n",
      "          1       0.00      0.00      0.00      7231\n",
      "\n",
      "avg / total       0.91      0.96      0.93    164918\n",
      "\n"
     ]
    },
    {
     "name": "stderr",
     "output_type": "stream",
     "text": [
      "C:\\Users\\alter\\Anaconda3\\lib\\site-packages\\sklearn\\metrics\\classification.py:1135: UndefinedMetricWarning: Precision and F-score are ill-defined and being set to 0.0 in labels with no predicted samples.\n",
      "  'precision', 'predicted', average, warn_for)\n"
     ]
    }
   ],
   "source": [
    "print(classification_report(y_test,predictions))"
   ]
  },
  {
   "cell_type": "markdown",
   "metadata": {},
   "source": [
    "## 1. Up-sample Minority Class  \n",
    "Es el proceso de ducplicacion alietoria de observaciones desde la clase minoritaria como objetivo de reforzar la señal."
   ]
  },
  {
   "cell_type": "code",
   "execution_count": 16,
   "metadata": {},
   "outputs": [],
   "source": [
    "from sklearn.utils import resample"
   ]
  },
  {
   "cell_type": "code",
   "execution_count": 17,
   "metadata": {
    "scrolled": false
   },
   "outputs": [
    {
     "data": {
      "text/plain": [
       "1    788070\n",
       "0    788070\n",
       "Name: Accident, dtype: int64"
      ]
     },
     "execution_count": 17,
     "metadata": {},
     "output_type": "execute_result"
    }
   ],
   "source": [
    "df_majority = df[df.Accident == 0]\n",
    "df_minority = df[df.Accident == 1]\n",
    "\n",
    "df_minority_unsampled = resample(df_minority,\n",
    "                                replace = True,\n",
    "                                n_samples= 788070,\n",
    "                                random_state = 123)\n",
    "\n",
    "df_upsampled = pd.concat([df_majority,df_minority_unsampled])\n",
    "\n",
    "df_upsampled.Accident.value_counts()"
   ]
  },
  {
   "cell_type": "code",
   "execution_count": 18,
   "metadata": {},
   "outputs": [],
   "source": [
    "from sklearn.linear_model import LogisticRegression\n",
    "X = df_upsampled.drop('Accident', axis=1)\n",
    "y = df_upsampled.Accident\n",
    "\n",
    "#train\n",
    "clf_1 = LogisticRegression().fit(X,y)\n",
    "\n",
    "#predict on training set\n",
    "pred_y_1 =clf_1.predict(X)"
   ]
  },
  {
   "cell_type": "code",
   "execution_count": 19,
   "metadata": {},
   "outputs": [
    {
     "name": "stdout",
     "output_type": "stream",
     "text": [
      "[0 1]\n"
     ]
    }
   ],
   "source": [
    "print(np.unique(pred_y_1))"
   ]
  },
  {
   "cell_type": "code",
   "execution_count": 20,
   "metadata": {},
   "outputs": [
    {
     "name": "stdout",
     "output_type": "stream",
     "text": [
      "0.6235937162942379\n"
     ]
    }
   ],
   "source": [
    "print(accuracy_score(y,pred_y_1))"
   ]
  },
  {
   "cell_type": "markdown",
   "metadata": {},
   "source": [
    "## 2. Down-sample Majority Class\n",
    "Down-sampling envuelve remove observacinoes alietoriamente desde la clase mayoritaria para prevenir esta señal que interfiere con el algoritmo"
   ]
  },
  {
   "cell_type": "code",
   "execution_count": 21,
   "metadata": {},
   "outputs": [
    {
     "data": {
      "text/plain": [
       "1    36517\n",
       "0    36517\n",
       "Name: Accident, dtype: int64"
      ]
     },
     "execution_count": 21,
     "metadata": {},
     "output_type": "execute_result"
    }
   ],
   "source": [
    "df_majority = df[df.Accident == 0]\n",
    "df_minority = df[df.Accident == 1]\n",
    "\n",
    "df_majority_downsampled = resample(df_majority,\n",
    "                                replace = False,\n",
    "                                n_samples= 36517,\n",
    "                                random_state = 123)\n",
    "\n",
    "df_downsampled = pd.concat([df_majority_downsampled,df_minority])\n",
    "\n",
    "df_downsampled.Accident.value_counts()"
   ]
  },
  {
   "cell_type": "code",
   "execution_count": 22,
   "metadata": {},
   "outputs": [],
   "source": [
    "from sklearn.linear_model import LogisticRegression\n",
    "X = df_downsampled.drop('Accident', axis=1)\n",
    "y = df_downsampled.Accident\n",
    "\n",
    "#train\n",
    "clf_2 = LogisticRegression().fit(X,y)\n",
    "\n",
    "#predict on training set\n",
    "pred_y_2 = clf_2.predict(X)"
   ]
  },
  {
   "cell_type": "code",
   "execution_count": 23,
   "metadata": {},
   "outputs": [
    {
     "name": "stdout",
     "output_type": "stream",
     "text": [
      "[0 1]\n"
     ]
    }
   ],
   "source": [
    "print(np.unique(pred_y_2))"
   ]
  },
  {
   "cell_type": "code",
   "execution_count": 24,
   "metadata": {},
   "outputs": [
    {
     "name": "stdout",
     "output_type": "stream",
     "text": [
      "0.6245995016019936\n"
     ]
    }
   ],
   "source": [
    "print(accuracy_score(y,pred_y_2))"
   ]
  },
  {
   "cell_type": "markdown",
   "metadata": {},
   "source": [
    "# 3. Change performance Metric  \n",
    "hasta ahora hemos visto dos maneras de normalizar clases imbalanceadas resampleando el dataset. Lo siguiente, veremos el uso de otras metricas de desempeño para evaluar los modelos."
   ]
  },
  {
   "cell_type": "code",
   "execution_count": 25,
   "metadata": {},
   "outputs": [
    {
     "data": {
      "text/plain": [
       "[0.5473974925682503,\n",
       " 0.27203248045509043,\n",
       " 0.5951469088174705,\n",
       " 0.5666033163755032,\n",
       " 0.2198151598629246]"
      ]
     },
     "execution_count": 25,
     "metadata": {},
     "output_type": "execute_result"
    }
   ],
   "source": [
    "from sklearn.metrics import roc_auc_score\n",
    "prob_y_2 = clf_2.predict_proba(X)\n",
    "\n",
    "prob_y_2 = [p[1] for p in prob_y_2]\n",
    "\n",
    "prob_y_2[:5]"
   ]
  },
  {
   "cell_type": "code",
   "execution_count": 26,
   "metadata": {},
   "outputs": [
    {
     "name": "stdout",
     "output_type": "stream",
     "text": [
      "0.6401236116361313\n"
     ]
    }
   ],
   "source": [
    "print(roc_auc_score(y,prob_y_2))"
   ]
  },
  {
   "cell_type": "code",
   "execution_count": 27,
   "metadata": {},
   "outputs": [],
   "source": [
    "#probar aqui con el primer modelo"
   ]
  },
  {
   "cell_type": "markdown",
   "metadata": {},
   "source": [
    "## 4. Penalize Algorithms(Cost_Sensitive Training)  \n",
    "La siguiente tactica es usar algoritmos de aprendizaje penalizadores¿? que incremente el costo de los errores de clasificacion en la clase minoritaria."
   ]
  },
  {
   "cell_type": "code",
   "execution_count": null,
   "metadata": {},
   "outputs": [],
   "source": [
    "from sklearn.svm import SVC \n",
    "X = df_downsampled.drop('Accident', axis=1)\n",
    "y = df_downsampled.Accident\n",
    "\n",
    "clf_3 = SVC(kernel = 'linear',\n",
    "            class_weight = 'balanced', \n",
    "            probability = True)\n",
    "\n",
    "clf_3.fit(X,y)\n",
    "\n",
    "pred_y_3 = clf_3.predict(X)\n",
    "\n",
    "print(np.unique(pred_y_3))"
   ]
  },
  {
   "cell_type": "code",
   "execution_count": null,
   "metadata": {},
   "outputs": [],
   "source": [
    "print(accuracy_score(y,pred_y_3))"
   ]
  },
  {
   "cell_type": "code",
   "execution_count": null,
   "metadata": {},
   "outputs": [],
   "source": [
    "prob_y_3 = clf_3.predict_proba(X)\n",
    "prob_y_3 = [p[1] for p in prob_y_3]\n",
    "print(roc_auc_score(y,prob_y_3))"
   ]
  },
  {
   "cell_type": "markdown",
   "metadata": {},
   "source": [
    "## 5. Use Tree-Based Algorithms  \n",
    "La táctica  finala bine considerada es usar algoritmos de arboles de decision. Los arboles de decision a menudo se desempeñan bine sobre datasets no balaceados porque su estructura jerarquica permite aprender señales desde ambas clases.  \n",
    "En el aprendizaje automatico  moderno aplicado, los conjuntos de arboles (Random Forests, Gradient Boosted Trees, etc.) casi siempre superan a los arboles de decision singulares."
   ]
  },
  {
   "cell_type": "code",
   "execution_count": 27,
   "metadata": {},
   "outputs": [
    {
     "name": "stderr",
     "output_type": "stream",
     "text": [
      "C:\\Users\\alter\\Anaconda3\\lib\\site-packages\\sklearn\\ensemble\\weight_boosting.py:29: DeprecationWarning: numpy.core.umath_tests is an internal NumPy module and should not be imported. It will be removed in a future NumPy release.\n",
      "  from numpy.core.umath_tests import inner1d\n"
     ]
    }
   ],
   "source": [
    "from sklearn.ensemble import RandomForestClassifier"
   ]
  },
  {
   "cell_type": "code",
   "execution_count": 28,
   "metadata": {},
   "outputs": [
    {
     "name": "stdout",
     "output_type": "stream",
     "text": [
      "[0 1]\n"
     ]
    }
   ],
   "source": [
    "X = df_downsampled.drop('Accident', axis=1)\n",
    "y = df_downsampled.Accident\n",
    "\n",
    "clf_4 = RandomForestClassifier()\n",
    "clf_4.fit(X,y)\n",
    "\n",
    "pred_y_4 = clf_4.predict(X)\n",
    "\n",
    "print(np.unique(pred_y_4))"
   ]
  },
  {
   "cell_type": "code",
   "execution_count": 29,
   "metadata": {},
   "outputs": [
    {
     "name": "stdout",
     "output_type": "stream",
     "text": [
      "0.746693320919024\n"
     ]
    }
   ],
   "source": [
    "print(accuracy_score(y,pred_y_4))"
   ]
  },
  {
   "cell_type": "code",
   "execution_count": 30,
   "metadata": {},
   "outputs": [
    {
     "name": "stdout",
     "output_type": "stream",
     "text": [
      "0.8242301131372446\n"
     ]
    }
   ],
   "source": [
    "prob_y_4 = clf_4.predict_proba(X)\n",
    "prob_y_4 = [p[1] for p in prob_y_4]\n",
    "print(roc_auc_score(y,prob_y_4))"
   ]
  },
  {
   "cell_type": "markdown",
   "metadata": {},
   "source": [
    "---"
   ]
  },
  {
   "cell_type": "code",
   "execution_count": null,
   "metadata": {},
   "outputs": [],
   "source": [
    "from sklearn.model_selection import train_test_split\n",
    "X_train, X_test, y_train, y_test = train_test_split(X,y, stratify = y, test_size=0.30,random_state=1)"
   ]
  },
  {
   "cell_type": "code",
   "execution_count": null,
   "metadata": {},
   "outputs": [],
   "source": [
    "from sklearn.tree import DecisionTreeClassifier\n",
    "DTC = DecisionTreeClassifier(criterion = 'entropy', random_state = 1)"
   ]
  },
  {
   "cell_type": "code",
   "execution_count": null,
   "metadata": {},
   "outputs": [],
   "source": [
    "DTC.fit(X_train,y_train)"
   ]
  },
  {
   "cell_type": "code",
   "execution_count": null,
   "metadata": {},
   "outputs": [],
   "source": [
    "y_train_pred = DTC.predict_proba(X_train)"
   ]
  },
  {
   "cell_type": "code",
   "execution_count": null,
   "metadata": {},
   "outputs": [],
   "source": [
    "from sklearn.metrics import roc_auc_score\n",
    "print(roc_auc_score(y_train, y_train_pred[:,1]), \"Arbol de desicion - Datos de entrenamiento \")"
   ]
  },
  {
   "cell_type": "code",
   "execution_count": null,
   "metadata": {},
   "outputs": [],
   "source": [
    "y_test_pred = DTC.predict_proba(X_train)\n",
    "print(roc_auc_score(y_test,y_test_pred[:,1]),)"
   ]
  },
  {
   "cell_type": "markdown",
   "metadata": {},
   "source": [
    "---"
   ]
  },
  {
   "cell_type": "code",
   "execution_count": 6,
   "metadata": {},
   "outputs": [],
   "source": [
    "import seaborn as sns\n",
    "from IPython.display import set_matplotlib_formats\n",
    "set_matplotlib_formats('retina')"
   ]
  },
  {
   "cell_type": "code",
   "execution_count": 7,
   "metadata": {},
   "outputs": [
    {
     "data": {
      "image/png": "[encoded data removed]",
      "text/plain": [
       "<Figure size 432x288 with 1 Axes>"
      ]
     },
     "metadata": {
      "image/png": {
       "height": 263,
       "width": 410
      },
      "needs_background": "light"
     },
     "output_type": "display_data"
    }
   ],
   "source": [
    "sns.countplot(x=\"Accident\",data=df);"
   ]
  },
  {
   "cell_type": "code",
   "execution_count": 8,
   "metadata": {},
   "outputs": [
    {
     "data": {
      "text/plain": [
       "0    788070\n",
       "1     36517\n",
       "Name: Accident, dtype: int64"
      ]
     },
     "execution_count": 8,
     "metadata": {},
     "output_type": "execute_result"
    }
   ],
   "source": [
    "df[\"Accident\"].value_counts()"
   ]
  },
  {
   "cell_type": "code",
   "execution_count": 9,
   "metadata": {},
   "outputs": [
    {
     "data": {
      "image/png": "[encoded data removed]",
      "text/plain": [
       "<Figure size 432x288 with 1 Axes>"
      ]
     },
     "metadata": {
      "image/png": {
       "height": 263,
       "width": 410
      },
      "needs_background": "light"
     },
     "output_type": "display_data"
    }
   ],
   "source": [
    "sns.countplot(x=\"Shift\", data=df);"
   ]
  },
  {
   "cell_type": "code",
   "execution_count": 10,
   "metadata": {
    "scrolled": false
   },
   "outputs": [
    {
     "data": {
      "text/plain": [
       "Afternoon    279847\n",
       "Morning      277391\n",
       "Night        267349\n",
       "Name: Shift, dtype: int64"
      ]
     },
     "execution_count": 10,
     "metadata": {},
     "output_type": "execute_result"
    }
   ],
   "source": [
    "df[\"Shift\"].value_counts()"
   ]
  },
  {
   "cell_type": "code",
   "execution_count": 11,
   "metadata": {},
   "outputs": [
    {
     "name": "stdout",
     "output_type": "stream",
     "text": [
      "        GridID        date      Shift  Accident  Longitude.grid  \\\n",
      "466          1  2011-01-26  Afternoon         1          2.0800   \n",
      "765          2  2014-01-31    Morning         1          2.0825   \n",
      "3113         6  2013-05-26    Morning         1          2.0925   \n",
      "3733         7  2013-05-26    Morning         1          2.0925   \n",
      "3781         7  2010-07-21  Afternoon         1          2.0925   \n",
      "3893         8  2014-04-08  Afternoon         1          2.0925   \n",
      "4167         8  2014-11-28  Afternoon         1          2.0925   \n",
      "4661         9  2012-05-14    Morning         1          2.0925   \n",
      "5104        10  2010-01-26    Morning         1          2.0950   \n",
      "5220        10  2010-12-22    Morning         1          2.0950   \n",
      "5706        11  2011-02-12  Afternoon         1          2.0950   \n",
      "5735        11  2012-03-01    Morning         1          2.0950   \n",
      "5741        11  2011-01-17  Afternoon         1          2.0950   \n",
      "6166        12  2010-07-12      Night         1          2.0950   \n",
      "6213        12  2012-07-26  Afternoon         1          2.0950   \n",
      "6653        12  2011-01-17    Morning         1          2.0950   \n",
      "7606        14  2012-02-22    Morning         1          2.0950   \n",
      "7668        14  2011-12-16  Afternoon         1          2.0950   \n",
      "8396        16  2010-05-16    Morning         1          2.0975   \n",
      "8469        16  2012-10-20  Afternoon         1          2.0975   \n",
      "9041        17  2014-08-07  Afternoon         1          2.0975   \n",
      "9326        17  2014-03-27  Afternoon         1          2.0975   \n",
      "9956        18  2011-12-21  Afternoon         1          2.0975   \n",
      "10067       19  2013-09-11  Afternoon         1          2.0975   \n",
      "11320       21  2012-11-30  Afternoon         1          2.1000   \n",
      "11336       21  2011-02-18    Morning         1          2.1000   \n",
      "11371       21  2010-10-18  Afternoon         1          2.1000   \n",
      "11410       21  2010-02-17    Morning         1          2.1000   \n",
      "11474       21  2013-05-11  Afternoon         1          2.1000   \n",
      "11501       21  2010-12-15  Afternoon         1          2.1000   \n",
      "...        ...         ...        ...       ...             ...   \n",
      "821783    1440  2011-09-16  Afternoon         1          2.2200   \n",
      "821796    1441  2013-10-24    Morning         1          2.2200   \n",
      "821828    1441  2011-05-16    Morning         1          2.2200   \n",
      "821912    1441  2012-12-24    Morning         1          2.2200   \n",
      "821913    1441  2010-04-27  Afternoon         1          2.2200   \n",
      "821960    1441  2010-09-26      Night         1          2.2200   \n",
      "821997    1441  2012-05-11  Afternoon         1          2.2200   \n",
      "822003    1441  2012-06-18    Morning         1          2.2200   \n",
      "822004    1441  2012-10-15      Night         1          2.2200   \n",
      "822052    1441  2011-05-31    Morning         1          2.2200   \n",
      "822054    1441  2010-12-22  Afternoon         1          2.2200   \n",
      "822137    1441  2014-12-08    Morning         1          2.2200   \n",
      "822178    1441  2014-07-11    Morning         1          2.2200   \n",
      "822376    1442  2011-10-31      Night         1          2.2200   \n",
      "822379    1442  2012-03-16    Morning         1          2.2200   \n",
      "822420    1442  2014-09-12  Afternoon         1          2.2200   \n",
      "822437    1442  2011-03-03  Afternoon         1          2.2200   \n",
      "822481    1442  2014-04-09    Morning         1          2.2200   \n",
      "822490    1442  2011-06-15    Morning         1          2.2200   \n",
      "822596    1442  2014-03-25    Morning         1          2.2200   \n",
      "822603    1442  2014-10-14      Night         1          2.2200   \n",
      "822640    1442  2014-09-15      Night         1          2.2200   \n",
      "822694    1442  2014-10-13    Morning         1          2.2200   \n",
      "822812    1442  2011-03-15      Night         1          2.2200   \n",
      "822836    1442  2012-02-06    Morning         1          2.2200   \n",
      "823613    1444  2010-11-22    Morning         1          2.2225   \n",
      "823617    1444  2010-06-16    Morning         1          2.2225   \n",
      "823628    1444  2013-09-18    Morning         1          2.2225   \n",
      "823676    1444  2010-12-17    Morning         1          2.2225   \n",
      "824315    1445  2014-03-03    Morning         1          2.2225   \n",
      "\n",
      "        Latitude.grid  Afternoon  Morning  Night  \n",
      "466           41.4100          1        0      0  \n",
      "765           41.4200          0        1      0  \n",
      "3113          41.4150          0        1      0  \n",
      "3733          41.4225          0        1      0  \n",
      "3781          41.4225          1        0      0  \n",
      "3893          41.4275          1        0      0  \n",
      "4167          41.4275          1        0      0  \n",
      "4661          41.4300          0        1      0  \n",
      "5104          41.4150          0        1      0  \n",
      "5220          41.4150          0        1      0  \n",
      "5706          41.4175          1        0      0  \n",
      "5735          41.4175          0        1      0  \n",
      "5741          41.4175          1        0      0  \n",
      "6166          41.4200          0        0      1  \n",
      "6213          41.4200          1        0      0  \n",
      "6653          41.4200          0        1      0  \n",
      "7606          41.4250          0        1      0  \n",
      "7668          41.4250          1        0      0  \n",
      "8396          41.4175          0        1      0  \n",
      "8469          41.4175          1        0      0  \n",
      "9041          41.4200          1        0      0  \n",
      "9326          41.4200          1        0      0  \n",
      "9956          41.4250          1        0      0  \n",
      "10067         41.4275          1        0      0  \n",
      "11320         41.3800          1        0      0  \n",
      "11336         41.3800          0        1      0  \n",
      "11371         41.3800          1        0      0  \n",
      "11410         41.3800          0        1      0  \n",
      "11474         41.3800          1        0      0  \n",
      "11501         41.3800          1        0      0  \n",
      "...               ...        ...      ...    ...  \n",
      "821783        41.4075          1        0      0  \n",
      "821796        41.4100          0        1      0  \n",
      "821828        41.4100          0        1      0  \n",
      "821912        41.4100          0        1      0  \n",
      "821913        41.4100          1        0      0  \n",
      "821960        41.4100          0        0      1  \n",
      "821997        41.4100          1        0      0  \n",
      "822003        41.4100          0        1      0  \n",
      "822004        41.4100          0        0      1  \n",
      "822052        41.4100          0        1      0  \n",
      "822054        41.4100          1        0      0  \n",
      "822137        41.4100          0        1      0  \n",
      "822178        41.4100          0        1      0  \n",
      "822376        41.4125          0        0      1  \n",
      "822379        41.4125          0        1      0  \n",
      "822420        41.4125          1        0      0  \n",
      "822437        41.4125          1        0      0  \n",
      "822481        41.4125          0        1      0  \n",
      "822490        41.4125          0        1      0  \n",
      "822596        41.4125          0        1      0  \n",
      "822603        41.4125          0        0      1  \n",
      "822640        41.4125          0        0      1  \n",
      "822694        41.4125          0        1      0  \n",
      "822812        41.4125          0        0      1  \n",
      "822836        41.4125          0        1      0  \n",
      "823613        41.4100          0        1      0  \n",
      "823617        41.4100          0        1      0  \n",
      "823628        41.4100          0        1      0  \n",
      "823676        41.4100          0        1      0  \n",
      "824315        41.4125          0        1      0  \n",
      "\n",
      "[36517 rows x 9 columns]\n"
     ]
    }
   ],
   "source": [
    "happen = df[df['Accident'] == 1]\n",
    "print(happen)"
   ]
  },
  {
   "cell_type": "code",
   "execution_count": 12,
   "metadata": {},
   "outputs": [
    {
     "data": {
      "image/png": "[encoded data removed]",
      "text/plain": [
       "<Figure size 432x288 with 1 Axes>"
      ]
     },
     "metadata": {
      "image/png": {
       "height": 263,
       "width": 403
      },
      "needs_background": "light"
     },
     "output_type": "display_data"
    }
   ],
   "source": [
    "sns.countplot(x=\"Shift\", data=happen);"
   ]
  },
  {
   "cell_type": "code",
   "execution_count": 13,
   "metadata": {},
   "outputs": [
    {
     "data": {
      "text/plain": [
       "Afternoon    17906\n",
       "Morning      14375\n",
       "Night         4236\n",
       "Name: Shift, dtype: int64"
      ]
     },
     "execution_count": 13,
     "metadata": {},
     "output_type": "execute_result"
    }
   ],
   "source": [
    "happen[\"Shift\"].value_counts()"
   ]
  },
  {
   "cell_type": "code",
   "execution_count": 14,
   "metadata": {
    "scrolled": true
   },
   "outputs": [
    {
     "name": "stdout",
     "output_type": "stream",
     "text": [
      "        0  1\n",
      "0       1  0\n",
      "1       1  0\n",
      "2       1  0\n",
      "3       1  0\n",
      "4       1  0\n",
      "5       1  0\n",
      "6       1  0\n",
      "7       1  0\n",
      "8       1  0\n",
      "9       1  0\n",
      "10      1  0\n",
      "11      1  0\n",
      "12      1  0\n",
      "13      1  0\n",
      "14      1  0\n",
      "15      1  0\n",
      "16      1  0\n",
      "17      1  0\n",
      "18      1  0\n",
      "19      1  0\n",
      "20      1  0\n",
      "21      1  0\n",
      "22      1  0\n",
      "23      1  0\n",
      "24      1  0\n",
      "25      1  0\n",
      "26      1  0\n",
      "27      1  0\n",
      "28      1  0\n",
      "29      1  0\n",
      "...    .. ..\n",
      "824557  1  0\n",
      "824558  1  0\n",
      "824559  1  0\n",
      "824560  1  0\n",
      "824561  1  0\n",
      "824562  1  0\n",
      "824563  1  0\n",
      "824564  1  0\n",
      "824565  1  0\n",
      "824566  1  0\n",
      "824567  1  0\n",
      "824568  1  0\n",
      "824569  1  0\n",
      "824570  1  0\n",
      "824571  1  0\n",
      "824572  1  0\n",
      "824573  1  0\n",
      "824574  1  0\n",
      "824575  1  0\n",
      "824576  1  0\n",
      "824577  1  0\n",
      "824578  1  0\n",
      "824579  1  0\n",
      "824580  1  0\n",
      "824581  1  0\n",
      "824582  1  0\n",
      "824583  1  0\n",
      "824584  1  0\n",
      "824585  1  0\n",
      "824586  1  0\n",
      "\n",
      "[824587 rows x 2 columns]\n"
     ]
    }
   ],
   "source": [
    "dummies = pd.get_dummies(df[\"Accident\"])\n",
    "print(dummies)"
   ]
  },
  {
   "cell_type": "code",
   "execution_count": null,
   "metadata": {
    "scrolled": true
   },
   "outputs": [],
   "source": [
    "dummiesS = pd.get_dummies(df[\"Shift\"])\n",
    "print(dummiesS)"
   ]
  },
  {
   "cell_type": "markdown",
   "metadata": {},
   "source": [
    "---\n",
    "## Visualizaciones  "
   ]
  },
  {
   "cell_type": "code",
   "execution_count": null,
   "metadata": {},
   "outputs": [],
   "source": [
    "%matplotlib inline\n",
    "import matplotlib.pyplot as plt"
   ]
  },
  {
   "cell_type": "code",
   "execution_count": null,
   "metadata": {
    "scrolled": true
   },
   "outputs": [],
   "source": [
    "df.plot(kind = \"Scatter\", x =\"Longitude.grid\", y = \"Latitude.grid\", alpha = 0.001999999)\n",
    "plt.grid(True)"
   ]
  },
  {
   "cell_type": "code",
   "execution_count": null,
   "metadata": {},
   "outputs": [],
   "source": [
    "happen.plot(kind = \"Scatter\", x =\"Longitude.grid\", y = \"Latitude.grid\", alpha = 0.01)\n",
    "plt.grid(True)"
   ]
  },
  {
   "cell_type": "code",
   "execution_count": null,
   "metadata": {
    "scrolled": true
   },
   "outputs": [],
   "source": [
    "%matplotlib inline\n",
    "import matplotlib.pyplot as plt\n",
    "df.hist(bins=50, figsize=(20,15))\n",
    "plt.show()"
   ]
  },
  {
   "cell_type": "markdown",
   "metadata": {},
   "source": [
    "---  \n",
    "# 4. Prepare the data for Machine Learning algorithms.  \n",
    "## Create a Test Set"
   ]
  },
  {
   "cell_type": "code",
   "execution_count": null,
   "metadata": {
    "scrolled": true
   },
   "outputs": [],
   "source": [
    "df = pd.concat([df, dummies], axis = 1)\n",
    "df.head()"
   ]
  },
  {
   "cell_type": "code",
   "execution_count": null,
   "metadata": {},
   "outputs": [],
   "source": [
    "df = pd.concat([df, dummiesS], axis = 1)\n",
    "df.head()"
   ]
  },
  {
   "cell_type": "code",
   "execution_count": null,
   "metadata": {},
   "outputs": [],
   "source": [
    "import numpy as np \n",
    "def split_train_test(data, test_ratio):\n",
    "    shuffled_indices = np.random.permutation(len(data))\n",
    "    test_set_size = int(len(data)*test_ratio)\n",
    "    test_indices = shuffled_indices[:test_set_size]\n",
    "    train_indices = shuffled_indices[test_set_size:]\n",
    "    return data.iloc[train_indices], data.iloc[test_indices]"
   ]
  },
  {
   "cell_type": "code",
   "execution_count": null,
   "metadata": {},
   "outputs": [],
   "source": [
    "train_set, test_set = split_train_test(df, 0.2)\n",
    "print(len(train_set), \"Train +\", len(test_set),\"Test\")"
   ]
  },
  {
   "cell_type": "markdown",
   "metadata": {},
   "source": [
    "--- "
   ]
  },
  {
   "cell_type": "code",
   "execution_count": null,
   "metadata": {
    "scrolled": true
   },
   "outputs": [],
   "source": [
    "df.sort_values(by=\"date\")"
   ]
  },
  {
   "cell_type": "markdown",
   "metadata": {},
   "source": [
    "## Operaciones  "
   ]
  },
  {
   "cell_type": "code",
   "execution_count": null,
   "metadata": {},
   "outputs": [],
   "source": [
    "df.mean"
   ]
  },
  {
   "cell_type": "code",
   "execution_count": null,
   "metadata": {
    "scrolled": false
   },
   "outputs": [],
   "source": [
    "import matplotlib.pyplot as plt\n",
    "import seaborn as sns\n",
    "%matplotlib inline\n",
    "happen['date']= pd.to_datetime(happen['date'])\n",
    "happen.set_index('date', inplace=True)\n",
    "\n",
    "happen[['Accident']].plot(figsize=(16,8), color = 'royalblue', linewidth=2,fontsize=14)\n",
    "plt.xlabel('Años', fontsize=14)"
   ]
  },
  {
   "cell_type": "raw",
   "metadata": {},
   "source": [
    "import matplotlib.pyplot as plt\n",
    "points = [\n",
    "    df.\n",
    "]\n",
    "x = list()"
   ]
  },
  {
   "cell_type": "code",
   "execution_count": null,
   "metadata": {},
   "outputs": [],
   "source": [
    "X = df[[]]"
   ]
  },
  {
   "cell_type": "markdown",
   "metadata": {},
   "source": [
    "---- \n",
    "# 5. Select a model and train it."
   ]
  },
  {
   "cell_type": "markdown",
   "metadata": {},
   "source": [
    "---  \n",
    "# 6. Fine-tune your model."
   ]
  },
  {
   "cell_type": "markdown",
   "metadata": {},
   "source": [
    "---  \n",
    "# 7. Present your solution."
   ]
  },
  {
   "cell_type": "markdown",
   "metadata": {},
   "source": [
    "---  \n",
    "# 8. Launch, monitor, and maintain your system."
   ]
  }
 ],
 "metadata": {
  "kernelspec": {
   "display_name": "Python 3",
   "language": "python",
   "name": "python3"
  },
  "language_info": {
   "codemirror_mode": {
    "name": "ipython",
    "version": 3
   },
   "file_extension": ".py",
   "mimetype": "text/x-python",
   "name": "python",
   "nbconvert_exporter": "python",
   "pygments_lexer": "ipython3",
   "version": "3.7.0"
  }
 },
 "nbformat": 4,
 "nbformat_minor": 2
}
